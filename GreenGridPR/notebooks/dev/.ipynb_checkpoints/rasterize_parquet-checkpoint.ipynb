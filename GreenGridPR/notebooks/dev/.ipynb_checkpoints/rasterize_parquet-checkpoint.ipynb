{
 "cells": [
  {
   "cell_type": "code",
   "execution_count": 1,
   "id": "741e23b7-36ab-4bc4-a5fd-4e938e7f3274",
   "metadata": {},
   "outputs": [],
   "source": [
    "import geopandas as gpd\n",
    "import rasterio\n",
    "from rasterio.features import rasterize\n",
    "from rasterio.transform import from_origin\n",
    "import numpy as np\n",
    "import os"
   ]
  },
  {
   "cell_type": "code",
   "execution_count": 2,
   "id": "fb8d0890-95de-4f20-b19c-4ac5e8e7aae9",
   "metadata": {},
   "outputs": [],
   "source": [
    "def find_parquet_files(directory):\n",
    "    \"\"\"\n",
    "    Find all Parquet files within a directory and its subdirectories.\n",
    "\n",
    "    :param directory: The base directory to search.\n",
    "    :return: A list of paths to Parquet files.\n",
    "    \"\"\"\n",
    "    parquet_files = []\n",
    "    for root, dirs, files in os.walk(directory):\n",
    "        print(root,dirs,files)\n",
    "        for file in files:\n",
    "            print(file)\n",
    "            if file.endswith('.parquet'):\n",
    "                parquet_files.append(os.path.join(root, file))\n",
    "    return parquet_files"
   ]
  },
  {
   "cell_type": "code",
   "execution_count": 3,
   "id": "b102bac3-665e-4a93-9cb4-a15731871b0c",
   "metadata": {},
   "outputs": [],
   "source": [
    "def rasterize_dataset(dataset_path, raster_path, raster_shape, raster_transform):\n",
    "    \"\"\"\n",
    "    Rasterize a single geospatial dataset.\n",
    "\n",
    "    :param dataset_path: Path to the input geospatial dataset (e.g., a Parquet file).\n",
    "    :param raster_path: Path where the rasterized output will be saved.\n",
    "    :param raster_shape: Shape of the output raster (height, width).\n",
    "    :param raster_transform: Transformation for the output raster.\n",
    "    \"\"\"\n",
    "    # Load the dataset\n",
    "    df = pd.read_parquet(dataset_path)\n",
    "    gdf = gpd.GeoDataFrame(df, geometry='geometry', crs=\"EPSG:32161\")\n",
    "\n",
    "    # Rasterize\n",
    "    shapes = ((geom, 1) for geom in gdf.geometry)\n",
    "    rasterized = rasterize(shapes, out_shape=raster_shape, transform=raster_transform, fill=0, default_value=1, dtype='uint8')\n",
    "\n",
    "    # Save the rasterized output\n",
    "    with rasterio.open(\n",
    "        raster_path, 'w', \n",
    "        driver='GTiff', \n",
    "        height=raster_shape[0], \n",
    "        width=raster_shape[1], \n",
    "        count=1, \n",
    "        dtype='uint8', \n",
    "        crs='EPSG:32161', \n",
    "        transform=raster_transform\n",
    "    ) as dst:\n",
    "        dst.write(rasterized, 1)"
   ]
  },
  {
   "cell_type": "code",
   "execution_count": 4,
   "id": "33a7902d-a1c6-4599-bb68-ce22ed6a5dbc",
   "metadata": {},
   "outputs": [],
   "source": [
    "def combine_rasters(raster_paths, output_path):\n",
    "    \"\"\"\n",
    "    Combine multiple rasterized datasets into a single raster.\n",
    "\n",
    "    :param raster_paths: List of paths to the rasterized datasets.\n",
    "    :param output_path: Path where the combined raster will be saved.\n",
    "    \"\"\"\n",
    "    combined_raster = None\n",
    "    profile = None\n",
    "\n",
    "    for path in raster_paths:\n",
    "        with rasterio.open(path) as src:\n",
    "            raster_data = src.read(1)  # Read the first band\n",
    "            if combined_raster is None:\n",
    "                combined_raster = raster_data\n",
    "                profile = src.profile\n",
    "            else:\n",
    "                combined_raster = np.maximum(combined_raster, raster_data)  # Combine using maximum value\n",
    "\n",
    "    # Modify the profile to accommodate the combined raster\n",
    "    profile.update(dtype=rasterio.uint8, count=1)\n",
    "\n",
    "    # Save the combined raster\n",
    "    with rasterio.open(output_path, 'w', **profile) as dst:\n",
    "        dst.write(combined_raster, 1)"
   ]
  },
  {
   "cell_type": "code",
   "execution_count": 5,
   "id": "a04d20a2-1306-46a3-aaba-f3f6cbc31372",
   "metadata": {},
   "outputs": [],
   "source": [
    "def raster_to_dataframe(raster_path):\n",
    "    \"\"\"\n",
    "    Convert a raster to a Pandas DataFrame.\n",
    "\n",
    "    :param raster_path: Path to the raster file.\n",
    "    :return: DataFrame representation of the raster.\n",
    "    \"\"\"\n",
    "    with rasterio.open(raster_path) as src:\n",
    "        raster_data = src.read(1)\n",
    "    return pd.DataFrame(raster_data)"
   ]
  },
  {
   "cell_type": "code",
   "execution_count": 8,
   "id": "006fd887-2c3d-4d1a-aa26-c94d3cf520a7",
   "metadata": {},
   "outputs": [
    {
     "name": "stdout",
     "output_type": "stream",
     "text": [
      "../../data/PR100/Boundaries [] ['federal_and_state_waters.parquet', 'coastal_zone_mgmt_act_boundary.parquet', 'land_protected_areas.parquet']\n",
      "federal_and_state_waters.parquet\n",
      "coastal_zone_mgmt_act_boundary.parquet\n",
      "land_protected_areas.parquet\n",
      "['../../data/PR100/Boundaries/federal_and_state_waters.parquet', '../../data/PR100/Boundaries/coastal_zone_mgmt_act_boundary.parquet', '../../data/PR100/Boundaries/land_protected_areas.parquet']\n"
     ]
    },
    {
     "ename": "NameError",
     "evalue": "name 'pd' is not defined",
     "output_type": "error",
     "traceback": [
      "\u001b[0;31m---------------------------------------------------------------------------\u001b[0m",
      "\u001b[0;31mNameError\u001b[0m                                 Traceback (most recent call last)",
      "Cell \u001b[0;32mIn[8], line 16\u001b[0m\n\u001b[1;32m     14\u001b[0m \u001b[38;5;66;03m# Rasterize each dataset\u001b[39;00m\n\u001b[1;32m     15\u001b[0m \u001b[38;5;28;01mfor\u001b[39;00m dataset_path, raster_path \u001b[38;5;129;01min\u001b[39;00m \u001b[38;5;28mzip\u001b[39m(parquet_files, raster_paths):\n\u001b[0;32m---> 16\u001b[0m     \u001b[43mrasterize_dataset\u001b[49m\u001b[43m(\u001b[49m\u001b[43mdataset_path\u001b[49m\u001b[43m,\u001b[49m\u001b[43m \u001b[49m\u001b[43mraster_path\u001b[49m\u001b[43m,\u001b[49m\u001b[43m \u001b[49m\u001b[43mraster_shape\u001b[49m\u001b[43m,\u001b[49m\u001b[43m \u001b[49m\u001b[43mraster_transform\u001b[49m\u001b[43m)\u001b[49m\n\u001b[1;32m     18\u001b[0m \u001b[38;5;66;03m# Combine the rasterized datasets\u001b[39;00m\n\u001b[1;32m     19\u001b[0m combined_raster_path \u001b[38;5;241m=\u001b[39m \u001b[38;5;124m'\u001b[39m\u001b[38;5;124mcombined_raster.tif\u001b[39m\u001b[38;5;124m'\u001b[39m\n",
      "Cell \u001b[0;32mIn[3], line 11\u001b[0m, in \u001b[0;36mrasterize_dataset\u001b[0;34m(dataset_path, raster_path, raster_shape, raster_transform)\u001b[0m\n\u001b[1;32m      2\u001b[0m \u001b[38;5;250m\u001b[39m\u001b[38;5;124;03m\"\"\"\u001b[39;00m\n\u001b[1;32m      3\u001b[0m \u001b[38;5;124;03mRasterize a single geospatial dataset.\u001b[39;00m\n\u001b[1;32m      4\u001b[0m \n\u001b[0;32m   (...)\u001b[0m\n\u001b[1;32m      8\u001b[0m \u001b[38;5;124;03m:param raster_transform: Transformation for the output raster.\u001b[39;00m\n\u001b[1;32m      9\u001b[0m \u001b[38;5;124;03m\"\"\"\u001b[39;00m\n\u001b[1;32m     10\u001b[0m \u001b[38;5;66;03m# Load the dataset\u001b[39;00m\n\u001b[0;32m---> 11\u001b[0m df \u001b[38;5;241m=\u001b[39m \u001b[43mpd\u001b[49m\u001b[38;5;241m.\u001b[39mread_parquet(dataset_path)\n\u001b[1;32m     12\u001b[0m gdf \u001b[38;5;241m=\u001b[39m gpd\u001b[38;5;241m.\u001b[39mGeoDataFrame(df, geometry\u001b[38;5;241m=\u001b[39m\u001b[38;5;124m'\u001b[39m\u001b[38;5;124mgeometry\u001b[39m\u001b[38;5;124m'\u001b[39m, crs\u001b[38;5;241m=\u001b[39m\u001b[38;5;124m\"\u001b[39m\u001b[38;5;124mEPSG:32161\u001b[39m\u001b[38;5;124m\"\u001b[39m)\n\u001b[1;32m     14\u001b[0m \u001b[38;5;66;03m# Rasterize\u001b[39;00m\n",
      "\u001b[0;31mNameError\u001b[0m: name 'pd' is not defined"
     ]
    }
   ],
   "source": [
    "# Find all Parquet files in the specified directory\n",
    "base_directory = '../../data/PR100/Boundaries'\n",
    "parquet_files = find_parquet_files(base_directory)\n",
    "\n",
    "print(parquet_files)\n",
    "\n",
    "# Define the raster shape and transformation\n",
    "raster_shape = (200, 400)  # Example shape based on your grid\n",
    "raster_transform = from_origin(100000, 300000, 500, 500)  # Example transform\n",
    "\n",
    "# Paths for the rasterized outputs\n",
    "raster_paths = [os.path.splitext(p)[0] + '.tif' for p in parquet_files]\n",
    "\n",
    "# Rasterize each dataset\n",
    "for dataset_path, raster_path in zip(parquet_files, raster_paths):\n",
    "    rasterize_dataset(dataset_path, raster_path, raster_shape, raster_transform)\n",
    "\n",
    "# Combine the rasterized datasets\n",
    "combined_raster_path = 'combined_raster.tif'\n",
    "combine_rasters(raster_paths, combined_raster_path)\n",
    "\n",
    "# Convert the combined raster to a DataFrame\n",
    "final_df = raster_to_dataframe(combined_raster_path)"
   ]
  },
  {
   "cell_type": "code",
   "execution_count": null,
   "id": "334a5b2d-839b-471d-ad78-482e41477b24",
   "metadata": {},
   "outputs": [],
   "source": []
  }
 ],
 "metadata": {
  "kernelspec": {
   "display_name": "Python 3 (ipykernel)",
   "language": "python",
   "name": "python3"
  },
  "language_info": {
   "codemirror_mode": {
    "name": "ipython",
    "version": 3
   },
   "file_extension": ".py",
   "mimetype": "text/x-python",
   "name": "python",
   "nbconvert_exporter": "python",
   "pygments_lexer": "ipython3",
   "version": "3.12.0"
  }
 },
 "nbformat": 4,
 "nbformat_minor": 5
}
