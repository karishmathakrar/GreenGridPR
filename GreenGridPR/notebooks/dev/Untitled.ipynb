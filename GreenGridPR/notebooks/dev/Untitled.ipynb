{
 "cells": [
  {
   "cell_type": "code",
   "execution_count": 1,
   "id": "b4834f34-93d7-4379-b8e1-de926d1855c3",
   "metadata": {},
   "outputs": [],
   "source": [
    "import geopandas as gpd\n",
    "import rasterio\n",
    "from rasterio.features import rasterize\n",
    "from rasterio.transform import from_origin\n",
    "import numpy as np\n",
    "import os"
   ]
  },
  {
   "cell_type": "code",
   "execution_count": 11,
   "id": "06a5d6b9-3d7a-4d48-9e27-846968ffc1ed",
   "metadata": {},
   "outputs": [],
   "source": [
    "def find_parquet_files(directory):\n",
    "    \"\"\"\n",
    "    Find all Parquet files within a directory and its subdirectories.\n",
    "\n",
    "    :param directory: The base directory to search.\n",
    "    :return: A list of paths to Parquet files.\n",
    "    \"\"\"\n",
    "    parquet_files = []\n",
    "    for root, dirs, files in os.walk(directory):\n",
    "        print(root,dirs,files)\n",
    "        for file in files:\n",
    "            print(file)\n",
    "            if file.endswith('.parquet'):\n",
    "                parquet_files.append(os.path.join(root, file))\n",
    "    return parquet_files"
   ]
  },
  {
   "cell_type": "code",
   "execution_count": 3,
   "id": "aa841237-86d7-4fc6-9104-b65099d480bb",
   "metadata": {},
   "outputs": [],
   "source": [
    "def rasterize_dataset(dataset_path, raster_path, raster_shape, raster_transform):\n",
    "    \"\"\"\n",
    "    Rasterize a single geospatial dataset.\n",
    "\n",
    "    :param dataset_path: Path to the input geospatial dataset (e.g., a Parquet file).\n",
    "    :param raster_path: Path where the rasterized output will be saved.\n",
    "    :param raster_shape: Shape of the output raster (height, width).\n",
    "    :param raster_transform: Transformation for the output raster.\n",
    "    \"\"\"\n",
    "    # Load the dataset\n",
    "    df = pd.read_parquet(dataset_path)\n",
    "    gdf = gpd.GeoDataFrame(df, geometry='geometry', crs=\"EPSG:32161\")\n",
    "\n",
    "    # Rasterize\n",
    "    shapes = ((geom, 1) for geom in gdf.geometry)\n",
    "    rasterized = rasterize(shapes, out_shape=raster_shape, transform=raster_transform, fill=0, default_value=1, dtype='uint8')\n",
    "\n",
    "    # Save the rasterized output\n",
    "    with rasterio.open(\n",
    "        raster_path, 'w', \n",
    "        driver='GTiff', \n",
    "        height=raster_shape[0], \n",
    "        width=raster_shape[1], \n",
    "        count=1, \n",
    "        dtype='uint8', \n",
    "        crs='EPSG:32161', \n",
    "        transform=raster_transform\n",
    "    ) as dst:\n",
    "        dst.write(rasterized, 1)"
   ]
  },
  {
   "cell_type": "code",
   "execution_count": 4,
   "id": "ca1e0324-baac-4971-a9ca-9d97bc875e73",
   "metadata": {},
   "outputs": [],
   "source": [
    "def combine_rasters(raster_paths, output_path):\n",
    "    \"\"\"\n",
    "    Combine multiple rasterized datasets into a single raster.\n",
    "\n",
    "    :param raster_paths: List of paths to the rasterized datasets.\n",
    "    :param output_path: Path where the combined raster will be saved.\n",
    "    \"\"\"\n",
    "    combined_raster = None\n",
    "    profile = None\n",
    "\n",
    "    for path in raster_paths:\n",
    "        with rasterio.open(path) as src:\n",
    "            raster_data = src.read(1)  # Read the first band\n",
    "            if combined_raster is None:\n",
    "                combined_raster = raster_data\n",
    "                profile = src.profile\n",
    "            else:\n",
    "                combined_raster = np.maximum(combined_raster, raster_data)  # Combine using maximum value\n",
    "\n",
    "    # Modify the profile to accommodate the combined raster\n",
    "    profile.update(dtype=rasterio.uint8, count=1)\n",
    "\n",
    "    # Save the combined raster\n",
    "    with rasterio.open(output_path, 'w', **profile) as dst:\n",
    "        dst.write(combined_raster, 1)"
   ]
  },
  {
   "cell_type": "code",
   "execution_count": 5,
   "id": "abf330d7-ffbf-4172-b3db-764a91cef0b8",
   "metadata": {},
   "outputs": [],
   "source": [
    "def raster_to_dataframe(raster_path):\n",
    "    \"\"\"\n",
    "    Convert a raster to a Pandas DataFrame.\n",
    "\n",
    "    :param raster_path: Path to the raster file.\n",
    "    :return: DataFrame representation of the raster.\n",
    "    \"\"\"\n",
    "    with rasterio.open(raster_path) as src:\n",
    "        raster_data = src.read(1)\n",
    "    return pd.DataFrame(raster_data)"
   ]
  },
  {
   "cell_type": "code",
   "execution_count": 13,
   "id": "b263576b-5269-4e4e-a4c6-31deff0c5193",
   "metadata": {},
   "outputs": [
    {
     "name": "stdout",
     "output_type": "stream",
     "text": [
      "[]\n"
     ]
    },
    {
     "ename": "AttributeError",
     "evalue": "'NoneType' object has no attribute 'update'",
     "output_type": "error",
     "traceback": [
      "\u001b[0;31m---------------------------------------------------------------------------\u001b[0m",
      "\u001b[0;31mAttributeError\u001b[0m                            Traceback (most recent call last)",
      "Cell \u001b[0;32mIn[13], line 20\u001b[0m\n\u001b[1;32m     18\u001b[0m \u001b[38;5;66;03m# Combine the rasterized datasets\u001b[39;00m\n\u001b[1;32m     19\u001b[0m combined_raster_path \u001b[38;5;241m=\u001b[39m \u001b[38;5;124m'\u001b[39m\u001b[38;5;124mcombined_raster.tif\u001b[39m\u001b[38;5;124m'\u001b[39m\n\u001b[0;32m---> 20\u001b[0m \u001b[43mcombine_rasters\u001b[49m\u001b[43m(\u001b[49m\u001b[43mraster_paths\u001b[49m\u001b[43m,\u001b[49m\u001b[43m \u001b[49m\u001b[43mcombined_raster_path\u001b[49m\u001b[43m)\u001b[49m\n\u001b[1;32m     22\u001b[0m \u001b[38;5;66;03m# Convert the combined raster to a DataFrame\u001b[39;00m\n\u001b[1;32m     23\u001b[0m final_df \u001b[38;5;241m=\u001b[39m raster_to_dataframe(combined_raster_path)\n",
      "Cell \u001b[0;32mIn[4], line 21\u001b[0m, in \u001b[0;36mcombine_rasters\u001b[0;34m(raster_paths, output_path)\u001b[0m\n\u001b[1;32m     18\u001b[0m             combined_raster \u001b[38;5;241m=\u001b[39m np\u001b[38;5;241m.\u001b[39mmaximum(combined_raster, raster_data)  \u001b[38;5;66;03m# Combine using maximum value\u001b[39;00m\n\u001b[1;32m     20\u001b[0m \u001b[38;5;66;03m# Modify the profile to accommodate the combined raster\u001b[39;00m\n\u001b[0;32m---> 21\u001b[0m \u001b[43mprofile\u001b[49m\u001b[38;5;241;43m.\u001b[39;49m\u001b[43mupdate\u001b[49m(dtype\u001b[38;5;241m=\u001b[39mrasterio\u001b[38;5;241m.\u001b[39muint8, count\u001b[38;5;241m=\u001b[39m\u001b[38;5;241m1\u001b[39m)\n\u001b[1;32m     23\u001b[0m \u001b[38;5;66;03m# Save the combined raster\u001b[39;00m\n\u001b[1;32m     24\u001b[0m \u001b[38;5;28;01mwith\u001b[39;00m rasterio\u001b[38;5;241m.\u001b[39mopen(output_path, \u001b[38;5;124m'\u001b[39m\u001b[38;5;124mw\u001b[39m\u001b[38;5;124m'\u001b[39m, \u001b[38;5;241m*\u001b[39m\u001b[38;5;241m*\u001b[39mprofile) \u001b[38;5;28;01mas\u001b[39;00m dst:\n",
      "\u001b[0;31mAttributeError\u001b[0m: 'NoneType' object has no attribute 'update'"
     ]
    }
   ],
   "source": [
    "# Find all Parquet files in the specified directory\n",
    "base_directory = 'data'\n",
    "parquet_files = find_parquet_files(base_directory)\n",
    "\n",
    "print(parquet_files)\n",
    "\n",
    "# Define the raster shape and transformation\n",
    "raster_shape = (200, 400)  # Example shape based on your grid\n",
    "raster_transform = from_origin(100000, 300000, 500, 500)  # Example transform\n",
    "\n",
    "# Paths for the rasterized outputs\n",
    "raster_paths = [os.path.splitext(p)[0] + '.tif' for p in parquet_files]\n",
    "\n",
    "# Rasterize each dataset\n",
    "for dataset_path, raster_path in zip(parquet_files, raster_paths):\n",
    "    rasterize_dataset(dataset_path, raster_path, raster_shape, raster_transform)\n",
    "\n",
    "# Combine the rasterized datasets\n",
    "combined_raster_path = 'combined_raster.tif'\n",
    "combine_rasters(raster_paths, combined_raster_path)\n",
    "\n",
    "# Convert the combined raster to a DataFrame\n",
    "final_df = raster_to_dataframe(combined_raster_path)"
   ]
  },
  {
   "cell_type": "code",
   "execution_count": null,
   "id": "736bf9d8-5ff5-4154-bf6f-d00fe4a83341",
   "metadata": {},
   "outputs": [],
   "source": []
  }
 ],
 "metadata": {
  "kernelspec": {
   "display_name": "Python 3 (ipykernel)",
   "language": "python",
   "name": "python3"
  },
  "language_info": {
   "codemirror_mode": {
    "name": "ipython",
    "version": 3
   },
   "file_extension": ".py",
   "mimetype": "text/x-python",
   "name": "python",
   "nbconvert_exporter": "python",
   "pygments_lexer": "ipython3",
   "version": "3.12.0"
  }
 },
 "nbformat": 4,
 "nbformat_minor": 5
}
