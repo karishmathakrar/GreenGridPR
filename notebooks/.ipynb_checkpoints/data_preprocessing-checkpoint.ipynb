{
 "cells": [
  {
   "cell_type": "code",
   "execution_count": 1,
   "id": "4fe94206-f02d-487d-91f9-c0d129ce6965",
   "metadata": {},
   "outputs": [],
   "source": [
    "import rasterio\n",
    "import numpy as np\n",
    "import matplotlib.pyplot as plt\n",
    "from PIL import Image\n",
    "import pandas as pd\n",
    "import geopandas as gpd\n",
    "\n",
    "from shapely.wkt import loads\n",
    "from shapely.geometry import Polygon, MultiPolygon\n",
    "\n",
    "from shapely import wkt\n",
    "\n",
    "import os"
   ]
  },
  {
   "cell_type": "code",
   "execution_count": 30,
   "id": "5227e4b8-7507-48e0-bd40-3c6f4097e65c",
   "metadata": {},
   "outputs": [],
   "source": [
    "files = {'marine_protected_areas': ('../../data/PR100/Habitat/marine_protected_areas.parquet',\n",
    "  'EPSG:32161',\n",
    "  'centroid'),\n",
    " 'land_nationwide_hapc': ('../../data/PR100/Habitat/land_nationwide_hapc.parquet',\n",
    "  'EPSG:32161',\n",
    "  'centroid'),\n",
    " 'artificial_reefs': ('../../data/PR100/Habitat/artificial_reefs.parquet',\n",
    "  'EPSG:32161',\n",
    "  'irrelevant'),\n",
    " 'nationwide_hapc': ('../../data/PR100/Habitat/nationwide_hapc.parquet',\n",
    "  'EPSG:32161',\n",
    "  'irrelevant'),\n",
    " 'areas_protegidas_agencia': ('../../data/PR100/Habitat/areas_protegidas_agencia.parquet',\n",
    "  'EPSG:32161',\n",
    "  'centroid'),\n",
    " 'noaa_charted_submarine_cables_30m_buffer': ('../../data/PR100/Infrastructure/noaa_charted_submarine_cables_30m_buffer.parquet',\n",
    "  'EPSG:32161',\n",
    "  'irrelevant'),\n",
    " 'setbacks_xmission': ('../../data/PR100/Infrastructure/setbacks_xmission.parquet',\n",
    "  'EPSG:32161',\n",
    "  'lines'),\n",
    " 'submarine_cable_30m_buffer': ('../../data/PR100/Infrastructure/submarine_cable_30m_buffer.parquet',\n",
    "  'EPSG:32161',\n",
    "  'irrelevant'),\n",
    " 'pipeline_areas': ('../../data/PR100/Infrastructure/pipeline_areas.parquet',\n",
    "  'EPSG:32161',\n",
    "  'irrelevant'),\n",
    " 'setbacks_roads': ('../../data/PR100/Infrastructure/setbacks_roads.parquet',\n",
    "  'EPSG:4326',\n",
    "  'density'),\n",
    " 'setbacks_runway': ('../../data/PR100/Infrastructure/setbacks_runway.parquet',\n",
    "  'EPSG:4326',\n",
    "  'centroid'),\n",
    " 'setbacks_airport': ('../../data/PR100/Infrastructure/setbacks_airport.parquet',\n",
    "  'EPSG:4326',\n",
    "  'points'),\n",
    " 'setbacks_buildings': ('../../data/PR100/Infrastructure/setbacks_buildings.parquet',\n",
    "  'EPSG:4326',\n",
    "  'density'),\n",
    " 'federal_and_state_waters': ('../../data/PR100/Boundaries/federal_and_state_waters.parquet',\n",
    "  'EPSG:32161',\n",
    "  'centroid'),\n",
    " 'coastal_zone_mgmt_act_boundary': ('../../data/PR100/Boundaries/coastal_zone_mgmt_act_boundary.parquet',\n",
    "  'EPSG:32161',\n",
    "  'centroid'),\n",
    " 'land_protected_areas': ('../../data/PR100/Boundaries/land_protected_areas.parquet',\n",
    "  'EPSG:32161',\n",
    "  'centroid'),\n",
    " 'water_bodies': ('../../data/PR100/Topography/water_bodies.parquet',\n",
    "  'EPSG:4326',\n",
    "  'centroid'),\n",
    " 'wrecks_and_obstructions': ('../../data/PR100/Hazards/wrecks_and_obstructions.parquet',\n",
    "  'EPSG:4326',\n",
    "  'points'),\n",
    " 'ocean_disposal_sites': ('../../data/PR100/Hazards/ocean_disposal_sites.parquet',\n",
    "  'EPSG:32161',\n",
    "  'centroid'),\n",
    " 'tropical_cyclone_storm_segments': ('../../data/PR100/Hazards/tropical_cyclone_storm_segments.parquet',\n",
    "  'EPSG:32161',\n",
    "  'lines'),\n",
    " 'tropical_cyclone_wind_exposure': ('../../data/PR100/Hazards/tropical_cyclone_wind_exposure.parquet',\n",
    "  'EPSG:32161',\n",
    "  'centroid'),\n",
    " 'unexploded_ordinance_areas_fuds': ('../../data/PR100/Hazards/unexploded_ordinance_areas_fuds.parquet',\n",
    "  'EPSG:32161',\n",
    "  'centroid'),\n",
    " 'danger_zones_and_restricted_areas': ('../../data/PR100/Hazards/danger_zones_and_restricted_areas.parquet',\n",
    "  'EPSG:32161',\n",
    "  'centroid'),\n",
    " 'unexploded_ordinance_areas': ('../../data/PR100/Hazards/unexploded_ordinance_areas.parquet',\n",
    "  'EPSG:4326',\n",
    "  'irrelevant')}"
   ]
  },
  {
   "cell_type": "code",
   "execution_count": 2,
   "id": "6098fd75-0229-4edf-ada8-4e78012b3d45",
   "metadata": {},
   "outputs": [],
   "source": [
    "def find_parquet_files(directory):\n",
    "    \"\"\"\n",
    "    Find all Parquet files within a directory and its subdirectories.\n",
    "\n",
    "    :param directory: The base directory to search.\n",
    "    :return: A list of paths to Parquet files.\n",
    "    \"\"\"\n",
    "    parquet_files = []\n",
    "    for root, dirs, files in os.walk(directory):\n",
    "        for file in files:\n",
    "            if file.endswith('.parquet'):\n",
    "                parquet_files.append(os.path.join(root, file))\n",
    "    return parquet_files"
   ]
  },
  {
   "cell_type": "code",
   "execution_count": 13,
   "id": "f5d80e3a-a26c-4845-8ab4-879192344dd8",
   "metadata": {},
   "outputs": [],
   "source": [
    "def get_gdf(parquet_file, crs, grid):\n",
    "    df = pd.read_parquet(parquet_file)\n",
    "    df['geometry'] = df['geometry'].apply(wkt.loads)\n",
    "    gdf = gpd.GeoDataFrame(df, geometry='geometry')\n",
    "    gdf.set_crs(crs, inplace=True)\n",
    "    gdf.to_crs(grid.crs, inplace=True)\n",
    "    return gdf"
   ]
  },
  {
   "cell_type": "code",
   "execution_count": 5,
   "id": "9755c563-94ec-4c8f-938c-8e85f703990c",
   "metadata": {},
   "outputs": [],
   "source": [
    "def create_grid(x_start, x_end, y_start, y_end, square_size):\n",
    "    grid = []\n",
    "    for x in np.arange(x_start, x_end, square_size):\n",
    "        for y in np.arange(y_start, y_end, square_size):\n",
    "            # Define the square's coordinates\n",
    "            square = Polygon([(x, y), (x + square_size, y), (x + square_size, y + square_size), (x, y + square_size)])\n",
    "            grid.append(square)\n",
    "    return gpd.GeoDataFrame({'geometry': grid}, crs=\"EPSG:32161\")"
   ]
  },
  {
   "cell_type": "code",
   "execution_count": 17,
   "id": "14543b25-4fd4-49f8-be27-515b71750f4d",
   "metadata": {},
   "outputs": [],
   "source": [
    "# def rasterize_polygons(grid, polygons):\n",
    "#     centroids = grid.geometry.centroid\n",
    "#     return centroids.apply(lambda x: polygons.contains(x).any())"
   ]
  },
  {
   "cell_type": "code",
   "execution_count": 22,
   "id": "5f01d383-ff85-4c4d-b8ca-9d4996a0383c",
   "metadata": {},
   "outputs": [],
   "source": [
    "def rasterize(grid, data):\n",
    "    # Add a column to environment_gdf to keep track of original indices\n",
    "    grid['original_index'] = grid.index\n",
    "    \n",
    "    # Perform a spatial join\n",
    "    joined_gdf = gpd.sjoin(grid, data, how='right', predicate='intersects')\n",
    "    \n",
    "    # Create the binary mask column based on whether the original index appears in joined_gdf\n",
    "    rasterized = grid['original_index'].isin(joined_gdf['original_index'])\n",
    "    \n",
    "    # Drop the 'original_index' column if no longer needed\n",
    "    grid.drop(columns=['original_index'], inplace=True)\n",
    "\n",
    "    return rasterized"
   ]
  },
  {
   "cell_type": "code",
   "execution_count": 23,
   "id": "f153745b-2975-4003-8be0-969035caeddd",
   "metadata": {},
   "outputs": [],
   "source": [
    "def rasterize_density(grid, data):\n",
    "    joined_gdf = gpd.sjoin(grid, data[['geometry']], how='left', op='intersects')\n",
    "    count = joined_gdf.groupby('index').size()\n",
    "    return count.reindex(grid.index, fill_value=0)"
   ]
  },
  {
   "cell_type": "code",
   "execution_count": 26,
   "id": "521f2bf2-15b5-4f46-b0ff-f3d1fbc5cf85",
   "metadata": {},
   "outputs": [],
   "source": [
    "def process_parquet(file_path, crs, type, handle, grid):\n",
    "    # Create a GeoDataFrame\n",
    "    gdf = get_gdf(file_path, crs, grid)\n",
    "    if type == 'irrelevant':\n",
    "        pass\n",
    "    elif type == 'density':\n",
    "        gdf[handle] = rasterize_density(grid, gdf)\n",
    "    else:\n",
    "        gdf[handle] = rasterize(grid, gdf)"
   ]
  },
  {
   "cell_type": "code",
   "execution_count": 27,
   "id": "59b4f084-078a-4f5f-957e-bc81f91b35e2",
   "metadata": {},
   "outputs": [],
   "source": [
    "def process_all_parquets(files, grid):\n",
    "    for handle, file_data in files.items():\n",
    "        file_path = file_data[0]\n",
    "        crs = file_data[1]\n",
    "        type = file_data[2]\n",
    "        print(f'Processing file: {file}')\n",
    "        process_parquet(file_path, crs, type, hangle, grid)"
   ]
  },
  {
   "cell_type": "code",
   "execution_count": 28,
   "id": "4706101e-04f8-4cf9-8223-94f384c3c73f",
   "metadata": {},
   "outputs": [],
   "source": [
    "parquet_files = find_parquet_files('../../data')"
   ]
  },
  {
   "cell_type": "code",
   "execution_count": 29,
   "id": "ab831d52-7eaa-4fcd-93d9-8c1513cdb394",
   "metadata": {},
   "outputs": [],
   "source": [
    "environment_gdf = create_grid(100000, 300000, 200000, 300000, 500)"
   ]
  },
  {
   "cell_type": "code",
   "execution_count": null,
   "id": "c07f7858-bceb-49d4-9736-09c7b0049dec",
   "metadata": {},
   "outputs": [],
   "source": [
    "process_all_parquets(parquet_files, environment_gdf)"
   ]
  }
 ],
 "metadata": {
  "kernelspec": {
   "display_name": "Python 3 (ipykernel)",
   "language": "python",
   "name": "python3"
  },
  "language_info": {
   "codemirror_mode": {
    "name": "ipython",
    "version": 3
   },
   "file_extension": ".py",
   "mimetype": "text/x-python",
   "name": "python",
   "nbconvert_exporter": "python",
   "pygments_lexer": "ipython3",
   "version": "3.12.0"
  }
 },
 "nbformat": 4,
 "nbformat_minor": 5
}
