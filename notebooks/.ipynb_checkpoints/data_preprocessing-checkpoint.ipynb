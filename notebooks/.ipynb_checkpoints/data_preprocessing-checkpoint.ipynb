{
 "cells": [
  {
   "cell_type": "code",
   "execution_count": 1,
   "id": "4fe94206-f02d-487d-91f9-c0d129ce6965",
   "metadata": {},
   "outputs": [],
   "source": [
    "import os\n",
    "\n",
    "import numpy as np\n",
    "import matplotlib.pyplot as plt\n",
    "\n",
    "import pandas as pd\n",
    "import geopandas as gpd\n",
    "\n",
    "from shapely.wkt import loads\n",
    "from shapely.geometry import Polygon\n",
    "\n",
    "import rasterio\n",
    "import rasterio.sample"
   ]
  },
  {
   "cell_type": "code",
   "execution_count": 2,
   "id": "5227e4b8-7507-48e0-bd40-3c6f4097e65c",
   "metadata": {},
   "outputs": [],
   "source": [
    "parquet_files = {'marine_protected_areas': ('../data/PR100/Habitat/marine_protected_areas.parquet',\n",
    "  'EPSG:32161',\n",
    "  'centroid'),\n",
    " 'land_nationwide_hapc': ('../data/PR100/Habitat/land_nationwide_hapc.parquet',\n",
    "  'EPSG:32161',\n",
    "  'centroid'),\n",
    " 'artificial_reefs': ('../data/PR100/Habitat/artificial_reefs.parquet',\n",
    "  'EPSG:32161',\n",
    "  'irrelevant'),\n",
    " 'nationwide_hapc': ('../data/PR100/Habitat/nationwide_hapc.parquet',\n",
    "  'EPSG:32161',\n",
    "  'irrelevant'),\n",
    " 'areas_protegidas_agencia': ('../data/PR100/Habitat/areas_protegidas_agencia.parquet',\n",
    "  'EPSG:32161',\n",
    "  'centroid'),\n",
    " 'noaa_charted_submarine_cables_30m_buffer': ('../data/PR100/Infrastructure/noaa_charted_submarine_cables_30m_buffer.parquet',\n",
    "  'EPSG:32161',\n",
    "  'irrelevant'),\n",
    " 'setbacks_xmission': ('../data/PR100/Infrastructure/setbacks_xmission.parquet',\n",
    "  'EPSG:32161',\n",
    "  'lines'),\n",
    " 'submarine_cable_30m_buffer': ('../data/PR100/Infrastructure/submarine_cable_30m_buffer.parquet',\n",
    "  'EPSG:32161',\n",
    "  'irrelevant'),\n",
    " 'pipeline_areas': ('../data/PR100/Infrastructure/pipeline_areas.parquet',\n",
    "  'EPSG:32161',\n",
    "  'irrelevant'),\n",
    " 'setbacks_roads': ('../data/PR100/Infrastructure/setbacks_roads.parquet',\n",
    "  'EPSG:4326',\n",
    "  'density'),\n",
    " 'setbacks_runway': ('../data/PR100/Infrastructure/setbacks_runway.parquet',\n",
    "  'EPSG:4326',\n",
    "  'centroid'),\n",
    " 'setbacks_airport': ('../data/PR100/Infrastructure/setbacks_airport.parquet',\n",
    "  'EPSG:4326',\n",
    "  'points'),\n",
    " 'setbacks_buildings': ('../data/PR100/Infrastructure/setbacks_buildings.parquet',\n",
    "  'EPSG:4326',\n",
    "  'density'),\n",
    " 'federal_and_state_waters': ('../data/PR100/Boundaries/federal_and_state_waters.parquet',\n",
    "  'EPSG:32161',\n",
    "  'centroid'),\n",
    " 'coastal_zone_mgmt_act_boundary': ('../data/PR100/Boundaries/coastal_zone_mgmt_act_boundary.parquet',\n",
    "  'EPSG:32161',\n",
    "  'centroid'),\n",
    " 'land_protected_areas': ('../data/PR100/Boundaries/land_protected_areas.parquet',\n",
    "  'EPSG:32161',\n",
    "  'centroid'),\n",
    " 'water_bodies': ('../data/PR100/Topography/water_bodies.parquet',\n",
    "  'EPSG:4326',\n",
    "  'centroid'),\n",
    " 'wrecks_and_obstructions': ('../data/PR100/Hazards/wrecks_and_obstructions.parquet',\n",
    "  'EPSG:4326',\n",
    "  'points'),\n",
    " 'ocean_disposal_sites': ('../data/PR100/Hazards/ocean_disposal_sites.parquet',\n",
    "  'EPSG:32161',\n",
    "  'centroid'),\n",
    " 'tropical_cyclone_storm_segments': ('../data/PR100/Hazards/tropical_cyclone_storm_segments.parquet',\n",
    "  'EPSG:32161',\n",
    "  'lines'),\n",
    " 'tropical_cyclone_wind_exposure': ('../data/PR100/Hazards/tropical_cyclone_wind_exposure.parquet',\n",
    "  'EPSG:32161',\n",
    "  'wind_exposure'),\n",
    " 'unexploded_ordinance_areas_fuds': ('../data/PR100/Hazards/unexploded_ordinance_areas_fuds.parquet',\n",
    "  'EPSG:32161',\n",
    "  'irrelevant'),\n",
    " 'danger_zones_and_restricted_areas': ('../data/PR100/Hazards/danger_zones_and_restricted_areas.parquet',\n",
    "  'EPSG:32161',\n",
    "  'centroid'),\n",
    " 'unexploded_ordinance_areas': ('../data/PR100/Hazards/unexploded_ordinance_areas.parquet',\n",
    "  'EPSG:4326',\n",
    "  'centroid')}"
   ]
  },
  {
   "cell_type": "code",
   "execution_count": 3,
   "id": "11d52628-5ef3-4b92-af7a-e64e9dccac28",
   "metadata": {},
   "outputs": [],
   "source": [
    "tif_files = ['../data/wind_atlas/PRI_power-density_50m.tif',\n",
    " '../data/wind_atlas/PRI_power-density_100m.tif',\n",
    " '../data/wind_atlas/PRI_power-density_150m.tif',\n",
    " '../data/wind_atlas/PRI_power-density_200m.tif',\n",
    " '../data/wind_atlas/PRI_power-density_10m.tif',\n",
    " '../data/solar_atlas/Yearly_PVOUT.tif',\n",
    " '../data/solar_atlas/Daily_PVOUT.tif',\n",
    " '../data/PR100/Topography/slope.tif',\n",
    " '../data/PR100/Topography/elevation.tif']"
   ]
  },
  {
   "cell_type": "code",
   "execution_count": 4,
   "id": "95e6bdbb-8031-4060-9f4a-46eee5ed7f74",
   "metadata": {},
   "outputs": [],
   "source": [
    "binary_mask_columns = ['marine_protected_areas', 'land_nationwide_hapc',\n",
    "       'areas_protegidas_agencia', 'setbacks_xmission',\n",
    "       'setbacks_runway', 'setbacks_airport',\n",
    "       'federal_and_state_waters', 'coastal_zone_mgmt_act_boundary',\n",
    "       'land_protected_areas', 'water_bodies', 'wrecks_and_obstructions',\n",
    "       'ocean_disposal_sites', 'danger_zones_and_restricted_areas',\n",
    "       'unexploded_ordinance_areas']"
   ]
  },
  {
   "cell_type": "code",
   "execution_count": 5,
   "id": "6098fd75-0229-4edf-ada8-4e78012b3d45",
   "metadata": {},
   "outputs": [],
   "source": [
    "def find_parquet_files(directory):\n",
    "    \"\"\"\n",
    "    Find all Parquet files within a directory and its subdirectories.\n",
    "\n",
    "    :param directory: The base directory to search.\n",
    "    :return: A list of paths to Parquet files.\n",
    "\n",
    "    Note: This function isn't used in this notebook, because the file list\n",
    "    has already been generated and enriched (see 'parquet_files' dict above)\n",
    "    \"\"\"\n",
    "    parquet_files = []\n",
    "    for root, dirs, files in os.walk(directory):\n",
    "        for file in files:\n",
    "            if file.endswith('.parquet'):\n",
    "                parquet_files.append(os.path.join(root, file))\n",
    "    return parquet_files"
   ]
  },
  {
   "cell_type": "code",
   "execution_count": 6,
   "id": "c223ef0d-7a73-4399-b157-51e6f0862bf4",
   "metadata": {},
   "outputs": [],
   "source": [
    "def find_tif_files(directory):\n",
    "    \"\"\"\n",
    "    Find all TIF files within a directory and its subdirectories.\n",
    "\n",
    "    :param directory: The base directory to search.\n",
    "    :return: A list of paths to TIF files.\n",
    "\n",
    "    Note: This function isn't used in this notebook, because the file list\n",
    "    has already been generated (see 'tif_files' dict above)\n",
    "    \"\"\"\n",
    "    tif_files = []\n",
    "    for root, dirs, files in os.walk(directory):\n",
    "        for file in files:\n",
    "            if file.endswith('.tif'):\n",
    "                tif_files.append(os.path.join(root, file))\n",
    "    return tif_files"
   ]
  },
  {
   "cell_type": "code",
   "execution_count": 7,
   "id": "f5d80e3a-a26c-4845-8ab4-879192344dd8",
   "metadata": {},
   "outputs": [],
   "source": [
    "def get_gdf(parquet_file, crs, grid):\n",
    "    df = pd.read_parquet(parquet_file)\n",
    "    df['geometry'] = df['geometry'].apply(loads)\n",
    "    gdf = gpd.GeoDataFrame(df, geometry='geometry')\n",
    "    gdf.set_crs(crs, inplace=True)\n",
    "    gdf.to_crs(grid.crs, inplace=True)\n",
    "    return gdf"
   ]
  },
  {
   "cell_type": "code",
   "execution_count": 8,
   "id": "9755c563-94ec-4c8f-938c-8e85f703990c",
   "metadata": {},
   "outputs": [],
   "source": [
    "def create_grid(x_start, x_end, y_start, y_end, square_size):\n",
    "    grid = []\n",
    "    for x in np.arange(x_start, x_end, square_size):\n",
    "        for y in np.arange(y_start, y_end, square_size):\n",
    "            # Define the square's coordinates\n",
    "            square = Polygon([(x, y), (x + square_size, y), (x + square_size, y + square_size), (x, y + square_size)])\n",
    "            grid.append(square)\n",
    "    return gpd.GeoDataFrame({'geometry': grid}, crs=\"EPSG:32161\")"
   ]
  },
  {
   "cell_type": "code",
   "execution_count": 9,
   "id": "60518b25-c664-4e09-a980-a66dc477254c",
   "metadata": {},
   "outputs": [],
   "source": [
    "def calculate_cyclone_risk_score(df):\n",
    "    # Normalize the wind speed occurrences\n",
    "    max_occurrence = df[['occurrence34kt', 'occurrence50kt', 'occurrence64kt']].max().max()\n",
    "    df['norm_occurrence34kt'] = df['occurrence34kt'] / max_occurrence\n",
    "    df['norm_occurrence50kt'] = df['occurrence50kt'] / max_occurrence\n",
    "    df['norm_occurrence64kt'] = df['occurrence64kt'] / max_occurrence\n",
    "\n",
    "    # Normalize major hurricanes occurrences\n",
    "    max_major_hurricanes = df['occurrence64ktMajorHurricanes'].max()\n",
    "    df['norm_major_hurricanes'] = df['occurrence64ktMajorHurricanes'] / max_major_hurricanes\n",
    "\n",
    "    # Normalize intersecting storm tracks\n",
    "    max_intersecting = df['intersectingStormTracks'].max()\n",
    "    df['norm_intersectingTracks'] = df['intersectingStormTracks'] / max_intersecting\n",
    "\n",
    "    # Assign weights and calculate risk score\n",
    "    weights = {\n",
    "        'norm_occurrence34kt': 0.1,\n",
    "        'norm_occurrence50kt': 0.2,\n",
    "        'norm_occurrence64kt': 0.3,\n",
    "        'norm_major_hurricanes': 0.3,\n",
    "        'norm_intersectingTracks': 0.1\n",
    "    }\n",
    "\n",
    "    df['cyclone_risk_score'] = sum(df[col] * weight for col, weight in weights.items())\n",
    "\n",
    "    return df"
   ]
  },
  {
   "cell_type": "code",
   "execution_count": 10,
   "id": "7b99943c-6638-4223-ba7e-aad7e9531950",
   "metadata": {},
   "outputs": [],
   "source": [
    "def rasterize_cyclone_risk(grid_gdf, cyclone_data_gdf):\n",
    "    # Ensure both dataframes are in the same CRS\n",
    "    cyclone_data_gdf = cyclone_data_gdf.to_crs(grid_gdf.crs)\n",
    "\n",
    "    # Spatial join - to associate cyclone data with each grid cell\n",
    "    joined_gdf = gpd.sjoin(grid_gdf, cyclone_data_gdf, how='left', predicate='intersects')\n",
    "\n",
    "    # Apply the risk score calculation to each row\n",
    "    joined_gdf = calculate_cyclone_risk_score(joined_gdf)\n",
    "\n",
    "    # Group by grid cell index and average the scores within each cell\n",
    "    aggregated_scores = joined_gdf.groupby(joined_gdf.index)['cyclone_risk_score'].mean()\n",
    "\n",
    "    return aggregated_scores.reindex(grid_gdf.index, fill_value=0)"
   ]
  },
  {
   "cell_type": "code",
   "execution_count": 11,
   "id": "bf71fafe-69ec-4b06-b171-e267e615dcab",
   "metadata": {},
   "outputs": [],
   "source": [
    "def rasterize(grid, data, type):\n",
    "    joined_gdf = gpd.sjoin(grid, data[['geometry']], how='right', predicate='intersects')\n",
    "    count = joined_gdf.groupby('index_left').size().reindex(grid.index, fill_value=0)\n",
    "    if type == 'density':\n",
    "        return count\n",
    "    else:\n",
    "        return count > 0"
   ]
  },
  {
   "cell_type": "code",
   "execution_count": 12,
   "id": "521f2bf2-15b5-4f46-b0ff-f3d1fbc5cf85",
   "metadata": {},
   "outputs": [],
   "source": [
    "def process_parquet_file(file_path, crs, type, handle, grid):\n",
    "    gdf = get_gdf(file_path, crs, grid)\n",
    "    if type == 'irrelevant':\n",
    "        pass\n",
    "    elif type == 'wind_exposure':\n",
    "        grid[handle] = rasterize_cyclone_risk(grid, gdf)\n",
    "    else:\n",
    "        grid[handle] = rasterize(grid, gdf, type)"
   ]
  },
  {
   "cell_type": "code",
   "execution_count": 13,
   "id": "59b4f084-078a-4f5f-957e-bc81f91b35e2",
   "metadata": {},
   "outputs": [],
   "source": [
    "def process_parquet_files(files, grid):\n",
    "    for handle, file_data in files.items():\n",
    "        file_path = file_data[0]\n",
    "        crs = file_data[1]\n",
    "        type = file_data[2]\n",
    "        print(f'Processing file: {file_path}')\n",
    "        process_parquet_file(file_path, crs, type, handle, grid)"
   ]
  },
  {
   "cell_type": "code",
   "execution_count": 50,
   "id": "49869707-97d4-4b81-8425-d391955405b4",
   "metadata": {},
   "outputs": [],
   "source": [
    "def process_tif_file(file_path, grid, coords):\n",
    "    handle = file_path.split('/')[-1].split('.')[0]\n",
    "    # Open the raster and sample values at each coordinate\n",
    "    with rasterio.open(file_path) as src:\n",
    "        if grid.crs != src.crs:\n",
    "            centroids = grid.geometry.centroid.to_crs(src.crs)\n",
    "            coords = [(x,y) for x, y in zip(centroids.geometry.x, centroids.geometry.y)]\n",
    "\n",
    "        # Sample the raster at each centroid location\n",
    "        values = [x[0] for x in rasterio.sample.sample_gen(src, coords)]\n",
    "    \n",
    "    # Assign the values to the grid dataframe\n",
    "    grid[handle] = values"
   ]
  },
  {
   "cell_type": "code",
   "execution_count": 45,
   "id": "fc4d834f-d8fd-4894-b35c-514d63c3a9cd",
   "metadata": {},
   "outputs": [],
   "source": [
    "def process_tif_files(files, grid):\n",
    "    # Compute centroids\n",
    "    centroids = grid.geometry.centroid\n",
    "    # Create an array of coordinates in (x, y) format\n",
    "    coords = [(x,y) for x, y in zip(centroids.geometry.x, centroids.geometry.y)]\n",
    "\n",
    "    for file_path in tif_files:\n",
    "        print(f'Processing file: {file_path}')\n",
    "        process_tif_file(file_path, grid, coords)"
   ]
  },
  {
   "cell_type": "code",
   "execution_count": 43,
   "id": "7b500287-9466-4fe8-813e-06c9c86f75cf",
   "metadata": {},
   "outputs": [],
   "source": [
    "def create_final_binary_mask(grid, binary_mask_columns):\n",
    "    \"\"\"\n",
    "    Create a final binary mask column in the grid dataframe, which is True if any of \n",
    "    the specified binary mask columns are True.\n",
    "\n",
    "    :param grid: DataFrame containing the grid information.\n",
    "    :param binary_mask_columns: List of columns to be considered for the binary mask.\n",
    "    :return: Updated DataFrame with an additional 'final_binary_mask' column.\n",
    "    \"\"\"\n",
    "\n",
    "    # Check if any of the specified columns are True for each row\n",
    "    grid['final_binary_mask'] = grid[binary_mask_columns].any(axis=1)"
   ]
  },
  {
   "cell_type": "code",
   "execution_count": 17,
   "id": "ab831d52-7eaa-4fcd-93d9-8c1513cdb394",
   "metadata": {},
   "outputs": [],
   "source": [
    "environment_gdf = create_grid(100000, 300000, 200000, 300000, 500)"
   ]
  },
  {
   "cell_type": "code",
   "execution_count": 18,
   "id": "c07f7858-bceb-49d4-9736-09c7b0049dec",
   "metadata": {},
   "outputs": [
    {
     "name": "stdout",
     "output_type": "stream",
     "text": [
      "Processing file: ../data/PR100/Habitat/marine_protected_areas.parquet\n",
      "Processing file: ../data/PR100/Habitat/land_nationwide_hapc.parquet\n",
      "Processing file: ../data/PR100/Habitat/artificial_reefs.parquet\n",
      "Processing file: ../data/PR100/Habitat/nationwide_hapc.parquet\n",
      "Processing file: ../data/PR100/Habitat/areas_protegidas_agencia.parquet\n",
      "Processing file: ../data/PR100/Infrastructure/noaa_charted_submarine_cables_30m_buffer.parquet\n",
      "Processing file: ../data/PR100/Infrastructure/setbacks_xmission.parquet\n",
      "Processing file: ../data/PR100/Infrastructure/submarine_cable_30m_buffer.parquet\n",
      "Processing file: ../data/PR100/Infrastructure/pipeline_areas.parquet\n",
      "Processing file: ../data/PR100/Infrastructure/setbacks_roads.parquet\n",
      "Processing file: ../data/PR100/Infrastructure/setbacks_runway.parquet\n",
      "Processing file: ../data/PR100/Infrastructure/setbacks_airport.parquet\n",
      "Processing file: ../data/PR100/Infrastructure/setbacks_buildings.parquet\n",
      "Processing file: ../data/PR100/Boundaries/federal_and_state_waters.parquet\n",
      "Processing file: ../data/PR100/Boundaries/coastal_zone_mgmt_act_boundary.parquet\n",
      "Processing file: ../data/PR100/Boundaries/land_protected_areas.parquet\n",
      "Processing file: ../data/PR100/Topography/water_bodies.parquet\n",
      "Processing file: ../data/PR100/Hazards/wrecks_and_obstructions.parquet\n",
      "Processing file: ../data/PR100/Hazards/ocean_disposal_sites.parquet\n",
      "Processing file: ../data/PR100/Hazards/tropical_cyclone_storm_segments.parquet\n",
      "Processing file: ../data/PR100/Hazards/tropical_cyclone_wind_exposure.parquet\n",
      "Processing file: ../data/PR100/Hazards/unexploded_ordinance_areas_fuds.parquet\n",
      "Processing file: ../data/PR100/Hazards/danger_zones_and_restricted_areas.parquet\n",
      "Processing file: ../data/PR100/Hazards/unexploded_ordinance_areas.parquet\n"
     ]
    }
   ],
   "source": [
    "process_parquet_files(parquet_files, environment_gdf)"
   ]
  },
  {
   "cell_type": "code",
   "execution_count": 51,
   "id": "67ba92ce-6666-4a25-8bec-abad4ab4d4bb",
   "metadata": {},
   "outputs": [
    {
     "name": "stdout",
     "output_type": "stream",
     "text": [
      "Processing file: ../data/wind_atlas/PRI_power-density_50m.tif\n",
      "Processing file: ../data/wind_atlas/PRI_power-density_100m.tif\n",
      "Processing file: ../data/wind_atlas/PRI_power-density_150m.tif\n",
      "Processing file: ../data/wind_atlas/PRI_power-density_200m.tif\n",
      "Processing file: ../data/wind_atlas/PRI_power-density_10m.tif\n",
      "Processing file: ../data/solar_atlas/Yearly_PVOUT.tif\n",
      "Processing file: ../data/solar_atlas/Daily_PVOUT.tif\n",
      "Processing file: ../data/PR100/Topography/slope.tif\n",
      "Processing file: ../data/PR100/Topography/elevation.tif\n"
     ]
    }
   ],
   "source": [
    "process_tif_files(tif_files, environment_gdf)"
   ]
  },
  {
   "cell_type": "code",
   "execution_count": 20,
   "id": "aafcd931-581e-4f0b-8509-2d2d37098f5c",
   "metadata": {},
   "outputs": [],
   "source": [
    "create_final_binary_mask(environment_gdf, binary_mask_columns)"
   ]
  },
  {
   "cell_type": "code",
   "execution_count": 52,
   "id": "547ad870-42d6-43a5-a8e3-a9bcde1fccfa",
   "metadata": {},
   "outputs": [
    {
     "data": {
      "image/png": "[encoded data removed]",
      "text/plain": [
       "<Figure size 1200x800 with 2 Axes>"
      ]
     },
     "metadata": {},
     "output_type": "display_data"
    }
   ],
   "source": [
    "for column in environment_gdf.columns:\n",
    "    if column == 'geometry':\n",
    "        continue\n",
    "    fig, ax = plt.subplots(1, 1, figsize=(12, 8))\n",
    "    environment_gdf.plot(column=column, ax=ax, legend=True)\n",
    "    plt.title(column)\n",
    "    plt.show()"
   ]
  },
  {
   "cell_type": "code",
   "execution_count": null,
   "id": "3bb6859d-3472-4dbe-9593-bef2dc7171bf",
   "metadata": {},
   "outputs": [],
   "source": []
  }
 ],
 "metadata": {
  "kernelspec": {
   "display_name": "Python 3 (ipykernel)",
   "language": "python",
   "name": "python3"
  },
  "language_info": {
   "codemirror_mode": {
    "name": "ipython",
    "version": 3
   },
   "file_extension": ".py",
   "mimetype": "text/x-python",
   "name": "python",
   "nbconvert_exporter": "python",
   "pygments_lexer": "ipython3",
   "version": "3.12.0"
  }
 },
 "nbformat": 4,
 "nbformat_minor": 5
}
