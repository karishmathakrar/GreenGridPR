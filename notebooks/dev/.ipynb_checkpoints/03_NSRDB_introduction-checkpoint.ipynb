{
 "cells": [
  {
   "cell_type": "markdown",
   "metadata": {},
   "source": [
    "## NREL National Solar Radiation Database (NSRDB) - HSDS Demo"
   ]
  },
  {
   "cell_type": "markdown",
   "metadata": {},
   "source": [
    "This notebook demonstrates basic usage of the National Renewable Energy Laboratory (NREL) National Solar Radiation Database (NSRDB) data. The data is provided from Amazon Web Services using the HDF Group's Highly Scalable Data Service (HSDS).\n",
    "\n",
    "For this to work you must first install h5pyd:\n",
    "\n",
    "```\n",
    "pip install --user h5pyd\n",
    "```\n",
    "\n",
    "Next you'll need to configure HSDS:\n",
    "\n",
    "```\n",
    "hsconfigure\n",
    "```\n",
    "\n",
    "and enter at the prompt:\n",
    "\n",
    "```\n",
    "hs_endpoint = https://developer.nrel.gov/api/hsds\n",
    "hs_username = None\n",
    "hs_password = None\n",
    "hs_api_key = CLN7qg8PRpaqkkeS9STW3BvCMvh81m4UYopmVoOf\n",
    "```\n",
    "\n",
    "You can also add the above contents to a configuration file at ~/.hscfg"
   ]
  },
  {
   "cell_type": "code",
   "execution_count": 1,
   "metadata": {
    "ExecuteTime": {
     "end_time": "2019-02-06T19:48:39.175801Z",
     "start_time": "2019-02-06T19:48:39.034304Z"
    }
   },
   "outputs": [],
   "source": [
    "%matplotlib inline\n",
    "import h5pyd\n",
    "import numpy as np\n",
    "import pandas as pd\n",
    "import matplotlib.pyplot as plt\n",
    "import matplotlib.image as mpimg\n",
    "from scipy.spatial import cKDTree"
   ]
  },
  {
   "cell_type": "markdown",
   "metadata": {},
   "source": [
    "## Basic Usage\n",
    "\n",
    "The NSRDB is provided in annual .h5 files and currently spans 1998-2018.  \n",
    "Each year can be accessed from /nrel/nsrdb/nsrdb_${year}.h5"
   ]
  },
  {
   "cell_type": "code",
   "execution_count": 2,
   "metadata": {
    "ExecuteTime": {
     "end_time": "2019-02-06T18:32:02.178393Z",
     "start_time": "2019-02-06T18:32:01.822243Z"
    }
   },
   "outputs": [],
   "source": [
    "# Open the desired year of nsrdb data\n",
    "# server endpoint, username, password is found via a config file\n",
    "f = h5pyd.File(\"/nrel/nsrdb/v3/nsrdb_2019.h5\", 'r')"
   ]
  },
  {
   "cell_type": "code",
   "execution_count": 3,
   "metadata": {
    "ExecuteTime": {
     "end_time": "2019-02-06T18:32:04.318312Z",
     "start_time": "2019-02-06T18:32:03.824155Z"
    }
   },
   "outputs": [
    {
     "data": {
      "text/plain": [
       "['version']"
      ]
     },
     "execution_count": 3,
     "metadata": {},
     "output_type": "execute_result"
    }
   ],
   "source": [
    "list(f.attrs)  # list attributes belonging to the root group"
   ]
  },
  {
   "cell_type": "code",
   "execution_count": 4,
   "metadata": {
    "ExecuteTime": {
     "end_time": "2019-02-06T18:32:09.277364Z",
     "start_time": "2019-02-06T18:32:09.032427Z"
    }
   },
   "outputs": [
    {
     "data": {
      "text/plain": [
       "'3.1.1'"
      ]
     },
     "execution_count": 4,
     "metadata": {},
     "output_type": "execute_result"
    }
   ],
   "source": [
    "f.attrs['version']   # attributes can be used to provide desriptions of the content"
   ]
  },
  {
   "cell_type": "code",
   "execution_count": 5,
   "metadata": {},
   "outputs": [
    {
     "data": {
      "text/plain": [
       "['data_source',\n",
       " 'elevation_correction',\n",
       " 'physical_max',\n",
       " 'physical_min',\n",
       " 'psm_scale_factor',\n",
       " 'psm_units',\n",
       " 'scale_factor',\n",
       " 'source_dir',\n",
       " 'spatial_interp_method',\n",
       " 'temporal_interp_method',\n",
       " 'units']"
      ]
     },
     "execution_count": 5,
     "metadata": {},
     "output_type": "execute_result"
    }
   ],
   "source": [
    "list(f['wind_speed'].attrs)"
   ]
  },
  {
   "cell_type": "markdown",
   "metadata": {},
   "source": [
    "## Datasets"
   ]
  },
  {
   "cell_type": "code",
   "execution_count": 6,
   "metadata": {
    "ExecuteTime": {
     "end_time": "2019-02-06T18:33:57.735172Z",
     "start_time": "2019-02-06T18:33:57.373693Z"
    }
   },
   "outputs": [
    {
     "data": {
      "text/plain": [
       "['air_temperature',\n",
       " 'alpha',\n",
       " 'aod',\n",
       " 'asymmetry',\n",
       " 'cld_opd_dcomp',\n",
       " 'cld_reff_dcomp',\n",
       " 'clearsky_dhi',\n",
       " 'clearsky_dni',\n",
       " 'clearsky_ghi',\n",
       " 'cloud_press_acha',\n",
       " 'cloud_type',\n",
       " 'coordinates',\n",
       " 'dew_point',\n",
       " 'dhi',\n",
       " 'dni',\n",
       " 'fill_flag',\n",
       " 'ghi',\n",
       " 'meta',\n",
       " 'ozone',\n",
       " 'relative_humidity',\n",
       " 'solar_zenith_angle',\n",
       " 'ssa',\n",
       " 'surface_albedo',\n",
       " 'surface_pressure',\n",
       " 'time_index',\n",
       " 'total_precipitable_water',\n",
       " 'wind_direction',\n",
       " 'wind_speed']"
      ]
     },
     "execution_count": 6,
     "metadata": {},
     "output_type": "execute_result"
    }
   ],
   "source": [
    "list(f)  # list the datasets in the file"
   ]
  },
  {
   "cell_type": "code",
   "execution_count": 7,
   "metadata": {
    "ExecuteTime": {
     "end_time": "2019-02-06T18:34:32.751989Z",
     "start_time": "2019-02-06T18:34:32.630250Z"
    }
   },
   "outputs": [
    {
     "data": {
      "text/plain": [
       "(17520, 2018392)"
      ]
     },
     "execution_count": 7,
     "metadata": {},
     "output_type": "execute_result"
    }
   ],
   "source": [
    "# Datasets are stored in a 2d array of time x location\n",
    "dset = f['ghi']\n",
    "dset.shape"
   ]
  },
  {
   "cell_type": "code",
   "execution_count": 8,
   "metadata": {
    "ExecuteTime": {
     "end_time": "2019-02-06T18:45:17.972025Z",
     "start_time": "2019-02-06T18:45:17.286944Z"
    }
   },
   "outputs": [
    {
     "data": {
      "text/plain": [
       "DatetimeIndex(['2019-01-01 00:00:00', '2019-01-01 00:30:00',\n",
       "               '2019-01-01 01:00:00', '2019-01-01 01:30:00',\n",
       "               '2019-01-01 02:00:00', '2019-01-01 02:30:00',\n",
       "               '2019-01-01 03:00:00', '2019-01-01 03:30:00',\n",
       "               '2019-01-01 04:00:00', '2019-01-01 04:30:00',\n",
       "               ...\n",
       "               '2019-12-31 19:00:00', '2019-12-31 19:30:00',\n",
       "               '2019-12-31 20:00:00', '2019-12-31 20:30:00',\n",
       "               '2019-12-31 21:00:00', '2019-12-31 21:30:00',\n",
       "               '2019-12-31 22:00:00', '2019-12-31 22:30:00',\n",
       "               '2019-12-31 23:00:00', '2019-12-31 23:30:00'],\n",
       "              dtype='datetime64[ns]', length=17520, freq=None)"
      ]
     },
     "execution_count": 8,
     "metadata": {},
     "output_type": "execute_result"
    }
   ],
   "source": [
    "# Extract datetime index for datasets\n",
    "time_index = pd.to_datetime(f['time_index'][...].astype(str))\n",
    "time_index # Temporal resolution is 30min"
   ]
  },
  {
   "cell_type": "code",
   "execution_count": 9,
   "metadata": {
    "ExecuteTime": {
     "end_time": "2019-02-06T18:46:51.882658Z",
     "start_time": "2019-02-06T18:46:06.078162Z"
    }
   },
   "outputs": [
    {
     "data": {
      "text/html": [
       "<div>\n",
       "<style scoped>\n",
       "    .dataframe tbody tr th:only-of-type {\n",
       "        vertical-align: middle;\n",
       "    }\n",
       "\n",
       "    .dataframe tbody tr th {\n",
       "        vertical-align: top;\n",
       "    }\n",
       "\n",
       "    .dataframe thead th {\n",
       "        text-align: right;\n",
       "    }\n",
       "</style>\n",
       "<table border=\"1\" class=\"dataframe\">\n",
       "  <thead>\n",
       "    <tr style=\"text-align: right;\">\n",
       "      <th></th>\n",
       "      <th>latitude</th>\n",
       "      <th>longitude</th>\n",
       "      <th>elevation</th>\n",
       "      <th>timezone</th>\n",
       "      <th>country</th>\n",
       "      <th>state</th>\n",
       "      <th>county</th>\n",
       "      <th>urban</th>\n",
       "      <th>population</th>\n",
       "      <th>landcover</th>\n",
       "    </tr>\n",
       "  </thead>\n",
       "  <tbody>\n",
       "    <tr>\n",
       "      <th>0</th>\n",
       "      <td>-19.99</td>\n",
       "      <td>-175.259995</td>\n",
       "      <td>0.0</td>\n",
       "      <td>13</td>\n",
       "      <td>b'None'</td>\n",
       "      <td>b'None'</td>\n",
       "      <td>b'None'</td>\n",
       "      <td>b'None'</td>\n",
       "      <td>-9999</td>\n",
       "      <td>210</td>\n",
       "    </tr>\n",
       "    <tr>\n",
       "      <th>1</th>\n",
       "      <td>-19.99</td>\n",
       "      <td>-175.220001</td>\n",
       "      <td>0.0</td>\n",
       "      <td>13</td>\n",
       "      <td>b'None'</td>\n",
       "      <td>b'None'</td>\n",
       "      <td>b'None'</td>\n",
       "      <td>b'None'</td>\n",
       "      <td>-9999</td>\n",
       "      <td>210</td>\n",
       "    </tr>\n",
       "    <tr>\n",
       "      <th>2</th>\n",
       "      <td>-19.99</td>\n",
       "      <td>-175.179993</td>\n",
       "      <td>0.0</td>\n",
       "      <td>13</td>\n",
       "      <td>b'None'</td>\n",
       "      <td>b'None'</td>\n",
       "      <td>b'None'</td>\n",
       "      <td>b'None'</td>\n",
       "      <td>-9999</td>\n",
       "      <td>210</td>\n",
       "    </tr>\n",
       "    <tr>\n",
       "      <th>3</th>\n",
       "      <td>-19.99</td>\n",
       "      <td>-175.139999</td>\n",
       "      <td>0.0</td>\n",
       "      <td>13</td>\n",
       "      <td>b'None'</td>\n",
       "      <td>b'None'</td>\n",
       "      <td>b'None'</td>\n",
       "      <td>b'None'</td>\n",
       "      <td>-9999</td>\n",
       "      <td>210</td>\n",
       "    </tr>\n",
       "    <tr>\n",
       "      <th>4</th>\n",
       "      <td>-19.99</td>\n",
       "      <td>-175.100006</td>\n",
       "      <td>0.0</td>\n",
       "      <td>13</td>\n",
       "      <td>b'None'</td>\n",
       "      <td>b'None'</td>\n",
       "      <td>b'None'</td>\n",
       "      <td>b'None'</td>\n",
       "      <td>-9999</td>\n",
       "      <td>210</td>\n",
       "    </tr>\n",
       "  </tbody>\n",
       "</table>\n",
       "</div>"
      ],
      "text/plain": [
       "   latitude   longitude  elevation  timezone  country    state   county  \\\n",
       "0    -19.99 -175.259995        0.0        13  b'None'  b'None'  b'None'   \n",
       "1    -19.99 -175.220001        0.0        13  b'None'  b'None'  b'None'   \n",
       "2    -19.99 -175.179993        0.0        13  b'None'  b'None'  b'None'   \n",
       "3    -19.99 -175.139999        0.0        13  b'None'  b'None'  b'None'   \n",
       "4    -19.99 -175.100006        0.0        13  b'None'  b'None'  b'None'   \n",
       "\n",
       "     urban  population  landcover  \n",
       "0  b'None'       -9999        210  \n",
       "1  b'None'       -9999        210  \n",
       "2  b'None'       -9999        210  \n",
       "3  b'None'       -9999        210  \n",
       "4  b'None'       -9999        210  "
      ]
     },
     "execution_count": 9,
     "metadata": {},
     "output_type": "execute_result"
    }
   ],
   "source": [
    "# Locational information is stored in either 'meta' or 'coordinates'\n",
    "meta = pd.DataFrame(f['meta'][...])\n",
    "meta.head()"
   ]
  },
  {
   "cell_type": "code",
   "execution_count": 10,
   "metadata": {},
   "outputs": [
    {
     "data": {
      "text/plain": [
       "array([b'None', b'COK-00 (Cook Is. aggregation)', b'Eastern',\n",
       "       b'TON-00 (Tonga aggregation)', b'NIU-00 (Niue aggregation)',\n",
       "       b'PYF-00 (Fr. Polynesia aggregat',\n",
       "       b'PYF-99 (Fr. Polynesia minor is', b'Northern',\n",
       "       b'WLF-00 (Wallis and Futuna aggr',\n",
       "       b'ASM-00 (American Samoa aggrega', b'WSM-00 (Samoa aggregation)',\n",
       "       b'TKL-11 (Tokelau aggregation)', b'KIR-99 (Kiribati minor island)',\n",
       "       b'KIR-00 (Kiribati aggregation)',\n",
       "       b'UMI-00 (Jarvis I. aggregation)',\n",
       "       b'CLP-00 (Clipperton I. aggregat', b'Colima', b'Hawaii',\n",
       "       b'Jalisco', b'Nayarit', b'Sinaloa', b'Baja California Sur',\n",
       "       b'Durango', b'Chihuahua', b'Sonora', b'Baja California', b'Texas',\n",
       "       b'Arizona', b'New Mexico', b'California', b'Nevada', b'Utah',\n",
       "       b'Colorado', b'Wyoming', b'Oregon', b'Idaho', b'Montana',\n",
       "       b'Washington', b'British Columbia', b'Alberta', b'Saskatchewan',\n",
       "       b'Alaska', b'Zacatecas', b'South Dakota', b'North Dakota',\n",
       "       b'Nebraska', b'Coahuila', b'Michoac\\xc3\\xa1n', b'Oklahoma',\n",
       "       b'Aguascalientes', b'San Luis Potos\\xc3\\xad', b'Guerrero',\n",
       "       b'Guanajuato', b'Kansas', b'Manitoba', b'Nuevo Le\\xc3\\xb3n',\n",
       "       b'M\\xc3\\xa9xico', b'Quer\\xc3\\xa9taro', b'Tamaulipas', b'Hidalgo',\n",
       "       b'Morelos', b'Distrito Federal', b'Puebla', b'Tlaxcala',\n",
       "       b'Veracruz', b'Oaxaca', b'Minnesota', b'Iowa', b'Missouri',\n",
       "       b'Ontario', b'Arkansas', b'Chiapas', b'Tabasco', b'Louisiana',\n",
       "       b'Wisconsin', b'Campeche', b'San Marcos', b'Retalhuleu',\n",
       "       b'Quezaltenango', b'Huehuetenango', b'Gal\\xc3\\xa1pagos',\n",
       "       b'Suchitep\\xc3\\xa9quez', b'Mississippi', b'Totonicap\\xc3\\xa1n',\n",
       "       b'Illinois', b'Escuintla', b'Solol\\xc3\\xa1', b'Pet\\xc3\\xa9n',\n",
       "       b'Quich\\xc3\\xa9', b'Chimaltenango', b'Sacatep\\xc3\\xa9quez',\n",
       "       b'Baja Verapaz', b'Alta Verapaz', b'Guatemala', b'Santa Rosa',\n",
       "       b'Yucat\\xc3\\xa1n', b'Michigan', b'El Progreso', b'Tennessee',\n",
       "       b'Jalapa', b'Jutiapa', b'Ahuachap\\xc3\\xa1n', b'Sonsonate',\n",
       "       b'Zacapa', b'MEX-99 (Mexico minor island)', b'Santa Ana',\n",
       "       b'Chiquimula', b'Izabal', b'La Libertad', b'Kentucky',\n",
       "       b'Chalatenango', b'Quintana Roo', b'Ocotepeque', b'San Salvador',\n",
       "       b'Toledo', b'Cop\\xc3\\xa1n', b'Cayo', b'Orange Walk', b'La Paz',\n",
       "       b'Cuscatl\\xc3\\xa1n', b'Caba\\xc3\\xb1as', b'Lempira', b'San Vicente',\n",
       "       b'Usulut\\xc3\\xa1n', b'Stann Creek', b'Santa B\\xc3\\xa1rbara',\n",
       "       b'Belize', b'Corozal', b'San Miguel', b'Alabama',\n",
       "       b'Intibuc\\xc3\\xa1', b'Cort\\xc3\\xa9s', b'Moraz\\xc3\\xa1n',\n",
       "       b'Indiana', b'La Uni\\xc3\\xb3n', b'Comayagua', b'Yoro',\n",
       "       b'Atl\\xc3\\xa1ntida', b'Valle', b'Chinandega',\n",
       "       b'Francisco Moraz\\xc3\\xa1n', b'Florida', b'Choluteca',\n",
       "       b'El Para\\xc3\\xadso', b'CRI-11 (Costa Rica remainder)',\n",
       "       b'Le\\xc3\\xb3n', b'Islas de la Bah\\xc3\\xada', b'Olancho',\n",
       "       b'Nueva Segovia', b'Madriz', b'Estel\\xc3\\xad', b'Managua',\n",
       "       b'Carazo', b'Col\\xc3\\xb3n', b'Matagalpa', b'Masaya', b'Jinotega',\n",
       "       b'Nicaragua', b'Granada', b'Boaco', b'Guanacaste', b'Chontales',\n",
       "       b'Georgia', b'Atl\\xc3\\xa1ntico Norte', b'Alajuela', b'Puntarenas',\n",
       "       b'Atl\\xc3\\xa1ntico Sur', b'Gracias a Dios',\n",
       "       b'Pinar del R\\xc3\\xado', b'Ohio', b'San Jos\\xc3\\xa9',\n",
       "       b'North Carolina', b'Heredia', b'Cartago', b'Lim\\xc3\\xb3n',\n",
       "       b'Virginia', b'South Carolina', b'Isla de la Juventud',\n",
       "       b'Chiriqu\\xc3\\xad', b'Bocas del Toro', b'La Habana',\n",
       "       b'West Virginia', b'Ciudad de la Habana',\n",
       "       b'Ng\\xc3\\xb6be Bugl\\xc3\\xa9', b'Matanzas', b'Nunavut', b'Veraguas',\n",
       "       b'San Andr\\xc3\\xa9s y Providencia',\n",
       "       b'CYM-00 (Cayman Is. aggregation', b'Piura', b'Tumbes', b'Guayas',\n",
       "       b'Herrera', b'Manabi', b'Cienfuegos', b'Cocl\\xc3\\xa9',\n",
       "       b'Los Santos', b'Villa Clara', b'Lambayeque', b'Pennsylvania',\n",
       "       b'Loja', b'El Oro', b'Panama', b'Esmeraldas',\n",
       "       b'Sancti Sp\\xc3\\xadritus', b'Los Rios', b'Azuay', b'New York',\n",
       "       b'Qu\\xc3\\xa9bec', b'Pichincha', b'Ca\\xc3\\xb1ar', b'Maryland',\n",
       "       b'Cajamarca', b'Zamora Chinchipe', b'Bolivar', b'Cotopaxi',\n",
       "       b'Kuna Yala', b'Ciego de \\xc3\\x81vila', b'Chimborazo',\n",
       "       b'BHS-00 (Bahamas aggregation)', b'Imbabura', b'Nari\\xc3\\xb1o',\n",
       "       b'Morona Santiago', b'Napo', b'Amazonas', b'Ancash',\n",
       "       b'Camag\\xc3\\xbcey', b'Carchi', b'Tungurahua', b'Dari\\xc3\\xa9n',\n",
       "       b'Westmoreland', b'Hanover', b'Ember\\xc3\\xa1', b'Cauca',\n",
       "       b'Pastaza', b'Saint James', b'Sucumbios', b'Saint Elizabeth',\n",
       "       b'Choc\\xc3\\xb3', b'Lima', b'Las Tunas', b'Loreto',\n",
       "       b'San Mart\\xc3\\xadn', b'Trelawny', b'Granma', b'Manchester',\n",
       "       b'Orellana', b'Saint Ann', b'Clarendon', b'Valle del Cauca',\n",
       "       b'Hu\\xc3\\xa1nuco', b'Putumayo', b'Saint Catherine',\n",
       "       b'Lima Province', b'Callao', b'District of Columbia', b'Antioquia',\n",
       "       b'Saint Mary', b'Santiago de Cuba', b'Saint Andrew', b'Kingston',\n",
       "       b'Portland', b'Pasco', b'Holgu\\xc3\\xadn', b'Saint Thomas',\n",
       "       b'Huila', b'C\\xc3\\xb3rdoba', b'Jun\\xc3\\xadn', b'Ica',\n",
       "       b'Caquet\\xc3\\xa1', b'Risaralda', b'Tolima', b'Ucayali', b'Caldas',\n",
       "       b'Quind\\xc3\\xado', b'Huancavelica', b'Delaware', b'Sucre',\n",
       "       b'Bol\\xc3\\xadvar', b'New Jersey', b'Guant\\xc3\\xa1namo',\n",
       "       b'Atl\\xc3\\xa1ntico', b'USG-00 (Guantanamo Bay USNB ag',\n",
       "       b'Ayacucho', b'Arequipa', b'Magdalena', b'Cundinamarca', b'Meta',\n",
       "       b'Boyac\\xc3\\xa1', b'Santander', b'Bogota', b\"Grand'Anse\", b'Sud',\n",
       "       b'Cesar', b'Acre', b'Cusco', b'Apur\\xc3\\xadmac', b'Nippes',\n",
       "       b'Connecticut', b'Guaviare', b'La Guajira', b'Norte de Santander',\n",
       "       b'Massachusetts', b'Nord-Ouest', b'Vermont', b'Zulia', b'Ouest',\n",
       "       b\"L'Artibonite\", b'Casanare', b'Sud-Est', b'Nord',\n",
       "       b'New Hampshire', b'TCA-00 (Turks and Caicos Is. a',\n",
       "       b'T\\xc3\\xa1chira', b'Madre de Dios', b'Apure', b'Arauca',\n",
       "       b'Centre', b'Nord-Est', b'Independencia', b'Vaup\\xc3\\xa9s',\n",
       "       b'M\\xc3\\xa9rida', b'Barinas', b'La Estrelleta', b'Rhode Island',\n",
       "       b'Pedernales', b'Dajab\\xc3\\xb3n', b'Monte Cristi', b'San Juan',\n",
       "       b'Bahoruco', b'Trujillo', b'Santiago Rodr\\xc3\\xadguez',\n",
       "       b'Moquegua', b'Barahona', b'Falc\\xc3\\xb3n', b'Santiago',\n",
       "       b'Valverde', b'Puerto Plata', b'Tacna', b'Azua', b'Vichada',\n",
       "       b'Maine', b'La Vega', b'Guain\\xc3\\xada', b'Lara',\n",
       "       b'San Jos\\xc3\\xa9 de Ocoa', b'Espaillat', b'Monse\\xc3\\xb1or Nouel',\n",
       "       b'Peravia', b'Hermanas', b'S\\xc3\\xa1nchez Ram\\xc3\\xadrez',\n",
       "       b'Arica y Parinacota', b'San Crist\\xc3\\xb3bal', b'Duarte',\n",
       "       b'Tarapac\\xc3\\xa1', b'Monte Plata',\n",
       "       b'Mar\\xc3\\xada Trinidad S\\xc3\\xa1nchez', b'Santo Domingo',\n",
       "       b'Portuguesa', b'ABW-00 (Aruba aggregation)', b'Distrito Nacional',\n",
       "       b'Saman\\xc3\\xa1', b'Hato Mayor', b'San Pedro de Macor\\xc3\\xads',\n",
       "       b'Pando', b'El Seybo', b'Yaracuy',\n",
       "       b'CUW-00 (Cura\\xc3\\xa7ao aggregation)', b'Oruro', b'La Romana',\n",
       "       b'New Brunswick', b'Cojedes', b'La Altagracia', b'Potos\\xc3\\xad',\n",
       "       b'Antofagasta', b'Carabobo', b'NLD-11 (Netherlands remainder)',\n",
       "       b'Gu\\xc3\\xa1rico', b'PRI-00 (Puerto Rico aggregatio', b'Aragua',\n",
       "       b'Newfoundland and Labrador', b'El Beni', b'Vargas', b'Miranda',\n",
       "       b'Distrito Capital', b'Cochabamba', b'Rond\\xc3\\xb4nia',\n",
       "       b'Dependencias Federales', b'Nova Scotia', b'Anzo\\xc3\\xa1tegui',\n",
       "       b'Chuquisaca', b'Tarija', b'VIR-00 (U.S. Virgin Is. aggreg',\n",
       "       b'BMU-00 (Bermuda aggregation)', b'Roraima', b'Santa Cruz',\n",
       "       b'VGB-00 (British Virgin Is. agg', b'Prince Edward Island',\n",
       "       b'Nueva Esparta', b'Monagas', b'AIA-00 (Anguilla aggregation)',\n",
       "       b'SXM-00 (Sint Maarten aggregati',\n",
       "       b'MAF-00 (St. Martin aggregation',\n",
       "       b'KNA-00 (St. Kitts and Nevis ag',\n",
       "       b'BLM-00 (St. Barthelemy aggrega', b'Delta Amacuro',\n",
       "       b'Boquer\\xc3\\xb3n', b'MSR-00 (Montserrat aggregation', b'Siparia',\n",
       "       b'Alto Paraguay', b'ATG-00 (Antigua aggregation)',\n",
       "       b'GLP-00 (Guadeloupe aggregation', b'GRD-00 (Grenada aggregation)',\n",
       "       b'Diego Martin', b'Point Fortin', b'Mato Grosso',\n",
       "       b'San Juan/Laventille', b'Port of Spain', b'Penal/Debe',\n",
       "       b'Couva/Tabaquite/Talparo', b'Saint John', b'Saint Peter',\n",
       "       b'Chaguanas', b'Tunapuna/Piarco', b'Princes Town', b'Saint Joseph',\n",
       "       b'Saint Paul', b'Pomeroon-Supenaam', b'Saint George',\n",
       "       b'VCT-00 (St. Vin. and Gren. agg', b'Saint Patrick',\n",
       "       b'Saint David', b'Martinique', b'Mayaro/Rio Claro',\n",
       "       b'Sangre Grande', b'LCA-00 (Saint Lucia aggregatio', b'Tobago',\n",
       "       b'Barima-Waini', b'Potaro-Siparuni', b'Upper Demerara-Berbice',\n",
       "       b'Saint Lucy', b'Saint Michael', b'Christ Church', b'Saint Philip',\n",
       "       b'Cuyuni-Mazaruni', b'Par\\xc3\\xa1',\n",
       "       b'Upper Takutu-Upper Essequibo', b'Demerara-Mahaica',\n",
       "       b'Mahaica-Berbice', b'East Berbice-Corentyne',\n",
       "       b'Mato Grosso do Sul', b'Essequibo Islands-West Demerar',\n",
       "       b'Sipaliwini', b'Nickerie', b'Coronie',\n",
       "       b'SPM-00 (St. Pierre and Miquelo', b'Para', b'Saramacca',\n",
       "       b'Brokopondo', b'Wanica', b'Paramaribo', b'Commewijne',\n",
       "       b'Amap\\xc3\\xa1', b'Marowijne', b'French Guiana', b'Goi\\xc3\\xa1s',\n",
       "       b'S\\xc3\\xa3o Paulo', b'Minas Gerais', b'Tocantins',\n",
       "       b'Maranh\\xc3\\xa3o', b'Bahia', b'Piau\\xc3\\xad', b'Kommune Kujalleq',\n",
       "       b'Rio de Janeiro', b'Esp\\xc3\\xadrito Santo', b'Cear\\xc3\\xa1',\n",
       "       b'Pernambuco', b'Para\\xc3\\xadba', b'Rio Grande do Norte',\n",
       "       b'Alagoas', b'Sergipe', b'Azores',\n",
       "       b'CPV-00 (Cape Verde aggregation'], dtype=object)"
      ]
     },
     "execution_count": 10,
     "metadata": {},
     "output_type": "execute_result"
    }
   ],
   "source": [
    "meta.state.unique()"
   ]
  },
  {
   "cell_type": "code",
   "execution_count": 11,
   "metadata": {},
   "outputs": [
    {
     "data": {
      "text/html": [
       "<div>\n",
       "<style scoped>\n",
       "    .dataframe tbody tr th:only-of-type {\n",
       "        vertical-align: middle;\n",
       "    }\n",
       "\n",
       "    .dataframe tbody tr th {\n",
       "        vertical-align: top;\n",
       "    }\n",
       "\n",
       "    .dataframe thead th {\n",
       "        text-align: right;\n",
       "    }\n",
       "</style>\n",
       "<table border=\"1\" class=\"dataframe\">\n",
       "  <thead>\n",
       "    <tr style=\"text-align: right;\">\n",
       "      <th></th>\n",
       "      <th>latitude</th>\n",
       "      <th>longitude</th>\n",
       "      <th>elevation</th>\n",
       "      <th>timezone</th>\n",
       "      <th>country</th>\n",
       "      <th>state</th>\n",
       "      <th>county</th>\n",
       "      <th>urban</th>\n",
       "      <th>population</th>\n",
       "      <th>landcover</th>\n",
       "    </tr>\n",
       "  </thead>\n",
       "  <tbody>\n",
       "    <tr>\n",
       "      <th>1440562</th>\n",
       "      <td>18.090000</td>\n",
       "      <td>-67.900002</td>\n",
       "      <td>66.000000</td>\n",
       "      <td>-4</td>\n",
       "      <td>b'Puerto Rico'</td>\n",
       "      <td>b'PRI-00 (Puerto Rico aggregatio'</td>\n",
       "      <td>b'None'</td>\n",
       "      <td>b'None'</td>\n",
       "      <td>0</td>\n",
       "      <td>120</td>\n",
       "    </tr>\n",
       "    <tr>\n",
       "      <th>1441326</th>\n",
       "      <td>18.090000</td>\n",
       "      <td>-67.860001</td>\n",
       "      <td>48.250000</td>\n",
       "      <td>-4</td>\n",
       "      <td>b'Puerto Rico'</td>\n",
       "      <td>b'PRI-00 (Puerto Rico aggregatio'</td>\n",
       "      <td>b'None'</td>\n",
       "      <td>b'None'</td>\n",
       "      <td>3</td>\n",
       "      <td>20</td>\n",
       "    </tr>\n",
       "    <tr>\n",
       "      <th>1459759</th>\n",
       "      <td>18.370001</td>\n",
       "      <td>-67.220001</td>\n",
       "      <td>18.684210</td>\n",
       "      <td>-4</td>\n",
       "      <td>b'Puerto Rico'</td>\n",
       "      <td>b'PRI-00 (Puerto Rico aggregatio'</td>\n",
       "      <td>b'None'</td>\n",
       "      <td>b'Mayaguez'</td>\n",
       "      <td>5454</td>\n",
       "      <td>30</td>\n",
       "    </tr>\n",
       "    <tr>\n",
       "      <th>1460550</th>\n",
       "      <td>18.330000</td>\n",
       "      <td>-67.220001</td>\n",
       "      <td>74.949997</td>\n",
       "      <td>-4</td>\n",
       "      <td>b'Puerto Rico'</td>\n",
       "      <td>b'PRI-00 (Puerto Rico aggregatio'</td>\n",
       "      <td>b'None'</td>\n",
       "      <td>b'Mayaguez'</td>\n",
       "      <td>5684</td>\n",
       "      <td>30</td>\n",
       "    </tr>\n",
       "    <tr>\n",
       "      <th>1460837</th>\n",
       "      <td>18.330000</td>\n",
       "      <td>-67.180000</td>\n",
       "      <td>159.199997</td>\n",
       "      <td>-4</td>\n",
       "      <td>b'Puerto Rico'</td>\n",
       "      <td>b'PRI-00 (Puerto Rico aggregatio'</td>\n",
       "      <td>b'None'</td>\n",
       "      <td>b'Mayaguez'</td>\n",
       "      <td>7397</td>\n",
       "      <td>30</td>\n",
       "    </tr>\n",
       "    <tr>\n",
       "      <th>...</th>\n",
       "      <td>...</td>\n",
       "      <td>...</td>\n",
       "      <td>...</td>\n",
       "      <td>...</td>\n",
       "      <td>...</td>\n",
       "      <td>...</td>\n",
       "      <td>...</td>\n",
       "      <td>...</td>\n",
       "      <td>...</td>\n",
       "      <td>...</td>\n",
       "    </tr>\n",
       "    <tr>\n",
       "      <th>1512413</th>\n",
       "      <td>18.129999</td>\n",
       "      <td>-65.459999</td>\n",
       "      <td>55.882355</td>\n",
       "      <td>-4</td>\n",
       "      <td>b'Puerto Rico'</td>\n",
       "      <td>b'PRI-00 (Puerto Rico aggregatio'</td>\n",
       "      <td>b'None'</td>\n",
       "      <td>b'None'</td>\n",
       "      <td>4533</td>\n",
       "      <td>30</td>\n",
       "    </tr>\n",
       "    <tr>\n",
       "      <th>1514045</th>\n",
       "      <td>18.129999</td>\n",
       "      <td>-65.419998</td>\n",
       "      <td>55.799999</td>\n",
       "      <td>-4</td>\n",
       "      <td>b'Puerto Rico'</td>\n",
       "      <td>b'PRI-00 (Puerto Rico aggregatio'</td>\n",
       "      <td>b'None'</td>\n",
       "      <td>b'None'</td>\n",
       "      <td>2055</td>\n",
       "      <td>40</td>\n",
       "    </tr>\n",
       "    <tr>\n",
       "      <th>1515288</th>\n",
       "      <td>18.129999</td>\n",
       "      <td>-65.379997</td>\n",
       "      <td>33.200001</td>\n",
       "      <td>-4</td>\n",
       "      <td>b'Puerto Rico'</td>\n",
       "      <td>b'PRI-00 (Puerto Rico aggregatio'</td>\n",
       "      <td>b'None'</td>\n",
       "      <td>b'None'</td>\n",
       "      <td>35</td>\n",
       "      <td>40</td>\n",
       "    </tr>\n",
       "    <tr>\n",
       "      <th>1516882</th>\n",
       "      <td>18.129999</td>\n",
       "      <td>-65.339996</td>\n",
       "      <td>26.176470</td>\n",
       "      <td>-4</td>\n",
       "      <td>b'Puerto Rico'</td>\n",
       "      <td>b'PRI-00 (Puerto Rico aggregatio'</td>\n",
       "      <td>b'None'</td>\n",
       "      <td>b'None'</td>\n",
       "      <td>0</td>\n",
       "      <td>210</td>\n",
       "    </tr>\n",
       "    <tr>\n",
       "      <th>1517812</th>\n",
       "      <td>18.330000</td>\n",
       "      <td>-65.300003</td>\n",
       "      <td>73.000000</td>\n",
       "      <td>-4</td>\n",
       "      <td>b'Puerto Rico'</td>\n",
       "      <td>b'PRI-00 (Puerto Rico aggregatio'</td>\n",
       "      <td>b'None'</td>\n",
       "      <td>b'None'</td>\n",
       "      <td>135</td>\n",
       "      <td>210</td>\n",
       "    </tr>\n",
       "  </tbody>\n",
       "</table>\n",
       "<p>475 rows × 10 columns</p>\n",
       "</div>"
      ],
      "text/plain": [
       "          latitude  longitude   elevation  timezone         country  \\\n",
       "1440562  18.090000 -67.900002   66.000000        -4  b'Puerto Rico'   \n",
       "1441326  18.090000 -67.860001   48.250000        -4  b'Puerto Rico'   \n",
       "1459759  18.370001 -67.220001   18.684210        -4  b'Puerto Rico'   \n",
       "1460550  18.330000 -67.220001   74.949997        -4  b'Puerto Rico'   \n",
       "1460837  18.330000 -67.180000  159.199997        -4  b'Puerto Rico'   \n",
       "...            ...        ...         ...       ...             ...   \n",
       "1512413  18.129999 -65.459999   55.882355        -4  b'Puerto Rico'   \n",
       "1514045  18.129999 -65.419998   55.799999        -4  b'Puerto Rico'   \n",
       "1515288  18.129999 -65.379997   33.200001        -4  b'Puerto Rico'   \n",
       "1516882  18.129999 -65.339996   26.176470        -4  b'Puerto Rico'   \n",
       "1517812  18.330000 -65.300003   73.000000        -4  b'Puerto Rico'   \n",
       "\n",
       "                                     state   county        urban  population  \\\n",
       "1440562  b'PRI-00 (Puerto Rico aggregatio'  b'None'      b'None'           0   \n",
       "1441326  b'PRI-00 (Puerto Rico aggregatio'  b'None'      b'None'           3   \n",
       "1459759  b'PRI-00 (Puerto Rico aggregatio'  b'None'  b'Mayaguez'        5454   \n",
       "1460550  b'PRI-00 (Puerto Rico aggregatio'  b'None'  b'Mayaguez'        5684   \n",
       "1460837  b'PRI-00 (Puerto Rico aggregatio'  b'None'  b'Mayaguez'        7397   \n",
       "...                                    ...      ...          ...         ...   \n",
       "1512413  b'PRI-00 (Puerto Rico aggregatio'  b'None'      b'None'        4533   \n",
       "1514045  b'PRI-00 (Puerto Rico aggregatio'  b'None'      b'None'        2055   \n",
       "1515288  b'PRI-00 (Puerto Rico aggregatio'  b'None'      b'None'          35   \n",
       "1516882  b'PRI-00 (Puerto Rico aggregatio'  b'None'      b'None'           0   \n",
       "1517812  b'PRI-00 (Puerto Rico aggregatio'  b'None'      b'None'         135   \n",
       "\n",
       "         landcover  \n",
       "1440562        120  \n",
       "1441326         20  \n",
       "1459759         30  \n",
       "1460550         30  \n",
       "1460837         30  \n",
       "...            ...  \n",
       "1512413         30  \n",
       "1514045         40  \n",
       "1515288         40  \n",
       "1516882        210  \n",
       "1517812        210  \n",
       "\n",
       "[475 rows x 10 columns]"
      ]
     },
     "execution_count": 11,
     "metadata": {},
     "output_type": "execute_result"
    }
   ],
   "source": [
    "meta[meta.state == b'PRI-00 (Puerto Rico aggregatio']"
   ]
  },
  {
   "cell_type": "code",
   "execution_count": 12,
   "metadata": {
    "ExecuteTime": {
     "end_time": "2019-02-06T18:47:46.899747Z",
     "start_time": "2019-02-06T18:47:46.896662Z"
    }
   },
   "outputs": [
    {
     "data": {
      "text/plain": [
       "dtype('uint16')"
      ]
     },
     "execution_count": 12,
     "metadata": {},
     "output_type": "execute_result"
    }
   ],
   "source": [
    "# Datasets have been saved as integers\n",
    "dset.dtype"
   ]
  },
  {
   "cell_type": "code",
   "execution_count": 13,
   "metadata": {
    "ExecuteTime": {
     "end_time": "2019-02-06T18:47:51.066179Z",
     "start_time": "2019-02-06T18:47:51.062426Z"
    }
   },
   "outputs": [
    {
     "data": {
      "text/plain": [
       "70.72445568"
      ]
     },
     "execution_count": 13,
     "metadata": {},
     "output_type": "execute_result"
    }
   ],
   "source": [
    "dset.shape[0] * dset.shape[1] * 2 * 10**-9 # 70 GB per dataset!"
   ]
  },
  {
   "cell_type": "code",
   "execution_count": 14,
   "metadata": {
    "ExecuteTime": {
     "end_time": "2019-02-06T18:47:57.377851Z",
     "start_time": "2019-02-06T18:47:57.374273Z"
    }
   },
   "outputs": [
    {
     "data": {
      "text/plain": [
       "(2688, 372)"
      ]
     },
     "execution_count": 14,
     "metadata": {},
     "output_type": "execute_result"
    }
   ],
   "source": [
    "dset.chunks # Chunked by week"
   ]
  },
  {
   "cell_type": "code",
   "execution_count": 15,
   "metadata": {
    "ExecuteTime": {
     "end_time": "2019-02-06T18:47:58.010112Z",
     "start_time": "2019-02-06T18:47:58.005677Z"
    }
   },
   "outputs": [
    {
     "data": {
      "text/plain": [
       "1.9998719999999999"
      ]
     },
     "execution_count": 15,
     "metadata": {},
     "output_type": "execute_result"
    }
   ],
   "source": [
    "dset.chunks[0] * dset.chunks[1] * 2 * 10**-6 # 2 MB per chunk"
   ]
  },
  {
   "cell_type": "code",
   "execution_count": 16,
   "metadata": {
    "ExecuteTime": {
     "end_time": "2019-02-06T18:49:17.786073Z",
     "start_time": "2019-02-06T18:49:17.671184Z"
    }
   },
   "outputs": [
    {
     "data": {
      "text/plain": [
       "1.0"
      ]
     },
     "execution_count": 16,
     "metadata": {},
     "output_type": "execute_result"
    }
   ],
   "source": [
    "# To convert dataset values back to floats use the 'psm_scale_factor'\n",
    "dset.attrs['psm_scale_factor'] # Irradiance values have been truncated to integer precision"
   ]
  },
  {
   "cell_type": "code",
   "execution_count": 17,
   "metadata": {
    "ExecuteTime": {
     "end_time": "2019-02-06T18:52:13.089310Z",
     "start_time": "2019-02-06T18:52:12.342907Z"
    }
   },
   "outputs": [
    {
     "name": "stdout",
     "output_type": "stream",
     "text": [
      "wind_speed scale factor =  10.0\n"
     ]
    },
    {
     "data": {
      "text/plain": [
       "5.1"
      ]
     },
     "execution_count": 17,
     "metadata": {},
     "output_type": "execute_result"
    }
   ],
   "source": [
    "# wind speed on the other hand has single decimal percision when scaled by 10\n",
    "scale_factor = f['wind_speed'].attrs['psm_scale_factor']\n",
    "units = f['wind_speed'].attrs['psm_units']\n",
    "print('wind_speed scale factor = ', scale_factor)\n",
    "# print('wind_speed units after unscaling = ', units)\n",
    "f['wind_speed'][0, 0] / scale_factor # divide by scale_factor to return native value"
   ]
  },
  {
   "cell_type": "markdown",
   "metadata": {},
   "source": [
    "## Time-slicing"
   ]
  },
  {
   "cell_type": "markdown",
   "metadata": {},
   "source": [
    "Get the time_index from the server and convert to a pandas DatetimeIndex for convenience:"
   ]
  },
  {
   "cell_type": "code",
   "execution_count": 18,
   "metadata": {
    "ExecuteTime": {
     "end_time": "2019-02-06T18:57:48.925869Z",
     "start_time": "2019-02-06T18:57:47.990623Z"
    }
   },
   "outputs": [
    {
     "data": {
      "text/plain": [
       "DatetimeIndex(['2019-01-01 00:00:00', '2019-01-01 00:30:00',\n",
       "               '2019-01-01 01:00:00', '2019-01-01 01:30:00',\n",
       "               '2019-01-01 02:00:00', '2019-01-01 02:30:00',\n",
       "               '2019-01-01 03:00:00', '2019-01-01 03:30:00',\n",
       "               '2019-01-01 04:00:00', '2019-01-01 04:30:00',\n",
       "               ...\n",
       "               '2019-12-31 19:00:00', '2019-12-31 19:30:00',\n",
       "               '2019-12-31 20:00:00', '2019-12-31 20:30:00',\n",
       "               '2019-12-31 21:00:00', '2019-12-31 21:30:00',\n",
       "               '2019-12-31 22:00:00', '2019-12-31 22:30:00',\n",
       "               '2019-12-31 23:00:00', '2019-12-31 23:30:00'],\n",
       "              dtype='datetime64[ns]', length=17520, freq=None)"
      ]
     },
     "execution_count": 18,
     "metadata": {},
     "output_type": "execute_result"
    }
   ],
   "source": [
    "time_index = pd.to_datetime(f['time_index'][...].astype(str))\n",
    "time_index"
   ]
  },
  {
   "cell_type": "markdown",
   "metadata": {},
   "source": [
    "Extract indexes for a particular span of time:"
   ]
  },
  {
   "cell_type": "code",
   "execution_count": 19,
   "metadata": {
    "ExecuteTime": {
     "end_time": "2019-02-06T19:00:14.646068Z",
     "start_time": "2019-02-06T19:00:14.641059Z"
    }
   },
   "outputs": [
    {
     "data": {
      "text/plain": [
       "array([2832, 2833, 2834, ..., 4317, 4318, 4319])"
      ]
     },
     "execution_count": 19,
     "metadata": {},
     "output_type": "execute_result"
    }
   ],
   "source": [
    "march = time_index.month == 3\n",
    "np.where(march)[0]"
   ]
  },
  {
   "cell_type": "markdown",
   "metadata": {},
   "source": [
    "Or a particular date:"
   ]
  },
  {
   "cell_type": "code",
   "execution_count": 21,
   "metadata": {
    "ExecuteTime": {
     "end_time": "2019-02-06T19:16:18.978254Z",
     "start_time": "2019-02-06T19:16:18.973874Z"
    }
   },
   "outputs": [
    {
     "data": {
      "text/plain": [
       "8832"
      ]
     },
     "execution_count": 21,
     "metadata": {},
     "output_type": "execute_result"
    }
   ],
   "source": [
    "timestep = np.where(time_index == '2019-07-04 00:00:00')[0][0]\n",
    "timestep"
   ]
  },
  {
   "cell_type": "markdown",
   "metadata": {},
   "source": [
    "## Map Data"
   ]
  },
  {
   "cell_type": "code",
   "execution_count": 22,
   "metadata": {
    "ExecuteTime": {
     "end_time": "2019-02-06T19:16:28.086246Z",
     "start_time": "2019-02-06T19:16:24.814153Z"
    }
   },
   "outputs": [
    {
     "name": "stdout",
     "output_type": "stream",
     "text": [
      "{'description': '(latitude, longitude)'}\n"
     ]
    }
   ],
   "source": [
    "# Extract coordinates (lat, lon)\n",
    "print(dict(f['coordinates'].attrs))\n",
    "coords = f['coordinates'][...]"
   ]
  },
  {
   "cell_type": "code",
   "execution_count": null,
   "metadata": {
    "ExecuteTime": {
     "end_time": "2019-02-06T19:30:40.930339Z",
     "start_time": "2019-02-06T19:30:37.902430Z"
    }
   },
   "outputs": [],
   "source": [
    "dset = f['ghi']\n",
    "%time data = dset[timestep, ::10]   # extract every 10th location at a particular time\n",
    "df = pd.DataFrame() # Combine data with coordinates in a DataFrame\n",
    "df['longitude'] = coords[::10, 1]\n",
    "df['latitude'] = coords[::10, 0]\n",
    "df['ghi'] = data / dset.attrs['psm_scale_factor'] # unscale dataset"
   ]
  },
  {
   "cell_type": "code",
   "execution_count": null,
   "metadata": {},
   "outputs": [],
   "source": [
    "dset = f['ghi']"
   ]
  },
  {
   "cell_type": "code",
   "execution_count": null,
   "metadata": {},
   "outputs": [],
   "source": [
    "dset"
   ]
  },
  {
   "cell_type": "code",
   "execution_count": null,
   "metadata": {
    "ExecuteTime": {
     "end_time": "2019-02-06T19:30:40.935891Z",
     "start_time": "2019-02-06T19:30:40.932229Z"
    }
   },
   "outputs": [],
   "source": [
    "df.shape"
   ]
  },
  {
   "cell_type": "code",
   "execution_count": null,
   "metadata": {
    "ExecuteTime": {
     "end_time": "2019-02-06T19:30:50.703645Z",
     "start_time": "2019-02-06T19:30:44.870411Z"
    }
   },
   "outputs": [],
   "source": [
    "df.plot.scatter(x='longitude', y='latitude', c='ghi',\n",
    "                colormap='YlOrRd',\n",
    "                title=str(time_index[timestep]))\n",
    "plt.show()"
   ]
  },
  {
   "cell_type": "code",
   "execution_count": null,
   "metadata": {
    "ExecuteTime": {
     "end_time": "2019-02-06T19:38:03.467178Z",
     "start_time": "2019-02-06T19:38:03.343285Z"
    }
   },
   "outputs": [],
   "source": [
    "# Full resolution subset of Colorado\n",
    "meta = pd.DataFrame(f['meta'][...])\n",
    "CA = meta.loc[meta['state'] == b'California'] # Note .h5 saves strings as bit-strings\n",
    "CA.head()"
   ]
  },
  {
   "cell_type": "code",
   "execution_count": null,
   "metadata": {},
   "outputs": [],
   "source": [
    "len(CA)"
   ]
  },
  {
   "cell_type": "code",
   "execution_count": null,
   "metadata": {},
   "outputs": [],
   "source": [
    "data = dset[timestep][CA.index]\n",
    "len(data)"
   ]
  },
  {
   "cell_type": "code",
   "execution_count": null,
   "metadata": {},
   "outputs": [],
   "source": [
    "len(df)"
   ]
  },
  {
   "cell_type": "code",
   "execution_count": null,
   "metadata": {},
   "outputs": [],
   "source": [
    "len(dset)"
   ]
  },
  {
   "cell_type": "code",
   "execution_count": null,
   "metadata": {
    "ExecuteTime": {
     "end_time": "2019-02-06T19:38:14.050394Z",
     "start_time": "2019-02-06T19:38:09.966272Z"
    }
   },
   "outputs": [],
   "source": [
    "# %time data = dset[timestep][CA.index]  # full-resolution subset\n",
    "df = CA[['longitude', 'latitude']].copy()\n",
    "df['ghi'] = data / dset.attrs['psm_scale_factor']\n",
    "df.shape"
   ]
  },
  {
   "cell_type": "code",
   "execution_count": null,
   "metadata": {},
   "outputs": [],
   "source": [
    "data"
   ]
  },
  {
   "cell_type": "code",
   "execution_count": null,
   "metadata": {
    "ExecuteTime": {
     "end_time": "2019-02-06T19:38:16.260753Z",
     "start_time": "2019-02-06T19:38:15.367784Z"
    }
   },
   "outputs": [],
   "source": [
    "df.plot.scatter(x='longitude', y='latitude', c='ghi',\n",
    "                colormap='YlOrRd',\n",
    "                title=str(time_index[timestep]))\n",
    "plt.show()"
   ]
  },
  {
   "cell_type": "code",
   "execution_count": null,
   "metadata": {},
   "outputs": [],
   "source": [
    "# Full resolution subset of Colorado\n",
    "#meta = pd.DataFrame(f['meta'][...])\n",
    "PR = meta.loc[meta['state'] == b'PRI-00 (Puerto Rico aggregatio'] # Note .h5 saves strings as bit-strings\n",
    "PR.head()"
   ]
  },
  {
   "cell_type": "code",
   "execution_count": null,
   "metadata": {},
   "outputs": [],
   "source": [
    "PR.index"
   ]
  },
  {
   "cell_type": "code",
   "execution_count": null,
   "metadata": {},
   "outputs": [],
   "source": [
    "timestep = np.where(time_index == '2019-07-04 00:00:00')[0][0]\n",
    "timestep"
   ]
  },
  {
   "cell_type": "code",
   "execution_count": null,
   "metadata": {},
   "outputs": [],
   "source": [
    "%%time \n",
    "data = dset[timestep][PR.index]  # full-resolution subset"
   ]
  },
  {
   "cell_type": "code",
   "execution_count": null,
   "metadata": {},
   "outputs": [],
   "source": [
    "data"
   ]
  },
  {
   "cell_type": "code",
   "execution_count": null,
   "metadata": {},
   "outputs": [],
   "source": [
    "df = PR[['longitude', 'latitude']].copy()\n",
    "df['ghi'] = data / dset.attrs['psm_scale_factor']\n",
    "df.shape"
   ]
  },
  {
   "cell_type": "code",
   "execution_count": null,
   "metadata": {},
   "outputs": [],
   "source": [
    "df"
   ]
  },
  {
   "cell_type": "code",
   "execution_count": null,
   "metadata": {},
   "outputs": [],
   "source": [
    "df"
   ]
  },
  {
   "cell_type": "code",
   "execution_count": null,
   "metadata": {},
   "outputs": [],
   "source": [
    "df.plot.scatter(x='longitude', y='latitude', c='wind_speed',\n",
    "                colormap='YlOrRd',\n",
    "                title=str(time_index[timestep]))\n",
    "plt.ylim([16,20])\n",
    "plt.show()"
   ]
  },
  {
   "cell_type": "markdown",
   "metadata": {},
   "source": [
    "## Nearest Timeseries for given Lat/Lon"
   ]
  },
  {
   "cell_type": "code",
   "execution_count": null,
   "metadata": {
    "ExecuteTime": {
     "end_time": "2019-02-06T19:52:44.346725Z",
     "start_time": "2019-02-06T19:52:34.038821Z"
    }
   },
   "outputs": [],
   "source": [
    "# Unlike the gridded WTK data the NSRDB is provided as sparse time-series dataset.\n",
    "# The quickest way to find the nearest site it using a KDtree\n",
    "\n",
    "dset_coords = f['coordinates'][...]\n",
    "tree = cKDTree(dset_coords)\n",
    "def nearest_site(tree, lat_coord, lon_coord):\n",
    "    lat_lon = np.array([lat_coord, lon_coord])\n",
    "    dist, pos = tree.query(lat_lon)\n",
    "    return pos\n",
    "\n",
    "NewYorkCity = (40.7128, -74.0059)\n",
    "NewYorkCity_idx = nearest_site(tree, NewYorkCity[0], NewYorkCity[1] )\n",
    "\n",
    "print(\"Site index for New York City: \\t\\t {}\".format(NewYorkCity_idx))\n",
    "print(\"Coordinates of New York City: \\t {}\".format(NewYorkCity))\n",
    "print(\"Coordinates of nearest point: \\t {}\".format(dset_coords[NewYorkCity_idx]))"
   ]
  },
  {
   "cell_type": "code",
   "execution_count": null,
   "metadata": {
    "ExecuteTime": {
     "end_time": "2019-02-06T19:53:48.160502Z",
     "start_time": "2019-02-06T19:53:46.607119Z"
    }
   },
   "outputs": [],
   "source": [
    "# Get the entire 2012 timeseries data for a point in NYC\n",
    "%time tseries = dset[:, NewYorkCity_idx] / dset.attrs['psm_scale_factor']"
   ]
  },
  {
   "cell_type": "code",
   "execution_count": null,
   "metadata": {
    "ExecuteTime": {
     "end_time": "2019-02-06T19:53:48.165562Z",
     "start_time": "2019-02-06T19:53:48.162324Z"
    }
   },
   "outputs": [],
   "source": [
    "len(tseries)   # 1 years * 365 days * 24 hours * 30 minutes"
   ]
  },
  {
   "cell_type": "code",
   "execution_count": null,
   "metadata": {
    "ExecuteTime": {
     "end_time": "2019-02-06T19:54:20.235635Z",
     "start_time": "2019-02-06T19:54:20.063966Z"
    }
   },
   "outputs": [],
   "source": [
    "plt.plot(time_index, tseries)\n",
    "plt.ylabel(\"ghi\")\n",
    "plt.title(\"NYC ghi in 2012\")"
   ]
  },
  {
   "cell_type": "markdown",
   "metadata": {},
   "source": [
    "## GHI Statistics"
   ]
  },
  {
   "cell_type": "code",
   "execution_count": null,
   "metadata": {
    "ExecuteTime": {
     "end_time": "2019-02-06T19:58:14.770799Z",
     "start_time": "2019-02-06T19:58:14.726103Z"
    }
   },
   "outputs": [],
   "source": [
    "df = pd.DataFrame({'ghi': tseries}, index=time_index)\n",
    "df[\"year\"] = df.index.year\n",
    "df[\"month\"] = df.index.month\n",
    "df[\"day\"] = df.index.day\n",
    "df[\"hour\"] = df.index.hour\n",
    "\n",
    "agg = df.groupby([\"month\",\"hour\"]).mean()\n",
    "agg = agg.reset_index().pivot(index=\"month\",columns=\"hour\",values=\"ghi\")\n",
    "agg"
   ]
  },
  {
   "cell_type": "code",
   "execution_count": null,
   "metadata": {
    "ExecuteTime": {
     "end_time": "2019-02-06T19:58:30.404312Z",
     "start_time": "2019-02-06T19:58:30.214762Z"
    }
   },
   "outputs": [],
   "source": [
    "plt.imshow(agg)\n",
    "plt.xlabel(\"Hour\")\n",
    "plt.ylabel(\"Month\")\n",
    "plt.title(\"12 x 24 Mean GHI (W/m^2)\")\n",
    "plt.colorbar()"
   ]
  },
  {
   "cell_type": "code",
   "execution_count": null,
   "metadata": {},
   "outputs": [],
   "source": []
  }
 ],
 "metadata": {
  "kernelspec": {
   "display_name": "Python 3 (ipykernel)",
   "language": "python",
   "name": "python3"
  },
  "language_info": {
   "codemirror_mode": {
    "name": "ipython",
    "version": 3
   },
   "file_extension": ".py",
   "mimetype": "text/x-python",
   "name": "python",
   "nbconvert_exporter": "python",
   "pygments_lexer": "ipython3",
   "version": "3.12.0"
  }
 },
 "nbformat": 4,
 "nbformat_minor": 4
}
