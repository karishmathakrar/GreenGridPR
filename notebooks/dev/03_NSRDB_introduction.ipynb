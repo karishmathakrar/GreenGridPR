{
 "cells": [
  {
   "cell_type": "markdown",
   "metadata": {},
   "source": [
    "## NREL National Solar Radiation Database (NSRDB) - HSDS Demo"
   ]
  },
  {
   "cell_type": "markdown",
   "metadata": {},
   "source": [
    "This notebook demonstrates basic usage of the National Renewable Energy Laboratory (NREL) National Solar Radiation Database (NSRDB) data. The data is provided from Amazon Web Services using the HDF Group's Highly Scalable Data Service (HSDS).\n",
    "\n",
    "For this to work you must first install h5pyd:\n",
    "\n",
    "```\n",
    "pip install --user h5pyd\n",
    "```\n",
    "\n",
    "Next you'll need to configure HSDS:\n",
    "\n",
    "```\n",
    "hsconfigure\n",
    "```\n",
    "\n",
    "and enter at the prompt:\n",
    "\n",
    "```\n",
    "hs_endpoint = https://developer.nrel.gov/api/hsds\n",
    "hs_username = None\n",
    "hs_password = None\n",
    "hs_api_key = CLN7qg8PRpaqkkeS9STW3BvCMvh81m4UYopmVoOf\n",
    "```\n",
    "\n",
    "You can also add the above contents to a configuration file at ~/.hscfg"
   ]
  },
  {
   "cell_type": "code",
   "execution_count": 132,
   "metadata": {
    "ExecuteTime": {
     "end_time": "2019-02-06T19:48:39.175801Z",
     "start_time": "2019-02-06T19:48:39.034304Z"
    }
   },
   "outputs": [],
   "source": [
    "%matplotlib inline\n",
    "import h5pyd\n",
    "import numpy as np\n",
    "import pandas as pd\n",
    "import matplotlib.pyplot as plt\n",
    "import matplotlib.image as mpimg\n",
    "from scipy.spatial import cKDTree\n",
    "\n",
    "import geopandas as gpd\n",
    "from shapely.geometry import Point"
   ]
  },
  {
   "cell_type": "markdown",
   "metadata": {},
   "source": [
    "## Basic Usage\n",
    "\n",
    "The NSRDB is provided in annual .h5 files and currently spans 1998-2018.  \n",
    "Each year can be accessed from /nrel/nsrdb/nsrdb_${year}.h5"
   ]
  },
  {
   "cell_type": "code",
   "execution_count": 2,
   "metadata": {
    "ExecuteTime": {
     "end_time": "2019-02-06T18:32:02.178393Z",
     "start_time": "2019-02-06T18:32:01.822243Z"
    }
   },
   "outputs": [],
   "source": [
    "# Open the desired year of nsrdb data\n",
    "# server endpoint, username, password is found via a config file\n",
    "f = h5pyd.File(\"/nrel/nsrdb/v3/nsrdb_2019.h5\", 'r')"
   ]
  },
  {
   "cell_type": "code",
   "execution_count": 3,
   "metadata": {
    "ExecuteTime": {
     "end_time": "2019-02-06T18:32:04.318312Z",
     "start_time": "2019-02-06T18:32:03.824155Z"
    }
   },
   "outputs": [
    {
     "data": {
      "text/plain": [
       "['version']"
      ]
     },
     "execution_count": 3,
     "metadata": {},
     "output_type": "execute_result"
    }
   ],
   "source": [
    "list(f.attrs)  # list attributes belonging to the root group"
   ]
  },
  {
   "cell_type": "code",
   "execution_count": 4,
   "metadata": {
    "ExecuteTime": {
     "end_time": "2019-02-06T18:32:09.277364Z",
     "start_time": "2019-02-06T18:32:09.032427Z"
    }
   },
   "outputs": [
    {
     "data": {
      "text/plain": [
       "'3.1.1'"
      ]
     },
     "execution_count": 4,
     "metadata": {},
     "output_type": "execute_result"
    }
   ],
   "source": [
    "f.attrs['version']   # attributes can be used to provide desriptions of the content"
   ]
  },
  {
   "cell_type": "code",
   "execution_count": 5,
   "metadata": {},
   "outputs": [
    {
     "data": {
      "text/plain": [
       "['data_source',\n",
       " 'elevation_correction',\n",
       " 'physical_max',\n",
       " 'physical_min',\n",
       " 'psm_scale_factor',\n",
       " 'psm_units',\n",
       " 'scale_factor',\n",
       " 'source_dir',\n",
       " 'spatial_interp_method',\n",
       " 'temporal_interp_method',\n",
       " 'units']"
      ]
     },
     "execution_count": 5,
     "metadata": {},
     "output_type": "execute_result"
    }
   ],
   "source": [
    "list(f['wind_speed'].attrs)"
   ]
  },
  {
   "cell_type": "markdown",
   "metadata": {},
   "source": [
    "## Datasets"
   ]
  },
  {
   "cell_type": "code",
   "execution_count": 6,
   "metadata": {
    "ExecuteTime": {
     "end_time": "2019-02-06T18:33:57.735172Z",
     "start_time": "2019-02-06T18:33:57.373693Z"
    }
   },
   "outputs": [
    {
     "data": {
      "text/plain": [
       "['air_temperature',\n",
       " 'alpha',\n",
       " 'aod',\n",
       " 'asymmetry',\n",
       " 'cld_opd_dcomp',\n",
       " 'cld_reff_dcomp',\n",
       " 'clearsky_dhi',\n",
       " 'clearsky_dni',\n",
       " 'clearsky_ghi',\n",
       " 'cloud_press_acha',\n",
       " 'cloud_type',\n",
       " 'coordinates',\n",
       " 'dew_point',\n",
       " 'dhi',\n",
       " 'dni',\n",
       " 'fill_flag',\n",
       " 'ghi',\n",
       " 'meta',\n",
       " 'ozone',\n",
       " 'relative_humidity',\n",
       " 'solar_zenith_angle',\n",
       " 'ssa',\n",
       " 'surface_albedo',\n",
       " 'surface_pressure',\n",
       " 'time_index',\n",
       " 'total_precipitable_water',\n",
       " 'wind_direction',\n",
       " 'wind_speed']"
      ]
     },
     "execution_count": 6,
     "metadata": {},
     "output_type": "execute_result"
    }
   ],
   "source": [
    "list(f)  # list the datasets in the file"
   ]
  },
  {
   "cell_type": "code",
   "execution_count": 7,
   "metadata": {
    "ExecuteTime": {
     "end_time": "2019-02-06T18:34:32.751989Z",
     "start_time": "2019-02-06T18:34:32.630250Z"
    }
   },
   "outputs": [
    {
     "data": {
      "text/plain": [
       "(17520, 2018392)"
      ]
     },
     "execution_count": 7,
     "metadata": {},
     "output_type": "execute_result"
    }
   ],
   "source": [
    "# Datasets are stored in a 2d array of time x location\n",
    "dset = f['ghi']\n",
    "dset.shape"
   ]
  },
  {
   "cell_type": "code",
   "execution_count": 8,
   "metadata": {
    "ExecuteTime": {
     "end_time": "2019-02-06T18:45:17.972025Z",
     "start_time": "2019-02-06T18:45:17.286944Z"
    }
   },
   "outputs": [
    {
     "data": {
      "text/plain": [
       "DatetimeIndex(['2019-01-01 00:00:00', '2019-01-01 00:30:00',\n",
       "               '2019-01-01 01:00:00', '2019-01-01 01:30:00',\n",
       "               '2019-01-01 02:00:00', '2019-01-01 02:30:00',\n",
       "               '2019-01-01 03:00:00', '2019-01-01 03:30:00',\n",
       "               '2019-01-01 04:00:00', '2019-01-01 04:30:00',\n",
       "               ...\n",
       "               '2019-12-31 19:00:00', '2019-12-31 19:30:00',\n",
       "               '2019-12-31 20:00:00', '2019-12-31 20:30:00',\n",
       "               '2019-12-31 21:00:00', '2019-12-31 21:30:00',\n",
       "               '2019-12-31 22:00:00', '2019-12-31 22:30:00',\n",
       "               '2019-12-31 23:00:00', '2019-12-31 23:30:00'],\n",
       "              dtype='datetime64[ns]', length=17520, freq=None)"
      ]
     },
     "execution_count": 8,
     "metadata": {},
     "output_type": "execute_result"
    }
   ],
   "source": [
    "# Extract datetime index for datasets\n",
    "time_index = pd.to_datetime(f['time_index'][...].astype(str))\n",
    "time_index # Temporal resolution is 30min"
   ]
  },
  {
   "cell_type": "code",
   "execution_count": 9,
   "metadata": {
    "ExecuteTime": {
     "end_time": "2019-02-06T18:46:51.882658Z",
     "start_time": "2019-02-06T18:46:06.078162Z"
    }
   },
   "outputs": [
    {
     "data": {
      "text/html": [
       "<div>\n",
       "<style scoped>\n",
       "    .dataframe tbody tr th:only-of-type {\n",
       "        vertical-align: middle;\n",
       "    }\n",
       "\n",
       "    .dataframe tbody tr th {\n",
       "        vertical-align: top;\n",
       "    }\n",
       "\n",
       "    .dataframe thead th {\n",
       "        text-align: right;\n",
       "    }\n",
       "</style>\n",
       "<table border=\"1\" class=\"dataframe\">\n",
       "  <thead>\n",
       "    <tr style=\"text-align: right;\">\n",
       "      <th></th>\n",
       "      <th>latitude</th>\n",
       "      <th>longitude</th>\n",
       "      <th>elevation</th>\n",
       "      <th>timezone</th>\n",
       "      <th>country</th>\n",
       "      <th>state</th>\n",
       "      <th>county</th>\n",
       "      <th>urban</th>\n",
       "      <th>population</th>\n",
       "      <th>landcover</th>\n",
       "    </tr>\n",
       "  </thead>\n",
       "  <tbody>\n",
       "    <tr>\n",
       "      <th>0</th>\n",
       "      <td>-19.99</td>\n",
       "      <td>-175.259995</td>\n",
       "      <td>0.0</td>\n",
       "      <td>13</td>\n",
       "      <td>b'None'</td>\n",
       "      <td>b'None'</td>\n",
       "      <td>b'None'</td>\n",
       "      <td>b'None'</td>\n",
       "      <td>-9999</td>\n",
       "      <td>210</td>\n",
       "    </tr>\n",
       "    <tr>\n",
       "      <th>1</th>\n",
       "      <td>-19.99</td>\n",
       "      <td>-175.220001</td>\n",
       "      <td>0.0</td>\n",
       "      <td>13</td>\n",
       "      <td>b'None'</td>\n",
       "      <td>b'None'</td>\n",
       "      <td>b'None'</td>\n",
       "      <td>b'None'</td>\n",
       "      <td>-9999</td>\n",
       "      <td>210</td>\n",
       "    </tr>\n",
       "    <tr>\n",
       "      <th>2</th>\n",
       "      <td>-19.99</td>\n",
       "      <td>-175.179993</td>\n",
       "      <td>0.0</td>\n",
       "      <td>13</td>\n",
       "      <td>b'None'</td>\n",
       "      <td>b'None'</td>\n",
       "      <td>b'None'</td>\n",
       "      <td>b'None'</td>\n",
       "      <td>-9999</td>\n",
       "      <td>210</td>\n",
       "    </tr>\n",
       "    <tr>\n",
       "      <th>3</th>\n",
       "      <td>-19.99</td>\n",
       "      <td>-175.139999</td>\n",
       "      <td>0.0</td>\n",
       "      <td>13</td>\n",
       "      <td>b'None'</td>\n",
       "      <td>b'None'</td>\n",
       "      <td>b'None'</td>\n",
       "      <td>b'None'</td>\n",
       "      <td>-9999</td>\n",
       "      <td>210</td>\n",
       "    </tr>\n",
       "    <tr>\n",
       "      <th>4</th>\n",
       "      <td>-19.99</td>\n",
       "      <td>-175.100006</td>\n",
       "      <td>0.0</td>\n",
       "      <td>13</td>\n",
       "      <td>b'None'</td>\n",
       "      <td>b'None'</td>\n",
       "      <td>b'None'</td>\n",
       "      <td>b'None'</td>\n",
       "      <td>-9999</td>\n",
       "      <td>210</td>\n",
       "    </tr>\n",
       "  </tbody>\n",
       "</table>\n",
       "</div>"
      ],
      "text/plain": [
       "   latitude   longitude  elevation  timezone  country    state   county  \\\n",
       "0    -19.99 -175.259995        0.0        13  b'None'  b'None'  b'None'   \n",
       "1    -19.99 -175.220001        0.0        13  b'None'  b'None'  b'None'   \n",
       "2    -19.99 -175.179993        0.0        13  b'None'  b'None'  b'None'   \n",
       "3    -19.99 -175.139999        0.0        13  b'None'  b'None'  b'None'   \n",
       "4    -19.99 -175.100006        0.0        13  b'None'  b'None'  b'None'   \n",
       "\n",
       "     urban  population  landcover  \n",
       "0  b'None'       -9999        210  \n",
       "1  b'None'       -9999        210  \n",
       "2  b'None'       -9999        210  \n",
       "3  b'None'       -9999        210  \n",
       "4  b'None'       -9999        210  "
      ]
     },
     "execution_count": 9,
     "metadata": {},
     "output_type": "execute_result"
    }
   ],
   "source": [
    "# Locational information is stored in either 'meta' or 'coordinates'\n",
    "meta = pd.DataFrame(f['meta'][...])\n",
    "meta.head()"
   ]
  },
  {
   "cell_type": "code",
   "execution_count": 10,
   "metadata": {},
   "outputs": [
    {
     "data": {
      "text/html": [
       "<div>\n",
       "<style scoped>\n",
       "    .dataframe tbody tr th:only-of-type {\n",
       "        vertical-align: middle;\n",
       "    }\n",
       "\n",
       "    .dataframe tbody tr th {\n",
       "        vertical-align: top;\n",
       "    }\n",
       "\n",
       "    .dataframe thead th {\n",
       "        text-align: right;\n",
       "    }\n",
       "</style>\n",
       "<table border=\"1\" class=\"dataframe\">\n",
       "  <thead>\n",
       "    <tr style=\"text-align: right;\">\n",
       "      <th></th>\n",
       "      <th>latitude</th>\n",
       "      <th>longitude</th>\n",
       "      <th>elevation</th>\n",
       "      <th>timezone</th>\n",
       "      <th>country</th>\n",
       "      <th>state</th>\n",
       "      <th>county</th>\n",
       "      <th>urban</th>\n",
       "      <th>population</th>\n",
       "      <th>landcover</th>\n",
       "    </tr>\n",
       "  </thead>\n",
       "  <tbody>\n",
       "    <tr>\n",
       "      <th>1440562</th>\n",
       "      <td>18.090000</td>\n",
       "      <td>-67.900002</td>\n",
       "      <td>66.000000</td>\n",
       "      <td>-4</td>\n",
       "      <td>b'Puerto Rico'</td>\n",
       "      <td>b'PRI-00 (Puerto Rico aggregatio'</td>\n",
       "      <td>b'None'</td>\n",
       "      <td>b'None'</td>\n",
       "      <td>0</td>\n",
       "      <td>120</td>\n",
       "    </tr>\n",
       "    <tr>\n",
       "      <th>1441326</th>\n",
       "      <td>18.090000</td>\n",
       "      <td>-67.860001</td>\n",
       "      <td>48.250000</td>\n",
       "      <td>-4</td>\n",
       "      <td>b'Puerto Rico'</td>\n",
       "      <td>b'PRI-00 (Puerto Rico aggregatio'</td>\n",
       "      <td>b'None'</td>\n",
       "      <td>b'None'</td>\n",
       "      <td>3</td>\n",
       "      <td>20</td>\n",
       "    </tr>\n",
       "    <tr>\n",
       "      <th>1459759</th>\n",
       "      <td>18.370001</td>\n",
       "      <td>-67.220001</td>\n",
       "      <td>18.684210</td>\n",
       "      <td>-4</td>\n",
       "      <td>b'Puerto Rico'</td>\n",
       "      <td>b'PRI-00 (Puerto Rico aggregatio'</td>\n",
       "      <td>b'None'</td>\n",
       "      <td>b'Mayaguez'</td>\n",
       "      <td>5454</td>\n",
       "      <td>30</td>\n",
       "    </tr>\n",
       "    <tr>\n",
       "      <th>1460550</th>\n",
       "      <td>18.330000</td>\n",
       "      <td>-67.220001</td>\n",
       "      <td>74.949997</td>\n",
       "      <td>-4</td>\n",
       "      <td>b'Puerto Rico'</td>\n",
       "      <td>b'PRI-00 (Puerto Rico aggregatio'</td>\n",
       "      <td>b'None'</td>\n",
       "      <td>b'Mayaguez'</td>\n",
       "      <td>5684</td>\n",
       "      <td>30</td>\n",
       "    </tr>\n",
       "    <tr>\n",
       "      <th>1460837</th>\n",
       "      <td>18.330000</td>\n",
       "      <td>-67.180000</td>\n",
       "      <td>159.199997</td>\n",
       "      <td>-4</td>\n",
       "      <td>b'Puerto Rico'</td>\n",
       "      <td>b'PRI-00 (Puerto Rico aggregatio'</td>\n",
       "      <td>b'None'</td>\n",
       "      <td>b'Mayaguez'</td>\n",
       "      <td>7397</td>\n",
       "      <td>30</td>\n",
       "    </tr>\n",
       "    <tr>\n",
       "      <th>...</th>\n",
       "      <td>...</td>\n",
       "      <td>...</td>\n",
       "      <td>...</td>\n",
       "      <td>...</td>\n",
       "      <td>...</td>\n",
       "      <td>...</td>\n",
       "      <td>...</td>\n",
       "      <td>...</td>\n",
       "      <td>...</td>\n",
       "      <td>...</td>\n",
       "    </tr>\n",
       "    <tr>\n",
       "      <th>1512413</th>\n",
       "      <td>18.129999</td>\n",
       "      <td>-65.459999</td>\n",
       "      <td>55.882355</td>\n",
       "      <td>-4</td>\n",
       "      <td>b'Puerto Rico'</td>\n",
       "      <td>b'PRI-00 (Puerto Rico aggregatio'</td>\n",
       "      <td>b'None'</td>\n",
       "      <td>b'None'</td>\n",
       "      <td>4533</td>\n",
       "      <td>30</td>\n",
       "    </tr>\n",
       "    <tr>\n",
       "      <th>1514045</th>\n",
       "      <td>18.129999</td>\n",
       "      <td>-65.419998</td>\n",
       "      <td>55.799999</td>\n",
       "      <td>-4</td>\n",
       "      <td>b'Puerto Rico'</td>\n",
       "      <td>b'PRI-00 (Puerto Rico aggregatio'</td>\n",
       "      <td>b'None'</td>\n",
       "      <td>b'None'</td>\n",
       "      <td>2055</td>\n",
       "      <td>40</td>\n",
       "    </tr>\n",
       "    <tr>\n",
       "      <th>1515288</th>\n",
       "      <td>18.129999</td>\n",
       "      <td>-65.379997</td>\n",
       "      <td>33.200001</td>\n",
       "      <td>-4</td>\n",
       "      <td>b'Puerto Rico'</td>\n",
       "      <td>b'PRI-00 (Puerto Rico aggregatio'</td>\n",
       "      <td>b'None'</td>\n",
       "      <td>b'None'</td>\n",
       "      <td>35</td>\n",
       "      <td>40</td>\n",
       "    </tr>\n",
       "    <tr>\n",
       "      <th>1516882</th>\n",
       "      <td>18.129999</td>\n",
       "      <td>-65.339996</td>\n",
       "      <td>26.176470</td>\n",
       "      <td>-4</td>\n",
       "      <td>b'Puerto Rico'</td>\n",
       "      <td>b'PRI-00 (Puerto Rico aggregatio'</td>\n",
       "      <td>b'None'</td>\n",
       "      <td>b'None'</td>\n",
       "      <td>0</td>\n",
       "      <td>210</td>\n",
       "    </tr>\n",
       "    <tr>\n",
       "      <th>1517812</th>\n",
       "      <td>18.330000</td>\n",
       "      <td>-65.300003</td>\n",
       "      <td>73.000000</td>\n",
       "      <td>-4</td>\n",
       "      <td>b'Puerto Rico'</td>\n",
       "      <td>b'PRI-00 (Puerto Rico aggregatio'</td>\n",
       "      <td>b'None'</td>\n",
       "      <td>b'None'</td>\n",
       "      <td>135</td>\n",
       "      <td>210</td>\n",
       "    </tr>\n",
       "  </tbody>\n",
       "</table>\n",
       "<p>475 rows × 10 columns</p>\n",
       "</div>"
      ],
      "text/plain": [
       "          latitude  longitude   elevation  timezone         country  \\\n",
       "1440562  18.090000 -67.900002   66.000000        -4  b'Puerto Rico'   \n",
       "1441326  18.090000 -67.860001   48.250000        -4  b'Puerto Rico'   \n",
       "1459759  18.370001 -67.220001   18.684210        -4  b'Puerto Rico'   \n",
       "1460550  18.330000 -67.220001   74.949997        -4  b'Puerto Rico'   \n",
       "1460837  18.330000 -67.180000  159.199997        -4  b'Puerto Rico'   \n",
       "...            ...        ...         ...       ...             ...   \n",
       "1512413  18.129999 -65.459999   55.882355        -4  b'Puerto Rico'   \n",
       "1514045  18.129999 -65.419998   55.799999        -4  b'Puerto Rico'   \n",
       "1515288  18.129999 -65.379997   33.200001        -4  b'Puerto Rico'   \n",
       "1516882  18.129999 -65.339996   26.176470        -4  b'Puerto Rico'   \n",
       "1517812  18.330000 -65.300003   73.000000        -4  b'Puerto Rico'   \n",
       "\n",
       "                                     state   county        urban  population  \\\n",
       "1440562  b'PRI-00 (Puerto Rico aggregatio'  b'None'      b'None'           0   \n",
       "1441326  b'PRI-00 (Puerto Rico aggregatio'  b'None'      b'None'           3   \n",
       "1459759  b'PRI-00 (Puerto Rico aggregatio'  b'None'  b'Mayaguez'        5454   \n",
       "1460550  b'PRI-00 (Puerto Rico aggregatio'  b'None'  b'Mayaguez'        5684   \n",
       "1460837  b'PRI-00 (Puerto Rico aggregatio'  b'None'  b'Mayaguez'        7397   \n",
       "...                                    ...      ...          ...         ...   \n",
       "1512413  b'PRI-00 (Puerto Rico aggregatio'  b'None'      b'None'        4533   \n",
       "1514045  b'PRI-00 (Puerto Rico aggregatio'  b'None'      b'None'        2055   \n",
       "1515288  b'PRI-00 (Puerto Rico aggregatio'  b'None'      b'None'          35   \n",
       "1516882  b'PRI-00 (Puerto Rico aggregatio'  b'None'      b'None'           0   \n",
       "1517812  b'PRI-00 (Puerto Rico aggregatio'  b'None'      b'None'         135   \n",
       "\n",
       "         landcover  \n",
       "1440562        120  \n",
       "1441326         20  \n",
       "1459759         30  \n",
       "1460550         30  \n",
       "1460837         30  \n",
       "...            ...  \n",
       "1512413         30  \n",
       "1514045         40  \n",
       "1515288         40  \n",
       "1516882        210  \n",
       "1517812        210  \n",
       "\n",
       "[475 rows x 10 columns]"
      ]
     },
     "execution_count": 10,
     "metadata": {},
     "output_type": "execute_result"
    }
   ],
   "source": [
    "meta[meta.state == b'PRI-00 (Puerto Rico aggregatio']"
   ]
  },
  {
   "cell_type": "code",
   "execution_count": 11,
   "metadata": {
    "ExecuteTime": {
     "end_time": "2019-02-06T18:47:46.899747Z",
     "start_time": "2019-02-06T18:47:46.896662Z"
    }
   },
   "outputs": [
    {
     "data": {
      "text/plain": [
       "dtype('uint16')"
      ]
     },
     "execution_count": 11,
     "metadata": {},
     "output_type": "execute_result"
    }
   ],
   "source": [
    "# Datasets have been saved as integers\n",
    "dset.dtype"
   ]
  },
  {
   "cell_type": "code",
   "execution_count": 12,
   "metadata": {
    "ExecuteTime": {
     "end_time": "2019-02-06T18:47:51.066179Z",
     "start_time": "2019-02-06T18:47:51.062426Z"
    }
   },
   "outputs": [
    {
     "data": {
      "text/plain": [
       "70.72445568"
      ]
     },
     "execution_count": 12,
     "metadata": {},
     "output_type": "execute_result"
    }
   ],
   "source": [
    "dset.shape[0] * dset.shape[1] * 2 * 10**-9 # 70 GB per dataset!"
   ]
  },
  {
   "cell_type": "code",
   "execution_count": 13,
   "metadata": {
    "ExecuteTime": {
     "end_time": "2019-02-06T18:47:57.377851Z",
     "start_time": "2019-02-06T18:47:57.374273Z"
    }
   },
   "outputs": [
    {
     "data": {
      "text/plain": [
       "(2688, 372)"
      ]
     },
     "execution_count": 13,
     "metadata": {},
     "output_type": "execute_result"
    }
   ],
   "source": [
    "dset.chunks # Chunked by week"
   ]
  },
  {
   "cell_type": "code",
   "execution_count": 14,
   "metadata": {
    "ExecuteTime": {
     "end_time": "2019-02-06T18:47:58.010112Z",
     "start_time": "2019-02-06T18:47:58.005677Z"
    }
   },
   "outputs": [
    {
     "data": {
      "text/plain": [
       "1.9998719999999999"
      ]
     },
     "execution_count": 14,
     "metadata": {},
     "output_type": "execute_result"
    }
   ],
   "source": [
    "dset.chunks[0] * dset.chunks[1] * 2 * 10**-6 # 2 MB per chunk"
   ]
  },
  {
   "cell_type": "code",
   "execution_count": 15,
   "metadata": {
    "ExecuteTime": {
     "end_time": "2019-02-06T18:49:17.786073Z",
     "start_time": "2019-02-06T18:49:17.671184Z"
    }
   },
   "outputs": [
    {
     "data": {
      "text/plain": [
       "1.0"
      ]
     },
     "execution_count": 15,
     "metadata": {},
     "output_type": "execute_result"
    }
   ],
   "source": [
    "# To convert dataset values back to floats use the 'psm_scale_factor'\n",
    "dset.attrs['psm_scale_factor'] # Irradiance values have been truncated to integer precision"
   ]
  },
  {
   "cell_type": "code",
   "execution_count": 16,
   "metadata": {
    "ExecuteTime": {
     "end_time": "2019-02-06T18:52:13.089310Z",
     "start_time": "2019-02-06T18:52:12.342907Z"
    }
   },
   "outputs": [
    {
     "name": "stdout",
     "output_type": "stream",
     "text": [
      "wind_speed scale factor =  10.0\n"
     ]
    },
    {
     "data": {
      "text/plain": [
       "5.1"
      ]
     },
     "execution_count": 16,
     "metadata": {},
     "output_type": "execute_result"
    }
   ],
   "source": [
    "# wind speed on the other hand has single decimal percision when scaled by 10\n",
    "scale_factor = f['wind_speed'].attrs['psm_scale_factor']\n",
    "units = f['wind_speed'].attrs['psm_units']\n",
    "print('wind_speed scale factor = ', scale_factor)\n",
    "# print('wind_speed units after unscaling = ', units)\n",
    "f['wind_speed'][0, 0] / scale_factor # divide by scale_factor to return native value"
   ]
  },
  {
   "cell_type": "markdown",
   "metadata": {},
   "source": [
    "## Time-slicing"
   ]
  },
  {
   "cell_type": "markdown",
   "metadata": {},
   "source": [
    "Get the time_index from the server and convert to a pandas DatetimeIndex for convenience:"
   ]
  },
  {
   "cell_type": "code",
   "execution_count": 17,
   "metadata": {
    "ExecuteTime": {
     "end_time": "2019-02-06T18:57:48.925869Z",
     "start_time": "2019-02-06T18:57:47.990623Z"
    }
   },
   "outputs": [
    {
     "data": {
      "text/plain": [
       "DatetimeIndex(['2019-01-01 00:00:00', '2019-01-01 00:30:00',\n",
       "               '2019-01-01 01:00:00', '2019-01-01 01:30:00',\n",
       "               '2019-01-01 02:00:00', '2019-01-01 02:30:00',\n",
       "               '2019-01-01 03:00:00', '2019-01-01 03:30:00',\n",
       "               '2019-01-01 04:00:00', '2019-01-01 04:30:00',\n",
       "               ...\n",
       "               '2019-12-31 19:00:00', '2019-12-31 19:30:00',\n",
       "               '2019-12-31 20:00:00', '2019-12-31 20:30:00',\n",
       "               '2019-12-31 21:00:00', '2019-12-31 21:30:00',\n",
       "               '2019-12-31 22:00:00', '2019-12-31 22:30:00',\n",
       "               '2019-12-31 23:00:00', '2019-12-31 23:30:00'],\n",
       "              dtype='datetime64[ns]', length=17520, freq=None)"
      ]
     },
     "execution_count": 17,
     "metadata": {},
     "output_type": "execute_result"
    }
   ],
   "source": [
    "time_index = pd.to_datetime(f['time_index'][...].astype(str))\n",
    "time_index"
   ]
  },
  {
   "cell_type": "markdown",
   "metadata": {},
   "source": [
    "Extract indexes for a particular span of time:"
   ]
  },
  {
   "cell_type": "code",
   "execution_count": 18,
   "metadata": {
    "ExecuteTime": {
     "end_time": "2019-02-06T19:00:14.646068Z",
     "start_time": "2019-02-06T19:00:14.641059Z"
    }
   },
   "outputs": [
    {
     "data": {
      "text/plain": [
       "array([2832, 2833, 2834, ..., 4317, 4318, 4319])"
      ]
     },
     "execution_count": 18,
     "metadata": {},
     "output_type": "execute_result"
    }
   ],
   "source": [
    "march = time_index.month == 3\n",
    "np.where(march)[0]"
   ]
  },
  {
   "cell_type": "markdown",
   "metadata": {},
   "source": [
    "Or a particular date:"
   ]
  },
  {
   "cell_type": "code",
   "execution_count": 19,
   "metadata": {
    "ExecuteTime": {
     "end_time": "2019-02-06T19:16:18.978254Z",
     "start_time": "2019-02-06T19:16:18.973874Z"
    }
   },
   "outputs": [
    {
     "data": {
      "text/plain": [
       "8832"
      ]
     },
     "execution_count": 19,
     "metadata": {},
     "output_type": "execute_result"
    }
   ],
   "source": [
    "timestep = np.where(time_index == '2019-07-04 00:00:00')[0][0]\n",
    "timestep"
   ]
  },
  {
   "cell_type": "markdown",
   "metadata": {},
   "source": [
    "## Map Data"
   ]
  },
  {
   "cell_type": "code",
   "execution_count": 20,
   "metadata": {
    "ExecuteTime": {
     "end_time": "2019-02-06T19:16:28.086246Z",
     "start_time": "2019-02-06T19:16:24.814153Z"
    }
   },
   "outputs": [
    {
     "name": "stdout",
     "output_type": "stream",
     "text": [
      "{'description': '(latitude, longitude)'}\n"
     ]
    }
   ],
   "source": [
    "# Extract coordinates (lat, lon)\n",
    "print(dict(f['coordinates'].attrs))\n",
    "coords = f['coordinates'][...]"
   ]
  },
  {
   "cell_type": "code",
   "execution_count": 29,
   "metadata": {
    "ExecuteTime": {
     "end_time": "2019-02-06T19:30:40.930339Z",
     "start_time": "2019-02-06T19:30:37.902430Z"
    }
   },
   "outputs": [
    {
     "name": "stdout",
     "output_type": "stream",
     "text": [
      "CPU times: user 37.4 ms, sys: 0 ns, total: 37.4 ms\n",
      "Wall time: 1min 1s\n"
     ]
    }
   ],
   "source": [
    "dset = f['ghi']"
   ]
  },
  {
   "cell_type": "code",
   "execution_count": 32,
   "metadata": {},
   "outputs": [
    {
     "name": "stdout",
     "output_type": "stream",
     "text": [
      "CPU times: user 11.5 ms, sys: 1.51 ms, total: 13 ms\n",
      "Wall time: 40.2 s\n"
     ]
    }
   ],
   "source": [
    "%time data = dset[timestep, ::10]   # extract every 10th location at a particular time\n",
    "df = pd.DataFrame() # Combine data with coordinates in a DataFrame\n",
    "df['longitude'] = coords[::10, 1]\n",
    "df['latitude'] = coords[::10, 0]\n",
    "df['ghi'] = data"
   ]
  },
  {
   "cell_type": "code",
   "execution_count": 33,
   "metadata": {},
   "outputs": [
    {
     "data": {
      "text/html": [
       "<div>\n",
       "<style scoped>\n",
       "    .dataframe tbody tr th:only-of-type {\n",
       "        vertical-align: middle;\n",
       "    }\n",
       "\n",
       "    .dataframe tbody tr th {\n",
       "        vertical-align: top;\n",
       "    }\n",
       "\n",
       "    .dataframe thead th {\n",
       "        text-align: right;\n",
       "    }\n",
       "</style>\n",
       "<table border=\"1\" class=\"dataframe\">\n",
       "  <thead>\n",
       "    <tr style=\"text-align: right;\">\n",
       "      <th></th>\n",
       "      <th>longitude</th>\n",
       "      <th>latitude</th>\n",
       "      <th>ghi</th>\n",
       "    </tr>\n",
       "  </thead>\n",
       "  <tbody>\n",
       "    <tr>\n",
       "      <th>0</th>\n",
       "      <td>-175.259995</td>\n",
       "      <td>-19.990000</td>\n",
       "      <td>375</td>\n",
       "    </tr>\n",
       "    <tr>\n",
       "      <th>1</th>\n",
       "      <td>-174.860001</td>\n",
       "      <td>-19.990000</td>\n",
       "      <td>497</td>\n",
       "    </tr>\n",
       "    <tr>\n",
       "      <th>2</th>\n",
       "      <td>-174.179993</td>\n",
       "      <td>-19.990000</td>\n",
       "      <td>442</td>\n",
       "    </tr>\n",
       "    <tr>\n",
       "      <th>3</th>\n",
       "      <td>-158.139999</td>\n",
       "      <td>-19.990000</td>\n",
       "      <td>389</td>\n",
       "    </tr>\n",
       "    <tr>\n",
       "      <th>4</th>\n",
       "      <td>-157.740005</td>\n",
       "      <td>-19.990000</td>\n",
       "      <td>446</td>\n",
       "    </tr>\n",
       "    <tr>\n",
       "      <th>...</th>\n",
       "      <td>...</td>\n",
       "      <td>...</td>\n",
       "      <td>...</td>\n",
       "    </tr>\n",
       "    <tr>\n",
       "      <th>201835</th>\n",
       "      <td>179.740005</td>\n",
       "      <td>51.930000</td>\n",
       "      <td>0</td>\n",
       "    </tr>\n",
       "    <tr>\n",
       "      <th>201836</th>\n",
       "      <td>179.779999</td>\n",
       "      <td>52.009998</td>\n",
       "      <td>0</td>\n",
       "    </tr>\n",
       "    <tr>\n",
       "      <th>201837</th>\n",
       "      <td>179.779999</td>\n",
       "      <td>52.169998</td>\n",
       "      <td>0</td>\n",
       "    </tr>\n",
       "    <tr>\n",
       "      <th>201838</th>\n",
       "      <td>179.820007</td>\n",
       "      <td>51.689999</td>\n",
       "      <td>0</td>\n",
       "    </tr>\n",
       "    <tr>\n",
       "      <th>201839</th>\n",
       "      <td>179.860001</td>\n",
       "      <td>51.770000</td>\n",
       "      <td>0</td>\n",
       "    </tr>\n",
       "  </tbody>\n",
       "</table>\n",
       "<p>201840 rows × 3 columns</p>\n",
       "</div>"
      ],
      "text/plain": [
       "         longitude   latitude  ghi\n",
       "0      -175.259995 -19.990000  375\n",
       "1      -174.860001 -19.990000  497\n",
       "2      -174.179993 -19.990000  442\n",
       "3      -158.139999 -19.990000  389\n",
       "4      -157.740005 -19.990000  446\n",
       "...            ...        ...  ...\n",
       "201835  179.740005  51.930000    0\n",
       "201836  179.779999  52.009998    0\n",
       "201837  179.779999  52.169998    0\n",
       "201838  179.820007  51.689999    0\n",
       "201839  179.860001  51.770000    0\n",
       "\n",
       "[201840 rows x 3 columns]"
      ]
     },
     "execution_count": 33,
     "metadata": {},
     "output_type": "execute_result"
    }
   ],
   "source": [
    "df"
   ]
  },
  {
   "cell_type": "code",
   "execution_count": 35,
   "metadata": {
    "ExecuteTime": {
     "end_time": "2019-02-06T19:30:50.703645Z",
     "start_time": "2019-02-06T19:30:44.870411Z"
    }
   },
   "outputs": [
    {
     "data": {
      "image/png": "[encoded data removed]",
      "text/plain": [
       "<Figure size 640x480 with 2 Axes>"
      ]
     },
     "metadata": {},
     "output_type": "display_data"
    }
   ],
   "source": [
    "df.plot.scatter(x='longitude', y='latitude', c='ghi',\n",
    "                colormap='YlOrRd',\n",
    "                title=str(time_index[timestep]))\n",
    "plt.xlim([-69,-65])\n",
    "plt.ylim([15,20])\n",
    "plt.show()"
   ]
  },
  {
   "cell_type": "code",
   "execution_count": 36,
   "metadata": {
    "ExecuteTime": {
     "end_time": "2019-02-06T19:38:03.467178Z",
     "start_time": "2019-02-06T19:38:03.343285Z"
    }
   },
   "outputs": [
    {
     "data": {
      "text/html": [
       "<div>\n",
       "<style scoped>\n",
       "    .dataframe tbody tr th:only-of-type {\n",
       "        vertical-align: middle;\n",
       "    }\n",
       "\n",
       "    .dataframe tbody tr th {\n",
       "        vertical-align: top;\n",
       "    }\n",
       "\n",
       "    .dataframe thead th {\n",
       "        text-align: right;\n",
       "    }\n",
       "</style>\n",
       "<table border=\"1\" class=\"dataframe\">\n",
       "  <thead>\n",
       "    <tr style=\"text-align: right;\">\n",
       "      <th></th>\n",
       "      <th>latitude</th>\n",
       "      <th>longitude</th>\n",
       "      <th>elevation</th>\n",
       "      <th>timezone</th>\n",
       "      <th>country</th>\n",
       "      <th>state</th>\n",
       "      <th>county</th>\n",
       "      <th>urban</th>\n",
       "      <th>population</th>\n",
       "      <th>landcover</th>\n",
       "    </tr>\n",
       "  </thead>\n",
       "  <tbody>\n",
       "    <tr>\n",
       "      <th>70276</th>\n",
       "      <td>32.529999</td>\n",
       "      <td>-117.099998</td>\n",
       "      <td>55.062500</td>\n",
       "      <td>-8</td>\n",
       "      <td>b'United States'</td>\n",
       "      <td>b'California'</td>\n",
       "      <td>b'San Diego'</td>\n",
       "      <td>b'None'</td>\n",
       "      <td>32326</td>\n",
       "      <td>130</td>\n",
       "    </tr>\n",
       "    <tr>\n",
       "      <th>70588</th>\n",
       "      <td>32.570000</td>\n",
       "      <td>-117.099998</td>\n",
       "      <td>7.100000</td>\n",
       "      <td>-8</td>\n",
       "      <td>b'United States'</td>\n",
       "      <td>b'California'</td>\n",
       "      <td>b'San Diego'</td>\n",
       "      <td>b'Tijuana'</td>\n",
       "      <td>27971</td>\n",
       "      <td>190</td>\n",
       "    </tr>\n",
       "    <tr>\n",
       "      <th>70589</th>\n",
       "      <td>32.570000</td>\n",
       "      <td>-117.059998</td>\n",
       "      <td>24.920000</td>\n",
       "      <td>-8</td>\n",
       "      <td>b'United States'</td>\n",
       "      <td>b'California'</td>\n",
       "      <td>b'San Diego'</td>\n",
       "      <td>b'Tijuana'</td>\n",
       "      <td>51608</td>\n",
       "      <td>190</td>\n",
       "    </tr>\n",
       "    <tr>\n",
       "      <th>70590</th>\n",
       "      <td>32.570000</td>\n",
       "      <td>-117.019997</td>\n",
       "      <td>96.599998</td>\n",
       "      <td>-8</td>\n",
       "      <td>b'United States'</td>\n",
       "      <td>b'California'</td>\n",
       "      <td>b'San Diego'</td>\n",
       "      <td>b'Tijuana'</td>\n",
       "      <td>15236</td>\n",
       "      <td>110</td>\n",
       "    </tr>\n",
       "    <tr>\n",
       "      <th>70591</th>\n",
       "      <td>32.570000</td>\n",
       "      <td>-116.980003</td>\n",
       "      <td>140.600006</td>\n",
       "      <td>-8</td>\n",
       "      <td>b'United States'</td>\n",
       "      <td>b'California'</td>\n",
       "      <td>b'San Diego'</td>\n",
       "      <td>b'Tijuana'</td>\n",
       "      <td>2949</td>\n",
       "      <td>130</td>\n",
       "    </tr>\n",
       "  </tbody>\n",
       "</table>\n",
       "</div>"
      ],
      "text/plain": [
       "        latitude   longitude   elevation  timezone           country  \\\n",
       "70276  32.529999 -117.099998   55.062500        -8  b'United States'   \n",
       "70588  32.570000 -117.099998    7.100000        -8  b'United States'   \n",
       "70589  32.570000 -117.059998   24.920000        -8  b'United States'   \n",
       "70590  32.570000 -117.019997   96.599998        -8  b'United States'   \n",
       "70591  32.570000 -116.980003  140.600006        -8  b'United States'   \n",
       "\n",
       "               state        county       urban  population  landcover  \n",
       "70276  b'California'  b'San Diego'     b'None'       32326        130  \n",
       "70588  b'California'  b'San Diego'  b'Tijuana'       27971        190  \n",
       "70589  b'California'  b'San Diego'  b'Tijuana'       51608        190  \n",
       "70590  b'California'  b'San Diego'  b'Tijuana'       15236        110  \n",
       "70591  b'California'  b'San Diego'  b'Tijuana'        2949        130  "
      ]
     },
     "execution_count": 36,
     "metadata": {},
     "output_type": "execute_result"
    }
   ],
   "source": [
    "# Full resolution subset of Colorado\n",
    "meta = pd.DataFrame(f['meta'][...])\n",
    "CA = meta.loc[meta['state'] == b'California'] # Note .h5 saves strings as bit-strings\n",
    "CA.head()"
   ]
  },
  {
   "cell_type": "code",
   "execution_count": 37,
   "metadata": {},
   "outputs": [
    {
     "data": {
      "text/plain": [
       "26010"
      ]
     },
     "execution_count": 37,
     "metadata": {},
     "output_type": "execute_result"
    }
   ],
   "source": [
    "len(CA)"
   ]
  },
  {
   "cell_type": "code",
   "execution_count": 38,
   "metadata": {},
   "outputs": [
    {
     "data": {
      "text/plain": [
       "26010"
      ]
     },
     "execution_count": 38,
     "metadata": {},
     "output_type": "execute_result"
    }
   ],
   "source": [
    "data = dset[timestep][CA.index]\n",
    "len(data)"
   ]
  },
  {
   "cell_type": "code",
   "execution_count": 39,
   "metadata": {},
   "outputs": [
    {
     "data": {
      "text/plain": [
       "201840"
      ]
     },
     "execution_count": 39,
     "metadata": {},
     "output_type": "execute_result"
    }
   ],
   "source": [
    "len(df)"
   ]
  },
  {
   "cell_type": "code",
   "execution_count": 40,
   "metadata": {},
   "outputs": [
    {
     "data": {
      "text/plain": [
       "17520"
      ]
     },
     "execution_count": 40,
     "metadata": {},
     "output_type": "execute_result"
    }
   ],
   "source": [
    "len(dset)"
   ]
  },
  {
   "cell_type": "code",
   "execution_count": 41,
   "metadata": {
    "ExecuteTime": {
     "end_time": "2019-02-06T19:38:14.050394Z",
     "start_time": "2019-02-06T19:38:09.966272Z"
    }
   },
   "outputs": [
    {
     "data": {
      "text/plain": [
       "(26010, 3)"
      ]
     },
     "execution_count": 41,
     "metadata": {},
     "output_type": "execute_result"
    }
   ],
   "source": [
    "# %time data = dset[timestep][CA.index]  # full-resolution subset\n",
    "df = CA[['longitude', 'latitude']].copy()\n",
    "df['ghi'] = data / dset.attrs['psm_scale_factor']\n",
    "df.shape"
   ]
  },
  {
   "cell_type": "code",
   "execution_count": 42,
   "metadata": {},
   "outputs": [
    {
     "data": {
      "text/plain": [
       "array([389, 383, 534, ..., 331, 332, 344], dtype=uint16)"
      ]
     },
     "execution_count": 42,
     "metadata": {},
     "output_type": "execute_result"
    }
   ],
   "source": [
    "data"
   ]
  },
  {
   "cell_type": "code",
   "execution_count": 43,
   "metadata": {
    "ExecuteTime": {
     "end_time": "2019-02-06T19:38:16.260753Z",
     "start_time": "2019-02-06T19:38:15.367784Z"
    }
   },
   "outputs": [
    {
     "data": {
      "image/png": "[encoded data removed]",
      "text/plain": [
       "<Figure size 640x480 with 2 Axes>"
      ]
     },
     "metadata": {},
     "output_type": "display_data"
    }
   ],
   "source": [
    "df.plot.scatter(x='longitude', y='latitude', c='ghi',\n",
    "                colormap='YlOrRd',\n",
    "                title=str(time_index[timestep]))\n",
    "plt.show()"
   ]
  },
  {
   "cell_type": "code",
   "execution_count": 44,
   "metadata": {},
   "outputs": [
    {
     "data": {
      "text/html": [
       "<div>\n",
       "<style scoped>\n",
       "    .dataframe tbody tr th:only-of-type {\n",
       "        vertical-align: middle;\n",
       "    }\n",
       "\n",
       "    .dataframe tbody tr th {\n",
       "        vertical-align: top;\n",
       "    }\n",
       "\n",
       "    .dataframe thead th {\n",
       "        text-align: right;\n",
       "    }\n",
       "</style>\n",
       "<table border=\"1\" class=\"dataframe\">\n",
       "  <thead>\n",
       "    <tr style=\"text-align: right;\">\n",
       "      <th></th>\n",
       "      <th>latitude</th>\n",
       "      <th>longitude</th>\n",
       "      <th>elevation</th>\n",
       "      <th>timezone</th>\n",
       "      <th>country</th>\n",
       "      <th>state</th>\n",
       "      <th>county</th>\n",
       "      <th>urban</th>\n",
       "      <th>population</th>\n",
       "      <th>landcover</th>\n",
       "    </tr>\n",
       "  </thead>\n",
       "  <tbody>\n",
       "    <tr>\n",
       "      <th>1440562</th>\n",
       "      <td>18.090000</td>\n",
       "      <td>-67.900002</td>\n",
       "      <td>66.000000</td>\n",
       "      <td>-4</td>\n",
       "      <td>b'Puerto Rico'</td>\n",
       "      <td>b'PRI-00 (Puerto Rico aggregatio'</td>\n",
       "      <td>b'None'</td>\n",
       "      <td>b'None'</td>\n",
       "      <td>0</td>\n",
       "      <td>120</td>\n",
       "    </tr>\n",
       "    <tr>\n",
       "      <th>1441326</th>\n",
       "      <td>18.090000</td>\n",
       "      <td>-67.860001</td>\n",
       "      <td>48.250000</td>\n",
       "      <td>-4</td>\n",
       "      <td>b'Puerto Rico'</td>\n",
       "      <td>b'PRI-00 (Puerto Rico aggregatio'</td>\n",
       "      <td>b'None'</td>\n",
       "      <td>b'None'</td>\n",
       "      <td>3</td>\n",
       "      <td>20</td>\n",
       "    </tr>\n",
       "    <tr>\n",
       "      <th>1459759</th>\n",
       "      <td>18.370001</td>\n",
       "      <td>-67.220001</td>\n",
       "      <td>18.684210</td>\n",
       "      <td>-4</td>\n",
       "      <td>b'Puerto Rico'</td>\n",
       "      <td>b'PRI-00 (Puerto Rico aggregatio'</td>\n",
       "      <td>b'None'</td>\n",
       "      <td>b'Mayaguez'</td>\n",
       "      <td>5454</td>\n",
       "      <td>30</td>\n",
       "    </tr>\n",
       "    <tr>\n",
       "      <th>1460550</th>\n",
       "      <td>18.330000</td>\n",
       "      <td>-67.220001</td>\n",
       "      <td>74.949997</td>\n",
       "      <td>-4</td>\n",
       "      <td>b'Puerto Rico'</td>\n",
       "      <td>b'PRI-00 (Puerto Rico aggregatio'</td>\n",
       "      <td>b'None'</td>\n",
       "      <td>b'Mayaguez'</td>\n",
       "      <td>5684</td>\n",
       "      <td>30</td>\n",
       "    </tr>\n",
       "    <tr>\n",
       "      <th>1460837</th>\n",
       "      <td>18.330000</td>\n",
       "      <td>-67.180000</td>\n",
       "      <td>159.199997</td>\n",
       "      <td>-4</td>\n",
       "      <td>b'Puerto Rico'</td>\n",
       "      <td>b'PRI-00 (Puerto Rico aggregatio'</td>\n",
       "      <td>b'None'</td>\n",
       "      <td>b'Mayaguez'</td>\n",
       "      <td>7397</td>\n",
       "      <td>30</td>\n",
       "    </tr>\n",
       "  </tbody>\n",
       "</table>\n",
       "</div>"
      ],
      "text/plain": [
       "          latitude  longitude   elevation  timezone         country  \\\n",
       "1440562  18.090000 -67.900002   66.000000        -4  b'Puerto Rico'   \n",
       "1441326  18.090000 -67.860001   48.250000        -4  b'Puerto Rico'   \n",
       "1459759  18.370001 -67.220001   18.684210        -4  b'Puerto Rico'   \n",
       "1460550  18.330000 -67.220001   74.949997        -4  b'Puerto Rico'   \n",
       "1460837  18.330000 -67.180000  159.199997        -4  b'Puerto Rico'   \n",
       "\n",
       "                                     state   county        urban  population  \\\n",
       "1440562  b'PRI-00 (Puerto Rico aggregatio'  b'None'      b'None'           0   \n",
       "1441326  b'PRI-00 (Puerto Rico aggregatio'  b'None'      b'None'           3   \n",
       "1459759  b'PRI-00 (Puerto Rico aggregatio'  b'None'  b'Mayaguez'        5454   \n",
       "1460550  b'PRI-00 (Puerto Rico aggregatio'  b'None'  b'Mayaguez'        5684   \n",
       "1460837  b'PRI-00 (Puerto Rico aggregatio'  b'None'  b'Mayaguez'        7397   \n",
       "\n",
       "         landcover  \n",
       "1440562        120  \n",
       "1441326         20  \n",
       "1459759         30  \n",
       "1460550         30  \n",
       "1460837         30  "
      ]
     },
     "execution_count": 44,
     "metadata": {},
     "output_type": "execute_result"
    }
   ],
   "source": [
    "# Full resolution subset of Colorado\n",
    "#meta = pd.DataFrame(f['meta'][...])\n",
    "PR = meta.loc[meta['state'] == b'PRI-00 (Puerto Rico aggregatio'] # Note .h5 saves strings as bit-strings\n",
    "PR.head()"
   ]
  },
  {
   "cell_type": "code",
   "execution_count": 45,
   "metadata": {},
   "outputs": [
    {
     "data": {
      "text/plain": [
       "Index([1440562, 1441326, 1459759, 1460550, 1460837, 1460839, 1460857, 1460868,\n",
       "       1461437, 1461442,\n",
       "       ...\n",
       "       1506893, 1507692, 1510343, 1511383, 1511384, 1512413, 1514045, 1515288,\n",
       "       1516882, 1517812],\n",
       "      dtype='int64', length=475)"
      ]
     },
     "execution_count": 45,
     "metadata": {},
     "output_type": "execute_result"
    }
   ],
   "source": [
    "PR.index"
   ]
  },
  {
   "cell_type": "code",
   "execution_count": 149,
   "metadata": {},
   "outputs": [
    {
     "data": {
      "text/plain": [
       "169"
      ]
     },
     "execution_count": 149,
     "metadata": {},
     "output_type": "execute_result"
    }
   ],
   "source": [
    "timestep = np.where(time_index == '2019-01-04 12:30:00')[0][0]\n",
    "timestep"
   ]
  },
  {
   "cell_type": "code",
   "execution_count": 150,
   "metadata": {},
   "outputs": [
    {
     "name": "stderr",
     "output_type": "stream",
     "text": [
      "WARNING:urllib3.connectionpool:Retrying (Retry(total=9, connect=10, read=9, redirect=None, status=None)) after connection broken by 'ReadTimeoutError(\"HTTPSConnectionPool(host='developer.nrel.gov', port=443): Read timed out. (read timeout=180)\")': /api/hsds/datasets/d-8833513a-3ffcfdba-9b94-a5adc2-f962f8/value?nonstrict=1&select=%5B169%3A170%3A1%2C0%3A2018392%3A1%5D&domain=%2Fnrel%2Fnsrdb%2Fv3%2Fnsrdb_2019.h5&api_key=CLN7qg8PRpaqkkeS9STW3BvCMvh81m4UYopmVoOf\n"
     ]
    },
    {
     "name": "stdout",
     "output_type": "stream",
     "text": [
      "CPU times: user 72.8 ms, sys: 34.4 ms, total: 107 ms\n",
      "Wall time: 3min 42s\n"
     ]
    }
   ],
   "source": [
    "%%time \n",
    "data = dset[timestep][PR.index]  # full-resolution subset"
   ]
  },
  {
   "cell_type": "code",
   "execution_count": 151,
   "metadata": {},
   "outputs": [
    {
     "ename": "IndexError",
     "evalue": "Index (Index([1440562, 1441326, 1459759, 1460550, 1460837, 1460839, 1460857, 1460868,\n       1461437, 1461442,\n       ...\n       1506893, 1507692, 1510343, 1511383, 1511384, 1512413, 1514045, 1515288,\n       1516882, 1517812],\n      dtype='int64', length=475)) out of range (0-17519)",
     "output_type": "error",
     "traceback": [
      "\u001b[0;31m---------------------------------------------------------------------------\u001b[0m",
      "\u001b[0;31mIndexError\u001b[0m                                Traceback (most recent call last)",
      "Cell \u001b[0;32mIn[151], line 1\u001b[0m\n\u001b[0;32m----> 1\u001b[0m \u001b[43mdset\u001b[49m\u001b[43m[\u001b[49m\u001b[43mPR\u001b[49m\u001b[38;5;241;43m.\u001b[39;49m\u001b[43mindex\u001b[49m\u001b[43m]\u001b[49m\n",
      "File \u001b[0;32m~/Projects/gtomscs/dl/GreenGridPR/slim_environment/lib/python3.11/site-packages/h5pyd/_hl/dataset.py:1033\u001b[0m, in \u001b[0;36mDataset.__getitem__\u001b[0;34m(self, args, new_dtype)\u001b[0m\n\u001b[1;32m   1028\u001b[0m     \u001b[38;5;28;01mreturn\u001b[39;00m arr\n\u001b[1;32m   1030\u001b[0m \u001b[38;5;66;03m# === Everything else ===================\u001b[39;00m\n\u001b[1;32m   1031\u001b[0m \n\u001b[1;32m   1032\u001b[0m \u001b[38;5;66;03m# Perform the dataspace selection\u001b[39;00m\n\u001b[0;32m-> 1033\u001b[0m selection \u001b[38;5;241m=\u001b[39m \u001b[43msel\u001b[49m\u001b[38;5;241;43m.\u001b[39;49m\u001b[43mselect\u001b[49m\u001b[43m(\u001b[49m\u001b[38;5;28;43mself\u001b[39;49m\u001b[43m,\u001b[49m\u001b[43m \u001b[49m\u001b[43margs\u001b[49m\u001b[43m)\u001b[49m\n\u001b[1;32m   1034\u001b[0m \u001b[38;5;28mself\u001b[39m\u001b[38;5;241m.\u001b[39mlog\u001b[38;5;241m.\u001b[39mdebug(\u001b[38;5;124m\"\u001b[39m\u001b[38;5;124mselection_constructor\u001b[39m\u001b[38;5;124m\"\u001b[39m)\n\u001b[1;32m   1036\u001b[0m \u001b[38;5;28;01mif\u001b[39;00m selection\u001b[38;5;241m.\u001b[39mnselect \u001b[38;5;241m==\u001b[39m \u001b[38;5;241m0\u001b[39m:\n",
      "File \u001b[0;32m~/Projects/gtomscs/dl/GreenGridPR/slim_environment/lib/python3.11/site-packages/h5pyd/_hl/selections.py:109\u001b[0m, in \u001b[0;36mselect\u001b[0;34m(obj, args)\u001b[0m\n\u001b[1;32m    107\u001b[0m     \u001b[38;5;28;01mif\u001b[39;00m use_fancy:\n\u001b[1;32m    108\u001b[0m         sel \u001b[38;5;241m=\u001b[39m FancySelection(obj\u001b[38;5;241m.\u001b[39mshape)\n\u001b[0;32m--> 109\u001b[0m         \u001b[43msel\u001b[49m\u001b[43m[\u001b[49m\u001b[43margs\u001b[49m\u001b[43m]\u001b[49m\n\u001b[1;32m    110\u001b[0m         \u001b[38;5;28;01mreturn\u001b[39;00m sel\n\u001b[1;32m    111\u001b[0m \u001b[38;5;28;01mif\u001b[39;00m \u001b[38;5;28mhasattr\u001b[39m(obj, \u001b[38;5;124m\"\u001b[39m\u001b[38;5;124mshape\u001b[39m\u001b[38;5;124m\"\u001b[39m):\n",
      "File \u001b[0;32m~/Projects/gtomscs/dl/GreenGridPR/slim_environment/lib/python3.11/site-packages/h5pyd/_hl/selections.py:526\u001b[0m, in \u001b[0;36mFancySelection.__getitem__\u001b[0;34m(self, args)\u001b[0m\n\u001b[1;32m    521\u001b[0m \u001b[38;5;28;01mfor\u001b[39;00m x \u001b[38;5;129;01min\u001b[39;00m arg:\n\u001b[1;32m    522\u001b[0m     \u001b[38;5;66;03m#if not isinstance(x, int):\u001b[39;00m\n\u001b[1;32m    523\u001b[0m     \u001b[38;5;66;03m#    raise TypeError(f'Illegal coordinate index \"{arg}\" must be a list of integers')\u001b[39;00m\n\u001b[1;32m    525\u001b[0m     \u001b[38;5;28;01mif\u001b[39;00m x \u001b[38;5;241m<\u001b[39m \u001b[38;5;241m0\u001b[39m \u001b[38;5;129;01mor\u001b[39;00m x \u001b[38;5;241m>\u001b[39m\u001b[38;5;241m=\u001b[39m length:\n\u001b[0;32m--> 526\u001b[0m         \u001b[38;5;28;01mraise\u001b[39;00m \u001b[38;5;167;01mIndexError\u001b[39;00m(\u001b[38;5;124mf\u001b[39m\u001b[38;5;124m\"\u001b[39m\u001b[38;5;124mIndex (\u001b[39m\u001b[38;5;132;01m{\u001b[39;00marg\u001b[38;5;132;01m}\u001b[39;00m\u001b[38;5;124m) out of range (0-\u001b[39m\u001b[38;5;132;01m{\u001b[39;00mlength\u001b[38;5;241m-\u001b[39m\u001b[38;5;241m1\u001b[39m\u001b[38;5;132;01m}\u001b[39;00m\u001b[38;5;124m)\u001b[39m\u001b[38;5;124m\"\u001b[39m)\n\u001b[1;32m    527\u001b[0m     \u001b[38;5;28;01mif\u001b[39;00m prev \u001b[38;5;129;01mis\u001b[39;00m \u001b[38;5;129;01mnot\u001b[39;00m \u001b[38;5;28;01mNone\u001b[39;00m \u001b[38;5;129;01mand\u001b[39;00m x \u001b[38;5;241m<\u001b[39m\u001b[38;5;241m=\u001b[39m prev:\n\u001b[1;32m    528\u001b[0m         \u001b[38;5;28;01mraise\u001b[39;00m \u001b[38;5;167;01mTypeError\u001b[39;00m(\u001b[38;5;124m\"\u001b[39m\u001b[38;5;124mIndexing elements must be in increasing order\u001b[39m\u001b[38;5;124m\"\u001b[39m)\n",
      "\u001b[0;31mIndexError\u001b[0m: Index (Index([1440562, 1441326, 1459759, 1460550, 1460837, 1460839, 1460857, 1460868,\n       1461437, 1461442,\n       ...\n       1506893, 1507692, 1510343, 1511383, 1511384, 1512413, 1514045, 1515288,\n       1516882, 1517812],\n      dtype='int64', length=475)) out of range (0-17519)"
     ]
    }
   ],
   "source": [
    "dset[PR.index]"
   ]
  },
  {
   "cell_type": "code",
   "execution_count": null,
   "metadata": {},
   "outputs": [],
   "source": [
    "df = PR[['longitude', 'latitude']].copy()\n",
    "df['ghi'] = data / dset.attrs['psm_scale_factor']\n",
    "df.shape"
   ]
  },
  {
   "cell_type": "code",
   "execution_count": null,
   "metadata": {},
   "outputs": [],
   "source": [
    "pr_coords = list(zip(df.longitude.tolist(), df.latitude.tolist()))"
   ]
  },
  {
   "cell_type": "code",
   "execution_count": null,
   "metadata": {},
   "outputs": [],
   "source": [
    "df.plot.scatter(x='longitude', y='latitude', c='ghi',\n",
    "                colormap='YlOrRd',\n",
    "                title=str(time_index[timestep]))\n",
    "plt.ylim([16,20])\n",
    "plt.show()"
   ]
  },
  {
   "cell_type": "markdown",
   "metadata": {},
   "source": [
    "## Nearest Timeseries for given Lat/Lon"
   ]
  },
  {
   "cell_type": "code",
   "execution_count": 113,
   "metadata": {
    "ExecuteTime": {
     "end_time": "2019-02-06T19:52:44.346725Z",
     "start_time": "2019-02-06T19:52:34.038821Z"
    }
   },
   "outputs": [
    {
     "name": "stdout",
     "output_type": "stream",
     "text": [
      "Site index for New York City: \t\t 1481515\n",
      "Coordinates of New York City: \t (18.25, -66.5)\n",
      "Coordinates of nearest point: \t [ 18.25 -66.5 ]\n"
     ]
    }
   ],
   "source": [
    "# Unlike the gridded WTK data the NSRDB is provided as sparse time-series dataset.\n",
    "# The quickest way to find the nearest site it using a KDtree\n",
    "\n",
    "dset_coords = f['coordinates'][...]\n",
    "tree = cKDTree(dset_coords)\n",
    "def nearest_site(tree, lat_coord, lon_coord):\n",
    "    lat_lon = np.array([lat_coord, lon_coord])\n",
    "    dist, pos = tree.query(lat_lon)\n",
    "    return pos\n",
    "\n",
    "NewYorkCity = (18.25, -66.5)\n",
    "NewYorkCity_idx = nearest_site(tree, NewYorkCity[0], NewYorkCity[1] )\n",
    "\n",
    "print(\"Site index for New York City: \\t\\t {}\".format(NewYorkCity_idx))\n",
    "print(\"Coordinates of New York City: \\t {}\".format(NewYorkCity))\n",
    "print(\"Coordinates of nearest point: \\t {}\".format(dset_coords[NewYorkCity_idx]))"
   ]
  },
  {
   "cell_type": "code",
   "execution_count": 118,
   "metadata": {
    "collapsed": true,
    "jupyter": {
     "outputs_hidden": true
    }
   },
   "outputs": [
    {
     "name": "stdout",
     "output_type": "stream",
     "text": [
      "Coord: (-67.9000015258789, 18.09000015258789) (0 of 475)\n",
      "Coord: (-67.86000061035156, 18.09000015258789) (1 of 475)\n",
      "Coord: (-67.22000122070312, 18.3700008392334) (2 of 475)\n",
      "Coord: (-67.22000122070312, 18.329999923706055) (3 of 475)\n",
      "Coord: (-67.18000030517578, 18.329999923706055) (4 of 475)\n",
      "Coord: (-67.18000030517578, 18.3700008392334) (5 of 475)\n",
      "Coord: (-67.18000030517578, 18.25) (6 of 475)\n",
      "Coord: (-67.18000030517578, 18.290000915527344) (7 of 475)\n",
      "Coord: (-67.18000030517578, 18.1299991607666) (8 of 475)\n",
      "Coord: (-67.18000030517578, 17.969999313354492) (9 of 475)\n",
      "Coord: (-67.18000030517578, 18.049999237060547) (10 of 475)\n",
      "Coord: (-67.18000030517578, 18.09000015258789) (11 of 475)\n",
      "Coord: (-67.13999938964844, 18.40999984741211) (12 of 475)\n",
      "Coord: (-67.13999938964844, 18.3700008392334) (13 of 475)\n",
      "Coord: (-67.13999938964844, 18.1299991607666) (14 of 475)\n",
      "Coord: (-67.13999938964844, 18.170000076293945) (15 of 475)\n",
      "Coord: (-67.13999938964844, 18.209999084472656) (16 of 475)\n",
      "Coord: (-67.13999938964844, 18.049999237060547) (17 of 475)\n",
      "Coord: (-67.13999938964844, 17.969999313354492) (18 of 475)\n",
      "Coord: (-67.13999938964844, 18.010000228881836) (19 of 475)\n",
      "Coord: (-67.13999938964844, 18.25) (20 of 475)\n",
      "Coord: (-67.13999938964844, 18.290000915527344) (21 of 475)\n",
      "Coord: (-67.13999938964844, 18.450000762939453) (22 of 475)\n",
      "Coord: (-67.13999938964844, 18.489999771118164) (23 of 475)\n",
      "Coord: (-67.13999938964844, 18.329999923706055) (24 of 475)\n",
      "Coord: (-67.13999938964844, 18.09000015258789) (25 of 475)\n",
      "Coord: (-67.0999984741211, 18.329999923706055) (26 of 475)\n",
      "Coord: (-67.0999984741211, 18.3700008392334) (27 of 475)\n",
      "Coord: (-67.0999984741211, 18.40999984741211) (28 of 475)\n",
      "Coord: (-67.0999984741211, 18.290000915527344) (29 of 475)\n",
      "Coord: (-67.0999984741211, 18.209999084472656) (30 of 475)\n",
      "Coord: (-67.0999984741211, 18.170000076293945) (31 of 475)\n",
      "Coord: (-67.0999984741211, 18.489999771118164) (32 of 475)\n",
      "Coord: (-67.0999984741211, 18.450000762939453) (33 of 475)\n",
      "Coord: (-67.0999984741211, 18.25) (34 of 475)\n",
      "Coord: (-67.0999984741211, 18.1299991607666) (35 of 475)\n",
      "Coord: (-67.0999984741211, 18.09000015258789) (36 of 475)\n",
      "Coord: (-67.0999984741211, 18.049999237060547) (37 of 475)\n",
      "Coord: (-67.0999984741211, 18.010000228881836) (38 of 475)\n",
      "Coord: (-67.0999984741211, 17.969999313354492) (39 of 475)\n",
      "Coord: (-67.05999755859375, 18.09000015258789) (40 of 475)\n",
      "Coord: (-67.05999755859375, 17.969999313354492) (41 of 475)\n",
      "Coord: (-67.05999755859375, 18.290000915527344) (42 of 475)\n",
      "Coord: (-67.05999755859375, 18.1299991607666) (43 of 475)\n",
      "Coord: (-67.05999755859375, 18.489999771118164) (44 of 475)\n",
      "Coord: (-67.05999755859375, 18.40999984741211) (45 of 475)\n",
      "Coord: (-67.05999755859375, 18.450000762939453) (46 of 475)\n",
      "Coord: (-67.05999755859375, 18.049999237060547) (47 of 475)\n",
      "Coord: (-67.05999755859375, 18.170000076293945) (48 of 475)\n",
      "Coord: (-67.05999755859375, 18.010000228881836) (49 of 475)\n",
      "Coord: (-67.05999755859375, 18.209999084472656) (50 of 475)\n",
      "Coord: (-67.05999755859375, 18.3700008392334) (51 of 475)\n",
      "Coord: (-67.05999755859375, 18.329999923706055) (52 of 475)\n",
      "Coord: (-67.05999755859375, 18.25) (53 of 475)\n",
      "Coord: (-67.0199966430664, 18.25) (54 of 475)\n",
      "Coord: (-67.0199966430664, 18.290000915527344) (55 of 475)\n",
      "Coord: (-67.0199966430664, 18.010000228881836) (56 of 475)\n",
      "Coord: (-67.0199966430664, 18.40999984741211) (57 of 475)\n",
      "Coord: (-67.0199966430664, 18.1299991607666) (58 of 475)\n",
      "Coord: (-67.0199966430664, 18.209999084472656) (59 of 475)\n",
      "Coord: (-67.0199966430664, 18.170000076293945) (60 of 475)\n",
      "Coord: (-67.0199966430664, 18.049999237060547) (61 of 475)\n",
      "Coord: (-67.0199966430664, 17.969999313354492) (62 of 475)\n",
      "Coord: (-67.0199966430664, 18.329999923706055) (63 of 475)\n",
      "Coord: (-67.0199966430664, 18.3700008392334) (64 of 475)\n",
      "Coord: (-67.0199966430664, 18.450000762939453) (65 of 475)\n",
      "Coord: (-67.0199966430664, 18.489999771118164) (66 of 475)\n",
      "Coord: (-67.0199966430664, 18.09000015258789) (67 of 475)\n",
      "Coord: (-66.9800033569336, 18.1299991607666) (68 of 475)\n",
      "Coord: (-66.9800033569336, 18.489999771118164) (69 of 475)\n",
      "Coord: (-66.9800033569336, 18.450000762939453) (70 of 475)\n",
      "Coord: (-66.9800033569336, 18.329999923706055) (71 of 475)\n",
      "Coord: (-66.9800033569336, 18.049999237060547) (72 of 475)\n",
      "Coord: (-66.9800033569336, 18.010000228881836) (73 of 475)\n",
      "Coord: (-66.9800033569336, 17.969999313354492) (74 of 475)\n",
      "Coord: (-66.9800033569336, 18.40999984741211) (75 of 475)\n",
      "Coord: (-66.9800033569336, 18.3700008392334) (76 of 475)\n",
      "Coord: (-66.9800033569336, 18.209999084472656) (77 of 475)\n",
      "Coord: (-66.9800033569336, 18.25) (78 of 475)\n",
      "Coord: (-66.9800033569336, 18.170000076293945) (79 of 475)\n",
      "Coord: (-66.9800033569336, 18.09000015258789) (80 of 475)\n",
      "Coord: (-66.9800033569336, 18.290000915527344) (81 of 475)\n",
      "Coord: (-66.94000244140625, 18.290000915527344) (82 of 475)\n",
      "Coord: (-66.94000244140625, 18.329999923706055) (83 of 475)\n",
      "Coord: (-66.94000244140625, 18.40999984741211) (84 of 475)\n",
      "Coord: (-66.94000244140625, 18.450000762939453) (85 of 475)\n",
      "Coord: (-66.94000244140625, 18.1299991607666) (86 of 475)\n",
      "Coord: (-66.94000244140625, 18.170000076293945) (87 of 475)\n",
      "Coord: (-66.94000244140625, 18.209999084472656) (88 of 475)\n",
      "Coord: (-66.94000244140625, 18.25) (89 of 475)\n",
      "Coord: (-66.94000244140625, 18.09000015258789) (90 of 475)\n",
      "Coord: (-66.94000244140625, 18.3700008392334) (91 of 475)\n",
      "Coord: (-66.94000244140625, 18.049999237060547) (92 of 475)\n",
      "Coord: (-66.94000244140625, 18.010000228881836) (93 of 475)\n",
      "Coord: (-66.94000244140625, 17.969999313354492) (94 of 475)\n",
      "Coord: (-66.94000244140625, 17.93000030517578) (95 of 475)\n",
      "Coord: (-66.9000015258789, 18.290000915527344) (96 of 475)\n",
      "Coord: (-66.9000015258789, 18.25) (97 of 475)\n",
      "Coord: (-66.9000015258789, 18.450000762939453) (98 of 475)\n",
      "Coord: (-66.9000015258789, 18.329999923706055) (99 of 475)\n",
      "Coord: (-66.9000015258789, 18.3700008392334) (100 of 475)\n",
      "Coord: (-66.9000015258789, 18.049999237060547) (101 of 475)\n",
      "Coord: (-66.9000015258789, 17.969999313354492) (102 of 475)\n",
      "Coord: (-66.9000015258789, 18.010000228881836) (103 of 475)\n",
      "Coord: (-66.9000015258789, 18.209999084472656) (104 of 475)\n",
      "Coord: (-66.9000015258789, 18.40999984741211) (105 of 475)\n",
      "Coord: (-66.9000015258789, 18.170000076293945) (106 of 475)\n",
      "Coord: (-66.9000015258789, 18.09000015258789) (107 of 475)\n",
      "Coord: (-66.9000015258789, 18.1299991607666) (108 of 475)\n",
      "Coord: (-66.86000061035156, 18.09000015258789) (109 of 475)\n",
      "Coord: (-66.86000061035156, 18.010000228881836) (110 of 475)\n",
      "Coord: (-66.86000061035156, 17.969999313354492) (111 of 475)\n",
      "Coord: (-66.86000061035156, 18.049999237060547) (112 of 475)\n",
      "Coord: (-66.86000061035156, 18.170000076293945) (113 of 475)\n",
      "Coord: (-66.86000061035156, 18.329999923706055) (114 of 475)\n",
      "Coord: (-66.86000061035156, 18.3700008392334) (115 of 475)\n",
      "Coord: (-66.86000061035156, 18.290000915527344) (116 of 475)\n",
      "Coord: (-66.86000061035156, 18.25) (117 of 475)\n",
      "Coord: (-66.86000061035156, 18.209999084472656) (118 of 475)\n",
      "Coord: (-66.86000061035156, 18.1299991607666) (119 of 475)\n",
      "Coord: (-66.86000061035156, 18.450000762939453) (120 of 475)\n",
      "Coord: (-66.86000061035156, 18.40999984741211) (121 of 475)\n",
      "Coord: (-66.81999969482422, 18.010000228881836) (122 of 475)\n",
      "Coord: (-66.81999969482422, 18.049999237060547) (123 of 475)\n",
      "Coord: (-66.81999969482422, 17.969999313354492) (124 of 475)\n",
      "Coord: (-66.81999969482422, 18.09000015258789) (125 of 475)\n",
      "Coord: (-66.81999969482422, 18.450000762939453) (126 of 475)\n",
      "Coord: (-66.81999969482422, 18.170000076293945) (127 of 475)\n",
      "Coord: (-66.81999969482422, 18.209999084472656) (128 of 475)\n",
      "Coord: (-66.81999969482422, 18.290000915527344) (129 of 475)\n",
      "Coord: (-66.81999969482422, 18.40999984741211) (130 of 475)\n",
      "Coord: (-66.81999969482422, 18.3700008392334) (131 of 475)\n",
      "Coord: (-66.81999969482422, 18.329999923706055) (132 of 475)\n",
      "Coord: (-66.81999969482422, 18.25) (133 of 475)\n",
      "Coord: (-66.81999969482422, 18.1299991607666) (134 of 475)\n",
      "Coord: (-66.81999969482422, 18.489999771118164) (135 of 475)\n",
      "Coord: (-66.77999877929688, 18.209999084472656) (136 of 475)\n",
      "Coord: (-66.77999877929688, 18.170000076293945) (137 of 475)\n",
      "Coord: (-66.77999877929688, 18.09000015258789) (138 of 475)\n",
      "Coord: (-66.77999877929688, 18.329999923706055) (139 of 475)\n",
      "Coord: (-66.77999877929688, 18.290000915527344) (140 of 475)\n",
      "Coord: (-66.77999877929688, 18.25) (141 of 475)\n",
      "Coord: (-66.77999877929688, 18.049999237060547) (142 of 475)\n",
      "Coord: (-66.77999877929688, 18.010000228881836) (143 of 475)\n",
      "Coord: (-66.77999877929688, 18.1299991607666) (144 of 475)\n",
      "Coord: (-66.77999877929688, 18.450000762939453) (145 of 475)\n",
      "Coord: (-66.77999877929688, 18.40999984741211) (146 of 475)\n",
      "Coord: (-66.77999877929688, 18.3700008392334) (147 of 475)\n",
      "Coord: (-66.73999786376953, 18.450000762939453) (148 of 475)\n",
      "Coord: (-66.73999786376953, 18.049999237060547) (149 of 475)\n",
      "Coord: (-66.73999786376953, 18.010000228881836) (150 of 475)\n",
      "Coord: (-66.73999786376953, 18.209999084472656) (151 of 475)\n",
      "Coord: (-66.73999786376953, 18.170000076293945) (152 of 475)\n",
      "Coord: (-66.73999786376953, 18.290000915527344) (153 of 475)\n",
      "Coord: (-66.73999786376953, 18.25) (154 of 475)\n",
      "Coord: (-66.73999786376953, 18.1299991607666) (155 of 475)\n",
      "Coord: (-66.73999786376953, 18.09000015258789) (156 of 475)\n",
      "Coord: (-66.73999786376953, 18.40999984741211) (157 of 475)\n",
      "Coord: (-66.73999786376953, 18.3700008392334) (158 of 475)\n",
      "Coord: (-66.73999786376953, 18.329999923706055) (159 of 475)\n",
      "Coord: (-66.69999694824219, 18.450000762939453) (160 of 475)\n",
      "Coord: (-66.69999694824219, 18.010000228881836) (161 of 475)\n",
      "Coord: (-66.69999694824219, 18.049999237060547) (162 of 475)\n",
      "Coord: (-66.69999694824219, 18.170000076293945) (163 of 475)\n",
      "Coord: (-66.69999694824219, 18.209999084472656) (164 of 475)\n",
      "Coord: (-66.69999694824219, 18.09000015258789) (165 of 475)\n",
      "Coord: (-66.69999694824219, 18.1299991607666) (166 of 475)\n",
      "Coord: (-66.69999694824219, 18.40999984741211) (167 of 475)\n",
      "Coord: (-66.69999694824219, 18.3700008392334) (168 of 475)\n",
      "Coord: (-66.69999694824219, 18.329999923706055) (169 of 475)\n",
      "Coord: (-66.69999694824219, 18.25) (170 of 475)\n",
      "Coord: (-66.69999694824219, 18.290000915527344) (171 of 475)\n",
      "Coord: (-66.66000366210938, 18.450000762939453) (172 of 475)\n",
      "Coord: (-66.66000366210938, 18.049999237060547) (173 of 475)\n",
      "Coord: (-66.66000366210938, 18.010000228881836) (174 of 475)\n",
      "Coord: (-66.66000366210938, 18.489999771118164) (175 of 475)\n",
      "Coord: (-66.66000366210938, 18.1299991607666) (176 of 475)\n",
      "Coord: (-66.66000366210938, 18.09000015258789) (177 of 475)\n",
      "Coord: (-66.66000366210938, 18.170000076293945) (178 of 475)\n",
      "Coord: (-66.66000366210938, 18.209999084472656) (179 of 475)\n",
      "Coord: (-66.66000366210938, 18.25) (180 of 475)\n",
      "Coord: (-66.66000366210938, 18.290000915527344) (181 of 475)\n",
      "Coord: (-66.66000366210938, 18.329999923706055) (182 of 475)\n",
      "Coord: (-66.66000366210938, 18.3700008392334) (183 of 475)\n",
      "Coord: (-66.66000366210938, 18.40999984741211) (184 of 475)\n",
      "Coord: (-66.62000274658203, 17.969999313354492) (185 of 475)\n",
      "Coord: (-66.62000274658203, 18.049999237060547) (186 of 475)\n",
      "Coord: (-66.62000274658203, 18.010000228881836) (187 of 475)\n",
      "Coord: (-66.62000274658203, 18.450000762939453) (188 of 475)\n",
      "Coord: (-66.62000274658203, 18.40999984741211) (189 of 475)\n",
      "Coord: (-66.62000274658203, 18.290000915527344) (190 of 475)\n",
      "Coord: (-66.62000274658203, 18.25) (191 of 475)\n",
      "Coord: (-66.62000274658203, 18.209999084472656) (192 of 475)\n",
      "Coord: (-66.62000274658203, 18.1299991607666) (193 of 475)\n",
      "Coord: (-66.62000274658203, 18.09000015258789) (194 of 475)\n",
      "Coord: (-66.62000274658203, 18.170000076293945) (195 of 475)\n",
      "Coord: (-66.62000274658203, 18.3700008392334) (196 of 475)\n",
      "Coord: (-66.62000274658203, 18.329999923706055) (197 of 475)\n",
      "Coord: (-66.58000183105469, 18.40999984741211) (198 of 475)\n",
      "Coord: (-66.58000183105469, 18.329999923706055) (199 of 475)\n",
      "Coord: (-66.58000183105469, 18.290000915527344) (200 of 475)\n",
      "Coord: (-66.58000183105469, 18.209999084472656) (201 of 475)\n",
      "Coord: (-66.58000183105469, 18.1299991607666) (202 of 475)\n",
      "Coord: (-66.58000183105469, 18.170000076293945) (203 of 475)\n",
      "Coord: (-66.58000183105469, 18.25) (204 of 475)\n",
      "Coord: (-66.58000183105469, 18.3700008392334) (205 of 475)\n",
      "Coord: (-66.58000183105469, 18.09000015258789) (206 of 475)\n",
      "Coord: (-66.58000183105469, 18.049999237060547) (207 of 475)\n",
      "Coord: (-66.58000183105469, 18.010000228881836) (208 of 475)\n",
      "Coord: (-66.58000183105469, 17.969999313354492) (209 of 475)\n",
      "Coord: (-66.58000183105469, 18.450000762939453) (210 of 475)\n",
      "Coord: (-66.54000091552734, 18.329999923706055) (211 of 475)\n",
      "Coord: (-66.54000091552734, 18.209999084472656) (212 of 475)\n",
      "Coord: (-66.54000091552734, 18.25) (213 of 475)\n",
      "Coord: (-66.54000091552734, 18.3700008392334) (214 of 475)\n",
      "Coord: (-66.54000091552734, 18.09000015258789) (215 of 475)\n",
      "Coord: (-66.54000091552734, 18.170000076293945) (216 of 475)\n",
      "Coord: (-66.54000091552734, 18.1299991607666) (217 of 475)\n",
      "Coord: (-66.54000091552734, 18.290000915527344) (218 of 475)\n",
      "Coord: (-66.54000091552734, 18.40999984741211) (219 of 475)\n",
      "Coord: (-66.54000091552734, 18.010000228881836) (220 of 475)\n",
      "Coord: (-66.54000091552734, 18.049999237060547) (221 of 475)\n",
      "Coord: (-66.54000091552734, 18.450000762939453) (222 of 475)\n",
      "Coord: (-66.5, 18.209999084472656) (223 of 475)\n",
      "Coord: (-66.5, 18.25) (224 of 475)\n",
      "Coord: (-66.5, 18.3700008392334) (225 of 475)\n",
      "Coord: (-66.5, 18.40999984741211) (226 of 475)\n",
      "Coord: (-66.5, 18.329999923706055) (227 of 475)\n",
      "Coord: (-66.5, 18.290000915527344) (228 of 475)\n",
      "Coord: (-66.5, 18.09000015258789) (229 of 475)\n",
      "Coord: (-66.5, 18.170000076293945) (230 of 475)\n",
      "Coord: (-66.5, 18.450000762939453) (231 of 475)\n",
      "Coord: (-66.5, 18.010000228881836) (232 of 475)\n",
      "Coord: (-66.5, 18.049999237060547) (233 of 475)\n",
      "Coord: (-66.5, 18.1299991607666) (234 of 475)\n",
      "Coord: (-66.45999908447266, 18.3700008392334) (235 of 475)\n",
      "Coord: (-66.45999908447266, 18.40999984741211) (236 of 475)\n",
      "Coord: (-66.45999908447266, 18.329999923706055) (237 of 475)\n",
      "Coord: (-66.45999908447266, 18.25) (238 of 475)\n",
      "Coord: (-66.45999908447266, 18.209999084472656) (239 of 475)\n",
      "Coord: (-66.45999908447266, 18.290000915527344) (240 of 475)\n",
      "Coord: (-66.45999908447266, 18.09000015258789) (241 of 475)\n",
      "Coord: (-66.45999908447266, 18.170000076293945) (242 of 475)\n",
      "Coord: (-66.45999908447266, 18.450000762939453) (243 of 475)\n",
      "Coord: (-66.45999908447266, 18.1299991607666) (244 of 475)\n",
      "Coord: (-66.45999908447266, 18.049999237060547) (245 of 475)\n",
      "Coord: (-66.45999908447266, 18.010000228881836) (246 of 475)\n",
      "Coord: (-66.41999816894531, 18.40999984741211) (247 of 475)\n",
      "Coord: (-66.41999816894531, 18.3700008392334) (248 of 475)\n",
      "Coord: (-66.41999816894531, 18.1299991607666) (249 of 475)\n",
      "Coord: (-66.41999816894531, 18.09000015258789) (250 of 475)\n",
      "Coord: (-66.41999816894531, 18.170000076293945) (251 of 475)\n",
      "Coord: (-66.41999816894531, 17.969999313354492) (252 of 475)\n",
      "Coord: (-66.41999816894531, 18.010000228881836) (253 of 475)\n",
      "Coord: (-66.41999816894531, 18.450000762939453) (254 of 475)\n",
      "Coord: (-66.41999816894531, 18.290000915527344) (255 of 475)\n",
      "Coord: (-66.41999816894531, 18.25) (256 of 475)\n",
      "Coord: (-66.41999816894531, 18.209999084472656) (257 of 475)\n",
      "Coord: (-66.41999816894531, 18.049999237060547) (258 of 475)\n",
      "Coord: (-66.41999816894531, 18.329999923706055) (259 of 475)\n",
      "Coord: (-66.37999725341797, 18.1299991607666) (260 of 475)\n",
      "Coord: (-66.37999725341797, 18.09000015258789) (261 of 475)\n",
      "Coord: (-66.37999725341797, 18.170000076293945) (262 of 475)\n",
      "Coord: (-66.37999725341797, 17.969999313354492) (263 of 475)\n",
      "Coord: (-66.37999725341797, 18.329999923706055) (264 of 475)\n",
      "Coord: (-66.37999725341797, 18.3700008392334) (265 of 475)\n",
      "Coord: (-66.37999725341797, 18.40999984741211) (266 of 475)\n",
      "Coord: (-66.37999725341797, 18.010000228881836) (267 of 475)\n",
      "Coord: (-66.37999725341797, 18.290000915527344) (268 of 475)\n",
      "Coord: (-66.37999725341797, 18.049999237060547) (269 of 475)\n",
      "Coord: (-66.37999725341797, 18.25) (270 of 475)\n",
      "Coord: (-66.37999725341797, 18.450000762939453) (271 of 475)\n",
      "Coord: (-66.37999725341797, 18.209999084472656) (272 of 475)\n",
      "Coord: (-66.33999633789062, 18.010000228881836) (273 of 475)\n",
      "Coord: (-66.33999633789062, 18.3700008392334) (274 of 475)\n",
      "Coord: (-66.33999633789062, 18.209999084472656) (275 of 475)\n",
      "Coord: (-66.33999633789062, 18.25) (276 of 475)\n",
      "Coord: (-66.33999633789062, 18.290000915527344) (277 of 475)\n",
      "Coord: (-66.33999633789062, 18.40999984741211) (278 of 475)\n",
      "Coord: (-66.33999633789062, 18.329999923706055) (279 of 475)\n",
      "Coord: (-66.33999633789062, 17.969999313354492) (280 of 475)\n",
      "Coord: (-66.33999633789062, 18.049999237060547) (281 of 475)\n",
      "Coord: (-66.33999633789062, 18.450000762939453) (282 of 475)\n",
      "Coord: (-66.33999633789062, 18.09000015258789) (283 of 475)\n",
      "Coord: (-66.33999633789062, 18.170000076293945) (284 of 475)\n",
      "Coord: (-66.33999633789062, 18.1299991607666) (285 of 475)\n",
      "Coord: (-66.30000305175781, 18.049999237060547) (286 of 475)\n",
      "Coord: (-66.30000305175781, 17.969999313354492) (287 of 475)\n",
      "Coord: (-66.30000305175781, 18.450000762939453) (288 of 475)\n",
      "Coord: (-66.30000305175781, 18.010000228881836) (289 of 475)\n",
      "Coord: (-66.30000305175781, 18.1299991607666) (290 of 475)\n",
      "Coord: (-66.30000305175781, 18.09000015258789) (291 of 475)\n",
      "Coord: (-66.30000305175781, 18.170000076293945) (292 of 475)\n",
      "Coord: (-66.30000305175781, 18.40999984741211) (293 of 475)\n",
      "Coord: (-66.30000305175781, 18.3700008392334) (294 of 475)\n",
      "Coord: (-66.30000305175781, 18.329999923706055) (295 of 475)\n",
      "Coord: (-66.30000305175781, 18.290000915527344) (296 of 475)\n",
      "Coord: (-66.30000305175781, 18.25) (297 of 475)\n",
      "Coord: (-66.30000305175781, 18.209999084472656) (298 of 475)\n",
      "Coord: (-66.26000213623047, 18.450000762939453) (299 of 475)\n",
      "Coord: (-66.26000213623047, 18.170000076293945) (300 of 475)\n",
      "Coord: (-66.26000213623047, 18.1299991607666) (301 of 475)\n",
      "Coord: (-66.26000213623047, 18.09000015258789) (302 of 475)\n",
      "Coord: (-66.26000213623047, 17.969999313354492) (303 of 475)\n",
      "Coord: (-66.26000213623047, 18.010000228881836) (304 of 475)\n",
      "Coord: (-66.26000213623047, 18.049999237060547) (305 of 475)\n",
      "Coord: (-66.26000213623047, 18.25) (306 of 475)\n",
      "Coord: (-66.26000213623047, 18.329999923706055) (307 of 475)\n",
      "Coord: (-66.26000213623047, 18.40999984741211) (308 of 475)\n",
      "Coord: (-66.26000213623047, 18.209999084472656) (309 of 475)\n",
      "Coord: (-66.26000213623047, 18.3700008392334) (310 of 475)\n",
      "Coord: (-66.26000213623047, 18.290000915527344) (311 of 475)\n",
      "Coord: (-66.22000122070312, 18.049999237060547) (312 of 475)\n",
      "Coord: (-66.22000122070312, 17.969999313354492) (313 of 475)\n",
      "Coord: (-66.22000122070312, 18.010000228881836) (314 of 475)\n",
      "Coord: (-66.22000122070312, 18.3700008392334) (315 of 475)\n",
      "Coord: (-66.22000122070312, 18.40999984741211) (316 of 475)\n",
      "Coord: (-66.22000122070312, 18.450000762939453) (317 of 475)\n",
      "Coord: (-66.22000122070312, 18.170000076293945) (318 of 475)\n",
      "Coord: (-66.22000122070312, 18.1299991607666) (319 of 475)\n",
      "Coord: (-66.22000122070312, 18.09000015258789) (320 of 475)\n",
      "Coord: (-66.22000122070312, 18.329999923706055) (321 of 475)\n",
      "Coord: (-66.22000122070312, 18.290000915527344) (322 of 475)\n",
      "Coord: (-66.22000122070312, 18.25) (323 of 475)\n",
      "Coord: (-66.22000122070312, 18.209999084472656) (324 of 475)\n",
      "Coord: (-66.18000030517578, 18.170000076293945) (325 of 475)\n",
      "Coord: (-66.18000030517578, 18.049999237060547) (326 of 475)\n",
      "Coord: (-66.18000030517578, 18.09000015258789) (327 of 475)\n",
      "Coord: (-66.18000030517578, 18.450000762939453) (328 of 475)\n",
      "Coord: (-66.18000030517578, 18.40999984741211) (329 of 475)\n",
      "Coord: (-66.18000030517578, 18.3700008392334) (330 of 475)\n",
      "Coord: (-66.18000030517578, 18.290000915527344) (331 of 475)\n",
      "Coord: (-66.18000030517578, 18.25) (332 of 475)\n",
      "Coord: (-66.18000030517578, 18.329999923706055) (333 of 475)\n",
      "Coord: (-66.18000030517578, 18.209999084472656) (334 of 475)\n",
      "Coord: (-66.18000030517578, 18.1299991607666) (335 of 475)\n",
      "Coord: (-66.18000030517578, 18.010000228881836) (336 of 475)\n",
      "Coord: (-66.18000030517578, 17.969999313354492) (337 of 475)\n",
      "Coord: (-66.18000030517578, 17.93000030517578) (338 of 475)\n",
      "Coord: (-66.13999938964844, 18.450000762939453) (339 of 475)\n",
      "Coord: (-66.13999938964844, 18.209999084472656) (340 of 475)\n",
      "Coord: (-66.13999938964844, 18.09000015258789) (341 of 475)\n",
      "Coord: (-66.13999938964844, 18.1299991607666) (342 of 475)\n",
      "Coord: (-66.13999938964844, 18.170000076293945) (343 of 475)\n",
      "Coord: (-66.13999938964844, 18.3700008392334) (344 of 475)\n",
      "Coord: (-66.13999938964844, 18.329999923706055) (345 of 475)\n",
      "Coord: (-66.13999938964844, 18.40999984741211) (346 of 475)\n",
      "Coord: (-66.13999938964844, 18.25) (347 of 475)\n",
      "Coord: (-66.13999938964844, 18.290000915527344) (348 of 475)\n",
      "Coord: (-66.13999938964844, 17.969999313354492) (349 of 475)\n",
      "Coord: (-66.13999938964844, 18.010000228881836) (350 of 475)\n",
      "Coord: (-66.13999938964844, 18.049999237060547) (351 of 475)\n",
      "Coord: (-66.0999984741211, 18.1299991607666) (352 of 475)\n",
      "Coord: (-66.0999984741211, 18.290000915527344) (353 of 475)\n",
      "Coord: (-66.0999984741211, 18.25) (354 of 475)\n",
      "Coord: (-66.0999984741211, 18.329999923706055) (355 of 475)\n",
      "Coord: (-66.0999984741211, 18.09000015258789) (356 of 475)\n",
      "Coord: (-66.0999984741211, 18.40999984741211) (357 of 475)\n",
      "Coord: (-66.0999984741211, 18.209999084472656) (358 of 475)\n",
      "Coord: (-66.0999984741211, 18.3700008392334) (359 of 475)\n",
      "Coord: (-66.0999984741211, 18.049999237060547) (360 of 475)\n",
      "Coord: (-66.0999984741211, 18.010000228881836) (361 of 475)\n",
      "Coord: (-66.0999984741211, 17.969999313354492) (362 of 475)\n",
      "Coord: (-66.0999984741211, 18.170000076293945) (363 of 475)\n",
      "Coord: (-66.0999984741211, 18.450000762939453) (364 of 475)\n",
      "Coord: (-66.05999755859375, 18.010000228881836) (365 of 475)\n",
      "Coord: (-66.05999755859375, 18.049999237060547) (366 of 475)\n",
      "Coord: (-66.05999755859375, 17.969999313354492) (367 of 475)\n",
      "Coord: (-66.05999755859375, 18.450000762939453) (368 of 475)\n",
      "Coord: (-66.05999755859375, 18.09000015258789) (369 of 475)\n",
      "Coord: (-66.05999755859375, 18.209999084472656) (370 of 475)\n",
      "Coord: (-66.05999755859375, 18.290000915527344) (371 of 475)\n",
      "Coord: (-66.05999755859375, 18.3700008392334) (372 of 475)\n",
      "Coord: (-66.05999755859375, 18.40999984741211) (373 of 475)\n",
      "Coord: (-66.05999755859375, 18.25) (374 of 475)\n",
      "Coord: (-66.05999755859375, 18.329999923706055) (375 of 475)\n",
      "Coord: (-66.05999755859375, 18.1299991607666) (376 of 475)\n",
      "Coord: (-66.05999755859375, 18.170000076293945) (377 of 475)\n",
      "Coord: (-66.0199966430664, 18.40999984741211) (378 of 475)\n",
      "Coord: (-66.0199966430664, 18.3700008392334) (379 of 475)\n",
      "Coord: (-66.0199966430664, 18.329999923706055) (380 of 475)\n",
      "Coord: (-66.0199966430664, 18.25) (381 of 475)\n",
      "Coord: (-66.0199966430664, 18.209999084472656) (382 of 475)\n",
      "Coord: (-66.0199966430664, 18.049999237060547) (383 of 475)\n",
      "Coord: (-66.0199966430664, 17.969999313354492) (384 of 475)\n",
      "Coord: (-66.0199966430664, 18.09000015258789) (385 of 475)\n",
      "Coord: (-66.0199966430664, 18.1299991607666) (386 of 475)\n",
      "Coord: (-66.0199966430664, 18.170000076293945) (387 of 475)\n",
      "Coord: (-66.0199966430664, 18.290000915527344) (388 of 475)\n",
      "Coord: (-66.0199966430664, 18.010000228881836) (389 of 475)\n",
      "Coord: (-65.9800033569336, 18.290000915527344) (390 of 475)\n",
      "Coord: (-65.9800033569336, 18.329999923706055) (391 of 475)\n",
      "Coord: (-65.9800033569336, 18.3700008392334) (392 of 475)\n",
      "Coord: (-65.9800033569336, 18.40999984741211) (393 of 475)\n",
      "Coord: (-65.9800033569336, 18.049999237060547) (394 of 475)\n",
      "Coord: (-65.9800033569336, 18.010000228881836) (395 of 475)\n",
      "Coord: (-65.9800033569336, 18.170000076293945) (396 of 475)\n",
      "Coord: (-65.9800033569336, 18.450000762939453) (397 of 475)\n",
      "Coord: (-65.9800033569336, 18.1299991607666) (398 of 475)\n",
      "Coord: (-65.9800033569336, 18.09000015258789) (399 of 475)\n",
      "Coord: (-65.9800033569336, 18.209999084472656) (400 of 475)\n",
      "Coord: (-65.9800033569336, 18.25) (401 of 475)\n",
      "Coord: (-65.94000244140625, 18.170000076293945) (402 of 475)\n",
      "Coord: (-65.94000244140625, 18.25) (403 of 475)\n",
      "Coord: (-65.94000244140625, 18.290000915527344) (404 of 475)\n",
      "Coord: (-65.94000244140625, 18.329999923706055) (405 of 475)\n",
      "Coord: (-65.94000244140625, 18.3700008392334) (406 of 475)\n",
      "Coord: (-65.94000244140625, 18.40999984741211) (407 of 475)\n",
      "Coord: (-65.94000244140625, 18.209999084472656) (408 of 475)\n",
      "Coord: (-65.94000244140625, 17.969999313354492) (409 of 475)\n",
      "Coord: (-65.94000244140625, 18.010000228881836) (410 of 475)\n",
      "Coord: (-65.94000244140625, 18.049999237060547) (411 of 475)\n",
      "Coord: (-65.94000244140625, 18.09000015258789) (412 of 475)\n",
      "Coord: (-65.94000244140625, 18.1299991607666) (413 of 475)\n",
      "Coord: (-65.9000015258789, 18.010000228881836) (414 of 475)\n",
      "Coord: (-65.9000015258789, 18.3700008392334) (415 of 475)\n",
      "Coord: (-65.9000015258789, 18.329999923706055) (416 of 475)\n",
      "Coord: (-65.9000015258789, 18.290000915527344) (417 of 475)\n",
      "Coord: (-65.9000015258789, 18.25) (418 of 475)\n",
      "Coord: (-65.9000015258789, 18.209999084472656) (419 of 475)\n",
      "Coord: (-65.9000015258789, 18.40999984741211) (420 of 475)\n",
      "Coord: (-65.9000015258789, 18.1299991607666) (421 of 475)\n",
      "Coord: (-65.9000015258789, 18.09000015258789) (422 of 475)\n",
      "Coord: (-65.9000015258789, 18.170000076293945) (423 of 475)\n",
      "Coord: (-65.9000015258789, 18.450000762939453) (424 of 475)\n",
      "Coord: (-65.9000015258789, 18.049999237060547) (425 of 475)\n",
      "Coord: (-65.86000061035156, 18.049999237060547) (426 of 475)\n",
      "Coord: (-65.86000061035156, 18.010000228881836) (427 of 475)\n",
      "Coord: (-65.86000061035156, 18.170000076293945) (428 of 475)\n",
      "Coord: (-65.86000061035156, 18.209999084472656) (429 of 475)\n",
      "Coord: (-65.86000061035156, 18.329999923706055) (430 of 475)\n",
      "Coord: (-65.86000061035156, 18.3700008392334) (431 of 475)\n",
      "Coord: (-65.86000061035156, 18.40999984741211) (432 of 475)\n",
      "Coord: (-65.86000061035156, 18.290000915527344) (433 of 475)\n",
      "Coord: (-65.86000061035156, 18.25) (434 of 475)\n",
      "Coord: (-65.86000061035156, 18.09000015258789) (435 of 475)\n",
      "Coord: (-65.86000061035156, 18.1299991607666) (436 of 475)\n",
      "Coord: (-65.81999969482422, 18.09000015258789) (437 of 475)\n",
      "Coord: (-65.81999969482422, 18.1299991607666) (438 of 475)\n",
      "Coord: (-65.81999969482422, 18.290000915527344) (439 of 475)\n",
      "Coord: (-65.81999969482422, 18.329999923706055) (440 of 475)\n",
      "Coord: (-65.81999969482422, 18.3700008392334) (441 of 475)\n",
      "Coord: (-65.81999969482422, 18.40999984741211) (442 of 475)\n",
      "Coord: (-65.81999969482422, 18.25) (443 of 475)\n",
      "Coord: (-65.81999969482422, 18.209999084472656) (444 of 475)\n",
      "Coord: (-65.81999969482422, 18.170000076293945) (445 of 475)\n",
      "Coord: (-65.77999877929688, 18.290000915527344) (446 of 475)\n",
      "Coord: (-65.77999877929688, 18.1299991607666) (447 of 475)\n",
      "Coord: (-65.77999877929688, 18.3700008392334) (448 of 475)\n",
      "Coord: (-65.77999877929688, 18.329999923706055) (449 of 475)\n",
      "Coord: (-65.77999877929688, 18.25) (450 of 475)\n",
      "Coord: (-65.77999877929688, 18.209999084472656) (451 of 475)\n",
      "Coord: (-65.77999877929688, 18.170000076293945) (452 of 475)\n",
      "Coord: (-65.73999786376953, 18.209999084472656) (453 of 475)\n",
      "Coord: (-65.73999786376953, 18.3700008392334) (454 of 475)\n",
      "Coord: (-65.73999786376953, 18.329999923706055) (455 of 475)\n",
      "Coord: (-65.73999786376953, 18.25) (456 of 475)\n",
      "Coord: (-65.73999786376953, 18.290000915527344) (457 of 475)\n",
      "Coord: (-65.69999694824219, 18.329999923706055) (458 of 475)\n",
      "Coord: (-65.69999694824219, 18.25) (459 of 475)\n",
      "Coord: (-65.69999694824219, 18.290000915527344) (460 of 475)\n",
      "Coord: (-65.69999694824219, 18.209999084472656) (461 of 475)\n",
      "Coord: (-65.66000366210938, 18.290000915527344) (462 of 475)\n",
      "Coord: (-65.66000366210938, 18.209999084472656) (463 of 475)\n",
      "Coord: (-65.66000366210938, 18.25) (464 of 475)\n",
      "Coord: (-65.66000366210938, 18.329999923706055) (465 of 475)\n",
      "Coord: (-65.62000274658203, 18.25) (466 of 475)\n",
      "Coord: (-65.54000091552734, 18.09000015258789) (467 of 475)\n",
      "Coord: (-65.5, 18.1299991607666) (468 of 475)\n",
      "Coord: (-65.5, 18.09000015258789) (469 of 475)\n",
      "Coord: (-65.45999908447266, 18.1299991607666) (470 of 475)\n",
      "Coord: (-65.41999816894531, 18.1299991607666) (471 of 475)\n",
      "Coord: (-65.37999725341797, 18.1299991607666) (472 of 475)\n",
      "Coord: (-65.33999633789062, 18.1299991607666) (473 of 475)\n",
      "Coord: (-65.30000305175781, 18.329999923706055) (474 of 475)\n"
     ]
    }
   ],
   "source": [
    "hourly_ghi = []\n",
    "for i, coord in enumerate(pr_coords):\n",
    "    print(f'Coord: {coord} ({i} of {len(pr_coords)})')\n",
    "    long = coord[0]\n",
    "    lat = coord[1]\n",
    "    idx = nearest_site(tree, lat, long)\n",
    "    tseries = dset[:, idx] / dset.attrs['psm_scale_factor']\n",
    "    df = pd.DataFrame({'ghi': tseries}, index=time_index)\n",
    "    df[\"hour\"] = df.index.hour\n",
    "    agg = df.groupby([\"hour\"]).mean()\n",
    "    hourly_ghi.append(agg.ghi)\n",
    "\n",
    "hourly_ghi_np = np.array(hourly_ghi)\n",
    "avg_hourly_ghi = hourly_ghi_np.mean(axis=1)"
   ]
  },
  {
   "cell_type": "code",
   "execution_count": 127,
   "metadata": {},
   "outputs": [
    {
     "data": {
      "text/plain": [
       "array([[  0.        ,   0.        ,   0.        , ..., 186.3739726 ,\n",
       "         45.71232877,   1.10136986],\n",
       "       [  0.        ,   0.        ,   0.        , ..., 183.82876712,\n",
       "         44.59315068,   1.05616438],\n",
       "       [  0.        ,   0.        ,   0.        , ..., 132.61369863,\n",
       "         32.95890411,   0.74383562],\n",
       "       ...,\n",
       "       [  0.        ,   0.        ,   0.        , ..., 174.17260274,\n",
       "         34.7739726 ,   0.30273973],\n",
       "       [  0.        ,   0.        ,   0.        , ..., 174.9890411 ,\n",
       "         34.3890411 ,   0.29863014],\n",
       "       [  0.        ,   0.        ,   0.        , ..., 177.07123288,\n",
       "         35.2260274 ,   0.30821918]])"
      ]
     },
     "execution_count": 127,
     "metadata": {},
     "output_type": "execute_result"
    }
   ],
   "source": [
    "hourly_ghi_np"
   ]
  },
  {
   "cell_type": "code",
   "execution_count": 126,
   "metadata": {},
   "outputs": [],
   "source": []
  },
  {
   "cell_type": "code",
   "execution_count": 147,
   "metadata": {},
   "outputs": [],
   "source": [
    "column_names = [str(i) for i in range(1, 25)]\n",
    "\n",
    "# Create a DataFrame for the hourly GHI data\n",
    "ghi_df = pd.DataFrame(hourly_ghi_np, columns=column_names)\n",
    "\n",
    "# Create a list of Point geometries from the coordinates\n",
    "geometry = [Point(lon, lat) for lon, lat in pr_coords]\n",
    "\n",
    "# Create a GeoDataFrame combining the geometry and the hourly GHI data\n",
    "pr_hourly_ghi_gdf = gpd.GeoDataFrame(ghi_df, geometry=geometry, crs='EPSG:4326')\n",
    "\n",
    "pr_hourly_ghi_gdf.to_parquet('../../data/generation_and_demand/pr_hourly_ghi.parquet')\n",
    "\n",
    "ghi_columns = pr_hourly_ghi_gdf[column_names]\n",
    "\n",
    "# Normalize each row by dividing by the row's mean\n",
    "normalized_ghi = ghi_columns.apply(lambda row: row / row.mean(), axis=1)\n",
    "\n",
    "# Create a new GeoDataFrame with normalized data and geometry\n",
    "pr_hourly_ghi_normalized_gdf = gpd.GeoDataFrame(normalized_ghi, geometry=geometry, crs='EPSG:4326')\n",
    "\n",
    "pr_hourly_ghi_normalized_gdf.to_parquet('../../data/generation_and_demand/pr_hourly_ghi_normalized.parquet')"
   ]
  },
  {
   "cell_type": "code",
   "execution_count": 148,
   "metadata": {},
   "outputs": [
    {
     "data": {
      "text/html": [
       "<div>\n",
       "<style scoped>\n",
       "    .dataframe tbody tr th:only-of-type {\n",
       "        vertical-align: middle;\n",
       "    }\n",
       "\n",
       "    .dataframe tbody tr th {\n",
       "        vertical-align: top;\n",
       "    }\n",
       "\n",
       "    .dataframe thead th {\n",
       "        text-align: right;\n",
       "    }\n",
       "</style>\n",
       "<table border=\"1\" class=\"dataframe\">\n",
       "  <thead>\n",
       "    <tr style=\"text-align: right;\">\n",
       "      <th></th>\n",
       "      <th>1</th>\n",
       "      <th>2</th>\n",
       "      <th>3</th>\n",
       "      <th>4</th>\n",
       "      <th>5</th>\n",
       "      <th>6</th>\n",
       "      <th>7</th>\n",
       "      <th>8</th>\n",
       "      <th>9</th>\n",
       "      <th>10</th>\n",
       "      <th>...</th>\n",
       "      <th>16</th>\n",
       "      <th>17</th>\n",
       "      <th>18</th>\n",
       "      <th>19</th>\n",
       "      <th>20</th>\n",
       "      <th>21</th>\n",
       "      <th>22</th>\n",
       "      <th>23</th>\n",
       "      <th>24</th>\n",
       "      <th>geometry</th>\n",
       "    </tr>\n",
       "  </thead>\n",
       "  <tbody>\n",
       "    <tr>\n",
       "      <th>0</th>\n",
       "      <td>0.0</td>\n",
       "      <td>0.0</td>\n",
       "      <td>0.0</td>\n",
       "      <td>0.0</td>\n",
       "      <td>0.0</td>\n",
       "      <td>0.0</td>\n",
       "      <td>0.0</td>\n",
       "      <td>0.0</td>\n",
       "      <td>0.0</td>\n",
       "      <td>0.0</td>\n",
       "      <td>...</td>\n",
       "      <td>3.206013</td>\n",
       "      <td>3.388457</td>\n",
       "      <td>3.266460</td>\n",
       "      <td>2.877324</td>\n",
       "      <td>2.262493</td>\n",
       "      <td>1.498849</td>\n",
       "      <td>0.738974</td>\n",
       "      <td>0.181250</td>\n",
       "      <td>0.004367</td>\n",
       "      <td>POINT (-67.90000 18.09000)</td>\n",
       "    </tr>\n",
       "    <tr>\n",
       "      <th>1</th>\n",
       "      <td>0.0</td>\n",
       "      <td>0.0</td>\n",
       "      <td>0.0</td>\n",
       "      <td>0.0</td>\n",
       "      <td>0.0</td>\n",
       "      <td>0.0</td>\n",
       "      <td>0.0</td>\n",
       "      <td>0.0</td>\n",
       "      <td>0.0</td>\n",
       "      <td>0.0</td>\n",
       "      <td>...</td>\n",
       "      <td>3.203819</td>\n",
       "      <td>3.404043</td>\n",
       "      <td>3.299772</td>\n",
       "      <td>2.916939</td>\n",
       "      <td>2.271348</td>\n",
       "      <td>1.482603</td>\n",
       "      <td>0.721610</td>\n",
       "      <td>0.175048</td>\n",
       "      <td>0.004146</td>\n",
       "      <td>POINT (-67.86000 18.09000)</td>\n",
       "    </tr>\n",
       "    <tr>\n",
       "      <th>2</th>\n",
       "      <td>0.0</td>\n",
       "      <td>0.0</td>\n",
       "      <td>0.0</td>\n",
       "      <td>0.0</td>\n",
       "      <td>0.0</td>\n",
       "      <td>0.0</td>\n",
       "      <td>0.0</td>\n",
       "      <td>0.0</td>\n",
       "      <td>0.0</td>\n",
       "      <td>0.0</td>\n",
       "      <td>...</td>\n",
       "      <td>3.533830</td>\n",
       "      <td>3.521253</td>\n",
       "      <td>3.191867</td>\n",
       "      <td>2.477366</td>\n",
       "      <td>1.781598</td>\n",
       "      <td>1.142646</td>\n",
       "      <td>0.591293</td>\n",
       "      <td>0.146956</td>\n",
       "      <td>0.003317</td>\n",
       "      <td>POINT (-67.22000 18.37000)</td>\n",
       "    </tr>\n",
       "    <tr>\n",
       "      <th>3</th>\n",
       "      <td>0.0</td>\n",
       "      <td>0.0</td>\n",
       "      <td>0.0</td>\n",
       "      <td>0.0</td>\n",
       "      <td>0.0</td>\n",
       "      <td>0.0</td>\n",
       "      <td>0.0</td>\n",
       "      <td>0.0</td>\n",
       "      <td>0.0</td>\n",
       "      <td>0.0</td>\n",
       "      <td>...</td>\n",
       "      <td>3.573537</td>\n",
       "      <td>3.543294</td>\n",
       "      <td>3.140694</td>\n",
       "      <td>2.399911</td>\n",
       "      <td>1.718636</td>\n",
       "      <td>1.124174</td>\n",
       "      <td>0.578811</td>\n",
       "      <td>0.147800</td>\n",
       "      <td>0.003249</td>\n",
       "      <td>POINT (-67.22000 18.33000)</td>\n",
       "    </tr>\n",
       "    <tr>\n",
       "      <th>4</th>\n",
       "      <td>0.0</td>\n",
       "      <td>0.0</td>\n",
       "      <td>0.0</td>\n",
       "      <td>0.0</td>\n",
       "      <td>0.0</td>\n",
       "      <td>0.0</td>\n",
       "      <td>0.0</td>\n",
       "      <td>0.0</td>\n",
       "      <td>0.0</td>\n",
       "      <td>0.0</td>\n",
       "      <td>...</td>\n",
       "      <td>3.617778</td>\n",
       "      <td>3.528704</td>\n",
       "      <td>3.068434</td>\n",
       "      <td>2.282128</td>\n",
       "      <td>1.671346</td>\n",
       "      <td>1.117735</td>\n",
       "      <td>0.586318</td>\n",
       "      <td>0.145821</td>\n",
       "      <td>0.003262</td>\n",
       "      <td>POINT (-67.18000 18.33000)</td>\n",
       "    </tr>\n",
       "    <tr>\n",
       "      <th>...</th>\n",
       "      <td>...</td>\n",
       "      <td>...</td>\n",
       "      <td>...</td>\n",
       "      <td>...</td>\n",
       "      <td>...</td>\n",
       "      <td>...</td>\n",
       "      <td>...</td>\n",
       "      <td>...</td>\n",
       "      <td>...</td>\n",
       "      <td>...</td>\n",
       "      <td>...</td>\n",
       "      <td>...</td>\n",
       "      <td>...</td>\n",
       "      <td>...</td>\n",
       "      <td>...</td>\n",
       "      <td>...</td>\n",
       "      <td>...</td>\n",
       "      <td>...</td>\n",
       "      <td>...</td>\n",
       "      <td>...</td>\n",
       "      <td>...</td>\n",
       "    </tr>\n",
       "    <tr>\n",
       "      <th>470</th>\n",
       "      <td>0.0</td>\n",
       "      <td>0.0</td>\n",
       "      <td>0.0</td>\n",
       "      <td>0.0</td>\n",
       "      <td>0.0</td>\n",
       "      <td>0.0</td>\n",
       "      <td>0.0</td>\n",
       "      <td>0.0</td>\n",
       "      <td>0.0</td>\n",
       "      <td>0.0</td>\n",
       "      <td>...</td>\n",
       "      <td>3.156556</td>\n",
       "      <td>3.242088</td>\n",
       "      <td>3.150859</td>\n",
       "      <td>2.810085</td>\n",
       "      <td>2.233936</td>\n",
       "      <td>1.507137</td>\n",
       "      <td>0.728725</td>\n",
       "      <td>0.148655</td>\n",
       "      <td>0.001390</td>\n",
       "      <td>POINT (-65.46000 18.13000)</td>\n",
       "    </tr>\n",
       "    <tr>\n",
       "      <th>471</th>\n",
       "      <td>0.0</td>\n",
       "      <td>0.0</td>\n",
       "      <td>0.0</td>\n",
       "      <td>0.0</td>\n",
       "      <td>0.0</td>\n",
       "      <td>0.0</td>\n",
       "      <td>0.0</td>\n",
       "      <td>0.0</td>\n",
       "      <td>0.0</td>\n",
       "      <td>0.0</td>\n",
       "      <td>...</td>\n",
       "      <td>3.166739</td>\n",
       "      <td>3.241668</td>\n",
       "      <td>3.150415</td>\n",
       "      <td>2.806710</td>\n",
       "      <td>2.225108</td>\n",
       "      <td>1.502584</td>\n",
       "      <td>0.727003</td>\n",
       "      <td>0.146923</td>\n",
       "      <td>0.001333</td>\n",
       "      <td>POINT (-65.42000 18.13000)</td>\n",
       "    </tr>\n",
       "    <tr>\n",
       "      <th>472</th>\n",
       "      <td>0.0</td>\n",
       "      <td>0.0</td>\n",
       "      <td>0.0</td>\n",
       "      <td>0.0</td>\n",
       "      <td>0.0</td>\n",
       "      <td>0.0</td>\n",
       "      <td>0.0</td>\n",
       "      <td>0.0</td>\n",
       "      <td>0.0</td>\n",
       "      <td>0.0</td>\n",
       "      <td>...</td>\n",
       "      <td>3.173773</td>\n",
       "      <td>3.275219</td>\n",
       "      <td>3.167651</td>\n",
       "      <td>2.806991</td>\n",
       "      <td>2.216258</td>\n",
       "      <td>1.499394</td>\n",
       "      <td>0.718022</td>\n",
       "      <td>0.143355</td>\n",
       "      <td>0.001248</td>\n",
       "      <td>POINT (-65.38000 18.13000)</td>\n",
       "    </tr>\n",
       "    <tr>\n",
       "      <th>473</th>\n",
       "      <td>0.0</td>\n",
       "      <td>0.0</td>\n",
       "      <td>0.0</td>\n",
       "      <td>0.0</td>\n",
       "      <td>0.0</td>\n",
       "      <td>0.0</td>\n",
       "      <td>0.0</td>\n",
       "      <td>0.0</td>\n",
       "      <td>0.0</td>\n",
       "      <td>0.0</td>\n",
       "      <td>...</td>\n",
       "      <td>3.196537</td>\n",
       "      <td>3.299067</td>\n",
       "      <td>3.185010</td>\n",
       "      <td>2.824383</td>\n",
       "      <td>2.224166</td>\n",
       "      <td>1.491961</td>\n",
       "      <td>0.707583</td>\n",
       "      <td>0.139055</td>\n",
       "      <td>0.001208</td>\n",
       "      <td>POINT (-65.34000 18.13000)</td>\n",
       "    </tr>\n",
       "    <tr>\n",
       "      <th>474</th>\n",
       "      <td>0.0</td>\n",
       "      <td>0.0</td>\n",
       "      <td>0.0</td>\n",
       "      <td>0.0</td>\n",
       "      <td>0.0</td>\n",
       "      <td>0.0</td>\n",
       "      <td>0.0</td>\n",
       "      <td>0.0</td>\n",
       "      <td>0.0</td>\n",
       "      <td>0.0</td>\n",
       "      <td>...</td>\n",
       "      <td>3.180268</td>\n",
       "      <td>3.299109</td>\n",
       "      <td>3.153587</td>\n",
       "      <td>2.796881</td>\n",
       "      <td>2.212999</td>\n",
       "      <td>1.486400</td>\n",
       "      <td>0.713599</td>\n",
       "      <td>0.141961</td>\n",
       "      <td>0.001242</td>\n",
       "      <td>POINT (-65.30000 18.33000)</td>\n",
       "    </tr>\n",
       "  </tbody>\n",
       "</table>\n",
       "<p>475 rows × 25 columns</p>\n",
       "</div>"
      ],
      "text/plain": [
       "       1    2    3    4    5    6    7    8    9   10  ...        16  \\\n",
       "0    0.0  0.0  0.0  0.0  0.0  0.0  0.0  0.0  0.0  0.0  ...  3.206013   \n",
       "1    0.0  0.0  0.0  0.0  0.0  0.0  0.0  0.0  0.0  0.0  ...  3.203819   \n",
       "2    0.0  0.0  0.0  0.0  0.0  0.0  0.0  0.0  0.0  0.0  ...  3.533830   \n",
       "3    0.0  0.0  0.0  0.0  0.0  0.0  0.0  0.0  0.0  0.0  ...  3.573537   \n",
       "4    0.0  0.0  0.0  0.0  0.0  0.0  0.0  0.0  0.0  0.0  ...  3.617778   \n",
       "..   ...  ...  ...  ...  ...  ...  ...  ...  ...  ...  ...       ...   \n",
       "470  0.0  0.0  0.0  0.0  0.0  0.0  0.0  0.0  0.0  0.0  ...  3.156556   \n",
       "471  0.0  0.0  0.0  0.0  0.0  0.0  0.0  0.0  0.0  0.0  ...  3.166739   \n",
       "472  0.0  0.0  0.0  0.0  0.0  0.0  0.0  0.0  0.0  0.0  ...  3.173773   \n",
       "473  0.0  0.0  0.0  0.0  0.0  0.0  0.0  0.0  0.0  0.0  ...  3.196537   \n",
       "474  0.0  0.0  0.0  0.0  0.0  0.0  0.0  0.0  0.0  0.0  ...  3.180268   \n",
       "\n",
       "           17        18        19        20        21        22        23  \\\n",
       "0    3.388457  3.266460  2.877324  2.262493  1.498849  0.738974  0.181250   \n",
       "1    3.404043  3.299772  2.916939  2.271348  1.482603  0.721610  0.175048   \n",
       "2    3.521253  3.191867  2.477366  1.781598  1.142646  0.591293  0.146956   \n",
       "3    3.543294  3.140694  2.399911  1.718636  1.124174  0.578811  0.147800   \n",
       "4    3.528704  3.068434  2.282128  1.671346  1.117735  0.586318  0.145821   \n",
       "..        ...       ...       ...       ...       ...       ...       ...   \n",
       "470  3.242088  3.150859  2.810085  2.233936  1.507137  0.728725  0.148655   \n",
       "471  3.241668  3.150415  2.806710  2.225108  1.502584  0.727003  0.146923   \n",
       "472  3.275219  3.167651  2.806991  2.216258  1.499394  0.718022  0.143355   \n",
       "473  3.299067  3.185010  2.824383  2.224166  1.491961  0.707583  0.139055   \n",
       "474  3.299109  3.153587  2.796881  2.212999  1.486400  0.713599  0.141961   \n",
       "\n",
       "           24                    geometry  \n",
       "0    0.004367  POINT (-67.90000 18.09000)  \n",
       "1    0.004146  POINT (-67.86000 18.09000)  \n",
       "2    0.003317  POINT (-67.22000 18.37000)  \n",
       "3    0.003249  POINT (-67.22000 18.33000)  \n",
       "4    0.003262  POINT (-67.18000 18.33000)  \n",
       "..        ...                         ...  \n",
       "470  0.001390  POINT (-65.46000 18.13000)  \n",
       "471  0.001333  POINT (-65.42000 18.13000)  \n",
       "472  0.001248  POINT (-65.38000 18.13000)  \n",
       "473  0.001208  POINT (-65.34000 18.13000)  \n",
       "474  0.001242  POINT (-65.30000 18.33000)  \n",
       "\n",
       "[475 rows x 25 columns]"
      ]
     },
     "execution_count": 148,
     "metadata": {},
     "output_type": "execute_result"
    }
   ],
   "source": [
    "pr_hourly_ghi_normalized_gdf"
   ]
  },
  {
   "cell_type": "code",
   "execution_count": 114,
   "metadata": {
    "ExecuteTime": {
     "end_time": "2019-02-06T19:53:48.160502Z",
     "start_time": "2019-02-06T19:53:46.607119Z"
    }
   },
   "outputs": [
    {
     "name": "stdout",
     "output_type": "stream",
     "text": [
      "CPU times: user 4.14 ms, sys: 608 µs, total: 4.75 ms\n",
      "Wall time: 1.3 s\n"
     ]
    }
   ],
   "source": [
    "# Get the entire 2012 timeseries data for a point in NYC\n",
    "%time tseries = dset[:, NewYorkCity_idx] / dset.attrs['psm_scale_factor']"
   ]
  },
  {
   "cell_type": "code",
   "execution_count": 87,
   "metadata": {
    "ExecuteTime": {
     "end_time": "2019-02-06T19:53:48.165562Z",
     "start_time": "2019-02-06T19:53:48.162324Z"
    }
   },
   "outputs": [
    {
     "data": {
      "text/plain": [
       "17520"
      ]
     },
     "execution_count": 87,
     "metadata": {},
     "output_type": "execute_result"
    }
   ],
   "source": [
    "len(tseries)   # 1 years * 365 days * 24 hours * 30 minutes"
   ]
  },
  {
   "cell_type": "code",
   "execution_count": 88,
   "metadata": {
    "ExecuteTime": {
     "end_time": "2019-02-06T19:54:20.235635Z",
     "start_time": "2019-02-06T19:54:20.063966Z"
    }
   },
   "outputs": [
    {
     "data": {
      "text/plain": [
       "Text(0.5, 1.0, 'NYC ghi in 2012')"
      ]
     },
     "execution_count": 88,
     "metadata": {},
     "output_type": "execute_result"
    },
    {
     "data": {
      "image/png": "[encoded data removed]",
      "text/plain": [
       "<Figure size 640x480 with 1 Axes>"
      ]
     },
     "metadata": {},
     "output_type": "display_data"
    }
   ],
   "source": [
    "plt.plot(time_index, tseries)\n",
    "plt.ylabel(\"ghi\")\n",
    "plt.title(\"NYC ghi in 2012\")"
   ]
  },
  {
   "cell_type": "markdown",
   "metadata": {},
   "source": [
    "## GHI Statistics"
   ]
  },
  {
   "cell_type": "code",
   "execution_count": 99,
   "metadata": {
    "ExecuteTime": {
     "end_time": "2019-02-06T19:58:14.770799Z",
     "start_time": "2019-02-06T19:58:14.726103Z"
    }
   },
   "outputs": [
    {
     "data": {
      "text/plain": [
       "[0.0,\n",
       " 0.0,\n",
       " 0.0,\n",
       " 0.0,\n",
       " 0.0,\n",
       " 0.0,\n",
       " 0.0,\n",
       " 0.0,\n",
       " 0.0,\n",
       " 0.0,\n",
       " 14.767123287671232,\n",
       " 135.26849315068492,\n",
       " 340.31780821917806,\n",
       " 531.3246575342466,\n",
       " 665.068493150685,\n",
       " 731.0301369863014,\n",
       " 721.9054794520548,\n",
       " 621.686301369863,\n",
       " 506.9767123287671,\n",
       " 386.7780821917808,\n",
       " 261.32465753424657,\n",
       " 140.14520547945204,\n",
       " 34.71095890410959,\n",
       " 0.5589041095890411]"
      ]
     },
     "execution_count": 99,
     "metadata": {},
     "output_type": "execute_result"
    }
   ],
   "source": [
    "df = pd.DataFrame({'ghi': tseries}, index=time_index)\n",
    "#df[\"year\"] = df.index.year\n",
    "#df[\"month\"] = df.index.month\n",
    "#df[\"day\"] = df.index.day\n",
    "df[\"hour\"] = df.index.hour\n",
    "\n",
    "agg = df.groupby([\"hour\"]).mean()\n",
    "#agg = agg.reset_index().pivot(index=\"month\",columns=\"hour\",values=\"ghi\")\n",
    "agg.ghi.tolist()"
   ]
  },
  {
   "cell_type": "code",
   "execution_count": null,
   "metadata": {
    "ExecuteTime": {
     "end_time": "2019-02-06T19:58:30.404312Z",
     "start_time": "2019-02-06T19:58:30.214762Z"
    }
   },
   "outputs": [],
   "source": [
    "plt.imshow(agg)\n",
    "plt.xlabel(\"Hour\")\n",
    "plt.ylabel(\"Month\")\n",
    "plt.title(\"12 x 24 Mean GHI (W/m^2)\")\n",
    "plt.colorbar()"
   ]
  },
  {
   "cell_type": "code",
   "execution_count": null,
   "metadata": {},
   "outputs": [],
   "source": []
  }
 ],
 "metadata": {
  "kernelspec": {
   "display_name": "Python 3 (ipykernel)",
   "language": "python",
   "name": "python3"
  },
  "language_info": {
   "codemirror_mode": {
    "name": "ipython",
    "version": 3
   },
   "file_extension": ".py",
   "mimetype": "text/x-python",
   "name": "python",
   "nbconvert_exporter": "python",
   "pygments_lexer": "ipython3",
   "version": "3.11.6"
  }
 },
 "nbformat": 4,
 "nbformat_minor": 4
}
