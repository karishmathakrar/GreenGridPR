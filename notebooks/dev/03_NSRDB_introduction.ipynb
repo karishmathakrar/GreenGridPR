{
 "cells": [
  {
   "cell_type": "markdown",
   "metadata": {},
   "source": [
    "## NREL National Solar Radiation Database (NSRDB) - HSDS Demo"
   ]
  },
  {
   "cell_type": "markdown",
   "metadata": {},
   "source": [
    "This notebook demonstrates basic usage of the National Renewable Energy Laboratory (NREL) National Solar Radiation Database (NSRDB) data. The data is provided from Amazon Web Services using the HDF Group's Highly Scalable Data Service (HSDS).\n",
    "\n",
    "For this to work you must first install h5pyd:\n",
    "\n",
    "```\n",
    "pip install --user h5pyd\n",
    "```\n",
    "\n",
    "Next you'll need to configure HSDS:\n",
    "\n",
    "```\n",
    "hsconfigure\n",
    "```\n",
    "\n",
    "and enter at the prompt:\n",
    "\n",
    "```\n",
    "hs_endpoint = https://developer.nrel.gov/api/hsds\n",
    "hs_username = None\n",
    "hs_password = None\n",
    "hs_api_key = CLN7qg8PRpaqkkeS9STW3BvCMvh81m4UYopmVoOf\n",
    "```\n",
    "\n",
    "You can also add the above contents to a configuration file at ~/.hscfg"
   ]
  },
  {
   "cell_type": "code",
   "execution_count": 1,
   "metadata": {
    "ExecuteTime": {
     "end_time": "2019-02-06T19:48:39.175801Z",
     "start_time": "2019-02-06T19:48:39.034304Z"
    }
   },
   "outputs": [],
   "source": [
    "%matplotlib inline\n",
    "import h5pyd\n",
    "import numpy as np\n",
    "import pandas as pd\n",
    "import matplotlib.pyplot as plt\n",
    "import matplotlib.image as mpimg\n",
    "from scipy.spatial import cKDTree"
   ]
  },
  {
   "cell_type": "markdown",
   "metadata": {},
   "source": [
    "## Basic Usage\n",
    "\n",
    "The NSRDB is provided in annual .h5 files and currently spans 1998-2018.  \n",
    "Each year can be accessed from /nrel/nsrdb/nsrdb_${year}.h5"
   ]
  },
  {
   "cell_type": "code",
   "execution_count": 2,
   "metadata": {
    "ExecuteTime": {
     "end_time": "2019-02-06T18:32:02.178393Z",
     "start_time": "2019-02-06T18:32:01.822243Z"
    }
   },
   "outputs": [],
   "source": [
    "# Open the desired year of nsrdb data\n",
    "# server endpoint, username, password is found via a config file\n",
    "f = h5pyd.File(\"/nrel/nsrdb/v3/nsrdb_2019.h5\", 'r')"
   ]
  },
  {
   "cell_type": "code",
   "execution_count": 3,
   "metadata": {
    "ExecuteTime": {
     "end_time": "2019-02-06T18:32:04.318312Z",
     "start_time": "2019-02-06T18:32:03.824155Z"
    }
   },
   "outputs": [
    {
     "data": {
      "text/plain": [
       "['version']"
      ]
     },
     "execution_count": 3,
     "metadata": {},
     "output_type": "execute_result"
    }
   ],
   "source": [
    "list(f.attrs)  # list attributes belonging to the root group"
   ]
  },
  {
   "cell_type": "code",
   "execution_count": 4,
   "metadata": {
    "ExecuteTime": {
     "end_time": "2019-02-06T18:32:09.277364Z",
     "start_time": "2019-02-06T18:32:09.032427Z"
    }
   },
   "outputs": [
    {
     "data": {
      "text/plain": [
       "'3.1.1'"
      ]
     },
     "execution_count": 4,
     "metadata": {},
     "output_type": "execute_result"
    }
   ],
   "source": [
    "f.attrs['version']   # attributes can be used to provide desriptions of the content"
   ]
  },
  {
   "cell_type": "code",
   "execution_count": 5,
   "metadata": {},
   "outputs": [
    {
     "data": {
      "text/plain": [
       "['data_source',\n",
       " 'elevation_correction',\n",
       " 'physical_max',\n",
       " 'physical_min',\n",
       " 'psm_scale_factor',\n",
       " 'psm_units',\n",
       " 'scale_factor',\n",
       " 'source_dir',\n",
       " 'spatial_interp_method',\n",
       " 'temporal_interp_method',\n",
       " 'units']"
      ]
     },
     "execution_count": 5,
     "metadata": {},
     "output_type": "execute_result"
    }
   ],
   "source": [
    "list(f['wind_speed'].attrs)"
   ]
  },
  {
   "cell_type": "markdown",
   "metadata": {},
   "source": [
    "## Datasets"
   ]
  },
  {
   "cell_type": "code",
   "execution_count": 6,
   "metadata": {
    "ExecuteTime": {
     "end_time": "2019-02-06T18:33:57.735172Z",
     "start_time": "2019-02-06T18:33:57.373693Z"
    }
   },
   "outputs": [
    {
     "data": {
      "text/plain": [
       "['air_temperature',\n",
       " 'alpha',\n",
       " 'aod',\n",
       " 'asymmetry',\n",
       " 'cld_opd_dcomp',\n",
       " 'cld_reff_dcomp',\n",
       " 'clearsky_dhi',\n",
       " 'clearsky_dni',\n",
       " 'clearsky_ghi',\n",
       " 'cloud_press_acha',\n",
       " 'cloud_type',\n",
       " 'coordinates',\n",
       " 'dew_point',\n",
       " 'dhi',\n",
       " 'dni',\n",
       " 'fill_flag',\n",
       " 'ghi',\n",
       " 'meta',\n",
       " 'ozone',\n",
       " 'relative_humidity',\n",
       " 'solar_zenith_angle',\n",
       " 'ssa',\n",
       " 'surface_albedo',\n",
       " 'surface_pressure',\n",
       " 'time_index',\n",
       " 'total_precipitable_water',\n",
       " 'wind_direction',\n",
       " 'wind_speed']"
      ]
     },
     "execution_count": 6,
     "metadata": {},
     "output_type": "execute_result"
    }
   ],
   "source": [
    "list(f)  # list the datasets in the file"
   ]
  },
  {
   "cell_type": "code",
   "execution_count": 7,
   "metadata": {
    "ExecuteTime": {
     "end_time": "2019-02-06T18:34:32.751989Z",
     "start_time": "2019-02-06T18:34:32.630250Z"
    }
   },
   "outputs": [
    {
     "data": {
      "text/plain": [
       "(17520, 2018392)"
      ]
     },
     "execution_count": 7,
     "metadata": {},
     "output_type": "execute_result"
    }
   ],
   "source": [
    "# Datasets are stored in a 2d array of time x location\n",
    "dset = f['wind_speed']\n",
    "dset.shape"
   ]
  },
  {
   "cell_type": "code",
   "execution_count": 8,
   "metadata": {
    "ExecuteTime": {
     "end_time": "2019-02-06T18:45:17.972025Z",
     "start_time": "2019-02-06T18:45:17.286944Z"
    }
   },
   "outputs": [
    {
     "data": {
      "text/plain": [
       "DatetimeIndex(['2019-01-01 00:00:00', '2019-01-01 00:30:00',\n",
       "               '2019-01-01 01:00:00', '2019-01-01 01:30:00',\n",
       "               '2019-01-01 02:00:00', '2019-01-01 02:30:00',\n",
       "               '2019-01-01 03:00:00', '2019-01-01 03:30:00',\n",
       "               '2019-01-01 04:00:00', '2019-01-01 04:30:00',\n",
       "               ...\n",
       "               '2019-12-31 19:00:00', '2019-12-31 19:30:00',\n",
       "               '2019-12-31 20:00:00', '2019-12-31 20:30:00',\n",
       "               '2019-12-31 21:00:00', '2019-12-31 21:30:00',\n",
       "               '2019-12-31 22:00:00', '2019-12-31 22:30:00',\n",
       "               '2019-12-31 23:00:00', '2019-12-31 23:30:00'],\n",
       "              dtype='datetime64[ns]', length=17520, freq=None)"
      ]
     },
     "execution_count": 8,
     "metadata": {},
     "output_type": "execute_result"
    }
   ],
   "source": [
    "# Extract datetime index for datasets\n",
    "time_index = pd.to_datetime(f['time_index'][...].astype(str))\n",
    "time_index # Temporal resolution is 30min"
   ]
  },
  {
   "cell_type": "code",
   "execution_count": 9,
   "metadata": {
    "ExecuteTime": {
     "end_time": "2019-02-06T18:46:51.882658Z",
     "start_time": "2019-02-06T18:46:06.078162Z"
    }
   },
   "outputs": [
    {
     "data": {
      "text/html": [
       "<div>\n",
       "<style scoped>\n",
       "    .dataframe tbody tr th:only-of-type {\n",
       "        vertical-align: middle;\n",
       "    }\n",
       "\n",
       "    .dataframe tbody tr th {\n",
       "        vertical-align: top;\n",
       "    }\n",
       "\n",
       "    .dataframe thead th {\n",
       "        text-align: right;\n",
       "    }\n",
       "</style>\n",
       "<table border=\"1\" class=\"dataframe\">\n",
       "  <thead>\n",
       "    <tr style=\"text-align: right;\">\n",
       "      <th></th>\n",
       "      <th>latitude</th>\n",
       "      <th>longitude</th>\n",
       "      <th>elevation</th>\n",
       "      <th>timezone</th>\n",
       "      <th>country</th>\n",
       "      <th>state</th>\n",
       "      <th>county</th>\n",
       "      <th>urban</th>\n",
       "      <th>population</th>\n",
       "      <th>landcover</th>\n",
       "    </tr>\n",
       "  </thead>\n",
       "  <tbody>\n",
       "    <tr>\n",
       "      <th>0</th>\n",
       "      <td>-19.99</td>\n",
       "      <td>-175.259995</td>\n",
       "      <td>0.0</td>\n",
       "      <td>13</td>\n",
       "      <td>b'None'</td>\n",
       "      <td>b'None'</td>\n",
       "      <td>b'None'</td>\n",
       "      <td>b'None'</td>\n",
       "      <td>-9999</td>\n",
       "      <td>210</td>\n",
       "    </tr>\n",
       "    <tr>\n",
       "      <th>1</th>\n",
       "      <td>-19.99</td>\n",
       "      <td>-175.220001</td>\n",
       "      <td>0.0</td>\n",
       "      <td>13</td>\n",
       "      <td>b'None'</td>\n",
       "      <td>b'None'</td>\n",
       "      <td>b'None'</td>\n",
       "      <td>b'None'</td>\n",
       "      <td>-9999</td>\n",
       "      <td>210</td>\n",
       "    </tr>\n",
       "    <tr>\n",
       "      <th>2</th>\n",
       "      <td>-19.99</td>\n",
       "      <td>-175.179993</td>\n",
       "      <td>0.0</td>\n",
       "      <td>13</td>\n",
       "      <td>b'None'</td>\n",
       "      <td>b'None'</td>\n",
       "      <td>b'None'</td>\n",
       "      <td>b'None'</td>\n",
       "      <td>-9999</td>\n",
       "      <td>210</td>\n",
       "    </tr>\n",
       "    <tr>\n",
       "      <th>3</th>\n",
       "      <td>-19.99</td>\n",
       "      <td>-175.139999</td>\n",
       "      <td>0.0</td>\n",
       "      <td>13</td>\n",
       "      <td>b'None'</td>\n",
       "      <td>b'None'</td>\n",
       "      <td>b'None'</td>\n",
       "      <td>b'None'</td>\n",
       "      <td>-9999</td>\n",
       "      <td>210</td>\n",
       "    </tr>\n",
       "    <tr>\n",
       "      <th>4</th>\n",
       "      <td>-19.99</td>\n",
       "      <td>-175.100006</td>\n",
       "      <td>0.0</td>\n",
       "      <td>13</td>\n",
       "      <td>b'None'</td>\n",
       "      <td>b'None'</td>\n",
       "      <td>b'None'</td>\n",
       "      <td>b'None'</td>\n",
       "      <td>-9999</td>\n",
       "      <td>210</td>\n",
       "    </tr>\n",
       "  </tbody>\n",
       "</table>\n",
       "</div>"
      ],
      "text/plain": [
       "   latitude   longitude  elevation  timezone  country    state   county  \\\n",
       "0    -19.99 -175.259995        0.0        13  b'None'  b'None'  b'None'   \n",
       "1    -19.99 -175.220001        0.0        13  b'None'  b'None'  b'None'   \n",
       "2    -19.99 -175.179993        0.0        13  b'None'  b'None'  b'None'   \n",
       "3    -19.99 -175.139999        0.0        13  b'None'  b'None'  b'None'   \n",
       "4    -19.99 -175.100006        0.0        13  b'None'  b'None'  b'None'   \n",
       "\n",
       "     urban  population  landcover  \n",
       "0  b'None'       -9999        210  \n",
       "1  b'None'       -9999        210  \n",
       "2  b'None'       -9999        210  \n",
       "3  b'None'       -9999        210  \n",
       "4  b'None'       -9999        210  "
      ]
     },
     "execution_count": 9,
     "metadata": {},
     "output_type": "execute_result"
    }
   ],
   "source": [
    "# Locational information is stored in either 'meta' or 'coordinates'\n",
    "meta = pd.DataFrame(f['meta'][...])\n",
    "meta.head()"
   ]
  },
  {
   "cell_type": "code",
   "execution_count": 11,
   "metadata": {},
   "outputs": [
    {
     "data": {
      "text/html": [
       "<div>\n",
       "<style scoped>\n",
       "    .dataframe tbody tr th:only-of-type {\n",
       "        vertical-align: middle;\n",
       "    }\n",
       "\n",
       "    .dataframe tbody tr th {\n",
       "        vertical-align: top;\n",
       "    }\n",
       "\n",
       "    .dataframe thead th {\n",
       "        text-align: right;\n",
       "    }\n",
       "</style>\n",
       "<table border=\"1\" class=\"dataframe\">\n",
       "  <thead>\n",
       "    <tr style=\"text-align: right;\">\n",
       "      <th></th>\n",
       "      <th>latitude</th>\n",
       "      <th>longitude</th>\n",
       "      <th>elevation</th>\n",
       "      <th>timezone</th>\n",
       "      <th>country</th>\n",
       "      <th>state</th>\n",
       "      <th>county</th>\n",
       "      <th>urban</th>\n",
       "      <th>population</th>\n",
       "      <th>landcover</th>\n",
       "    </tr>\n",
       "  </thead>\n",
       "  <tbody>\n",
       "    <tr>\n",
       "      <th>1440562</th>\n",
       "      <td>18.090000</td>\n",
       "      <td>-67.900002</td>\n",
       "      <td>66.000000</td>\n",
       "      <td>-4</td>\n",
       "      <td>b'Puerto Rico'</td>\n",
       "      <td>b'PRI-00 (Puerto Rico aggregatio'</td>\n",
       "      <td>b'None'</td>\n",
       "      <td>b'None'</td>\n",
       "      <td>0</td>\n",
       "      <td>120</td>\n",
       "    </tr>\n",
       "    <tr>\n",
       "      <th>1441326</th>\n",
       "      <td>18.090000</td>\n",
       "      <td>-67.860001</td>\n",
       "      <td>48.250000</td>\n",
       "      <td>-4</td>\n",
       "      <td>b'Puerto Rico'</td>\n",
       "      <td>b'PRI-00 (Puerto Rico aggregatio'</td>\n",
       "      <td>b'None'</td>\n",
       "      <td>b'None'</td>\n",
       "      <td>3</td>\n",
       "      <td>20</td>\n",
       "    </tr>\n",
       "    <tr>\n",
       "      <th>1459759</th>\n",
       "      <td>18.370001</td>\n",
       "      <td>-67.220001</td>\n",
       "      <td>18.684210</td>\n",
       "      <td>-4</td>\n",
       "      <td>b'Puerto Rico'</td>\n",
       "      <td>b'PRI-00 (Puerto Rico aggregatio'</td>\n",
       "      <td>b'None'</td>\n",
       "      <td>b'Mayaguez'</td>\n",
       "      <td>5454</td>\n",
       "      <td>30</td>\n",
       "    </tr>\n",
       "    <tr>\n",
       "      <th>1460550</th>\n",
       "      <td>18.330000</td>\n",
       "      <td>-67.220001</td>\n",
       "      <td>74.949997</td>\n",
       "      <td>-4</td>\n",
       "      <td>b'Puerto Rico'</td>\n",
       "      <td>b'PRI-00 (Puerto Rico aggregatio'</td>\n",
       "      <td>b'None'</td>\n",
       "      <td>b'Mayaguez'</td>\n",
       "      <td>5684</td>\n",
       "      <td>30</td>\n",
       "    </tr>\n",
       "    <tr>\n",
       "      <th>1460837</th>\n",
       "      <td>18.330000</td>\n",
       "      <td>-67.180000</td>\n",
       "      <td>159.199997</td>\n",
       "      <td>-4</td>\n",
       "      <td>b'Puerto Rico'</td>\n",
       "      <td>b'PRI-00 (Puerto Rico aggregatio'</td>\n",
       "      <td>b'None'</td>\n",
       "      <td>b'Mayaguez'</td>\n",
       "      <td>7397</td>\n",
       "      <td>30</td>\n",
       "    </tr>\n",
       "    <tr>\n",
       "      <th>...</th>\n",
       "      <td>...</td>\n",
       "      <td>...</td>\n",
       "      <td>...</td>\n",
       "      <td>...</td>\n",
       "      <td>...</td>\n",
       "      <td>...</td>\n",
       "      <td>...</td>\n",
       "      <td>...</td>\n",
       "      <td>...</td>\n",
       "      <td>...</td>\n",
       "    </tr>\n",
       "    <tr>\n",
       "      <th>1512413</th>\n",
       "      <td>18.129999</td>\n",
       "      <td>-65.459999</td>\n",
       "      <td>55.882355</td>\n",
       "      <td>-4</td>\n",
       "      <td>b'Puerto Rico'</td>\n",
       "      <td>b'PRI-00 (Puerto Rico aggregatio'</td>\n",
       "      <td>b'None'</td>\n",
       "      <td>b'None'</td>\n",
       "      <td>4533</td>\n",
       "      <td>30</td>\n",
       "    </tr>\n",
       "    <tr>\n",
       "      <th>1514045</th>\n",
       "      <td>18.129999</td>\n",
       "      <td>-65.419998</td>\n",
       "      <td>55.799999</td>\n",
       "      <td>-4</td>\n",
       "      <td>b'Puerto Rico'</td>\n",
       "      <td>b'PRI-00 (Puerto Rico aggregatio'</td>\n",
       "      <td>b'None'</td>\n",
       "      <td>b'None'</td>\n",
       "      <td>2055</td>\n",
       "      <td>40</td>\n",
       "    </tr>\n",
       "    <tr>\n",
       "      <th>1515288</th>\n",
       "      <td>18.129999</td>\n",
       "      <td>-65.379997</td>\n",
       "      <td>33.200001</td>\n",
       "      <td>-4</td>\n",
       "      <td>b'Puerto Rico'</td>\n",
       "      <td>b'PRI-00 (Puerto Rico aggregatio'</td>\n",
       "      <td>b'None'</td>\n",
       "      <td>b'None'</td>\n",
       "      <td>35</td>\n",
       "      <td>40</td>\n",
       "    </tr>\n",
       "    <tr>\n",
       "      <th>1516882</th>\n",
       "      <td>18.129999</td>\n",
       "      <td>-65.339996</td>\n",
       "      <td>26.176470</td>\n",
       "      <td>-4</td>\n",
       "      <td>b'Puerto Rico'</td>\n",
       "      <td>b'PRI-00 (Puerto Rico aggregatio'</td>\n",
       "      <td>b'None'</td>\n",
       "      <td>b'None'</td>\n",
       "      <td>0</td>\n",
       "      <td>210</td>\n",
       "    </tr>\n",
       "    <tr>\n",
       "      <th>1517812</th>\n",
       "      <td>18.330000</td>\n",
       "      <td>-65.300003</td>\n",
       "      <td>73.000000</td>\n",
       "      <td>-4</td>\n",
       "      <td>b'Puerto Rico'</td>\n",
       "      <td>b'PRI-00 (Puerto Rico aggregatio'</td>\n",
       "      <td>b'None'</td>\n",
       "      <td>b'None'</td>\n",
       "      <td>135</td>\n",
       "      <td>210</td>\n",
       "    </tr>\n",
       "  </tbody>\n",
       "</table>\n",
       "<p>475 rows × 10 columns</p>\n",
       "</div>"
      ],
      "text/plain": [
       "          latitude  longitude   elevation  timezone         country  \\\n",
       "1440562  18.090000 -67.900002   66.000000        -4  b'Puerto Rico'   \n",
       "1441326  18.090000 -67.860001   48.250000        -4  b'Puerto Rico'   \n",
       "1459759  18.370001 -67.220001   18.684210        -4  b'Puerto Rico'   \n",
       "1460550  18.330000 -67.220001   74.949997        -4  b'Puerto Rico'   \n",
       "1460837  18.330000 -67.180000  159.199997        -4  b'Puerto Rico'   \n",
       "...            ...        ...         ...       ...             ...   \n",
       "1512413  18.129999 -65.459999   55.882355        -4  b'Puerto Rico'   \n",
       "1514045  18.129999 -65.419998   55.799999        -4  b'Puerto Rico'   \n",
       "1515288  18.129999 -65.379997   33.200001        -4  b'Puerto Rico'   \n",
       "1516882  18.129999 -65.339996   26.176470        -4  b'Puerto Rico'   \n",
       "1517812  18.330000 -65.300003   73.000000        -4  b'Puerto Rico'   \n",
       "\n",
       "                                     state   county        urban  population  \\\n",
       "1440562  b'PRI-00 (Puerto Rico aggregatio'  b'None'      b'None'           0   \n",
       "1441326  b'PRI-00 (Puerto Rico aggregatio'  b'None'      b'None'           3   \n",
       "1459759  b'PRI-00 (Puerto Rico aggregatio'  b'None'  b'Mayaguez'        5454   \n",
       "1460550  b'PRI-00 (Puerto Rico aggregatio'  b'None'  b'Mayaguez'        5684   \n",
       "1460837  b'PRI-00 (Puerto Rico aggregatio'  b'None'  b'Mayaguez'        7397   \n",
       "...                                    ...      ...          ...         ...   \n",
       "1512413  b'PRI-00 (Puerto Rico aggregatio'  b'None'      b'None'        4533   \n",
       "1514045  b'PRI-00 (Puerto Rico aggregatio'  b'None'      b'None'        2055   \n",
       "1515288  b'PRI-00 (Puerto Rico aggregatio'  b'None'      b'None'          35   \n",
       "1516882  b'PRI-00 (Puerto Rico aggregatio'  b'None'      b'None'           0   \n",
       "1517812  b'PRI-00 (Puerto Rico aggregatio'  b'None'      b'None'         135   \n",
       "\n",
       "         landcover  \n",
       "1440562        120  \n",
       "1441326         20  \n",
       "1459759         30  \n",
       "1460550         30  \n",
       "1460837         30  \n",
       "...            ...  \n",
       "1512413         30  \n",
       "1514045         40  \n",
       "1515288         40  \n",
       "1516882        210  \n",
       "1517812        210  \n",
       "\n",
       "[475 rows x 10 columns]"
      ]
     },
     "execution_count": 11,
     "metadata": {},
     "output_type": "execute_result"
    }
   ],
   "source": [
    "meta[meta.state == b'PRI-00 (Puerto Rico aggregatio']"
   ]
  },
  {
   "cell_type": "code",
   "execution_count": 12,
   "metadata": {
    "ExecuteTime": {
     "end_time": "2019-02-06T18:47:46.899747Z",
     "start_time": "2019-02-06T18:47:46.896662Z"
    }
   },
   "outputs": [
    {
     "data": {
      "text/plain": [
       "dtype('uint16')"
      ]
     },
     "execution_count": 12,
     "metadata": {},
     "output_type": "execute_result"
    }
   ],
   "source": [
    "# Datasets have been saved as integers\n",
    "dset.dtype"
   ]
  },
  {
   "cell_type": "code",
   "execution_count": 13,
   "metadata": {
    "ExecuteTime": {
     "end_time": "2019-02-06T18:47:51.066179Z",
     "start_time": "2019-02-06T18:47:51.062426Z"
    }
   },
   "outputs": [
    {
     "data": {
      "text/plain": [
       "70.72445568"
      ]
     },
     "execution_count": 13,
     "metadata": {},
     "output_type": "execute_result"
    }
   ],
   "source": [
    "dset.shape[0] * dset.shape[1] * 2 * 10**-9 # 70 GB per dataset!"
   ]
  },
  {
   "cell_type": "code",
   "execution_count": 14,
   "metadata": {
    "ExecuteTime": {
     "end_time": "2019-02-06T18:47:57.377851Z",
     "start_time": "2019-02-06T18:47:57.374273Z"
    }
   },
   "outputs": [
    {
     "data": {
      "text/plain": [
       "(2688, 372)"
      ]
     },
     "execution_count": 14,
     "metadata": {},
     "output_type": "execute_result"
    }
   ],
   "source": [
    "dset.chunks # Chunked by week"
   ]
  },
  {
   "cell_type": "code",
   "execution_count": 15,
   "metadata": {
    "ExecuteTime": {
     "end_time": "2019-02-06T18:47:58.010112Z",
     "start_time": "2019-02-06T18:47:58.005677Z"
    }
   },
   "outputs": [
    {
     "data": {
      "text/plain": [
       "1.9998719999999999"
      ]
     },
     "execution_count": 15,
     "metadata": {},
     "output_type": "execute_result"
    }
   ],
   "source": [
    "dset.chunks[0] * dset.chunks[1] * 2 * 10**-6 # 2 MB per chunk"
   ]
  },
  {
   "cell_type": "code",
   "execution_count": 16,
   "metadata": {
    "ExecuteTime": {
     "end_time": "2019-02-06T18:49:17.786073Z",
     "start_time": "2019-02-06T18:49:17.671184Z"
    }
   },
   "outputs": [
    {
     "data": {
      "text/plain": [
       "10.0"
      ]
     },
     "execution_count": 16,
     "metadata": {},
     "output_type": "execute_result"
    }
   ],
   "source": [
    "# To convert dataset values back to floats use the 'psm_scale_factor'\n",
    "dset.attrs['psm_scale_factor'] # Irradiance values have been truncated to integer precision"
   ]
  },
  {
   "cell_type": "code",
   "execution_count": 17,
   "metadata": {
    "ExecuteTime": {
     "end_time": "2019-02-06T18:52:13.089310Z",
     "start_time": "2019-02-06T18:52:12.342907Z"
    }
   },
   "outputs": [
    {
     "name": "stdout",
     "output_type": "stream",
     "text": [
      "wind_speed scale factor =  10.0\n"
     ]
    },
    {
     "data": {
      "text/plain": [
       "5.1"
      ]
     },
     "execution_count": 17,
     "metadata": {},
     "output_type": "execute_result"
    }
   ],
   "source": [
    "# wind speed on the other hand has single decimal percision when scaled by 10\n",
    "scale_factor = f['wind_speed'].attrs['psm_scale_factor']\n",
    "units = f['wind_speed'].attrs['psm_units']\n",
    "print('wind_speed scale factor = ', scale_factor)\n",
    "# print('wind_speed units after unscaling = ', units)\n",
    "f['wind_speed'][0, 0] / scale_factor # divide by scale_factor to return native value"
   ]
  },
  {
   "cell_type": "markdown",
   "metadata": {},
   "source": [
    "## Time-slicing"
   ]
  },
  {
   "cell_type": "markdown",
   "metadata": {},
   "source": [
    "Get the time_index from the server and convert to a pandas DatetimeIndex for convenience:"
   ]
  },
  {
   "cell_type": "code",
   "execution_count": 18,
   "metadata": {
    "ExecuteTime": {
     "end_time": "2019-02-06T18:57:48.925869Z",
     "start_time": "2019-02-06T18:57:47.990623Z"
    }
   },
   "outputs": [
    {
     "data": {
      "text/plain": [
       "DatetimeIndex(['2019-01-01 00:00:00', '2019-01-01 00:30:00',\n",
       "               '2019-01-01 01:00:00', '2019-01-01 01:30:00',\n",
       "               '2019-01-01 02:00:00', '2019-01-01 02:30:00',\n",
       "               '2019-01-01 03:00:00', '2019-01-01 03:30:00',\n",
       "               '2019-01-01 04:00:00', '2019-01-01 04:30:00',\n",
       "               ...\n",
       "               '2019-12-31 19:00:00', '2019-12-31 19:30:00',\n",
       "               '2019-12-31 20:00:00', '2019-12-31 20:30:00',\n",
       "               '2019-12-31 21:00:00', '2019-12-31 21:30:00',\n",
       "               '2019-12-31 22:00:00', '2019-12-31 22:30:00',\n",
       "               '2019-12-31 23:00:00', '2019-12-31 23:30:00'],\n",
       "              dtype='datetime64[ns]', length=17520, freq=None)"
      ]
     },
     "execution_count": 18,
     "metadata": {},
     "output_type": "execute_result"
    }
   ],
   "source": [
    "time_index = pd.to_datetime(f['time_index'][...].astype(str))\n",
    "time_index"
   ]
  },
  {
   "cell_type": "markdown",
   "metadata": {},
   "source": [
    "Extract indexes for a particular span of time:"
   ]
  },
  {
   "cell_type": "code",
   "execution_count": 19,
   "metadata": {
    "ExecuteTime": {
     "end_time": "2019-02-06T19:00:14.646068Z",
     "start_time": "2019-02-06T19:00:14.641059Z"
    }
   },
   "outputs": [
    {
     "data": {
      "text/plain": [
       "array([2832, 2833, 2834, ..., 4317, 4318, 4319])"
      ]
     },
     "execution_count": 19,
     "metadata": {},
     "output_type": "execute_result"
    }
   ],
   "source": [
    "march = time_index.month == 3\n",
    "np.where(march)[0]"
   ]
  },
  {
   "cell_type": "markdown",
   "metadata": {},
   "source": [
    "Or a particular date:"
   ]
  },
  {
   "cell_type": "code",
   "execution_count": 20,
   "metadata": {
    "ExecuteTime": {
     "end_time": "2019-02-06T19:16:18.978254Z",
     "start_time": "2019-02-06T19:16:18.973874Z"
    }
   },
   "outputs": [
    {
     "data": {
      "text/plain": [
       "8832"
      ]
     },
     "execution_count": 20,
     "metadata": {},
     "output_type": "execute_result"
    }
   ],
   "source": [
    "timestep = np.where(time_index == '2019-07-04 00:00:00')[0][0]\n",
    "timestep"
   ]
  },
  {
   "cell_type": "markdown",
   "metadata": {},
   "source": [
    "## Map Data"
   ]
  },
  {
   "cell_type": "code",
   "execution_count": 21,
   "metadata": {
    "ExecuteTime": {
     "end_time": "2019-02-06T19:16:28.086246Z",
     "start_time": "2019-02-06T19:16:24.814153Z"
    }
   },
   "outputs": [
    {
     "name": "stdout",
     "output_type": "stream",
     "text": [
      "{'description': '(latitude, longitude)'}\n"
     ]
    }
   ],
   "source": [
    "# Extract coordinates (lat, lon)\n",
    "print(dict(f['coordinates'].attrs))\n",
    "coords = f['coordinates'][...]"
   ]
  },
  {
   "cell_type": "code",
   "execution_count": 67,
   "metadata": {
    "ExecuteTime": {
     "end_time": "2019-02-06T19:30:40.930339Z",
     "start_time": "2019-02-06T19:30:37.902430Z"
    }
   },
   "outputs": [
    {
     "name": "stdout",
     "output_type": "stream",
     "text": [
      "CPU times: user 8.95 ms, sys: 3.25 ms, total: 12.2 ms\n",
      "Wall time: 38.2 s\n"
     ]
    }
   ],
   "source": [
    "dset = f['wind_speed']\n",
    "%time data = dset[timestep, ::10]   # extract every 10th location at a particular time\n",
    "df = pd.DataFrame() # Combine data with coordinates in a DataFrame\n",
    "df['longitude'] = coords[::10, 1]\n",
    "df['latitude'] = coords[::10, 0]\n",
    "df['wind_speed'] = data"
   ]
  },
  {
   "cell_type": "code",
   "execution_count": 53,
   "metadata": {},
   "outputs": [],
   "source": [
    "dset = f['wind_speed']"
   ]
  },
  {
   "cell_type": "code",
   "execution_count": 54,
   "metadata": {},
   "outputs": [
    {
     "data": {
      "text/plain": [
       "<HDF5 dataset \"wind_speed\": shape (17520, 2018392), type \"<u2\">"
      ]
     },
     "execution_count": 54,
     "metadata": {},
     "output_type": "execute_result"
    }
   ],
   "source": [
    "dset"
   ]
  },
  {
   "cell_type": "code",
   "execution_count": 59,
   "metadata": {
    "ExecuteTime": {
     "end_time": "2019-02-06T19:30:40.935891Z",
     "start_time": "2019-02-06T19:30:40.932229Z"
    }
   },
   "outputs": [
    {
     "data": {
      "text/plain": [
       "(201840, 3)"
      ]
     },
     "execution_count": 59,
     "metadata": {},
     "output_type": "execute_result"
    }
   ],
   "source": [
    "df.shape"
   ]
  },
  {
   "cell_type": "code",
   "execution_count": 60,
   "metadata": {},
   "outputs": [
    {
     "data": {
      "text/html": [
       "<div>\n",
       "<style scoped>\n",
       "    .dataframe tbody tr th:only-of-type {\n",
       "        vertical-align: middle;\n",
       "    }\n",
       "\n",
       "    .dataframe tbody tr th {\n",
       "        vertical-align: top;\n",
       "    }\n",
       "\n",
       "    .dataframe thead th {\n",
       "        text-align: right;\n",
       "    }\n",
       "</style>\n",
       "<table border=\"1\" class=\"dataframe\">\n",
       "  <thead>\n",
       "    <tr style=\"text-align: right;\">\n",
       "      <th></th>\n",
       "      <th>longitude</th>\n",
       "      <th>latitude</th>\n",
       "      <th>wind_speed</th>\n",
       "    </tr>\n",
       "  </thead>\n",
       "  <tbody>\n",
       "    <tr>\n",
       "      <th>0</th>\n",
       "      <td>-175.259995</td>\n",
       "      <td>-19.990000</td>\n",
       "      <td>9.3</td>\n",
       "    </tr>\n",
       "    <tr>\n",
       "      <th>1</th>\n",
       "      <td>-174.860001</td>\n",
       "      <td>-19.990000</td>\n",
       "      <td>9.3</td>\n",
       "    </tr>\n",
       "    <tr>\n",
       "      <th>2</th>\n",
       "      <td>-174.179993</td>\n",
       "      <td>-19.990000</td>\n",
       "      <td>9.4</td>\n",
       "    </tr>\n",
       "    <tr>\n",
       "      <th>3</th>\n",
       "      <td>-158.139999</td>\n",
       "      <td>-19.990000</td>\n",
       "      <td>11.2</td>\n",
       "    </tr>\n",
       "    <tr>\n",
       "      <th>4</th>\n",
       "      <td>-157.740005</td>\n",
       "      <td>-19.990000</td>\n",
       "      <td>11.3</td>\n",
       "    </tr>\n",
       "    <tr>\n",
       "      <th>...</th>\n",
       "      <td>...</td>\n",
       "      <td>...</td>\n",
       "      <td>...</td>\n",
       "    </tr>\n",
       "    <tr>\n",
       "      <th>201835</th>\n",
       "      <td>179.740005</td>\n",
       "      <td>51.930000</td>\n",
       "      <td>5.0</td>\n",
       "    </tr>\n",
       "    <tr>\n",
       "      <th>201836</th>\n",
       "      <td>179.779999</td>\n",
       "      <td>52.009998</td>\n",
       "      <td>5.0</td>\n",
       "    </tr>\n",
       "    <tr>\n",
       "      <th>201837</th>\n",
       "      <td>179.779999</td>\n",
       "      <td>52.169998</td>\n",
       "      <td>5.0</td>\n",
       "    </tr>\n",
       "    <tr>\n",
       "      <th>201838</th>\n",
       "      <td>179.820007</td>\n",
       "      <td>51.689999</td>\n",
       "      <td>5.0</td>\n",
       "    </tr>\n",
       "    <tr>\n",
       "      <th>201839</th>\n",
       "      <td>179.860001</td>\n",
       "      <td>51.770000</td>\n",
       "      <td>5.0</td>\n",
       "    </tr>\n",
       "  </tbody>\n",
       "</table>\n",
       "<p>201840 rows × 3 columns</p>\n",
       "</div>"
      ],
      "text/plain": [
       "         longitude   latitude  wind_speed\n",
       "0      -175.259995 -19.990000         9.3\n",
       "1      -174.860001 -19.990000         9.3\n",
       "2      -174.179993 -19.990000         9.4\n",
       "3      -158.139999 -19.990000        11.2\n",
       "4      -157.740005 -19.990000        11.3\n",
       "...            ...        ...         ...\n",
       "201835  179.740005  51.930000         5.0\n",
       "201836  179.779999  52.009998         5.0\n",
       "201837  179.779999  52.169998         5.0\n",
       "201838  179.820007  51.689999         5.0\n",
       "201839  179.860001  51.770000         5.0\n",
       "\n",
       "[201840 rows x 3 columns]"
      ]
     },
     "execution_count": 60,
     "metadata": {},
     "output_type": "execute_result"
    }
   ],
   "source": [
    "df"
   ]
  },
  {
   "cell_type": "code",
   "execution_count": 68,
   "metadata": {
    "ExecuteTime": {
     "end_time": "2019-02-06T19:30:50.703645Z",
     "start_time": "2019-02-06T19:30:44.870411Z"
    }
   },
   "outputs": [
    {
     "data": {
      "image/png": "[encoded data removed]",
      "text/plain": [
       "<Figure size 640x480 with 2 Axes>"
      ]
     },
     "metadata": {},
     "output_type": "display_data"
    }
   ],
   "source": [
    "df.plot.scatter(x='longitude', y='latitude', c='wind_speed',\n",
    "                colormap='YlOrRd',\n",
    "                title=str(time_index[timestep]))\n",
    "plt.show()"
   ]
  },
  {
   "cell_type": "code",
   "execution_count": 27,
   "metadata": {
    "ExecuteTime": {
     "end_time": "2019-02-06T19:38:03.467178Z",
     "start_time": "2019-02-06T19:38:03.343285Z"
    }
   },
   "outputs": [
    {
     "data": {
      "text/html": [
       "<div>\n",
       "<style scoped>\n",
       "    .dataframe tbody tr th:only-of-type {\n",
       "        vertical-align: middle;\n",
       "    }\n",
       "\n",
       "    .dataframe tbody tr th {\n",
       "        vertical-align: top;\n",
       "    }\n",
       "\n",
       "    .dataframe thead th {\n",
       "        text-align: right;\n",
       "    }\n",
       "</style>\n",
       "<table border=\"1\" class=\"dataframe\">\n",
       "  <thead>\n",
       "    <tr style=\"text-align: right;\">\n",
       "      <th></th>\n",
       "      <th>latitude</th>\n",
       "      <th>longitude</th>\n",
       "      <th>elevation</th>\n",
       "      <th>timezone</th>\n",
       "      <th>country</th>\n",
       "      <th>state</th>\n",
       "      <th>county</th>\n",
       "      <th>urban</th>\n",
       "      <th>population</th>\n",
       "      <th>landcover</th>\n",
       "    </tr>\n",
       "  </thead>\n",
       "  <tbody>\n",
       "    <tr>\n",
       "      <th>70276</th>\n",
       "      <td>32.529999</td>\n",
       "      <td>-117.099998</td>\n",
       "      <td>55.062500</td>\n",
       "      <td>-8</td>\n",
       "      <td>b'United States'</td>\n",
       "      <td>b'California'</td>\n",
       "      <td>b'San Diego'</td>\n",
       "      <td>b'None'</td>\n",
       "      <td>32326</td>\n",
       "      <td>130</td>\n",
       "    </tr>\n",
       "    <tr>\n",
       "      <th>70588</th>\n",
       "      <td>32.570000</td>\n",
       "      <td>-117.099998</td>\n",
       "      <td>7.100000</td>\n",
       "      <td>-8</td>\n",
       "      <td>b'United States'</td>\n",
       "      <td>b'California'</td>\n",
       "      <td>b'San Diego'</td>\n",
       "      <td>b'Tijuana'</td>\n",
       "      <td>27971</td>\n",
       "      <td>190</td>\n",
       "    </tr>\n",
       "    <tr>\n",
       "      <th>70589</th>\n",
       "      <td>32.570000</td>\n",
       "      <td>-117.059998</td>\n",
       "      <td>24.920000</td>\n",
       "      <td>-8</td>\n",
       "      <td>b'United States'</td>\n",
       "      <td>b'California'</td>\n",
       "      <td>b'San Diego'</td>\n",
       "      <td>b'Tijuana'</td>\n",
       "      <td>51608</td>\n",
       "      <td>190</td>\n",
       "    </tr>\n",
       "    <tr>\n",
       "      <th>70590</th>\n",
       "      <td>32.570000</td>\n",
       "      <td>-117.019997</td>\n",
       "      <td>96.599998</td>\n",
       "      <td>-8</td>\n",
       "      <td>b'United States'</td>\n",
       "      <td>b'California'</td>\n",
       "      <td>b'San Diego'</td>\n",
       "      <td>b'Tijuana'</td>\n",
       "      <td>15236</td>\n",
       "      <td>110</td>\n",
       "    </tr>\n",
       "    <tr>\n",
       "      <th>70591</th>\n",
       "      <td>32.570000</td>\n",
       "      <td>-116.980003</td>\n",
       "      <td>140.600006</td>\n",
       "      <td>-8</td>\n",
       "      <td>b'United States'</td>\n",
       "      <td>b'California'</td>\n",
       "      <td>b'San Diego'</td>\n",
       "      <td>b'Tijuana'</td>\n",
       "      <td>2949</td>\n",
       "      <td>130</td>\n",
       "    </tr>\n",
       "  </tbody>\n",
       "</table>\n",
       "</div>"
      ],
      "text/plain": [
       "        latitude   longitude   elevation  timezone           country  \\\n",
       "70276  32.529999 -117.099998   55.062500        -8  b'United States'   \n",
       "70588  32.570000 -117.099998    7.100000        -8  b'United States'   \n",
       "70589  32.570000 -117.059998   24.920000        -8  b'United States'   \n",
       "70590  32.570000 -117.019997   96.599998        -8  b'United States'   \n",
       "70591  32.570000 -116.980003  140.600006        -8  b'United States'   \n",
       "\n",
       "               state        county       urban  population  landcover  \n",
       "70276  b'California'  b'San Diego'     b'None'       32326        130  \n",
       "70588  b'California'  b'San Diego'  b'Tijuana'       27971        190  \n",
       "70589  b'California'  b'San Diego'  b'Tijuana'       51608        190  \n",
       "70590  b'California'  b'San Diego'  b'Tijuana'       15236        110  \n",
       "70591  b'California'  b'San Diego'  b'Tijuana'        2949        130  "
      ]
     },
     "execution_count": 27,
     "metadata": {},
     "output_type": "execute_result"
    }
   ],
   "source": [
    "# Full resolution subset of Colorado\n",
    "meta = pd.DataFrame(f['meta'][...])\n",
    "CA = meta.loc[meta['state'] == b'California'] # Note .h5 saves strings as bit-strings\n",
    "CA.head()"
   ]
  },
  {
   "cell_type": "code",
   "execution_count": 28,
   "metadata": {},
   "outputs": [
    {
     "data": {
      "text/plain": [
       "26010"
      ]
     },
     "execution_count": 28,
     "metadata": {},
     "output_type": "execute_result"
    }
   ],
   "source": [
    "len(CA)"
   ]
  },
  {
   "cell_type": "code",
   "execution_count": 71,
   "metadata": {},
   "outputs": [
    {
     "data": {
      "text/plain": [
       "26010"
      ]
     },
     "execution_count": 71,
     "metadata": {},
     "output_type": "execute_result"
    }
   ],
   "source": [
    "data = dset[timestep][CA.index]\n",
    "len(data)"
   ]
  },
  {
   "cell_type": "code",
   "execution_count": 72,
   "metadata": {},
   "outputs": [
    {
     "data": {
      "text/plain": [
       "26010"
      ]
     },
     "execution_count": 72,
     "metadata": {},
     "output_type": "execute_result"
    }
   ],
   "source": [
    "len(df)"
   ]
  },
  {
   "cell_type": "code",
   "execution_count": 73,
   "metadata": {},
   "outputs": [
    {
     "data": {
      "text/plain": [
       "17520"
      ]
     },
     "execution_count": 73,
     "metadata": {},
     "output_type": "execute_result"
    }
   ],
   "source": [
    "len(dset)"
   ]
  },
  {
   "cell_type": "code",
   "execution_count": 74,
   "metadata": {
    "ExecuteTime": {
     "end_time": "2019-02-06T19:38:14.050394Z",
     "start_time": "2019-02-06T19:38:09.966272Z"
    }
   },
   "outputs": [
    {
     "data": {
      "text/plain": [
       "(26010, 3)"
      ]
     },
     "execution_count": 74,
     "metadata": {},
     "output_type": "execute_result"
    }
   ],
   "source": [
    "# %time data = dset[timestep][CA.index]  # full-resolution subset\n",
    "df = CA[['longitude', 'latitude']].copy()\n",
    "df['wind_speed'] = data / dset.attrs['psm_scale_factor']\n",
    "df.shape"
   ]
  },
  {
   "cell_type": "code",
   "execution_count": 75,
   "metadata": {},
   "outputs": [
    {
     "data": {
      "text/plain": [
       "array([35, 35, 35, ..., 30, 30, 30], dtype=uint16)"
      ]
     },
     "execution_count": 75,
     "metadata": {},
     "output_type": "execute_result"
    }
   ],
   "source": [
    "data"
   ]
  },
  {
   "cell_type": "code",
   "execution_count": 78,
   "metadata": {
    "ExecuteTime": {
     "end_time": "2019-02-06T19:38:16.260753Z",
     "start_time": "2019-02-06T19:38:15.367784Z"
    }
   },
   "outputs": [
    {
     "data": {
      "image/png": "[encoded data removed]",
      "text/plain": [
       "<Figure size 640x480 with 2 Axes>"
      ]
     },
     "metadata": {},
     "output_type": "display_data"
    }
   ],
   "source": [
    "df.plot.scatter(x='longitude', y='latitude', c='wind_speed',\n",
    "                colormap='YlOrRd',\n",
    "                title=str(time_index[timestep]))\n",
    "plt.show()"
   ]
  },
  {
   "cell_type": "code",
   "execution_count": 79,
   "metadata": {},
   "outputs": [
    {
     "data": {
      "text/html": [
       "<div>\n",
       "<style scoped>\n",
       "    .dataframe tbody tr th:only-of-type {\n",
       "        vertical-align: middle;\n",
       "    }\n",
       "\n",
       "    .dataframe tbody tr th {\n",
       "        vertical-align: top;\n",
       "    }\n",
       "\n",
       "    .dataframe thead th {\n",
       "        text-align: right;\n",
       "    }\n",
       "</style>\n",
       "<table border=\"1\" class=\"dataframe\">\n",
       "  <thead>\n",
       "    <tr style=\"text-align: right;\">\n",
       "      <th></th>\n",
       "      <th>latitude</th>\n",
       "      <th>longitude</th>\n",
       "      <th>elevation</th>\n",
       "      <th>timezone</th>\n",
       "      <th>country</th>\n",
       "      <th>state</th>\n",
       "      <th>county</th>\n",
       "      <th>urban</th>\n",
       "      <th>population</th>\n",
       "      <th>landcover</th>\n",
       "    </tr>\n",
       "  </thead>\n",
       "  <tbody>\n",
       "    <tr>\n",
       "      <th>1440562</th>\n",
       "      <td>18.090000</td>\n",
       "      <td>-67.900002</td>\n",
       "      <td>66.000000</td>\n",
       "      <td>-4</td>\n",
       "      <td>b'Puerto Rico'</td>\n",
       "      <td>b'PRI-00 (Puerto Rico aggregatio'</td>\n",
       "      <td>b'None'</td>\n",
       "      <td>b'None'</td>\n",
       "      <td>0</td>\n",
       "      <td>120</td>\n",
       "    </tr>\n",
       "    <tr>\n",
       "      <th>1441326</th>\n",
       "      <td>18.090000</td>\n",
       "      <td>-67.860001</td>\n",
       "      <td>48.250000</td>\n",
       "      <td>-4</td>\n",
       "      <td>b'Puerto Rico'</td>\n",
       "      <td>b'PRI-00 (Puerto Rico aggregatio'</td>\n",
       "      <td>b'None'</td>\n",
       "      <td>b'None'</td>\n",
       "      <td>3</td>\n",
       "      <td>20</td>\n",
       "    </tr>\n",
       "    <tr>\n",
       "      <th>1459759</th>\n",
       "      <td>18.370001</td>\n",
       "      <td>-67.220001</td>\n",
       "      <td>18.684210</td>\n",
       "      <td>-4</td>\n",
       "      <td>b'Puerto Rico'</td>\n",
       "      <td>b'PRI-00 (Puerto Rico aggregatio'</td>\n",
       "      <td>b'None'</td>\n",
       "      <td>b'Mayaguez'</td>\n",
       "      <td>5454</td>\n",
       "      <td>30</td>\n",
       "    </tr>\n",
       "    <tr>\n",
       "      <th>1460550</th>\n",
       "      <td>18.330000</td>\n",
       "      <td>-67.220001</td>\n",
       "      <td>74.949997</td>\n",
       "      <td>-4</td>\n",
       "      <td>b'Puerto Rico'</td>\n",
       "      <td>b'PRI-00 (Puerto Rico aggregatio'</td>\n",
       "      <td>b'None'</td>\n",
       "      <td>b'Mayaguez'</td>\n",
       "      <td>5684</td>\n",
       "      <td>30</td>\n",
       "    </tr>\n",
       "    <tr>\n",
       "      <th>1460837</th>\n",
       "      <td>18.330000</td>\n",
       "      <td>-67.180000</td>\n",
       "      <td>159.199997</td>\n",
       "      <td>-4</td>\n",
       "      <td>b'Puerto Rico'</td>\n",
       "      <td>b'PRI-00 (Puerto Rico aggregatio'</td>\n",
       "      <td>b'None'</td>\n",
       "      <td>b'Mayaguez'</td>\n",
       "      <td>7397</td>\n",
       "      <td>30</td>\n",
       "    </tr>\n",
       "  </tbody>\n",
       "</table>\n",
       "</div>"
      ],
      "text/plain": [
       "          latitude  longitude   elevation  timezone         country  \\\n",
       "1440562  18.090000 -67.900002   66.000000        -4  b'Puerto Rico'   \n",
       "1441326  18.090000 -67.860001   48.250000        -4  b'Puerto Rico'   \n",
       "1459759  18.370001 -67.220001   18.684210        -4  b'Puerto Rico'   \n",
       "1460550  18.330000 -67.220001   74.949997        -4  b'Puerto Rico'   \n",
       "1460837  18.330000 -67.180000  159.199997        -4  b'Puerto Rico'   \n",
       "\n",
       "                                     state   county        urban  population  \\\n",
       "1440562  b'PRI-00 (Puerto Rico aggregatio'  b'None'      b'None'           0   \n",
       "1441326  b'PRI-00 (Puerto Rico aggregatio'  b'None'      b'None'           3   \n",
       "1459759  b'PRI-00 (Puerto Rico aggregatio'  b'None'  b'Mayaguez'        5454   \n",
       "1460550  b'PRI-00 (Puerto Rico aggregatio'  b'None'  b'Mayaguez'        5684   \n",
       "1460837  b'PRI-00 (Puerto Rico aggregatio'  b'None'  b'Mayaguez'        7397   \n",
       "\n",
       "         landcover  \n",
       "1440562        120  \n",
       "1441326         20  \n",
       "1459759         30  \n",
       "1460550         30  \n",
       "1460837         30  "
      ]
     },
     "execution_count": 79,
     "metadata": {},
     "output_type": "execute_result"
    }
   ],
   "source": [
    "# Full resolution subset of Colorado\n",
    "#meta = pd.DataFrame(f['meta'][...])\n",
    "PR = meta.loc[meta['state'] == b'PRI-00 (Puerto Rico aggregatio'] # Note .h5 saves strings as bit-strings\n",
    "PR.head()"
   ]
  },
  {
   "cell_type": "code",
   "execution_count": 80,
   "metadata": {},
   "outputs": [
    {
     "data": {
      "text/plain": [
       "Index([1440562, 1441326, 1459759, 1460550, 1460837, 1460839, 1460857, 1460868,\n",
       "       1461437, 1461442,\n",
       "       ...\n",
       "       1506893, 1507692, 1510343, 1511383, 1511384, 1512413, 1514045, 1515288,\n",
       "       1516882, 1517812],\n",
       "      dtype='int64', length=475)"
      ]
     },
     "execution_count": 80,
     "metadata": {},
     "output_type": "execute_result"
    }
   ],
   "source": [
    "PR.index"
   ]
  },
  {
   "cell_type": "code",
   "execution_count": 81,
   "metadata": {},
   "outputs": [
    {
     "data": {
      "text/plain": [
       "8832"
      ]
     },
     "execution_count": 81,
     "metadata": {},
     "output_type": "execute_result"
    }
   ],
   "source": [
    "timestep = np.where(time_index == '2019-07-04 00:00:00')[0][0]\n",
    "timestep"
   ]
  },
  {
   "cell_type": "code",
   "execution_count": 82,
   "metadata": {},
   "outputs": [
    {
     "name": "stdout",
     "output_type": "stream",
     "text": [
      "CPU times: user 44.8 ms, sys: 7.24 ms, total: 52.1 ms\n",
      "Wall time: 40.6 s\n"
     ]
    }
   ],
   "source": [
    "%%time \n",
    "data = dset[timestep][PR.index]  # full-resolution subset"
   ]
  },
  {
   "cell_type": "code",
   "execution_count": 83,
   "metadata": {},
   "outputs": [
    {
     "data": {
      "text/plain": [
       "array([32, 33, 46, 44, 43, 44, 41, 42, 38, 37, 37, 37, 43, 43, 39, 40, 40,\n",
       "       38, 39, 38, 41, 41, 43, 44, 42, 38, 42, 42, 42, 41, 40, 40, 43, 42,\n",
       "       41, 39, 39, 39, 39, 39, 39, 40, 41, 39, 42, 42, 42, 39, 40, 39, 40,\n",
       "       42, 42, 41, 41, 41, 40, 42, 40, 40, 40, 40, 40, 42, 42, 42, 42, 40,\n",
       "       40, 42, 42, 42, 40, 40, 40, 42, 42, 40, 41, 40, 40, 41, 41, 42, 42,\n",
       "       42, 40, 40, 40, 41, 40, 42, 40, 40, 40, 40, 41, 41, 42, 42, 42, 40,\n",
       "       40, 40, 40, 42, 40, 40, 40, 40, 40, 40, 40, 40, 42, 42, 41, 41, 40,\n",
       "       40, 42, 42, 40, 40, 40, 40, 42, 40, 40, 41, 42, 42, 42, 41, 40, 42,\n",
       "       40, 40, 40, 42, 41, 41, 40, 40, 40, 42, 42, 42, 42, 40, 40, 40, 40,\n",
       "       41, 41, 40, 40, 42, 42, 42, 42, 40, 40, 40, 40, 40, 40, 42, 42, 42,\n",
       "       41, 41, 42, 40, 40, 42, 40, 40, 40, 41, 41, 41, 42, 42, 42, 40, 40,\n",
       "       40, 42, 42, 41, 41, 41, 40, 40, 40, 42, 42, 42, 42, 42, 41, 40, 41,\n",
       "       41, 42, 40, 40, 40, 41, 43, 42, 41, 42, 43, 40, 41, 40, 42, 43, 40,\n",
       "       40, 43, 41, 41, 43, 43, 43, 42, 40, 41, 44, 40, 40, 40, 44, 44, 43,\n",
       "       42, 41, 42, 40, 40, 44, 40, 40, 40, 44, 44, 40, 40, 40, 40, 40, 44,\n",
       "       43, 42, 41, 40, 43, 40, 40, 40, 40, 44, 44, 44, 40, 43, 40, 42, 44,\n",
       "       41, 40, 44, 41, 42, 43, 44, 44, 40, 40, 44, 40, 40, 40, 40, 39, 44,\n",
       "       39, 40, 40, 40, 44, 44, 44, 43, 42, 41, 44, 40, 40, 40, 39, 39, 39,\n",
       "       42, 44, 44, 41, 44, 43, 39, 39, 39, 44, 44, 44, 40, 40, 40, 44, 43,\n",
       "       42, 41, 40, 40, 40, 44, 44, 44, 43, 42, 44, 41, 40, 39, 40, 40, 44,\n",
       "       41, 40, 40, 40, 44, 44, 44, 42, 43, 40, 40, 40, 40, 43, 43, 44, 40,\n",
       "       45, 41, 44, 40, 40, 40, 41, 45, 40, 40, 40, 45, 40, 42, 43, 44, 44,\n",
       "       43, 44, 40, 41, 44, 44, 44, 43, 42, 40, 41, 41, 41, 42, 43, 41, 43,\n",
       "       44, 44, 44, 41, 41, 42, 45, 41, 41, 42, 43, 43, 44, 44, 44, 45, 45,\n",
       "       43, 43, 42, 42, 42, 42, 42, 45, 45, 44, 44, 44, 45, 43, 43, 43, 46,\n",
       "       43, 43, 44, 44, 44, 45, 46, 46, 45, 44, 43, 43, 44, 44, 45, 46, 46,\n",
       "       46, 45, 44, 44, 45, 44, 46, 46, 45, 44, 44, 44, 47, 46, 45, 46, 46,\n",
       "       45, 46, 44, 46, 44, 45, 46, 45, 44, 44, 44, 45, 46, 48, 50, 56],\n",
       "      dtype=uint16)"
      ]
     },
     "execution_count": 83,
     "metadata": {},
     "output_type": "execute_result"
    }
   ],
   "source": [
    "data"
   ]
  },
  {
   "cell_type": "code",
   "execution_count": 85,
   "metadata": {},
   "outputs": [
    {
     "data": {
      "text/plain": [
       "(475, 3)"
      ]
     },
     "execution_count": 85,
     "metadata": {},
     "output_type": "execute_result"
    }
   ],
   "source": [
    "df = PR[['longitude', 'latitude']].copy()\n",
    "df['wind_speed'] = data / dset.attrs['psm_scale_factor']\n",
    "df.shape"
   ]
  },
  {
   "cell_type": "code",
   "execution_count": 91,
   "metadata": {},
   "outputs": [
    {
     "data": {
      "text/plain": [
       "[18.09000015258789,\n",
       " 18.09000015258789,\n",
       " 18.3700008392334,\n",
       " 18.329999923706055,\n",
       " 18.329999923706055,\n",
       " 18.3700008392334,\n",
       " 18.25,\n",
       " 18.290000915527344,\n",
       " 18.1299991607666,\n",
       " 17.969999313354492,\n",
       " 18.049999237060547,\n",
       " 18.09000015258789,\n",
       " 18.40999984741211,\n",
       " 18.3700008392334,\n",
       " 18.1299991607666,\n",
       " 18.170000076293945,\n",
       " 18.209999084472656,\n",
       " 18.049999237060547,\n",
       " 17.969999313354492,\n",
       " 18.010000228881836,\n",
       " 18.25,\n",
       " 18.290000915527344,\n",
       " 18.450000762939453,\n",
       " 18.489999771118164,\n",
       " 18.329999923706055,\n",
       " 18.09000015258789,\n",
       " 18.329999923706055,\n",
       " 18.3700008392334,\n",
       " 18.40999984741211,\n",
       " 18.290000915527344,\n",
       " 18.209999084472656,\n",
       " 18.170000076293945,\n",
       " 18.489999771118164,\n",
       " 18.450000762939453,\n",
       " 18.25,\n",
       " 18.1299991607666,\n",
       " 18.09000015258789,\n",
       " 18.049999237060547,\n",
       " 18.010000228881836,\n",
       " 17.969999313354492,\n",
       " 18.09000015258789,\n",
       " 17.969999313354492,\n",
       " 18.290000915527344,\n",
       " 18.1299991607666,\n",
       " 18.489999771118164,\n",
       " 18.40999984741211,\n",
       " 18.450000762939453,\n",
       " 18.049999237060547,\n",
       " 18.170000076293945,\n",
       " 18.010000228881836,\n",
       " 18.209999084472656,\n",
       " 18.3700008392334,\n",
       " 18.329999923706055,\n",
       " 18.25,\n",
       " 18.25,\n",
       " 18.290000915527344,\n",
       " 18.010000228881836,\n",
       " 18.40999984741211,\n",
       " 18.1299991607666,\n",
       " 18.209999084472656,\n",
       " 18.170000076293945,\n",
       " 18.049999237060547,\n",
       " 17.969999313354492,\n",
       " 18.329999923706055,\n",
       " 18.3700008392334,\n",
       " 18.450000762939453,\n",
       " 18.489999771118164,\n",
       " 18.09000015258789,\n",
       " 18.1299991607666,\n",
       " 18.489999771118164,\n",
       " 18.450000762939453,\n",
       " 18.329999923706055,\n",
       " 18.049999237060547,\n",
       " 18.010000228881836,\n",
       " 17.969999313354492,\n",
       " 18.40999984741211,\n",
       " 18.3700008392334,\n",
       " 18.209999084472656,\n",
       " 18.25,\n",
       " 18.170000076293945,\n",
       " 18.09000015258789,\n",
       " 18.290000915527344,\n",
       " 18.290000915527344,\n",
       " 18.329999923706055,\n",
       " 18.40999984741211,\n",
       " 18.450000762939453,\n",
       " 18.1299991607666,\n",
       " 18.170000076293945,\n",
       " 18.209999084472656,\n",
       " 18.25,\n",
       " 18.09000015258789,\n",
       " 18.3700008392334,\n",
       " 18.049999237060547,\n",
       " 18.010000228881836,\n",
       " 17.969999313354492,\n",
       " 17.93000030517578,\n",
       " 18.290000915527344,\n",
       " 18.25,\n",
       " 18.450000762939453,\n",
       " 18.329999923706055,\n",
       " 18.3700008392334,\n",
       " 18.049999237060547,\n",
       " 17.969999313354492,\n",
       " 18.010000228881836,\n",
       " 18.209999084472656,\n",
       " 18.40999984741211,\n",
       " 18.170000076293945,\n",
       " 18.09000015258789,\n",
       " 18.1299991607666,\n",
       " 18.09000015258789,\n",
       " 18.010000228881836,\n",
       " 17.969999313354492,\n",
       " 18.049999237060547,\n",
       " 18.170000076293945,\n",
       " 18.329999923706055,\n",
       " 18.3700008392334,\n",
       " 18.290000915527344,\n",
       " 18.25,\n",
       " 18.209999084472656,\n",
       " 18.1299991607666,\n",
       " 18.450000762939453,\n",
       " 18.40999984741211,\n",
       " 18.010000228881836,\n",
       " 18.049999237060547,\n",
       " 17.969999313354492,\n",
       " 18.09000015258789,\n",
       " 18.450000762939453,\n",
       " 18.170000076293945,\n",
       " 18.209999084472656,\n",
       " 18.290000915527344,\n",
       " 18.40999984741211,\n",
       " 18.3700008392334,\n",
       " 18.329999923706055,\n",
       " 18.25,\n",
       " 18.1299991607666,\n",
       " 18.489999771118164,\n",
       " 18.209999084472656,\n",
       " 18.170000076293945,\n",
       " 18.09000015258789,\n",
       " 18.329999923706055,\n",
       " 18.290000915527344,\n",
       " 18.25,\n",
       " 18.049999237060547,\n",
       " 18.010000228881836,\n",
       " 18.1299991607666,\n",
       " 18.450000762939453,\n",
       " 18.40999984741211,\n",
       " 18.3700008392334,\n",
       " 18.450000762939453,\n",
       " 18.049999237060547,\n",
       " 18.010000228881836,\n",
       " 18.209999084472656,\n",
       " 18.170000076293945,\n",
       " 18.290000915527344,\n",
       " 18.25,\n",
       " 18.1299991607666,\n",
       " 18.09000015258789,\n",
       " 18.40999984741211,\n",
       " 18.3700008392334,\n",
       " 18.329999923706055,\n",
       " 18.450000762939453,\n",
       " 18.010000228881836,\n",
       " 18.049999237060547,\n",
       " 18.170000076293945,\n",
       " 18.209999084472656,\n",
       " 18.09000015258789,\n",
       " 18.1299991607666,\n",
       " 18.40999984741211,\n",
       " 18.3700008392334,\n",
       " 18.329999923706055,\n",
       " 18.25,\n",
       " 18.290000915527344,\n",
       " 18.450000762939453,\n",
       " 18.049999237060547,\n",
       " 18.010000228881836,\n",
       " 18.489999771118164,\n",
       " 18.1299991607666,\n",
       " 18.09000015258789,\n",
       " 18.170000076293945,\n",
       " 18.209999084472656,\n",
       " 18.25,\n",
       " 18.290000915527344,\n",
       " 18.329999923706055,\n",
       " 18.3700008392334,\n",
       " 18.40999984741211,\n",
       " 17.969999313354492,\n",
       " 18.049999237060547,\n",
       " 18.010000228881836,\n",
       " 18.450000762939453,\n",
       " 18.40999984741211,\n",
       " 18.290000915527344,\n",
       " 18.25,\n",
       " 18.209999084472656,\n",
       " 18.1299991607666,\n",
       " 18.09000015258789,\n",
       " 18.170000076293945,\n",
       " 18.3700008392334,\n",
       " 18.329999923706055,\n",
       " 18.40999984741211,\n",
       " 18.329999923706055,\n",
       " 18.290000915527344,\n",
       " 18.209999084472656,\n",
       " 18.1299991607666,\n",
       " 18.170000076293945,\n",
       " 18.25,\n",
       " 18.3700008392334,\n",
       " 18.09000015258789,\n",
       " 18.049999237060547,\n",
       " 18.010000228881836,\n",
       " 17.969999313354492,\n",
       " 18.450000762939453,\n",
       " 18.329999923706055,\n",
       " 18.209999084472656,\n",
       " 18.25,\n",
       " 18.3700008392334,\n",
       " 18.09000015258789,\n",
       " 18.170000076293945,\n",
       " 18.1299991607666,\n",
       " 18.290000915527344,\n",
       " 18.40999984741211,\n",
       " 18.010000228881836,\n",
       " 18.049999237060547,\n",
       " 18.450000762939453,\n",
       " 18.209999084472656,\n",
       " 18.25,\n",
       " 18.3700008392334,\n",
       " 18.40999984741211,\n",
       " 18.329999923706055,\n",
       " 18.290000915527344,\n",
       " 18.09000015258789,\n",
       " 18.170000076293945,\n",
       " 18.450000762939453,\n",
       " 18.010000228881836,\n",
       " 18.049999237060547,\n",
       " 18.1299991607666,\n",
       " 18.3700008392334,\n",
       " 18.40999984741211,\n",
       " 18.329999923706055,\n",
       " 18.25,\n",
       " 18.209999084472656,\n",
       " 18.290000915527344,\n",
       " 18.09000015258789,\n",
       " 18.170000076293945,\n",
       " 18.450000762939453,\n",
       " 18.1299991607666,\n",
       " 18.049999237060547,\n",
       " 18.010000228881836,\n",
       " 18.40999984741211,\n",
       " 18.3700008392334,\n",
       " 18.1299991607666,\n",
       " 18.09000015258789,\n",
       " 18.170000076293945,\n",
       " 17.969999313354492,\n",
       " 18.010000228881836,\n",
       " 18.450000762939453,\n",
       " 18.290000915527344,\n",
       " 18.25,\n",
       " 18.209999084472656,\n",
       " 18.049999237060547,\n",
       " 18.329999923706055,\n",
       " 18.1299991607666,\n",
       " 18.09000015258789,\n",
       " 18.170000076293945,\n",
       " 17.969999313354492,\n",
       " 18.329999923706055,\n",
       " 18.3700008392334,\n",
       " 18.40999984741211,\n",
       " 18.010000228881836,\n",
       " 18.290000915527344,\n",
       " 18.049999237060547,\n",
       " 18.25,\n",
       " 18.450000762939453,\n",
       " 18.209999084472656,\n",
       " 18.010000228881836,\n",
       " 18.3700008392334,\n",
       " 18.209999084472656,\n",
       " 18.25,\n",
       " 18.290000915527344,\n",
       " 18.40999984741211,\n",
       " 18.329999923706055,\n",
       " 17.969999313354492,\n",
       " 18.049999237060547,\n",
       " 18.450000762939453,\n",
       " 18.09000015258789,\n",
       " 18.170000076293945,\n",
       " 18.1299991607666,\n",
       " 18.049999237060547,\n",
       " 17.969999313354492,\n",
       " 18.450000762939453,\n",
       " 18.010000228881836,\n",
       " 18.1299991607666,\n",
       " 18.09000015258789,\n",
       " 18.170000076293945,\n",
       " 18.40999984741211,\n",
       " 18.3700008392334,\n",
       " 18.329999923706055,\n",
       " 18.290000915527344,\n",
       " 18.25,\n",
       " 18.209999084472656,\n",
       " 18.450000762939453,\n",
       " 18.170000076293945,\n",
       " 18.1299991607666,\n",
       " 18.09000015258789,\n",
       " 17.969999313354492,\n",
       " 18.010000228881836,\n",
       " 18.049999237060547,\n",
       " 18.25,\n",
       " 18.329999923706055,\n",
       " 18.40999984741211,\n",
       " 18.209999084472656,\n",
       " 18.3700008392334,\n",
       " 18.290000915527344,\n",
       " 18.049999237060547,\n",
       " 17.969999313354492,\n",
       " 18.010000228881836,\n",
       " 18.3700008392334,\n",
       " 18.40999984741211,\n",
       " 18.450000762939453,\n",
       " 18.170000076293945,\n",
       " 18.1299991607666,\n",
       " 18.09000015258789,\n",
       " 18.329999923706055,\n",
       " 18.290000915527344,\n",
       " 18.25,\n",
       " 18.209999084472656,\n",
       " 18.170000076293945,\n",
       " 18.049999237060547,\n",
       " 18.09000015258789,\n",
       " 18.450000762939453,\n",
       " 18.40999984741211,\n",
       " 18.3700008392334,\n",
       " 18.290000915527344,\n",
       " 18.25,\n",
       " 18.329999923706055,\n",
       " 18.209999084472656,\n",
       " 18.1299991607666,\n",
       " 18.010000228881836,\n",
       " 17.969999313354492,\n",
       " 17.93000030517578,\n",
       " 18.450000762939453,\n",
       " 18.209999084472656,\n",
       " 18.09000015258789,\n",
       " 18.1299991607666,\n",
       " 18.170000076293945,\n",
       " 18.3700008392334,\n",
       " 18.329999923706055,\n",
       " 18.40999984741211,\n",
       " 18.25,\n",
       " 18.290000915527344,\n",
       " 17.969999313354492,\n",
       " 18.010000228881836,\n",
       " 18.049999237060547,\n",
       " 18.1299991607666,\n",
       " 18.290000915527344,\n",
       " 18.25,\n",
       " 18.329999923706055,\n",
       " 18.09000015258789,\n",
       " 18.40999984741211,\n",
       " 18.209999084472656,\n",
       " 18.3700008392334,\n",
       " 18.049999237060547,\n",
       " 18.010000228881836,\n",
       " 17.969999313354492,\n",
       " 18.170000076293945,\n",
       " 18.450000762939453,\n",
       " 18.010000228881836,\n",
       " 18.049999237060547,\n",
       " 17.969999313354492,\n",
       " 18.450000762939453,\n",
       " 18.09000015258789,\n",
       " 18.209999084472656,\n",
       " 18.290000915527344,\n",
       " 18.3700008392334,\n",
       " 18.40999984741211,\n",
       " 18.25,\n",
       " 18.329999923706055,\n",
       " 18.1299991607666,\n",
       " 18.170000076293945,\n",
       " 18.40999984741211,\n",
       " 18.3700008392334,\n",
       " 18.329999923706055,\n",
       " 18.25,\n",
       " 18.209999084472656,\n",
       " 18.049999237060547,\n",
       " 17.969999313354492,\n",
       " 18.09000015258789,\n",
       " 18.1299991607666,\n",
       " 18.170000076293945,\n",
       " 18.290000915527344,\n",
       " 18.010000228881836,\n",
       " 18.290000915527344,\n",
       " 18.329999923706055,\n",
       " 18.3700008392334,\n",
       " 18.40999984741211,\n",
       " 18.049999237060547,\n",
       " 18.010000228881836,\n",
       " 18.170000076293945,\n",
       " 18.450000762939453,\n",
       " 18.1299991607666,\n",
       " 18.09000015258789,\n",
       " 18.209999084472656,\n",
       " 18.25,\n",
       " 18.170000076293945,\n",
       " 18.25,\n",
       " 18.290000915527344,\n",
       " 18.329999923706055,\n",
       " 18.3700008392334,\n",
       " 18.40999984741211,\n",
       " 18.209999084472656,\n",
       " 17.969999313354492,\n",
       " 18.010000228881836,\n",
       " 18.049999237060547,\n",
       " 18.09000015258789,\n",
       " 18.1299991607666,\n",
       " 18.010000228881836,\n",
       " 18.3700008392334,\n",
       " 18.329999923706055,\n",
       " 18.290000915527344,\n",
       " 18.25,\n",
       " 18.209999084472656,\n",
       " 18.40999984741211,\n",
       " 18.1299991607666,\n",
       " 18.09000015258789,\n",
       " 18.170000076293945,\n",
       " 18.450000762939453,\n",
       " 18.049999237060547,\n",
       " 18.049999237060547,\n",
       " 18.010000228881836,\n",
       " 18.170000076293945,\n",
       " 18.209999084472656,\n",
       " 18.329999923706055,\n",
       " 18.3700008392334,\n",
       " 18.40999984741211,\n",
       " 18.290000915527344,\n",
       " 18.25,\n",
       " 18.09000015258789,\n",
       " 18.1299991607666,\n",
       " 18.09000015258789,\n",
       " 18.1299991607666,\n",
       " 18.290000915527344,\n",
       " 18.329999923706055,\n",
       " 18.3700008392334,\n",
       " 18.40999984741211,\n",
       " 18.25,\n",
       " 18.209999084472656,\n",
       " 18.170000076293945,\n",
       " 18.290000915527344,\n",
       " 18.1299991607666,\n",
       " 18.3700008392334,\n",
       " 18.329999923706055,\n",
       " 18.25,\n",
       " 18.209999084472656,\n",
       " 18.170000076293945,\n",
       " 18.209999084472656,\n",
       " 18.3700008392334,\n",
       " 18.329999923706055,\n",
       " 18.25,\n",
       " 18.290000915527344,\n",
       " 18.329999923706055,\n",
       " 18.25,\n",
       " 18.290000915527344,\n",
       " 18.209999084472656,\n",
       " 18.290000915527344,\n",
       " 18.209999084472656,\n",
       " 18.25,\n",
       " 18.329999923706055,\n",
       " 18.25,\n",
       " 18.09000015258789,\n",
       " 18.1299991607666,\n",
       " 18.09000015258789,\n",
       " 18.1299991607666,\n",
       " 18.1299991607666,\n",
       " 18.1299991607666,\n",
       " 18.1299991607666,\n",
       " 18.329999923706055]"
      ]
     },
     "execution_count": 91,
     "metadata": {},
     "output_type": "execute_result"
    }
   ],
   "source": [
    "df.latitude.tolist()"
   ]
  },
  {
   "cell_type": "code",
   "execution_count": 87,
   "metadata": {},
   "outputs": [
    {
     "data": {
      "text/html": [
       "<div>\n",
       "<style scoped>\n",
       "    .dataframe tbody tr th:only-of-type {\n",
       "        vertical-align: middle;\n",
       "    }\n",
       "\n",
       "    .dataframe tbody tr th {\n",
       "        vertical-align: top;\n",
       "    }\n",
       "\n",
       "    .dataframe thead th {\n",
       "        text-align: right;\n",
       "    }\n",
       "</style>\n",
       "<table border=\"1\" class=\"dataframe\">\n",
       "  <thead>\n",
       "    <tr style=\"text-align: right;\">\n",
       "      <th></th>\n",
       "      <th>longitude</th>\n",
       "      <th>latitude</th>\n",
       "      <th>wind_speed</th>\n",
       "    </tr>\n",
       "  </thead>\n",
       "  <tbody>\n",
       "    <tr>\n",
       "      <th>1440562</th>\n",
       "      <td>-67.900002</td>\n",
       "      <td>18.090000</td>\n",
       "      <td>3.2</td>\n",
       "    </tr>\n",
       "    <tr>\n",
       "      <th>1441326</th>\n",
       "      <td>-67.860001</td>\n",
       "      <td>18.090000</td>\n",
       "      <td>3.3</td>\n",
       "    </tr>\n",
       "    <tr>\n",
       "      <th>1459759</th>\n",
       "      <td>-67.220001</td>\n",
       "      <td>18.370001</td>\n",
       "      <td>4.6</td>\n",
       "    </tr>\n",
       "    <tr>\n",
       "      <th>1460550</th>\n",
       "      <td>-67.220001</td>\n",
       "      <td>18.330000</td>\n",
       "      <td>4.4</td>\n",
       "    </tr>\n",
       "    <tr>\n",
       "      <th>1460837</th>\n",
       "      <td>-67.180000</td>\n",
       "      <td>18.330000</td>\n",
       "      <td>4.3</td>\n",
       "    </tr>\n",
       "    <tr>\n",
       "      <th>...</th>\n",
       "      <td>...</td>\n",
       "      <td>...</td>\n",
       "      <td>...</td>\n",
       "    </tr>\n",
       "    <tr>\n",
       "      <th>1512413</th>\n",
       "      <td>-65.459999</td>\n",
       "      <td>18.129999</td>\n",
       "      <td>4.5</td>\n",
       "    </tr>\n",
       "    <tr>\n",
       "      <th>1514045</th>\n",
       "      <td>-65.419998</td>\n",
       "      <td>18.129999</td>\n",
       "      <td>4.6</td>\n",
       "    </tr>\n",
       "    <tr>\n",
       "      <th>1515288</th>\n",
       "      <td>-65.379997</td>\n",
       "      <td>18.129999</td>\n",
       "      <td>4.8</td>\n",
       "    </tr>\n",
       "    <tr>\n",
       "      <th>1516882</th>\n",
       "      <td>-65.339996</td>\n",
       "      <td>18.129999</td>\n",
       "      <td>5.0</td>\n",
       "    </tr>\n",
       "    <tr>\n",
       "      <th>1517812</th>\n",
       "      <td>-65.300003</td>\n",
       "      <td>18.330000</td>\n",
       "      <td>5.6</td>\n",
       "    </tr>\n",
       "  </tbody>\n",
       "</table>\n",
       "<p>475 rows × 3 columns</p>\n",
       "</div>"
      ],
      "text/plain": [
       "         longitude   latitude  wind_speed\n",
       "1440562 -67.900002  18.090000         3.2\n",
       "1441326 -67.860001  18.090000         3.3\n",
       "1459759 -67.220001  18.370001         4.6\n",
       "1460550 -67.220001  18.330000         4.4\n",
       "1460837 -67.180000  18.330000         4.3\n",
       "...            ...        ...         ...\n",
       "1512413 -65.459999  18.129999         4.5\n",
       "1514045 -65.419998  18.129999         4.6\n",
       "1515288 -65.379997  18.129999         4.8\n",
       "1516882 -65.339996  18.129999         5.0\n",
       "1517812 -65.300003  18.330000         5.6\n",
       "\n",
       "[475 rows x 3 columns]"
      ]
     },
     "execution_count": 87,
     "metadata": {},
     "output_type": "execute_result"
    }
   ],
   "source": [
    "df"
   ]
  },
  {
   "cell_type": "code",
   "execution_count": 88,
   "metadata": {},
   "outputs": [
    {
     "data": {
      "image/png": "[encoded data removed]",
      "text/plain": [
       "<Figure size 640x480 with 2 Axes>"
      ]
     },
     "metadata": {},
     "output_type": "display_data"
    }
   ],
   "source": [
    "df.plot.scatter(x='longitude', y='latitude', c='wind_speed',\n",
    "                colormap='YlOrRd',\n",
    "                title=str(time_index[timestep]))\n",
    "plt.ylim([16,20])\n",
    "plt.show()"
   ]
  },
  {
   "cell_type": "markdown",
   "metadata": {},
   "source": [
    "## Nearest Timeseries for given Lat/Lon"
   ]
  },
  {
   "cell_type": "code",
   "execution_count": 44,
   "metadata": {
    "ExecuteTime": {
     "end_time": "2019-02-06T19:52:44.346725Z",
     "start_time": "2019-02-06T19:52:34.038821Z"
    }
   },
   "outputs": [
    {
     "name": "stdout",
     "output_type": "stream",
     "text": [
      "Site index for New York City: \t\t 1244690\n",
      "Coordinates of New York City: \t (40.7128, -74.0059)\n",
      "Coordinates of nearest point: \t [ 40.73 -74.02]\n"
     ]
    }
   ],
   "source": [
    "# Unlike the gridded WTK data the NSRDB is provided as sparse time-series dataset.\n",
    "# The quickest way to find the nearest site it using a KDtree\n",
    "\n",
    "dset_coords = f['coordinates'][...]\n",
    "tree = cKDTree(dset_coords)\n",
    "def nearest_site(tree, lat_coord, lon_coord):\n",
    "    lat_lon = np.array([lat_coord, lon_coord])\n",
    "    dist, pos = tree.query(lat_lon)\n",
    "    return pos\n",
    "\n",
    "NewYorkCity = (40.7128, -74.0059)\n",
    "NewYorkCity_idx = nearest_site(tree, NewYorkCity[0], NewYorkCity[1] )\n",
    "\n",
    "print(\"Site index for New York City: \\t\\t {}\".format(NewYorkCity_idx))\n",
    "print(\"Coordinates of New York City: \\t {}\".format(NewYorkCity))\n",
    "print(\"Coordinates of nearest point: \\t {}\".format(dset_coords[NewYorkCity_idx]))"
   ]
  },
  {
   "cell_type": "code",
   "execution_count": 45,
   "metadata": {
    "ExecuteTime": {
     "end_time": "2019-02-06T19:53:48.160502Z",
     "start_time": "2019-02-06T19:53:46.607119Z"
    }
   },
   "outputs": [
    {
     "name": "stdout",
     "output_type": "stream",
     "text": [
      "CPU times: user 4.68 ms, sys: 0 ns, total: 4.68 ms\n",
      "Wall time: 699 ms\n"
     ]
    }
   ],
   "source": [
    "# Get the entire 2012 timeseries data for a point in NYC\n",
    "%time tseries = dset[:, NewYorkCity_idx] / dset.attrs['psm_scale_factor']"
   ]
  },
  {
   "cell_type": "code",
   "execution_count": 46,
   "metadata": {
    "ExecuteTime": {
     "end_time": "2019-02-06T19:53:48.165562Z",
     "start_time": "2019-02-06T19:53:48.162324Z"
    }
   },
   "outputs": [
    {
     "data": {
      "text/plain": [
       "17520"
      ]
     },
     "execution_count": 46,
     "metadata": {},
     "output_type": "execute_result"
    }
   ],
   "source": [
    "len(tseries)   # 1 years * 365 days * 24 hours * 30 minutes"
   ]
  },
  {
   "cell_type": "code",
   "execution_count": 47,
   "metadata": {
    "ExecuteTime": {
     "end_time": "2019-02-06T19:54:20.235635Z",
     "start_time": "2019-02-06T19:54:20.063966Z"
    }
   },
   "outputs": [
    {
     "data": {
      "text/plain": [
       "Text(0.5, 1.0, 'NYC ghi in 2012')"
      ]
     },
     "execution_count": 47,
     "metadata": {},
     "output_type": "execute_result"
    },
    {
     "data": {
      "image/png": "[encoded data removed]",
      "text/plain": [
       "<Figure size 640x480 with 1 Axes>"
      ]
     },
     "metadata": {},
     "output_type": "display_data"
    }
   ],
   "source": [
    "plt.plot(time_index, tseries)\n",
    "plt.ylabel(\"ghi\")\n",
    "plt.title(\"NYC ghi in 2012\")"
   ]
  },
  {
   "cell_type": "markdown",
   "metadata": {},
   "source": [
    "## GHI Statistics"
   ]
  },
  {
   "cell_type": "code",
   "execution_count": 48,
   "metadata": {
    "ExecuteTime": {
     "end_time": "2019-02-06T19:58:14.770799Z",
     "start_time": "2019-02-06T19:58:14.726103Z"
    }
   },
   "outputs": [
    {
     "data": {
      "text/html": [
       "<div>\n",
       "<style scoped>\n",
       "    .dataframe tbody tr th:only-of-type {\n",
       "        vertical-align: middle;\n",
       "    }\n",
       "\n",
       "    .dataframe tbody tr th {\n",
       "        vertical-align: top;\n",
       "    }\n",
       "\n",
       "    .dataframe thead th {\n",
       "        text-align: right;\n",
       "    }\n",
       "</style>\n",
       "<table border=\"1\" class=\"dataframe\">\n",
       "  <thead>\n",
       "    <tr style=\"text-align: right;\">\n",
       "      <th>hour</th>\n",
       "      <th>0</th>\n",
       "      <th>1</th>\n",
       "      <th>2</th>\n",
       "      <th>3</th>\n",
       "      <th>4</th>\n",
       "      <th>5</th>\n",
       "      <th>6</th>\n",
       "      <th>7</th>\n",
       "      <th>8</th>\n",
       "      <th>9</th>\n",
       "      <th>...</th>\n",
       "      <th>14</th>\n",
       "      <th>15</th>\n",
       "      <th>16</th>\n",
       "      <th>17</th>\n",
       "      <th>18</th>\n",
       "      <th>19</th>\n",
       "      <th>20</th>\n",
       "      <th>21</th>\n",
       "      <th>22</th>\n",
       "      <th>23</th>\n",
       "    </tr>\n",
       "    <tr>\n",
       "      <th>month</th>\n",
       "      <th></th>\n",
       "      <th></th>\n",
       "      <th></th>\n",
       "      <th></th>\n",
       "      <th></th>\n",
       "      <th></th>\n",
       "      <th></th>\n",
       "      <th></th>\n",
       "      <th></th>\n",
       "      <th></th>\n",
       "      <th></th>\n",
       "      <th></th>\n",
       "      <th></th>\n",
       "      <th></th>\n",
       "      <th></th>\n",
       "      <th></th>\n",
       "      <th></th>\n",
       "      <th></th>\n",
       "      <th></th>\n",
       "      <th></th>\n",
       "      <th></th>\n",
       "    </tr>\n",
       "  </thead>\n",
       "  <tbody>\n",
       "    <tr>\n",
       "      <th>1</th>\n",
       "      <td>0.000000</td>\n",
       "      <td>0.0</td>\n",
       "      <td>0.0</td>\n",
       "      <td>0.0</td>\n",
       "      <td>0.0</td>\n",
       "      <td>0.0</td>\n",
       "      <td>0.0</td>\n",
       "      <td>0.0</td>\n",
       "      <td>0.0</td>\n",
       "      <td>0.000000</td>\n",
       "      <td>...</td>\n",
       "      <td>162.935484</td>\n",
       "      <td>255.241935</td>\n",
       "      <td>291.548387</td>\n",
       "      <td>305.790323</td>\n",
       "      <td>289.322581</td>\n",
       "      <td>210.112903</td>\n",
       "      <td>129.596774</td>\n",
       "      <td>46.225806</td>\n",
       "      <td>1.306452</td>\n",
       "      <td>0.000000</td>\n",
       "    </tr>\n",
       "    <tr>\n",
       "      <th>2</th>\n",
       "      <td>0.000000</td>\n",
       "      <td>0.0</td>\n",
       "      <td>0.0</td>\n",
       "      <td>0.0</td>\n",
       "      <td>0.0</td>\n",
       "      <td>0.0</td>\n",
       "      <td>0.0</td>\n",
       "      <td>0.0</td>\n",
       "      <td>0.0</td>\n",
       "      <td>0.000000</td>\n",
       "      <td>...</td>\n",
       "      <td>252.482143</td>\n",
       "      <td>348.678571</td>\n",
       "      <td>401.982143</td>\n",
       "      <td>418.714286</td>\n",
       "      <td>400.321429</td>\n",
       "      <td>343.142857</td>\n",
       "      <td>254.035714</td>\n",
       "      <td>127.946429</td>\n",
       "      <td>22.678571</td>\n",
       "      <td>0.000000</td>\n",
       "    </tr>\n",
       "    <tr>\n",
       "      <th>3</th>\n",
       "      <td>0.000000</td>\n",
       "      <td>0.0</td>\n",
       "      <td>0.0</td>\n",
       "      <td>0.0</td>\n",
       "      <td>0.0</td>\n",
       "      <td>0.0</td>\n",
       "      <td>0.0</td>\n",
       "      <td>0.0</td>\n",
       "      <td>0.0</td>\n",
       "      <td>0.000000</td>\n",
       "      <td>...</td>\n",
       "      <td>382.032258</td>\n",
       "      <td>490.274194</td>\n",
       "      <td>552.596774</td>\n",
       "      <td>573.822581</td>\n",
       "      <td>542.129032</td>\n",
       "      <td>450.709677</td>\n",
       "      <td>327.951613</td>\n",
       "      <td>195.193548</td>\n",
       "      <td>75.693548</td>\n",
       "      <td>4.016129</td>\n",
       "    </tr>\n",
       "    <tr>\n",
       "      <th>4</th>\n",
       "      <td>0.000000</td>\n",
       "      <td>0.0</td>\n",
       "      <td>0.0</td>\n",
       "      <td>0.0</td>\n",
       "      <td>0.0</td>\n",
       "      <td>0.0</td>\n",
       "      <td>0.0</td>\n",
       "      <td>0.0</td>\n",
       "      <td>0.0</td>\n",
       "      <td>0.000000</td>\n",
       "      <td>...</td>\n",
       "      <td>448.183333</td>\n",
       "      <td>510.900000</td>\n",
       "      <td>558.866667</td>\n",
       "      <td>559.816667</td>\n",
       "      <td>552.600000</td>\n",
       "      <td>478.716667</td>\n",
       "      <td>356.666667</td>\n",
       "      <td>212.400000</td>\n",
       "      <td>98.366667</td>\n",
       "      <td>20.133333</td>\n",
       "    </tr>\n",
       "    <tr>\n",
       "      <th>5</th>\n",
       "      <td>2.951613</td>\n",
       "      <td>0.0</td>\n",
       "      <td>0.0</td>\n",
       "      <td>0.0</td>\n",
       "      <td>0.0</td>\n",
       "      <td>0.0</td>\n",
       "      <td>0.0</td>\n",
       "      <td>0.0</td>\n",
       "      <td>0.0</td>\n",
       "      <td>0.516129</td>\n",
       "      <td>...</td>\n",
       "      <td>487.129032</td>\n",
       "      <td>575.338710</td>\n",
       "      <td>615.612903</td>\n",
       "      <td>603.145161</td>\n",
       "      <td>587.080645</td>\n",
       "      <td>485.467742</td>\n",
       "      <td>352.032258</td>\n",
       "      <td>247.854839</td>\n",
       "      <td>146.306452</td>\n",
       "      <td>54.629032</td>\n",
       "    </tr>\n",
       "    <tr>\n",
       "      <th>6</th>\n",
       "      <td>13.616667</td>\n",
       "      <td>0.0</td>\n",
       "      <td>0.0</td>\n",
       "      <td>0.0</td>\n",
       "      <td>0.0</td>\n",
       "      <td>0.0</td>\n",
       "      <td>0.0</td>\n",
       "      <td>0.0</td>\n",
       "      <td>0.0</td>\n",
       "      <td>2.316667</td>\n",
       "      <td>...</td>\n",
       "      <td>541.283333</td>\n",
       "      <td>614.666667</td>\n",
       "      <td>665.083333</td>\n",
       "      <td>691.650000</td>\n",
       "      <td>663.300000</td>\n",
       "      <td>579.916667</td>\n",
       "      <td>469.033333</td>\n",
       "      <td>354.083333</td>\n",
       "      <td>226.166667</td>\n",
       "      <td>98.900000</td>\n",
       "    </tr>\n",
       "    <tr>\n",
       "      <th>7</th>\n",
       "      <td>12.806452</td>\n",
       "      <td>0.0</td>\n",
       "      <td>0.0</td>\n",
       "      <td>0.0</td>\n",
       "      <td>0.0</td>\n",
       "      <td>0.0</td>\n",
       "      <td>0.0</td>\n",
       "      <td>0.0</td>\n",
       "      <td>0.0</td>\n",
       "      <td>0.403226</td>\n",
       "      <td>...</td>\n",
       "      <td>604.741935</td>\n",
       "      <td>689.951613</td>\n",
       "      <td>739.532258</td>\n",
       "      <td>727.064516</td>\n",
       "      <td>655.612903</td>\n",
       "      <td>567.435484</td>\n",
       "      <td>502.403226</td>\n",
       "      <td>370.951613</td>\n",
       "      <td>236.451613</td>\n",
       "      <td>98.612903</td>\n",
       "    </tr>\n",
       "    <tr>\n",
       "      <th>8</th>\n",
       "      <td>1.161290</td>\n",
       "      <td>0.0</td>\n",
       "      <td>0.0</td>\n",
       "      <td>0.0</td>\n",
       "      <td>0.0</td>\n",
       "      <td>0.0</td>\n",
       "      <td>0.0</td>\n",
       "      <td>0.0</td>\n",
       "      <td>0.0</td>\n",
       "      <td>0.000000</td>\n",
       "      <td>...</td>\n",
       "      <td>567.435484</td>\n",
       "      <td>667.870968</td>\n",
       "      <td>708.274194</td>\n",
       "      <td>686.145161</td>\n",
       "      <td>656.225806</td>\n",
       "      <td>540.596774</td>\n",
       "      <td>438.758065</td>\n",
       "      <td>284.677419</td>\n",
       "      <td>155.435484</td>\n",
       "      <td>44.935484</td>\n",
       "    </tr>\n",
       "    <tr>\n",
       "      <th>9</th>\n",
       "      <td>0.000000</td>\n",
       "      <td>0.0</td>\n",
       "      <td>0.0</td>\n",
       "      <td>0.0</td>\n",
       "      <td>0.0</td>\n",
       "      <td>0.0</td>\n",
       "      <td>0.0</td>\n",
       "      <td>0.0</td>\n",
       "      <td>0.0</td>\n",
       "      <td>0.000000</td>\n",
       "      <td>...</td>\n",
       "      <td>457.100000</td>\n",
       "      <td>558.716667</td>\n",
       "      <td>594.633333</td>\n",
       "      <td>600.133333</td>\n",
       "      <td>517.800000</td>\n",
       "      <td>422.766667</td>\n",
       "      <td>326.750000</td>\n",
       "      <td>190.300000</td>\n",
       "      <td>76.000000</td>\n",
       "      <td>5.350000</td>\n",
       "    </tr>\n",
       "    <tr>\n",
       "      <th>10</th>\n",
       "      <td>0.000000</td>\n",
       "      <td>0.0</td>\n",
       "      <td>0.0</td>\n",
       "      <td>0.0</td>\n",
       "      <td>0.0</td>\n",
       "      <td>0.0</td>\n",
       "      <td>0.0</td>\n",
       "      <td>0.0</td>\n",
       "      <td>0.0</td>\n",
       "      <td>0.000000</td>\n",
       "      <td>...</td>\n",
       "      <td>284.048387</td>\n",
       "      <td>351.983871</td>\n",
       "      <td>386.241935</td>\n",
       "      <td>381.387097</td>\n",
       "      <td>337.774194</td>\n",
       "      <td>282.354839</td>\n",
       "      <td>175.725806</td>\n",
       "      <td>83.129032</td>\n",
       "      <td>10.177419</td>\n",
       "      <td>0.000000</td>\n",
       "    </tr>\n",
       "    <tr>\n",
       "      <th>11</th>\n",
       "      <td>0.000000</td>\n",
       "      <td>0.0</td>\n",
       "      <td>0.0</td>\n",
       "      <td>0.0</td>\n",
       "      <td>0.0</td>\n",
       "      <td>0.0</td>\n",
       "      <td>0.0</td>\n",
       "      <td>0.0</td>\n",
       "      <td>0.0</td>\n",
       "      <td>0.000000</td>\n",
       "      <td>...</td>\n",
       "      <td>267.583333</td>\n",
       "      <td>333.150000</td>\n",
       "      <td>361.583333</td>\n",
       "      <td>357.516667</td>\n",
       "      <td>308.333333</td>\n",
       "      <td>221.133333</td>\n",
       "      <td>125.150000</td>\n",
       "      <td>31.300000</td>\n",
       "      <td>0.000000</td>\n",
       "      <td>0.000000</td>\n",
       "    </tr>\n",
       "    <tr>\n",
       "      <th>12</th>\n",
       "      <td>0.000000</td>\n",
       "      <td>0.0</td>\n",
       "      <td>0.0</td>\n",
       "      <td>0.0</td>\n",
       "      <td>0.0</td>\n",
       "      <td>0.0</td>\n",
       "      <td>0.0</td>\n",
       "      <td>0.0</td>\n",
       "      <td>0.0</td>\n",
       "      <td>0.000000</td>\n",
       "      <td>...</td>\n",
       "      <td>149.290323</td>\n",
       "      <td>215.080645</td>\n",
       "      <td>247.290323</td>\n",
       "      <td>238.274194</td>\n",
       "      <td>209.048387</td>\n",
       "      <td>163.903226</td>\n",
       "      <td>94.080645</td>\n",
       "      <td>16.500000</td>\n",
       "      <td>0.000000</td>\n",
       "      <td>0.000000</td>\n",
       "    </tr>\n",
       "  </tbody>\n",
       "</table>\n",
       "<p>12 rows × 24 columns</p>\n",
       "</div>"
      ],
      "text/plain": [
       "hour          0    1    2    3    4    5    6    7    8         9   ...  \\\n",
       "month                                                               ...   \n",
       "1       0.000000  0.0  0.0  0.0  0.0  0.0  0.0  0.0  0.0  0.000000  ...   \n",
       "2       0.000000  0.0  0.0  0.0  0.0  0.0  0.0  0.0  0.0  0.000000  ...   \n",
       "3       0.000000  0.0  0.0  0.0  0.0  0.0  0.0  0.0  0.0  0.000000  ...   \n",
       "4       0.000000  0.0  0.0  0.0  0.0  0.0  0.0  0.0  0.0  0.000000  ...   \n",
       "5       2.951613  0.0  0.0  0.0  0.0  0.0  0.0  0.0  0.0  0.516129  ...   \n",
       "6      13.616667  0.0  0.0  0.0  0.0  0.0  0.0  0.0  0.0  2.316667  ...   \n",
       "7      12.806452  0.0  0.0  0.0  0.0  0.0  0.0  0.0  0.0  0.403226  ...   \n",
       "8       1.161290  0.0  0.0  0.0  0.0  0.0  0.0  0.0  0.0  0.000000  ...   \n",
       "9       0.000000  0.0  0.0  0.0  0.0  0.0  0.0  0.0  0.0  0.000000  ...   \n",
       "10      0.000000  0.0  0.0  0.0  0.0  0.0  0.0  0.0  0.0  0.000000  ...   \n",
       "11      0.000000  0.0  0.0  0.0  0.0  0.0  0.0  0.0  0.0  0.000000  ...   \n",
       "12      0.000000  0.0  0.0  0.0  0.0  0.0  0.0  0.0  0.0  0.000000  ...   \n",
       "\n",
       "hour           14          15          16          17          18          19  \\\n",
       "month                                                                           \n",
       "1      162.935484  255.241935  291.548387  305.790323  289.322581  210.112903   \n",
       "2      252.482143  348.678571  401.982143  418.714286  400.321429  343.142857   \n",
       "3      382.032258  490.274194  552.596774  573.822581  542.129032  450.709677   \n",
       "4      448.183333  510.900000  558.866667  559.816667  552.600000  478.716667   \n",
       "5      487.129032  575.338710  615.612903  603.145161  587.080645  485.467742   \n",
       "6      541.283333  614.666667  665.083333  691.650000  663.300000  579.916667   \n",
       "7      604.741935  689.951613  739.532258  727.064516  655.612903  567.435484   \n",
       "8      567.435484  667.870968  708.274194  686.145161  656.225806  540.596774   \n",
       "9      457.100000  558.716667  594.633333  600.133333  517.800000  422.766667   \n",
       "10     284.048387  351.983871  386.241935  381.387097  337.774194  282.354839   \n",
       "11     267.583333  333.150000  361.583333  357.516667  308.333333  221.133333   \n",
       "12     149.290323  215.080645  247.290323  238.274194  209.048387  163.903226   \n",
       "\n",
       "hour           20          21          22         23  \n",
       "month                                                 \n",
       "1      129.596774   46.225806    1.306452   0.000000  \n",
       "2      254.035714  127.946429   22.678571   0.000000  \n",
       "3      327.951613  195.193548   75.693548   4.016129  \n",
       "4      356.666667  212.400000   98.366667  20.133333  \n",
       "5      352.032258  247.854839  146.306452  54.629032  \n",
       "6      469.033333  354.083333  226.166667  98.900000  \n",
       "7      502.403226  370.951613  236.451613  98.612903  \n",
       "8      438.758065  284.677419  155.435484  44.935484  \n",
       "9      326.750000  190.300000   76.000000   5.350000  \n",
       "10     175.725806   83.129032   10.177419   0.000000  \n",
       "11     125.150000   31.300000    0.000000   0.000000  \n",
       "12      94.080645   16.500000    0.000000   0.000000  \n",
       "\n",
       "[12 rows x 24 columns]"
      ]
     },
     "execution_count": 48,
     "metadata": {},
     "output_type": "execute_result"
    }
   ],
   "source": [
    "df = pd.DataFrame({'ghi': tseries}, index=time_index)\n",
    "df[\"year\"] = df.index.year\n",
    "df[\"month\"] = df.index.month\n",
    "df[\"day\"] = df.index.day\n",
    "df[\"hour\"] = df.index.hour\n",
    "\n",
    "agg = df.groupby([\"month\",\"hour\"]).mean()\n",
    "agg = agg.reset_index().pivot(index=\"month\",columns=\"hour\",values=\"ghi\")\n",
    "agg"
   ]
  },
  {
   "cell_type": "code",
   "execution_count": 49,
   "metadata": {
    "ExecuteTime": {
     "end_time": "2019-02-06T19:58:30.404312Z",
     "start_time": "2019-02-06T19:58:30.214762Z"
    }
   },
   "outputs": [
    {
     "data": {
      "text/plain": [
       "<matplotlib.colorbar.Colorbar at 0x7f5810484350>"
      ]
     },
     "execution_count": 49,
     "metadata": {},
     "output_type": "execute_result"
    },
    {
     "data": {
      "image/png": "[encoded data removed]",
      "text/plain": [
       "<Figure size 640x480 with 2 Axes>"
      ]
     },
     "metadata": {},
     "output_type": "display_data"
    }
   ],
   "source": [
    "plt.imshow(agg)\n",
    "plt.xlabel(\"Hour\")\n",
    "plt.ylabel(\"Month\")\n",
    "plt.title(\"12 x 24 Mean GHI (W/m^2)\")\n",
    "plt.colorbar()"
   ]
  },
  {
   "cell_type": "code",
   "execution_count": null,
   "metadata": {},
   "outputs": [],
   "source": []
  }
 ],
 "metadata": {
  "kernelspec": {
   "display_name": "Python 3 (ipykernel)",
   "language": "python",
   "name": "python3"
  },
  "language_info": {
   "codemirror_mode": {
    "name": "ipython",
    "version": 3
   },
   "file_extension": ".py",
   "mimetype": "text/x-python",
   "name": "python",
   "nbconvert_exporter": "python",
   "pygments_lexer": "ipython3",
   "version": "3.11.6"
  }
 },
 "nbformat": 4,
 "nbformat_minor": 4
}
