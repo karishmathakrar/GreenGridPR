{
 "cells": [
  {
   "cell_type": "code",
   "execution_count": 1,
   "id": "4fe94206-f02d-487d-91f9-c0d129ce6965",
   "metadata": {},
   "outputs": [],
   "source": [
    "import os\n",
    "\n",
    "import numpy as np\n",
    "import matplotlib.pyplot as plt\n",
    "\n",
    "import pandas as pd\n",
    "import geopandas as gpd\n",
    "\n",
    "import xarray as xr\n",
    "\n",
    "from shapely.wkt import loads\n",
    "from shapely.geometry import Polygon\n",
    "from shapely.geometry import Point\n",
    "\n",
    "import rasterio\n",
    "import rasterio.sample\n",
    "\n",
    "from functools import partial\n",
    "from scipy.spatial.distance import cdist"
   ]
  },
  {
   "cell_type": "code",
   "execution_count": 2,
   "id": "5227e4b8-7507-48e0-bd40-3c6f4097e65c",
   "metadata": {},
   "outputs": [],
   "source": [
    "parquet_files = {'marine_protected_areas': ('../data/PR100/Habitat/marine_protected_areas.parquet',\n",
    "  'EPSG:32161',\n",
    "  'centroid'),\n",
    " 'land_nationwide_hapc': ('../data/PR100/Habitat/land_nationwide_hapc.parquet',\n",
    "  'EPSG:32161',\n",
    "  'centroid'),\n",
    " 'artificial_reefs': ('../data/PR100/Habitat/artificial_reefs.parquet',\n",
    "  'EPSG:32161',\n",
    "  'irrelevant'),\n",
    " 'nationwide_hapc': ('../data/PR100/Habitat/nationwide_hapc.parquet',\n",
    "  'EPSG:32161',\n",
    "  'irrelevant'),\n",
    " 'areas_protegidas_agencia': ('../data/PR100/Habitat/areas_protegidas_agencia.parquet',\n",
    "  'EPSG:32161',\n",
    "  'centroid'),\n",
    " 'noaa_charted_submarine_cables_30m_buffer': ('../data/PR100/Infrastructure/noaa_charted_submarine_cables_30m_buffer.parquet',\n",
    "  'EPSG:32161',\n",
    "  'irrelevant'),\n",
    " 'setbacks_xmission': ('../data/PR100/Infrastructure/setbacks_xmission.parquet',\n",
    "  'EPSG:32161',\n",
    "  'lines'),\n",
    " 'submarine_cable_30m_buffer': ('../data/PR100/Infrastructure/submarine_cable_30m_buffer.parquet',\n",
    "  'EPSG:32161',\n",
    "  'irrelevant'),\n",
    " 'pipeline_areas': ('../data/PR100/Infrastructure/pipeline_areas.parquet',\n",
    "  'EPSG:32161',\n",
    "  'irrelevant'),\n",
    " 'setbacks_roads': ('../data/PR100/Infrastructure/setbacks_roads.parquet',\n",
    "  'EPSG:4326',\n",
    "  'density'),\n",
    " 'setbacks_runway': ('../data/PR100/Infrastructure/setbacks_runway.parquet',\n",
    "  'EPSG:4326',\n",
    "  'centroid'),\n",
    " 'setbacks_airport': ('../data/PR100/Infrastructure/setbacks_airport.parquet',\n",
    "  'EPSG:4326',\n",
    "  'points'),\n",
    " 'setbacks_buildings': ('../data/PR100/Infrastructure/setbacks_buildings.parquet',\n",
    "  'EPSG:4326',\n",
    "  'density'),\n",
    " 'federal_and_state_waters': ('../data/PR100/Boundaries/federal_and_state_waters.parquet',\n",
    "  'EPSG:32161',\n",
    "  'centroid'),\n",
    " 'coastal_zone_mgmt_act_boundary': ('../data/PR100/Boundaries/coastal_zone_mgmt_act_boundary.parquet',\n",
    "  'EPSG:32161',\n",
    "  'centroid'),\n",
    " 'land_protected_areas': ('../data/PR100/Boundaries/land_protected_areas.parquet',\n",
    "  'EPSG:32161',\n",
    "  'centroid'),\n",
    " 'water_bodies': ('../data/PR100/Topography/water_bodies.parquet',\n",
    "  'EPSG:4326',\n",
    "  'centroid'),\n",
    " 'wrecks_and_obstructions': ('../data/PR100/Hazards/wrecks_and_obstructions.parquet',\n",
    "  'EPSG:4326',\n",
    "  'points'),\n",
    " 'ocean_disposal_sites': ('../data/PR100/Hazards/ocean_disposal_sites.parquet',\n",
    "  'EPSG:32161',\n",
    "  'centroid'),\n",
    " 'tropical_cyclone_storm_segments': ('../data/PR100/Hazards/tropical_cyclone_storm_segments.parquet',\n",
    "  'EPSG:32161',\n",
    "  'lines'),\n",
    " 'tropical_cyclone_wind_exposure': ('../data/PR100/Hazards/tropical_cyclone_wind_exposure.parquet',\n",
    "  'EPSG:32161',\n",
    "  'wind_exposure'),\n",
    " 'unexploded_ordinance_areas_fuds': ('../data/PR100/Hazards/unexploded_ordinance_areas_fuds.parquet',\n",
    "  'EPSG:32161',\n",
    "  'irrelevant'),\n",
    " 'danger_zones_and_restricted_areas': ('../data/PR100/Hazards/danger_zones_and_restricted_areas.parquet',\n",
    "  'EPSG:32161',\n",
    "  'centroid'),\n",
    " 'unexploded_ordinance_areas': ('../data/PR100/Hazards/unexploded_ordinance_areas.parquet',\n",
    "  'EPSG:4326',\n",
    "  'centroid')}"
   ]
  },
  {
   "cell_type": "code",
   "execution_count": 3,
   "id": "11d52628-5ef3-4b92-af7a-e64e9dccac28",
   "metadata": {},
   "outputs": [],
   "source": [
    "tif_files = ['../data/wind_atlas/PRI_wind-speed_100m.tif',\n",
    " '../data/solar_atlas/GHI.tif',\n",
    " '../data/PR100/Topography/slope.tif',\n",
    " '../data/PR100/Topography/elevation.tif']"
   ]
  },
  {
   "cell_type": "code",
   "execution_count": 4,
   "id": "95e6bdbb-8031-4060-9f4a-46eee5ed7f74",
   "metadata": {},
   "outputs": [],
   "source": [
    "binary_mask_columns = ['marine_protected_areas', 'land_nationwide_hapc',\n",
    "       'areas_protegidas_agencia', 'setbacks_xmission',\n",
    "       'setbacks_runway', 'setbacks_airport',\n",
    "       'federal_and_state_waters', 'coastal_zone_mgmt_act_boundary',\n",
    "       'land_protected_areas', 'water_bodies', 'wrecks_and_obstructions',\n",
    "       'ocean_disposal_sites', 'danger_zones_and_restricted_areas',\n",
    "       'unexploded_ordinance_areas']"
   ]
  },
  {
   "cell_type": "code",
   "execution_count": 5,
   "id": "6098fd75-0229-4edf-ada8-4e78012b3d45",
   "metadata": {},
   "outputs": [],
   "source": [
    "def find_parquet_files(directory):\n",
    "    \"\"\"\n",
    "    Find all Parquet files within a directory and its subdirectories.\n",
    "\n",
    "    :param directory: The base directory to search.\n",
    "    :return: A list of paths to Parquet files.\n",
    "\n",
    "    Note: This function isn't used in this notebook, because the file list\n",
    "    has already been generated and enriched (see 'parquet_files' dict above)\n",
    "    \"\"\"\n",
    "    parquet_files = []\n",
    "    for root, dirs, files in os.walk(directory):\n",
    "        for file in files:\n",
    "            if file.endswith('.parquet'):\n",
    "                parquet_files.append(os.path.join(root, file))\n",
    "    return parquet_files"
   ]
  },
  {
   "cell_type": "code",
   "execution_count": 6,
   "id": "c223ef0d-7a73-4399-b157-51e6f0862bf4",
   "metadata": {},
   "outputs": [],
   "source": [
    "def find_tif_files(directory):\n",
    "    \"\"\"\n",
    "    Find all TIF files within a directory and its subdirectories.\n",
    "\n",
    "    :param directory: The base directory to search.\n",
    "    :return: A list of paths to TIF files.\n",
    "\n",
    "    Note: This function isn't used in this notebook, because the file list\n",
    "    has already been generated (see 'tif_files' dict above)\n",
    "    \"\"\"\n",
    "    tif_files = []\n",
    "    for root, dirs, files in os.walk(directory):\n",
    "        for file in files:\n",
    "            if file.endswith('.tif'):\n",
    "                tif_files.append(os.path.join(root, file))\n",
    "    return tif_files"
   ]
  },
  {
   "cell_type": "code",
   "execution_count": 7,
   "id": "f5d80e3a-a26c-4845-8ab4-879192344dd8",
   "metadata": {},
   "outputs": [],
   "source": [
    "def get_gdf(parquet_file, crs, grid):\n",
    "    df = pd.read_parquet(parquet_file)\n",
    "    df['geometry'] = df['geometry'].apply(loads)\n",
    "    gdf = gpd.GeoDataFrame(df, geometry='geometry')\n",
    "    gdf.set_crs(crs, inplace=True)\n",
    "    gdf.to_crs(grid.crs, inplace=True)\n",
    "    return gdf"
   ]
  },
  {
   "cell_type": "code",
   "execution_count": 8,
   "id": "9755c563-94ec-4c8f-938c-8e85f703990c",
   "metadata": {},
   "outputs": [],
   "source": [
    "def create_grid(x_start, x_end, y_start, y_end, square_size):\n",
    "    grid = []\n",
    "    for x in np.arange(x_start, x_end, square_size):\n",
    "        for y in np.arange(y_start, y_end, square_size):\n",
    "            # Define the square's coordinates\n",
    "            square = Polygon([(x, y), (x + square_size, y), (x + square_size, y + square_size), (x, y + square_size)])\n",
    "            grid.append(square)\n",
    "    return gpd.GeoDataFrame({'geometry': grid}, crs=\"EPSG:32161\")"
   ]
  },
  {
   "cell_type": "code",
   "execution_count": 9,
   "id": "ccf961f8-154d-4bc6-a766-f21fa32b710c",
   "metadata": {},
   "outputs": [],
   "source": [
    "def calculate_cyclone_failure_percentage(df):\n",
    "    probability_of_hurricane_occuring = df['occurrence64ktMajorHurricanes'] / 117\n",
    "    probability_of_failure_due_to_hurricane = 0.5\n",
    "    average_life_span = 25\n",
    "    df['turbine_cyclone_failure_percentage'] = probability_of_hurricane_occuring * probability_of_failure_due_to_hurricane * average_life_span / 2\n",
    "    return df"
   ]
  },
  {
   "cell_type": "code",
   "execution_count": 10,
   "id": "7b99943c-6638-4223-ba7e-aad7e9531950",
   "metadata": {},
   "outputs": [],
   "source": [
    "def rasterize_cyclone_failure_risk(grid_gdf, cyclone_data_gdf):\n",
    "    # Ensure both dataframes are in the same CRS\n",
    "    cyclone_data_gdf = cyclone_data_gdf.to_crs(grid_gdf.crs)\n",
    "\n",
    "    # Spatial join - to associate cyclone data with each grid cell\n",
    "    joined_gdf = gpd.sjoin(grid_gdf, cyclone_data_gdf, how='left', predicate='intersects')\n",
    "\n",
    "    # Apply the failure cost calculation to each row\n",
    "    joined_gdf = calculate_cyclone_failure_percentage(joined_gdf)\n",
    "\n",
    "    # Group by grid cell index and average the scores within each cell\n",
    "    aggregated_scores = joined_gdf.groupby(joined_gdf.index)['turbine_cyclone_failure_percentage'].mean()\n",
    "\n",
    "    return aggregated_scores.reindex(grid_gdf.index, fill_value=0)"
   ]
  },
  {
   "cell_type": "code",
   "execution_count": 11,
   "id": "bf71fafe-69ec-4b06-b171-e267e615dcab",
   "metadata": {},
   "outputs": [],
   "source": [
    "def rasterize(grid, data, type):\n",
    "    joined_gdf = gpd.sjoin(grid, data[['geometry']], how='right', predicate='intersects')\n",
    "    count = joined_gdf.groupby('index_left').size().reindex(grid.index, fill_value=0)\n",
    "    if type == 'density':\n",
    "        return count\n",
    "    else:\n",
    "        return count > 0"
   ]
  },
  {
   "cell_type": "code",
   "execution_count": 12,
   "id": "521f2bf2-15b5-4f46-b0ff-f3d1fbc5cf85",
   "metadata": {},
   "outputs": [],
   "source": [
    "def process_parquet_file(file_path, crs, type, handle, grid):\n",
    "    gdf = get_gdf(file_path, crs, grid)\n",
    "    if type == 'irrelevant':\n",
    "        pass\n",
    "    elif type == 'wind_exposure':\n",
    "        grid[handle] = rasterize_cyclone_failure_risk(grid, gdf)\n",
    "    else:\n",
    "        grid[handle] = rasterize(grid, gdf, type)"
   ]
  },
  {
   "cell_type": "code",
   "execution_count": 13,
   "id": "59b4f084-078a-4f5f-957e-bc81f91b35e2",
   "metadata": {},
   "outputs": [],
   "source": [
    "def process_parquet_files(files, grid):\n",
    "    for handle, file_data in files.items():\n",
    "        file_path = file_data[0]\n",
    "        crs = file_data[1]\n",
    "        type = file_data[2]\n",
    "        print(f'Processing file: {file_path}')\n",
    "        process_parquet_file(file_path, crs, type, handle, grid)"
   ]
  },
  {
   "cell_type": "code",
   "execution_count": 14,
   "id": "49869707-97d4-4b81-8425-d391955405b4",
   "metadata": {},
   "outputs": [],
   "source": [
    "def process_tif_file(file_path, grid, coords):\n",
    "    handle = file_path.split('/')[-1].split('.')[0]\n",
    "    # Open the raster and sample values at each coordinate\n",
    "    with rasterio.open(file_path) as src:\n",
    "        if grid.crs != src.crs:\n",
    "            centroids = grid.geometry.centroid.to_crs(src.crs)\n",
    "            coords = [(x,y) for x, y in zip(centroids.geometry.x, centroids.geometry.y)]\n",
    "\n",
    "        # Sample the raster at each centroid location\n",
    "        values = [x[0] for x in rasterio.sample.sample_gen(src, coords)]\n",
    "    \n",
    "    # Assign the values to the grid dataframe\n",
    "    grid[handle] = values"
   ]
  },
  {
   "cell_type": "code",
   "execution_count": 15,
   "id": "d90941d5-2b2f-414e-8e33-c04bdf49e134",
   "metadata": {},
   "outputs": [],
   "source": [
    "def process_hourly_file(grid, hourly):\n",
    "    # Ensure both DataFrames are in the same CRS\n",
    "    if grid.crs != hourly.crs:\n",
    "        hourly_wind = hourly.to_crs(grid.crs)\n",
    "\n",
    "    # Iterate over the columns in hourly and assign values to grid\n",
    "    for column in hourly.columns:\n",
    "        joined = gpd.sjoin_nearest(grid, hourly[[column, 'geometry']], how='left')\n",
    "        grid[column] = joined[column]\n",
    "\n",
    "    return grid"
   ]
  },
  {
   "cell_type": "code",
   "execution_count": 16,
   "id": "fc4d834f-d8fd-4894-b35c-514d63c3a9cd",
   "metadata": {},
   "outputs": [],
   "source": [
    "def process_tif_files(files, grid):\n",
    "    # Compute centroids\n",
    "    centroids = grid.geometry.centroid\n",
    "    # Create an array of coordinates in (x, y) format\n",
    "    coords = [(x,y) for x, y in zip(centroids.geometry.x, centroids.geometry.y)]\n",
    "\n",
    "    for file_path in tif_files:\n",
    "        print(f'Processing file: {file_path}')\n",
    "        process_tif_file(file_path, grid, coords)"
   ]
  },
  {
   "cell_type": "code",
   "execution_count": null,
   "id": "e17d18a6-4b24-4158-9848-bb24a51a7f1d",
   "metadata": {},
   "outputs": [],
   "source": []
  },
  {
   "cell_type": "code",
   "execution_count": 17,
   "id": "43840e23-881b-4714-89b5-2f0547cbec5f",
   "metadata": {},
   "outputs": [],
   "source": [
    "def plot_columns(gdf, columns=[]):\n",
    "    if len(columns) == 0:\n",
    "        columns = gdf.columns\n",
    "    for column in columns:\n",
    "        if column in ['geometry', 'centroid']:\n",
    "            continue\n",
    "        fig, ax = plt.subplots(1, 1, figsize=(12, 8))\n",
    "        gdf.plot(column=column, ax=ax, legend=True)\n",
    "        plt.title(column)\n",
    "        plt.show()"
   ]
  },
  {
   "cell_type": "code",
   "execution_count": 18,
   "id": "ab831d52-7eaa-4fcd-93d9-8c1513cdb394",
   "metadata": {},
   "outputs": [],
   "source": [
    "environment_gdf = create_grid(100000, 300000, 200000, 300000, 500)"
   ]
  },
  {
   "cell_type": "code",
   "execution_count": 19,
   "id": "c07f7858-bceb-49d4-9736-09c7b0049dec",
   "metadata": {},
   "outputs": [
    {
     "name": "stdout",
     "output_type": "stream",
     "text": [
      "Processing file: ../data/PR100/Habitat/marine_protected_areas.parquet\n",
      "Processing file: ../data/PR100/Habitat/land_nationwide_hapc.parquet\n",
      "Processing file: ../data/PR100/Habitat/artificial_reefs.parquet\n",
      "Processing file: ../data/PR100/Habitat/nationwide_hapc.parquet\n",
      "Processing file: ../data/PR100/Habitat/areas_protegidas_agencia.parquet\n",
      "Processing file: ../data/PR100/Infrastructure/noaa_charted_submarine_cables_30m_buffer.parquet\n",
      "Processing file: ../data/PR100/Infrastructure/setbacks_xmission.parquet\n",
      "Processing file: ../data/PR100/Infrastructure/submarine_cable_30m_buffer.parquet\n",
      "Processing file: ../data/PR100/Infrastructure/pipeline_areas.parquet\n",
      "Processing file: ../data/PR100/Infrastructure/setbacks_roads.parquet\n",
      "Processing file: ../data/PR100/Infrastructure/setbacks_runway.parquet\n",
      "Processing file: ../data/PR100/Infrastructure/setbacks_airport.parquet\n",
      "Processing file: ../data/PR100/Infrastructure/setbacks_buildings.parquet\n",
      "Processing file: ../data/PR100/Boundaries/federal_and_state_waters.parquet\n",
      "Processing file: ../data/PR100/Boundaries/coastal_zone_mgmt_act_boundary.parquet\n",
      "Processing file: ../data/PR100/Boundaries/land_protected_areas.parquet\n",
      "Processing file: ../data/PR100/Topography/water_bodies.parquet\n",
      "Processing file: ../data/PR100/Hazards/wrecks_and_obstructions.parquet\n",
      "Processing file: ../data/PR100/Hazards/ocean_disposal_sites.parquet\n",
      "Processing file: ../data/PR100/Hazards/tropical_cyclone_storm_segments.parquet\n",
      "Processing file: ../data/PR100/Hazards/tropical_cyclone_wind_exposure.parquet\n",
      "Processing file: ../data/PR100/Hazards/unexploded_ordinance_areas_fuds.parquet\n",
      "Processing file: ../data/PR100/Hazards/danger_zones_and_restricted_areas.parquet\n",
      "Processing file: ../data/PR100/Hazards/unexploded_ordinance_areas.parquet\n"
     ]
    }
   ],
   "source": [
    "process_parquet_files(parquet_files, environment_gdf)"
   ]
  },
  {
   "cell_type": "code",
   "execution_count": 20,
   "id": "67ba92ce-6666-4a25-8bec-abad4ab4d4bb",
   "metadata": {},
   "outputs": [
    {
     "name": "stdout",
     "output_type": "stream",
     "text": [
      "Processing file: ../data/wind_atlas/PRI_wind-speed_100m.tif\n",
      "Processing file: ../data/solar_atlas/GHI.tif\n",
      "Processing file: ../data/PR100/Topography/slope.tif\n",
      "Processing file: ../data/PR100/Topography/elevation.tif\n"
     ]
    }
   ],
   "source": [
    "process_tif_files(tif_files, environment_gdf)"
   ]
  },
  {
   "cell_type": "code",
   "execution_count": 21,
   "id": "45d515b4-2b31-4eb4-b8b9-82f4e662fbae",
   "metadata": {},
   "outputs": [],
   "source": [
    "environment_gdf['masked'] = environment_gdf[binary_mask_columns].any(axis=1)"
   ]
  },
  {
   "cell_type": "code",
   "execution_count": 22,
   "id": "938d9f8d-2e1a-4d8d-9bf2-8990ec744170",
   "metadata": {},
   "outputs": [],
   "source": [
    "environment_gdf['water'] = environment_gdf[['federal_and_state_waters', 'water_bodies']].any(axis=1)"
   ]
  },
  {
   "cell_type": "code",
   "execution_count": 23,
   "id": "093aff6f",
   "metadata": {},
   "outputs": [],
   "source": [
    "environment_gdf['centroid'] = environment_gdf.centroid"
   ]
  },
  {
   "cell_type": "code",
   "execution_count": 24,
   "id": "0bab16a4-786f-46e3-9c9a-a05208f4484f",
   "metadata": {},
   "outputs": [],
   "source": [
    "environment_gdf['occupied'] = 0"
   ]
  },
  {
   "cell_type": "markdown",
   "id": "787f3658-53bf-4ad3-9ba1-e9f3528002fe",
   "metadata": {},
   "source": [
    "## Calculating per-cell energy demand"
   ]
  },
  {
   "cell_type": "code",
   "execution_count": 25,
   "id": "a1eee776",
   "metadata": {},
   "outputs": [],
   "source": [
    "# Load the demand profile data\n",
    "demand_df = pd.read_csv('../data/generation_and_demand/demand_profile.csv')\n",
    "\n",
    "# Convert the DataFrame to a dictionary with 'hour' as keys and 'demand_MW' as values\n",
    "demand_dict = dict(zip(demand_df['local_hour'], demand_df['demand_MW']))\n",
    "\n",
    "# # Calculate total building density\n",
    "# total_building_density = environment_gdf['setbacks_buildings'].sum()\n",
    "\n",
    "# # Loop through each hour in the demand dictionary and create a corresponding demand column\n",
    "# for hour, hour_demand in demand_dict.items():\n",
    "#     # Create a new column for this hour's demand\n",
    "#     environment_gdf[f'demand_{hour}'] = hour_demand * environment_gdf['setbacks_buildings'] / total_building_density\n",
    "\n"
   ]
  },
  {
   "cell_type": "markdown",
   "id": "aa5fde52-76a2-4e66-af07-3224525e502e",
   "metadata": {},
   "source": [
    "## Calculating dist to nearest transmission line"
   ]
  },
  {
   "cell_type": "code",
   "execution_count": 26,
   "id": "fc6fe518-f139-4d99-85ac-fdf8583ec41b",
   "metadata": {},
   "outputs": [],
   "source": [
    "def nearest_transmission_distance(row, gdf):\n",
    "    if row['setbacks_xmission']:\n",
    "        return 0\n",
    "    else:\n",
    "        # Calculate distances to all cells where setbacks_xmission is True\n",
    "        distances = gdf[gdf['setbacks_xmission']]['geometry'].distance(row['geometry'])\n",
    "        # Return the minimum distance\n",
    "        return distances.min()"
   ]
  },
  {
   "cell_type": "code",
   "execution_count": 27,
   "id": "15136343-89e1-4586-bc02-d439050cf88b",
   "metadata": {},
   "outputs": [],
   "source": [
    "environment_gdf['distance_to_transmission_line'] = environment_gdf.apply(nearest_transmission_distance, gdf=environment_gdf, axis=1)"
   ]
  },
  {
   "cell_type": "markdown",
   "id": "c2c92939-2ca0-4352-bf19-f3a74479ea31",
   "metadata": {},
   "source": [
    "# Incorporating ERA5 Wind Speed Data"
   ]
  },
  {
   "cell_type": "markdown",
   "id": "0c4dc246-8beb-4b25-8abf-9f610165f8ca",
   "metadata": {},
   "source": [
    "This is data I saved off from an ERA5/Copernicus dataset. I grouped 365 days by lat-lon-hour_of_day to get diurnal wind curves. \n",
    "These are available at 25km resolution, so pretty low res. For that reason, we don't use the actual 100m wind speed values. \n",
    "Instead, we calculate a noramalized hourly coefficien, which we multiply with 100m wind speed data from the Global Wind Atlas to \n",
    "get an estimate of diurnal wind speed variability using the higher resolution GWA data. "
   ]
  },
  {
   "cell_type": "code",
   "execution_count": 28,
   "id": "a777825e-907c-40a5-9eba-317ed0d2b8eb",
   "metadata": {},
   "outputs": [
    {
     "name": "stdout",
     "output_type": "stream",
     "text": [
      "(24, 7, 21)\n"
     ]
    }
   ],
   "source": [
    "# Total wind speed is derived in this dataset. This cell extracts it and shows what the data looks like. \n",
    "ds = xr.open_dataset(\"../data/generation_and_demand/2019_wind_speeds.nc\")\n",
    "total_wind_speed_array = ds.total_wind_speed\n",
    "total_wind_speed_np = np.array(total_wind_speed_array)\n",
    "print(total_wind_speed_np.shape)"
   ]
  },
  {
   "cell_type": "code",
   "execution_count": 29,
   "id": "3f57f240-7c0d-4d77-b2ab-36a3e8d95e13",
   "metadata": {},
   "outputs": [],
   "source": [
    "def utc_to_pr_local_time(hour):\n",
    "    return hour - 4 if hour > 4 else hour + 20"
   ]
  },
  {
   "cell_type": "code",
   "execution_count": 30,
   "id": "e31838ee-a339-40e9-809a-4dd4c8aa33a5",
   "metadata": {},
   "outputs": [],
   "source": [
    "# Loop through lat, lon, and hr to get normalized values\n",
    "\n",
    "hrs = np.array(ds.coords['hour'])\n",
    "lats = np.array(ds.coords['latitude'])\n",
    "lons = np.array(ds.coords['longitude'])\n",
    "\n",
    "lists = []\n",
    "for lat_idx in range(0, ds.coords['latitude'].shape[0]):\n",
    "    for lon_idx in range(0, ds.coords['longitude'].shape[0]):\n",
    "        hour_wind_speeds = {}\n",
    "    \n",
    "        this_point_wind_speeds = total_wind_speed_np[:, lat_idx, lon_idx]\n",
    "        this_normalized_wind_speeds = this_point_wind_speeds/np.mean(this_point_wind_speeds)\n",
    "        \n",
    "        for hr_idx in range(0, ds.coords['hour'].shape[0]):\n",
    "            this_point = Point(lons[lon_idx], lats[lat_idx])\n",
    "    \n",
    "            this_hour = hrs[hr_idx]\n",
    "\n",
    "            if this_hour == 0:\n",
    "                this_hour = 24\n",
    "\n",
    "            this_hour = utc_to_pr_local_time(this_hour)\n",
    "\n",
    "            hour_wind_speeds[f'normalized_wind_speed_hour_{this_hour}'] = this_normalized_wind_speeds[hr_idx]\n",
    "\n",
    "        lists.append({'latitude': lats[lat_idx], 'longitude': lons[lon_idx], 'geometry': this_point, **hour_wind_speeds})\n",
    "\n",
    "diurnal_wind_speed_gdf = gpd.GeoDataFrame(lists)\n",
    "diurnal_wind_speed_gdf.set_crs(epsg=4326, inplace=True)\n",
    "diurnal_wind_speed_gdf.to_crs(epsg=32161, inplace=True)"
   ]
  },
  {
   "cell_type": "code",
   "execution_count": 31,
   "id": "ab5a6b91-f19a-482a-bf4f-73bb139e6747",
   "metadata": {},
   "outputs": [],
   "source": [
    "environment_gdf = gpd.sjoin_nearest(environment_gdf, diurnal_wind_speed_gdf.drop(columns=['latitude', 'longitude']), how='left').drop(columns=[\"index_right\"])\n",
    "\n",
    "normalized_wind_speed_columns = [col for col in environment_gdf.columns.values if 'normalized_wind_speed_hour_' in col]\n",
    "raw_wind_speed_columns = [col.lstrip('normalized_') for col in normalized_wind_speed_columns]\n",
    "\n",
    "environment_gdf[raw_wind_speed_columns] = environment_gdf[normalized_wind_speed_columns].mul(environment_gdf['PRI_wind-speed_100m'], axis=0)\n",
    "environment_gdf = environment_gdf.drop(columns=normalized_wind_speed_columns)"
   ]
  },
  {
   "cell_type": "code",
   "execution_count": 32,
   "id": "caa89ed9-ff92-4b85-8b43-9b1624db63e0",
   "metadata": {},
   "outputs": [],
   "source": [
    "# https://en.wind-turbine-models.com/turbines/1345-vestas-v126-3.0\n",
    "\n",
    "power_curve = pd.read_csv('../data/generation_and_demand/V126_3MW_power_curve.csv')\n",
    "power_curve = {row['wind_speed']: row['power_kW'] for idx, row in power_curve.iterrows()}\n",
    "\n",
    "power_curve_key = np.array(list(power_curve.keys()))\n",
    "power_curve_val = np.array(list(power_curve.values()))\n",
    "\n",
    "power_curve_function = partial(np.interp, xp=power_curve_key, fp=power_curve_val, left=0, right=0)\n",
    "\n",
    "power_columns = [col.replace('wind_speed_', 'wind_power_kW_') for col in raw_wind_speed_columns]\n",
    "\n",
    "environment_gdf[power_columns] = environment_gdf[raw_wind_speed_columns].map(power_curve_function) * 4\n",
    "environment_gdf = environment_gdf.drop(columns=raw_wind_speed_columns)\n",
    "environment_gdf[power_columns].describe()\n",
    "\n",
    "environment_gdf['daily_wind_power_kW'] = environment_gdf['PRI_wind-speed_100m'].map(power_curve_function) * 4"
   ]
  },
  {
   "cell_type": "markdown",
   "id": "3a684e6f-882b-4539-a038-e077cf77cb96",
   "metadata": {},
   "source": [
    "# Calculating Hourly Solar Data"
   ]
  },
  {
   "cell_type": "code",
   "execution_count": 33,
   "id": "6241d7c6-339b-4782-92e4-5bb2a34e4b68",
   "metadata": {},
   "outputs": [],
   "source": [
    "hourly_solar_gdf = gpd.read_parquet('../data/generation_and_demand/pr_hourly_ghi_normalized.parquet')"
   ]
  },
  {
   "cell_type": "code",
   "execution_count": 34,
   "id": "ec86fb1e-a700-4388-87a1-999bfeac0016",
   "metadata": {},
   "outputs": [],
   "source": [
    "hourly_solar_gdf.to_crs(environment_gdf.crs, inplace=True)\n",
    "\n",
    "joined_gdf = gpd.sjoin_nearest(environment_gdf, hourly_solar_gdf, how='left')\n",
    "\n",
    "# GHI is given in terms of daily totals of kWh/m^2\n",
    "area = 1000**2\n",
    "ground_coverage_factor = 0.5\n",
    "solar_panel_efficiency = 0.2\n",
    "inverter_efficiency = 0.95\n",
    "hours_in_a_day = 24\n",
    "GHI_to_kW = area * ground_coverage_factor * solar_panel_efficiency * inverter_efficiency / hours_in_a_day\n",
    "\n",
    "# Multiplying the GHI with hourly factors\n",
    "# Creating new columns for each hour\n",
    "for hour in range(1, 25):\n",
    "    hour = utc_to_pr_local_time(hour)\n",
    "    hour_str = str(hour)\n",
    "    environment_gdf[f'solar_power_kW_hour_{hour_str}'] = (joined_gdf['GHI'] * joined_gdf[hour_str] * GHI_to_kW).fillna(0)\n",
    "\n",
    "environment_gdf['daily_solar_power_kW'] = environment_gdf['GHI'] * GHI_to_kW"
   ]
  },
  {
   "cell_type": "code",
   "execution_count": 35,
   "id": "3bb6859d-3472-4dbe-9593-bef2dc7171bf",
   "metadata": {},
   "outputs": [],
   "source": [
    "environment_gdf.to_parquet('../data/processed/environment_gdf.parquet')"
   ]
  },
  {
   "cell_type": "markdown",
   "id": "d79eb085-969f-41f2-8aab-8b7e63d6c5d8",
   "metadata": {},
   "source": [
    "# Calculating Installation Costs"
   ]
  },
  {
   "cell_type": "code",
   "execution_count": 36,
   "id": "2abaa7d6-895a-40ea-9501-fc404094573b",
   "metadata": {},
   "outputs": [],
   "source": [
    "def calculate_installation_cost():\n",
    "    # Wind operational expenses = $40/kW/yr\n",
    "    # Wind turbine capacity is 3 MW\n",
    "    # To get daily cost, multiply by 3000 (3 MW = 3000 kW) and divide by 365.25 days in a year\n",
    "    wind_opex = 4 * 40 * 3000 / 365.25\n",
    "    # Wind capital expenses = $1501/kW\n",
    "    # To get daily cost, multiply by 3000 (3 MW = 3000 kW) and divide by (25 years of lifetime * 365.25 days in a year)\n",
    "    wind_capex = 4 * 1501 * 3000 / (25 * 365.25)\n",
    "\n",
    "    wind_daily_cost = wind_opex + wind_capex\n",
    "\n",
    "    # Solar operational expenses = $16.12/kW/yr\n",
    "    # Solar capacity is 20 MW, based on land footprint\n",
    "    # To get daily cost, multiply by 20000 (20 MW = 20000 kW) and divide by 365.25 days in a year\n",
    "    solar_opex = 4 * 16.12 * 20000 / 365.25\n",
    "    # Solar capital expenses = $970/kW\n",
    "    # Solar capacity is 20 MW, based on land footprint\n",
    "    # To get daily cost, multiply by 20000 (20 MW = 20000 kW) and divide by (25 years of lifetime * 365.25 days in a year)\n",
    "    solar_capex = 4 * 970 * 20000 / (25 * 365.25)\n",
    "\n",
    "    solar_daily_cost = solar_opex + solar_capex\n",
    "\n",
    "    return wind_daily_cost, solar_daily_cost"
   ]
  },
  {
   "cell_type": "code",
   "execution_count": 37,
   "id": "9fd4b887-dd7a-4e26-9c12-42178ce44f95",
   "metadata": {},
   "outputs": [],
   "source": [
    "wind_daily_cost, solar_daily_cost = calculate_installation_cost()"
   ]
  },
  {
   "cell_type": "code",
   "execution_count": 38,
   "id": "51663240-73a9-40e0-8313-3ded9efedf73",
   "metadata": {},
   "outputs": [
    {
     "data": {
      "text/plain": [
       "(3286.735112936345, 12029.0212183436)"
      ]
     },
     "execution_count": 38,
     "metadata": {},
     "output_type": "execute_result"
    }
   ],
   "source": [
    "wind_daily_cost, solar_daily_cost"
   ]
  },
  {
   "cell_type": "code",
   "execution_count": 39,
   "id": "f9fc4728-9724-4153-9d43-0700971192b1",
   "metadata": {},
   "outputs": [
    {
     "ename": "KeyError",
     "evalue": "\"['demand_1', 'demand_2', 'demand_3', 'demand_4', 'demand_5', 'demand_6', 'demand_7', 'demand_8', 'demand_9', 'demand_10', 'demand_11', 'demand_12', 'demand_13', 'demand_14', 'demand_15', 'demand_16', 'demand_17', 'demand_18', 'demand_19', 'demand_20', 'demand_21', 'demand_22', 'demand_23', 'demand_24'] not in index\"",
     "output_type": "error",
     "traceback": [
      "\u001b[0;31m---------------------------------------------------------------------------\u001b[0m",
      "\u001b[0;31mKeyError\u001b[0m                                  Traceback (most recent call last)",
      "Cell \u001b[0;32mIn[39], line 11\u001b[0m\n\u001b[1;32m      8\u001b[0m relevant_columns \u001b[38;5;241m+\u001b[39m\u001b[38;5;241m=\u001b[39m [\u001b[38;5;124mf\u001b[39m\u001b[38;5;124m'\u001b[39m\u001b[38;5;124mwind_power_kW_hour_\u001b[39m\u001b[38;5;132;01m{\u001b[39;00mi\u001b[38;5;132;01m}\u001b[39;00m\u001b[38;5;124m'\u001b[39m \u001b[38;5;28;01mfor\u001b[39;00m i \u001b[38;5;129;01min\u001b[39;00m \u001b[38;5;28mrange\u001b[39m(\u001b[38;5;241m1\u001b[39m,\u001b[38;5;241m25\u001b[39m)]\n\u001b[1;32m      9\u001b[0m relevant_columns \u001b[38;5;241m+\u001b[39m\u001b[38;5;241m=\u001b[39m [\u001b[38;5;124mf\u001b[39m\u001b[38;5;124m'\u001b[39m\u001b[38;5;124msolar_power_kW_hour_\u001b[39m\u001b[38;5;132;01m{\u001b[39;00mi\u001b[38;5;132;01m}\u001b[39;00m\u001b[38;5;124m'\u001b[39m \u001b[38;5;28;01mfor\u001b[39;00m i \u001b[38;5;129;01min\u001b[39;00m \u001b[38;5;28mrange\u001b[39m(\u001b[38;5;241m1\u001b[39m,\u001b[38;5;241m25\u001b[39m)]\n\u001b[0;32m---> 11\u001b[0m state \u001b[38;5;241m=\u001b[39m \u001b[43menvironment_gdf\u001b[49m\u001b[43m[\u001b[49m\u001b[43mrelevant_columns\u001b[49m\u001b[43m]\u001b[49m\u001b[38;5;241m.\u001b[39mcopy()\n\u001b[1;32m     12\u001b[0m state\u001b[38;5;241m.\u001b[39mrename(columns\u001b[38;5;241m=\u001b[39m{\u001b[38;5;124m'\u001b[39m\u001b[38;5;124mtropical_cyclone_wind_exposure\u001b[39m\u001b[38;5;124m'\u001b[39m: \u001b[38;5;124m'\u001b[39m\u001b[38;5;124mcyclone_risk\u001b[39m\u001b[38;5;124m'\u001b[39m}, inplace\u001b[38;5;241m=\u001b[39m\u001b[38;5;28;01mTrue\u001b[39;00m)\n",
      "File \u001b[0;32m~/Projects/gtomscs/dl/GreenGridPR/slim_environment/lib/python3.11/site-packages/geopandas/geodataframe.py:1474\u001b[0m, in \u001b[0;36mGeoDataFrame.__getitem__\u001b[0;34m(self, key)\u001b[0m\n\u001b[1;32m   1468\u001b[0m \u001b[38;5;28;01mdef\u001b[39;00m \u001b[38;5;21m__getitem__\u001b[39m(\u001b[38;5;28mself\u001b[39m, key):\n\u001b[1;32m   1469\u001b[0m \u001b[38;5;250m    \u001b[39m\u001b[38;5;124;03m\"\"\"\u001b[39;00m\n\u001b[1;32m   1470\u001b[0m \u001b[38;5;124;03m    If the result is a column containing only 'geometry', return a\u001b[39;00m\n\u001b[1;32m   1471\u001b[0m \u001b[38;5;124;03m    GeoSeries. If it's a DataFrame with any columns of GeometryDtype,\u001b[39;00m\n\u001b[1;32m   1472\u001b[0m \u001b[38;5;124;03m    return a GeoDataFrame.\u001b[39;00m\n\u001b[1;32m   1473\u001b[0m \u001b[38;5;124;03m    \"\"\"\u001b[39;00m\n\u001b[0;32m-> 1474\u001b[0m     result \u001b[38;5;241m=\u001b[39m \u001b[38;5;28;43msuper\u001b[39;49m\u001b[43m(\u001b[49m\u001b[43m)\u001b[49m\u001b[38;5;241;43m.\u001b[39;49m\u001b[38;5;21;43m__getitem__\u001b[39;49m\u001b[43m(\u001b[49m\u001b[43mkey\u001b[49m\u001b[43m)\u001b[49m\n\u001b[1;32m   1475\u001b[0m     \u001b[38;5;66;03m# Custom logic to avoid waiting for pandas GH51895\u001b[39;00m\n\u001b[1;32m   1476\u001b[0m     \u001b[38;5;66;03m# result is not geometry dtype for multi-indexes\u001b[39;00m\n\u001b[1;32m   1477\u001b[0m     \u001b[38;5;28;01mif\u001b[39;00m (\n\u001b[1;32m   1478\u001b[0m         pd\u001b[38;5;241m.\u001b[39mapi\u001b[38;5;241m.\u001b[39mtypes\u001b[38;5;241m.\u001b[39mis_scalar(key)\n\u001b[1;32m   1479\u001b[0m         \u001b[38;5;129;01mand\u001b[39;00m key \u001b[38;5;241m==\u001b[39m \u001b[38;5;124m\"\u001b[39m\u001b[38;5;124m\"\u001b[39m\n\u001b[0;32m   (...)\u001b[0m\n\u001b[1;32m   1482\u001b[0m         \u001b[38;5;129;01mand\u001b[39;00m \u001b[38;5;129;01mnot\u001b[39;00m is_geometry_type(result)\n\u001b[1;32m   1483\u001b[0m     ):\n",
      "File \u001b[0;32m~/Projects/gtomscs/dl/GreenGridPR/slim_environment/lib/python3.11/site-packages/pandas/core/frame.py:3899\u001b[0m, in \u001b[0;36mDataFrame.__getitem__\u001b[0;34m(self, key)\u001b[0m\n\u001b[1;32m   3897\u001b[0m     \u001b[38;5;28;01mif\u001b[39;00m is_iterator(key):\n\u001b[1;32m   3898\u001b[0m         key \u001b[38;5;241m=\u001b[39m \u001b[38;5;28mlist\u001b[39m(key)\n\u001b[0;32m-> 3899\u001b[0m     indexer \u001b[38;5;241m=\u001b[39m \u001b[38;5;28;43mself\u001b[39;49m\u001b[38;5;241;43m.\u001b[39;49m\u001b[43mcolumns\u001b[49m\u001b[38;5;241;43m.\u001b[39;49m\u001b[43m_get_indexer_strict\u001b[49m\u001b[43m(\u001b[49m\u001b[43mkey\u001b[49m\u001b[43m,\u001b[49m\u001b[43m \u001b[49m\u001b[38;5;124;43m\"\u001b[39;49m\u001b[38;5;124;43mcolumns\u001b[39;49m\u001b[38;5;124;43m\"\u001b[39;49m\u001b[43m)\u001b[49m[\u001b[38;5;241m1\u001b[39m]\n\u001b[1;32m   3901\u001b[0m \u001b[38;5;66;03m# take() does not accept boolean indexers\u001b[39;00m\n\u001b[1;32m   3902\u001b[0m \u001b[38;5;28;01mif\u001b[39;00m \u001b[38;5;28mgetattr\u001b[39m(indexer, \u001b[38;5;124m\"\u001b[39m\u001b[38;5;124mdtype\u001b[39m\u001b[38;5;124m\"\u001b[39m, \u001b[38;5;28;01mNone\u001b[39;00m) \u001b[38;5;241m==\u001b[39m \u001b[38;5;28mbool\u001b[39m:\n",
      "File \u001b[0;32m~/Projects/gtomscs/dl/GreenGridPR/slim_environment/lib/python3.11/site-packages/pandas/core/indexes/base.py:6114\u001b[0m, in \u001b[0;36mIndex._get_indexer_strict\u001b[0;34m(self, key, axis_name)\u001b[0m\n\u001b[1;32m   6111\u001b[0m \u001b[38;5;28;01melse\u001b[39;00m:\n\u001b[1;32m   6112\u001b[0m     keyarr, indexer, new_indexer \u001b[38;5;241m=\u001b[39m \u001b[38;5;28mself\u001b[39m\u001b[38;5;241m.\u001b[39m_reindex_non_unique(keyarr)\n\u001b[0;32m-> 6114\u001b[0m \u001b[38;5;28;43mself\u001b[39;49m\u001b[38;5;241;43m.\u001b[39;49m\u001b[43m_raise_if_missing\u001b[49m\u001b[43m(\u001b[49m\u001b[43mkeyarr\u001b[49m\u001b[43m,\u001b[49m\u001b[43m \u001b[49m\u001b[43mindexer\u001b[49m\u001b[43m,\u001b[49m\u001b[43m \u001b[49m\u001b[43maxis_name\u001b[49m\u001b[43m)\u001b[49m\n\u001b[1;32m   6116\u001b[0m keyarr \u001b[38;5;241m=\u001b[39m \u001b[38;5;28mself\u001b[39m\u001b[38;5;241m.\u001b[39mtake(indexer)\n\u001b[1;32m   6117\u001b[0m \u001b[38;5;28;01mif\u001b[39;00m \u001b[38;5;28misinstance\u001b[39m(key, Index):\n\u001b[1;32m   6118\u001b[0m     \u001b[38;5;66;03m# GH 42790 - Preserve name from an Index\u001b[39;00m\n",
      "File \u001b[0;32m~/Projects/gtomscs/dl/GreenGridPR/slim_environment/lib/python3.11/site-packages/pandas/core/indexes/base.py:6178\u001b[0m, in \u001b[0;36mIndex._raise_if_missing\u001b[0;34m(self, key, indexer, axis_name)\u001b[0m\n\u001b[1;32m   6175\u001b[0m     \u001b[38;5;28;01mraise\u001b[39;00m \u001b[38;5;167;01mKeyError\u001b[39;00m(\u001b[38;5;124mf\u001b[39m\u001b[38;5;124m\"\u001b[39m\u001b[38;5;124mNone of [\u001b[39m\u001b[38;5;132;01m{\u001b[39;00mkey\u001b[38;5;132;01m}\u001b[39;00m\u001b[38;5;124m] are in the [\u001b[39m\u001b[38;5;132;01m{\u001b[39;00maxis_name\u001b[38;5;132;01m}\u001b[39;00m\u001b[38;5;124m]\u001b[39m\u001b[38;5;124m\"\u001b[39m)\n\u001b[1;32m   6177\u001b[0m not_found \u001b[38;5;241m=\u001b[39m \u001b[38;5;28mlist\u001b[39m(ensure_index(key)[missing_mask\u001b[38;5;241m.\u001b[39mnonzero()[\u001b[38;5;241m0\u001b[39m]]\u001b[38;5;241m.\u001b[39munique())\n\u001b[0;32m-> 6178\u001b[0m \u001b[38;5;28;01mraise\u001b[39;00m \u001b[38;5;167;01mKeyError\u001b[39;00m(\u001b[38;5;124mf\u001b[39m\u001b[38;5;124m\"\u001b[39m\u001b[38;5;132;01m{\u001b[39;00mnot_found\u001b[38;5;132;01m}\u001b[39;00m\u001b[38;5;124m not in index\u001b[39m\u001b[38;5;124m\"\u001b[39m)\n",
      "\u001b[0;31mKeyError\u001b[0m: \"['demand_1', 'demand_2', 'demand_3', 'demand_4', 'demand_5', 'demand_6', 'demand_7', 'demand_8', 'demand_9', 'demand_10', 'demand_11', 'demand_12', 'demand_13', 'demand_14', 'demand_15', 'demand_16', 'demand_17', 'demand_18', 'demand_19', 'demand_20', 'demand_21', 'demand_22', 'demand_23', 'demand_24'] not in index\""
     ]
    }
   ],
   "source": [
    "relevant_columns = ['geometry',\n",
    "                    'masked', \n",
    "                    'occupied',\n",
    "                    'slope',\n",
    "                    'distance_to_transmission_line',\n",
    "                    'tropical_cyclone_wind_exposure']\n",
    "relevant_columns += [f'demand_{i}' for i in range(1,25)]\n",
    "relevant_columns += [f'wind_power_kW_hour_{i}' for i in range(1,25)]\n",
    "relevant_columns += [f'solar_power_kW_hour_{i}' for i in range(1,25)]\n",
    "\n",
    "state = environment_gdf[relevant_columns].copy()\n",
    "state.rename(columns={'tropical_cyclone_wind_exposure': 'cyclone_risk'}, inplace=True)"
   ]
  },
  {
   "cell_type": "code",
   "execution_count": null,
   "id": "c99d018c-de8e-4c94-94f1-dfb6e086f273",
   "metadata": {},
   "outputs": [],
   "source": [
    "state.columns"
   ]
  },
  {
   "cell_type": "code",
   "execution_count": null,
   "id": "5ae17a5e-8672-43e5-a56c-3bd9c747d55b",
   "metadata": {},
   "outputs": [],
   "source": [
    "state.masked = state.masked.astype(int)"
   ]
  },
  {
   "cell_type": "markdown",
   "id": "54c08a7b-2461-4b14-81e8-92a39734e8c2",
   "metadata": {},
   "source": [
    "# Masking wind and solar power output"
   ]
  },
  {
   "cell_type": "code",
   "execution_count": null,
   "id": "820374b6-949e-4b51-9d7f-304222181b02",
   "metadata": {},
   "outputs": [],
   "source": [
    "for i in range(1,25):\n",
    "    state[f'wind_power_kW_hour_{i}'] *= 1 - state['masked']\n",
    "    state[f'solar_power_kW_hour_{i}'] *= 1 - state['masked']"
   ]
  },
  {
   "cell_type": "code",
   "execution_count": null,
   "id": "9cac7fee-bd3a-4f47-b89f-4f5c91550815",
   "metadata": {},
   "outputs": [],
   "source": [
    "state['installation_type'] = None\n",
    "state.to_crs(\"EPSG:32161\", inplace=True)"
   ]
  },
  {
   "cell_type": "code",
   "execution_count": null,
   "id": "f9d4e3dc-8ddd-4cca-8498-4bcead26f2e1",
   "metadata": {},
   "outputs": [],
   "source": [
    "state.to_parquet('../data/processed/state_1km_grid_cells_masked_power.parquet')"
   ]
  },
  {
   "cell_type": "code",
   "execution_count": null,
   "id": "70fffdf6-a7a8-4f6d-aa95-f9f609f9faf1",
   "metadata": {},
   "outputs": [],
   "source": [
    "from matplotlib.colors import ListedColormap"
   ]
  },
  {
   "cell_type": "code",
   "execution_count": null,
   "id": "2d0dded5-4ef6-40dc-8105-3631148a4080",
   "metadata": {},
   "outputs": [],
   "source": [
    "def plot_columns(orig_gdf, columns=[]):\n",
    "    gdf = orig_gdf.to_crs('EPSG:4326')\n",
    "    if len(columns) == 0:\n",
    "        columns = gdf.columns\n",
    "\n",
    "    for column in columns:\n",
    "        if column in ['geometry', 'centroid']:\n",
    "            continue\n",
    "\n",
    "        fig, ax = plt.subplots(1, 1, figsize=(12, 8))\n",
    "\n",
    "        # Check if the column is binary\n",
    "        if set(gdf[column].unique()) == {0, 1}:\n",
    "            # Custom colors for binary data\n",
    "            light_grey = \"#838383\"  # Lighter grey\n",
    "            greenish_blue_green = \"#6bc4a9\"  # Greenish blue-green\n",
    "            \n",
    "            # Create a custom colormap\n",
    "            cmap = ListedColormap([greenish_blue_green, light_grey])\n",
    "            #cmap = ListedColormap(['#abd9e9', '#fdae61'])  # Light blue and gentle orange\n",
    "            gdf.plot(column=column, ax=ax, legend=False, cmap=cmap)\n",
    "        else:\n",
    "            # Default plotting for non-binary data\n",
    "            gdf.plot(column=column, ax=ax, legend=True, legend_kwds={'orientation': 'horizontal', 'label': 'Solar Power Potential (MWh)'})\n",
    "\n",
    "        plt.title(column)\n",
    "        # plt.title('Solar Power Potential per Cell at 4pm',size=18)\n",
    "        # plt.xlabel('Longitude',size=16)\n",
    "        # plt.ylabel('Latitude',size=16)\n",
    "        # plt.tight_layout()\n",
    "        # plt.savefig('solar_power.png', dpi=300)\n",
    "        plt.show()"
   ]
  },
  {
   "cell_type": "code",
   "execution_count": null,
   "id": "df4be7da-9ef8-48ea-9374-67c8cc5eb7dd",
   "metadata": {},
   "outputs": [],
   "source": [
    "plot_columns(state, ['solar_power_kW_hour_20'])"
   ]
  },
  {
   "cell_type": "code",
   "execution_count": null,
   "id": "ffed8564-1957-4755-ba4d-9b25da8bbc80",
   "metadata": {},
   "outputs": [],
   "source": [
    "plot_columns(state)"
   ]
  },
  {
   "cell_type": "code",
   "execution_count": null,
   "id": "f0b55e0d-3a89-4bcf-85f3-1d02d3efb647",
   "metadata": {},
   "outputs": [],
   "source": []
  }
 ],
 "metadata": {
  "kernelspec": {
   "display_name": "Python 3 (ipykernel)",
   "language": "python",
   "name": "python3"
  },
  "language_info": {
   "codemirror_mode": {
    "name": "ipython",
    "version": 3
   },
   "file_extension": ".py",
   "mimetype": "text/x-python",
   "name": "python",
   "nbconvert_exporter": "python",
   "pygments_lexer": "ipython3",
   "version": "3.11.6"
  }
 },
 "nbformat": 4,
 "nbformat_minor": 5
}
