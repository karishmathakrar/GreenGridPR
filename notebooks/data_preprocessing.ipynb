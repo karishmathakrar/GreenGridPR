{
 "cells": [
  {
   "cell_type": "code",
   "execution_count": 33,
   "id": "4fe94206-f02d-487d-91f9-c0d129ce6965",
   "metadata": {},
   "outputs": [],
   "source": [
    "import os\n",
    "\n",
    "import numpy as np\n",
    "import matplotlib.pyplot as plt\n",
    "\n",
    "import pandas as pd\n",
    "import geopandas as gpd\n",
    "\n",
    "from shapely.wkt import loads\n",
    "from shapely.geometry import Polygon\n",
    "from shapely.geometry import Point\n",
    "\n",
    "import rasterio\n",
    "import rasterio.sample\n",
    "\n",
    "from scipy.spatial.distance import cdist"
   ]
  },
  {
   "cell_type": "code",
   "execution_count": 2,
   "id": "5227e4b8-7507-48e0-bd40-3c6f4097e65c",
   "metadata": {},
   "outputs": [],
   "source": [
    "parquet_files = {'marine_protected_areas': ('../data/PR100/Habitat/marine_protected_areas.parquet',\n",
    "  'EPSG:32161',\n",
    "  'centroid'),\n",
    " 'land_nationwide_hapc': ('../data/PR100/Habitat/land_nationwide_hapc.parquet',\n",
    "  'EPSG:32161',\n",
    "  'centroid'),\n",
    " 'artificial_reefs': ('../data/PR100/Habitat/artificial_reefs.parquet',\n",
    "  'EPSG:32161',\n",
    "  'irrelevant'),\n",
    " 'nationwide_hapc': ('../data/PR100/Habitat/nationwide_hapc.parquet',\n",
    "  'EPSG:32161',\n",
    "  'irrelevant'),\n",
    " 'areas_protegidas_agencia': ('../data/PR100/Habitat/areas_protegidas_agencia.parquet',\n",
    "  'EPSG:32161',\n",
    "  'centroid'),\n",
    " 'noaa_charted_submarine_cables_30m_buffer': ('../data/PR100/Infrastructure/noaa_charted_submarine_cables_30m_buffer.parquet',\n",
    "  'EPSG:32161',\n",
    "  'irrelevant'),\n",
    " 'setbacks_xmission': ('../data/PR100/Infrastructure/setbacks_xmission.parquet',\n",
    "  'EPSG:32161',\n",
    "  'lines'),\n",
    " 'submarine_cable_30m_buffer': ('../data/PR100/Infrastructure/submarine_cable_30m_buffer.parquet',\n",
    "  'EPSG:32161',\n",
    "  'irrelevant'),\n",
    " 'pipeline_areas': ('../data/PR100/Infrastructure/pipeline_areas.parquet',\n",
    "  'EPSG:32161',\n",
    "  'irrelevant'),\n",
    " 'setbacks_roads': ('../data/PR100/Infrastructure/setbacks_roads.parquet',\n",
    "  'EPSG:4326',\n",
    "  'density'),\n",
    " 'setbacks_runway': ('../data/PR100/Infrastructure/setbacks_runway.parquet',\n",
    "  'EPSG:4326',\n",
    "  'centroid'),\n",
    " 'setbacks_airport': ('../data/PR100/Infrastructure/setbacks_airport.parquet',\n",
    "  'EPSG:4326',\n",
    "  'points'),\n",
    " 'setbacks_buildings': ('../data/PR100/Infrastructure/setbacks_buildings.parquet',\n",
    "  'EPSG:4326',\n",
    "  'density'),\n",
    " 'federal_and_state_waters': ('../data/PR100/Boundaries/federal_and_state_waters.parquet',\n",
    "  'EPSG:32161',\n",
    "  'centroid'),\n",
    " 'coastal_zone_mgmt_act_boundary': ('../data/PR100/Boundaries/coastal_zone_mgmt_act_boundary.parquet',\n",
    "  'EPSG:32161',\n",
    "  'centroid'),\n",
    " 'land_protected_areas': ('../data/PR100/Boundaries/land_protected_areas.parquet',\n",
    "  'EPSG:32161',\n",
    "  'centroid'),\n",
    " 'water_bodies': ('../data/PR100/Topography/water_bodies.parquet',\n",
    "  'EPSG:4326',\n",
    "  'centroid'),\n",
    " 'wrecks_and_obstructions': ('../data/PR100/Hazards/wrecks_and_obstructions.parquet',\n",
    "  'EPSG:4326',\n",
    "  'points'),\n",
    " 'ocean_disposal_sites': ('../data/PR100/Hazards/ocean_disposal_sites.parquet',\n",
    "  'EPSG:32161',\n",
    "  'centroid'),\n",
    " 'tropical_cyclone_storm_segments': ('../data/PR100/Hazards/tropical_cyclone_storm_segments.parquet',\n",
    "  'EPSG:32161',\n",
    "  'lines'),\n",
    " 'tropical_cyclone_wind_exposure': ('../data/PR100/Hazards/tropical_cyclone_wind_exposure.parquet',\n",
    "  'EPSG:32161',\n",
    "  'wind_exposure'),\n",
    " 'unexploded_ordinance_areas_fuds': ('../data/PR100/Hazards/unexploded_ordinance_areas_fuds.parquet',\n",
    "  'EPSG:32161',\n",
    "  'irrelevant'),\n",
    " 'danger_zones_and_restricted_areas': ('../data/PR100/Hazards/danger_zones_and_restricted_areas.parquet',\n",
    "  'EPSG:32161',\n",
    "  'centroid'),\n",
    " 'unexploded_ordinance_areas': ('../data/PR100/Hazards/unexploded_ordinance_areas.parquet',\n",
    "  'EPSG:4326',\n",
    "  'centroid')}"
   ]
  },
  {
   "cell_type": "code",
   "execution_count": 3,
   "id": "11d52628-5ef3-4b92-af7a-e64e9dccac28",
   "metadata": {},
   "outputs": [],
   "source": [
    "tif_files = ['../data/wind_atlas/PRI_power-density_50m.tif',\n",
    " '../data/wind_atlas/PRI_power-density_100m.tif',\n",
    " '../data/wind_atlas/PRI_power-density_150m.tif',\n",
    " '../data/wind_atlas/PRI_power-density_200m.tif',\n",
    " '../data/wind_atlas/PRI_power-density_10m.tif',\n",
    " '../data/solar_atlas/Yearly_PVOUT.tif',\n",
    " '../data/solar_atlas/Daily_PVOUT.tif',\n",
    " '../data/PR100/Topography/slope.tif',\n",
    " '../data/PR100/Topography/elevation.tif']"
   ]
  },
  {
   "cell_type": "code",
   "execution_count": 4,
   "id": "95e6bdbb-8031-4060-9f4a-46eee5ed7f74",
   "metadata": {},
   "outputs": [],
   "source": [
    "binary_mask_columns = ['marine_protected_areas', 'land_nationwide_hapc',\n",
    "       'areas_protegidas_agencia', 'setbacks_xmission',\n",
    "       'setbacks_runway', 'setbacks_airport',\n",
    "       'federal_and_state_waters', 'coastal_zone_mgmt_act_boundary',\n",
    "       'land_protected_areas', 'water_bodies', 'wrecks_and_obstructions',\n",
    "       'ocean_disposal_sites', 'danger_zones_and_restricted_areas',\n",
    "       'unexploded_ordinance_areas']"
   ]
  },
  {
   "cell_type": "code",
   "execution_count": 5,
   "id": "6098fd75-0229-4edf-ada8-4e78012b3d45",
   "metadata": {},
   "outputs": [],
   "source": [
    "def find_parquet_files(directory):\n",
    "    \"\"\"\n",
    "    Find all Parquet files within a directory and its subdirectories.\n",
    "\n",
    "    :param directory: The base directory to search.\n",
    "    :return: A list of paths to Parquet files.\n",
    "\n",
    "    Note: This function isn't used in this notebook, because the file list\n",
    "    has already been generated and enriched (see 'parquet_files' dict above)\n",
    "    \"\"\"\n",
    "    parquet_files = []\n",
    "    for root, dirs, files in os.walk(directory):\n",
    "        for file in files:\n",
    "            if file.endswith('.parquet'):\n",
    "                parquet_files.append(os.path.join(root, file))\n",
    "    return parquet_files"
   ]
  },
  {
   "cell_type": "code",
   "execution_count": 6,
   "id": "c223ef0d-7a73-4399-b157-51e6f0862bf4",
   "metadata": {},
   "outputs": [],
   "source": [
    "def find_tif_files(directory):\n",
    "    \"\"\"\n",
    "    Find all TIF files within a directory and its subdirectories.\n",
    "\n",
    "    :param directory: The base directory to search.\n",
    "    :return: A list of paths to TIF files.\n",
    "\n",
    "    Note: This function isn't used in this notebook, because the file list\n",
    "    has already been generated (see 'tif_files' dict above)\n",
    "    \"\"\"\n",
    "    tif_files = []\n",
    "    for root, dirs, files in os.walk(directory):\n",
    "        for file in files:\n",
    "            if file.endswith('.tif'):\n",
    "                tif_files.append(os.path.join(root, file))\n",
    "    return tif_files"
   ]
  },
  {
   "cell_type": "code",
   "execution_count": 7,
   "id": "f5d80e3a-a26c-4845-8ab4-879192344dd8",
   "metadata": {},
   "outputs": [],
   "source": [
    "def get_gdf(parquet_file, crs, grid):\n",
    "    df = pd.read_parquet(parquet_file)\n",
    "    df['geometry'] = df['geometry'].apply(loads)\n",
    "    gdf = gpd.GeoDataFrame(df, geometry='geometry')\n",
    "    gdf.set_crs(crs, inplace=True)\n",
    "    gdf.to_crs(grid.crs, inplace=True)\n",
    "    return gdf"
   ]
  },
  {
   "cell_type": "code",
   "execution_count": 8,
   "id": "9755c563-94ec-4c8f-938c-8e85f703990c",
   "metadata": {},
   "outputs": [],
   "source": [
    "def create_grid(x_start, x_end, y_start, y_end, square_size):\n",
    "    grid = []\n",
    "    for x in np.arange(x_start, x_end, square_size):\n",
    "        for y in np.arange(y_start, y_end, square_size):\n",
    "            # Define the square's coordinates\n",
    "            square = Polygon([(x, y), (x + square_size, y), (x + square_size, y + square_size), (x, y + square_size)])\n",
    "            grid.append(square)\n",
    "    return gpd.GeoDataFrame({'geometry': grid}, crs=\"EPSG:32161\")"
   ]
  },
  {
   "cell_type": "code",
   "execution_count": 9,
   "id": "60518b25-c664-4e09-a980-a66dc477254c",
   "metadata": {},
   "outputs": [],
   "source": [
    "# This is a legacy function and is no longer in use\n",
    "\n",
    "def calculate_cyclone_risk_score(df):\n",
    "    # Normalize the wind speed occurrences\n",
    "    max_occurrence = df[['occurrence34kt', 'occurrence50kt', 'occurrence64kt']].max().max()\n",
    "    df['norm_occurrence34kt'] = df['occurrence34kt'] / max_occurrence\n",
    "    df['norm_occurrence50kt'] = df['occurrence50kt'] / max_occurrence\n",
    "    df['norm_occurrence64kt'] = df['occurrence64kt'] / max_occurrence\n",
    "\n",
    "    # Normalize major hurricanes occurrences\n",
    "    max_major_hurricanes = df['occurrence64ktMajorHurricanes'].max()\n",
    "    df['norm_major_hurricanes'] = df['occurrence64ktMajorHurricanes'] / max_major_hurricanes\n",
    "\n",
    "    # Normalize intersecting storm tracks\n",
    "    max_intersecting = df['intersectingStormTracks'].max()\n",
    "    df['norm_intersectingTracks'] = df['intersectingStormTracks'] / max_intersecting\n",
    "\n",
    "    # Assign weights and calculate risk score\n",
    "    weights = {\n",
    "        'norm_occurrence34kt': 0.1,\n",
    "        'norm_occurrence50kt': 0.2,\n",
    "        'norm_occurrence64kt': 0.3,\n",
    "        'norm_major_hurricanes': 0.3,\n",
    "        'norm_intersectingTracks': 0.1\n",
    "    }\n",
    "\n",
    "    df['cyclone_risk_score'] = sum(df[col] * weight for col, weight in weights.items())\n",
    "    \n",
    "    return df"
   ]
  },
  {
   "cell_type": "code",
   "execution_count": 10,
   "id": "ccf961f8-154d-4bc6-a766-f21fa32b710c",
   "metadata": {},
   "outputs": [],
   "source": [
    "def calculate_cyclone_failure_percentage(df):\n",
    "    probability_of_hurricane_occuring = df['occurrence64ktMajorHurricanes'] / 117\n",
    "    probability_of_failure_due_to_hurricane = 0.5\n",
    "    average_life_span = 25\n",
    "    df['turbine_cyclone_failure_percentage'] = probability_of_hurricane_occuring * probability_of_failure_due_to_hurricane * average_life_span / 2\n",
    "    return df"
   ]
  },
  {
   "cell_type": "code",
   "execution_count": 11,
   "id": "7b99943c-6638-4223-ba7e-aad7e9531950",
   "metadata": {},
   "outputs": [],
   "source": [
    "def rasterize_cyclone_failure_risk(grid_gdf, cyclone_data_gdf):\n",
    "    # Ensure both dataframes are in the same CRS\n",
    "    cyclone_data_gdf = cyclone_data_gdf.to_crs(grid_gdf.crs)\n",
    "\n",
    "    # Spatial join - to associate cyclone data with each grid cell\n",
    "    joined_gdf = gpd.sjoin(grid_gdf, cyclone_data_gdf, how='left', predicate='intersects')\n",
    "\n",
    "    # Apply the failure cost calculation to each row\n",
    "    joined_gdf = calculate_cyclone_failure_percentage(joined_gdf)\n",
    "\n",
    "    # Group by grid cell index and average the scores within each cell\n",
    "    aggregated_scores = joined_gdf.groupby(joined_gdf.index)['turbine_cyclone_failure_percentage'].mean()\n",
    "\n",
    "    return aggregated_scores.reindex(grid_gdf.index, fill_value=0)"
   ]
  },
  {
   "cell_type": "code",
   "execution_count": 12,
   "id": "bf71fafe-69ec-4b06-b171-e267e615dcab",
   "metadata": {},
   "outputs": [],
   "source": [
    "def rasterize(grid, data, type):\n",
    "    joined_gdf = gpd.sjoin(grid, data[['geometry']], how='right', predicate='intersects')\n",
    "    count = joined_gdf.groupby('index_left').size().reindex(grid.index, fill_value=0)\n",
    "    if type == 'density':\n",
    "        return count\n",
    "    else:\n",
    "        return count > 0"
   ]
  },
  {
   "cell_type": "code",
   "execution_count": 13,
   "id": "521f2bf2-15b5-4f46-b0ff-f3d1fbc5cf85",
   "metadata": {},
   "outputs": [],
   "source": [
    "def process_parquet_file(file_path, crs, type, handle, grid):\n",
    "    gdf = get_gdf(file_path, crs, grid)\n",
    "    if type == 'irrelevant':\n",
    "        pass\n",
    "    elif type == 'wind_exposure':\n",
    "        grid[handle] = rasterize_cyclone_failure_risk(grid, gdf)\n",
    "    else:\n",
    "        grid[handle] = rasterize(grid, gdf, type)"
   ]
  },
  {
   "cell_type": "code",
   "execution_count": 14,
   "id": "59b4f084-078a-4f5f-957e-bc81f91b35e2",
   "metadata": {},
   "outputs": [],
   "source": [
    "def process_parquet_files(files, grid):\n",
    "    for handle, file_data in files.items():\n",
    "        file_path = file_data[0]\n",
    "        crs = file_data[1]\n",
    "        type = file_data[2]\n",
    "        print(f'Processing file: {file_path}')\n",
    "        process_parquet_file(file_path, crs, type, handle, grid)"
   ]
  },
  {
   "cell_type": "code",
   "execution_count": 15,
   "id": "49869707-97d4-4b81-8425-d391955405b4",
   "metadata": {},
   "outputs": [],
   "source": [
    "def process_tif_file(file_path, grid, coords):\n",
    "    handle = file_path.split('/')[-1].split('.')[0]\n",
    "    # Open the raster and sample values at each coordinate\n",
    "    with rasterio.open(file_path) as src:\n",
    "        if grid.crs != src.crs:\n",
    "            centroids = grid.geometry.centroid.to_crs(src.crs)\n",
    "            coords = [(x,y) for x, y in zip(centroids.geometry.x, centroids.geometry.y)]\n",
    "\n",
    "        # Sample the raster at each centroid location\n",
    "        values = [x[0] for x in rasterio.sample.sample_gen(src, coords)]\n",
    "    \n",
    "    # Assign the values to the grid dataframe\n",
    "    grid[handle] = values"
   ]
  },
  {
   "cell_type": "code",
   "execution_count": 16,
   "id": "fc4d834f-d8fd-4894-b35c-514d63c3a9cd",
   "metadata": {},
   "outputs": [],
   "source": [
    "def process_tif_files(files, grid):\n",
    "    # Compute centroids\n",
    "    centroids = grid.geometry.centroid\n",
    "    # Create an array of coordinates in (x, y) format\n",
    "    coords = [(x,y) for x, y in zip(centroids.geometry.x, centroids.geometry.y)]\n",
    "\n",
    "    for file_path in tif_files:\n",
    "        print(f'Processing file: {file_path}')\n",
    "        process_tif_file(file_path, grid, coords)"
   ]
  },
  {
   "cell_type": "code",
   "execution_count": 17,
   "id": "7b500287-9466-4fe8-813e-06c9c86f75cf",
   "metadata": {},
   "outputs": [],
   "source": [
    "def create_final_binary_mask(grid, binary_mask_columns):\n",
    "    \"\"\"\n",
    "    Create a final binary mask column in the grid dataframe, which is True if any of \n",
    "    the specified binary mask columns are True.\n",
    "\n",
    "    :param grid: DataFrame containing the grid information.\n",
    "    :param binary_mask_columns: List of columns to be considered for the binary mask.\n",
    "    :return: Updated DataFrame with an additional 'final_binary_mask' column.\n",
    "    \"\"\"\n",
    "\n",
    "    # Check if any of the specified columns are True for each row\n",
    "    grid['masked'] = grid[binary_mask_columns].any(axis=1)"
   ]
  },
  {
   "cell_type": "code",
   "execution_count": 18,
   "id": "43840e23-881b-4714-89b5-2f0547cbec5f",
   "metadata": {},
   "outputs": [],
   "source": [
    "def plot_columns(gdf):\n",
    "    for column in gdf.columns:\n",
    "        if column in ['geometry', 'centroid']:\n",
    "            continue\n",
    "        if not 'wind' in column and not 'PRI' in column:\n",
    "            continue\n",
    "        fig, ax = plt.subplots(1, 1, figsize=(12, 8))\n",
    "        environment_gdf.plot(column=column, ax=ax, legend=True)\n",
    "        plt.title(column)\n",
    "        plt.show()"
   ]
  },
  {
   "cell_type": "code",
   "execution_count": 19,
   "id": "ab831d52-7eaa-4fcd-93d9-8c1513cdb394",
   "metadata": {},
   "outputs": [],
   "source": [
    "environment_gdf = create_grid(100000, 300000, 200000, 300000, 500)"
   ]
  },
  {
   "cell_type": "code",
   "execution_count": 20,
   "id": "c07f7858-bceb-49d4-9736-09c7b0049dec",
   "metadata": {},
   "outputs": [
    {
     "name": "stdout",
     "output_type": "stream",
     "text": [
      "Processing file: ../data/PR100/Habitat/marine_protected_areas.parquet\n",
      "Processing file: ../data/PR100/Habitat/land_nationwide_hapc.parquet\n",
      "Processing file: ../data/PR100/Habitat/artificial_reefs.parquet\n",
      "Processing file: ../data/PR100/Habitat/nationwide_hapc.parquet\n"
     ]
    },
    {
     "ename": "KeyboardInterrupt",
     "evalue": "",
     "output_type": "error",
     "traceback": [
      "\u001b[0;31m---------------------------------------------------------------------------\u001b[0m",
      "\u001b[0;31mKeyboardInterrupt\u001b[0m                         Traceback (most recent call last)",
      "Cell \u001b[0;32mIn[20], line 1\u001b[0m\n\u001b[0;32m----> 1\u001b[0m \u001b[43mprocess_parquet_files\u001b[49m\u001b[43m(\u001b[49m\u001b[43mparquet_files\u001b[49m\u001b[43m,\u001b[49m\u001b[43m \u001b[49m\u001b[43menvironment_gdf\u001b[49m\u001b[43m)\u001b[49m\n",
      "Cell \u001b[0;32mIn[14], line 7\u001b[0m, in \u001b[0;36mprocess_parquet_files\u001b[0;34m(files, grid)\u001b[0m\n\u001b[1;32m      5\u001b[0m \u001b[38;5;28mtype\u001b[39m \u001b[38;5;241m=\u001b[39m file_data[\u001b[38;5;241m2\u001b[39m]\n\u001b[1;32m      6\u001b[0m \u001b[38;5;28mprint\u001b[39m(\u001b[38;5;124mf\u001b[39m\u001b[38;5;124m'\u001b[39m\u001b[38;5;124mProcessing file: \u001b[39m\u001b[38;5;132;01m{\u001b[39;00mfile_path\u001b[38;5;132;01m}\u001b[39;00m\u001b[38;5;124m'\u001b[39m)\n\u001b[0;32m----> 7\u001b[0m \u001b[43mprocess_parquet_file\u001b[49m\u001b[43m(\u001b[49m\u001b[43mfile_path\u001b[49m\u001b[43m,\u001b[49m\u001b[43m \u001b[49m\u001b[43mcrs\u001b[49m\u001b[43m,\u001b[49m\u001b[43m \u001b[49m\u001b[38;5;28;43mtype\u001b[39;49m\u001b[43m,\u001b[49m\u001b[43m \u001b[49m\u001b[43mhandle\u001b[49m\u001b[43m,\u001b[49m\u001b[43m \u001b[49m\u001b[43mgrid\u001b[49m\u001b[43m)\u001b[49m\n",
      "Cell \u001b[0;32mIn[13], line 2\u001b[0m, in \u001b[0;36mprocess_parquet_file\u001b[0;34m(file_path, crs, type, handle, grid)\u001b[0m\n\u001b[1;32m      1\u001b[0m \u001b[38;5;28;01mdef\u001b[39;00m \u001b[38;5;21mprocess_parquet_file\u001b[39m(file_path, crs, \u001b[38;5;28mtype\u001b[39m, handle, grid):\n\u001b[0;32m----> 2\u001b[0m     gdf \u001b[38;5;241m=\u001b[39m \u001b[43mget_gdf\u001b[49m\u001b[43m(\u001b[49m\u001b[43mfile_path\u001b[49m\u001b[43m,\u001b[49m\u001b[43m \u001b[49m\u001b[43mcrs\u001b[49m\u001b[43m,\u001b[49m\u001b[43m \u001b[49m\u001b[43mgrid\u001b[49m\u001b[43m)\u001b[49m\n\u001b[1;32m      3\u001b[0m     \u001b[38;5;28;01mif\u001b[39;00m \u001b[38;5;28mtype\u001b[39m \u001b[38;5;241m==\u001b[39m \u001b[38;5;124m'\u001b[39m\u001b[38;5;124mirrelevant\u001b[39m\u001b[38;5;124m'\u001b[39m:\n\u001b[1;32m      4\u001b[0m         \u001b[38;5;28;01mpass\u001b[39;00m\n",
      "Cell \u001b[0;32mIn[7], line 3\u001b[0m, in \u001b[0;36mget_gdf\u001b[0;34m(parquet_file, crs, grid)\u001b[0m\n\u001b[1;32m      1\u001b[0m \u001b[38;5;28;01mdef\u001b[39;00m \u001b[38;5;21mget_gdf\u001b[39m(parquet_file, crs, grid):\n\u001b[1;32m      2\u001b[0m     df \u001b[38;5;241m=\u001b[39m pd\u001b[38;5;241m.\u001b[39mread_parquet(parquet_file)\n\u001b[0;32m----> 3\u001b[0m     df[\u001b[38;5;124m'\u001b[39m\u001b[38;5;124mgeometry\u001b[39m\u001b[38;5;124m'\u001b[39m] \u001b[38;5;241m=\u001b[39m \u001b[43mdf\u001b[49m\u001b[43m[\u001b[49m\u001b[38;5;124;43m'\u001b[39;49m\u001b[38;5;124;43mgeometry\u001b[39;49m\u001b[38;5;124;43m'\u001b[39;49m\u001b[43m]\u001b[49m\u001b[38;5;241;43m.\u001b[39;49m\u001b[43mapply\u001b[49m\u001b[43m(\u001b[49m\u001b[43mloads\u001b[49m\u001b[43m)\u001b[49m\n\u001b[1;32m      4\u001b[0m     gdf \u001b[38;5;241m=\u001b[39m gpd\u001b[38;5;241m.\u001b[39mGeoDataFrame(df, geometry\u001b[38;5;241m=\u001b[39m\u001b[38;5;124m'\u001b[39m\u001b[38;5;124mgeometry\u001b[39m\u001b[38;5;124m'\u001b[39m)\n\u001b[1;32m      5\u001b[0m     gdf\u001b[38;5;241m.\u001b[39mset_crs(crs, inplace\u001b[38;5;241m=\u001b[39m\u001b[38;5;28;01mTrue\u001b[39;00m)\n",
      "File \u001b[0;32m~/Projects/gtomscs/dl/GreenGridPR/slim_environment/lib/python3.11/site-packages/pandas/core/series.py:4760\u001b[0m, in \u001b[0;36mSeries.apply\u001b[0;34m(self, func, convert_dtype, args, by_row, **kwargs)\u001b[0m\n\u001b[1;32m   4625\u001b[0m \u001b[38;5;28;01mdef\u001b[39;00m \u001b[38;5;21mapply\u001b[39m(\n\u001b[1;32m   4626\u001b[0m     \u001b[38;5;28mself\u001b[39m,\n\u001b[1;32m   4627\u001b[0m     func: AggFuncType,\n\u001b[0;32m   (...)\u001b[0m\n\u001b[1;32m   4632\u001b[0m     \u001b[38;5;241m*\u001b[39m\u001b[38;5;241m*\u001b[39mkwargs,\n\u001b[1;32m   4633\u001b[0m ) \u001b[38;5;241m-\u001b[39m\u001b[38;5;241m>\u001b[39m DataFrame \u001b[38;5;241m|\u001b[39m Series:\n\u001b[1;32m   4634\u001b[0m \u001b[38;5;250m    \u001b[39m\u001b[38;5;124;03m\"\"\"\u001b[39;00m\n\u001b[1;32m   4635\u001b[0m \u001b[38;5;124;03m    Invoke function on values of Series.\u001b[39;00m\n\u001b[1;32m   4636\u001b[0m \n\u001b[0;32m   (...)\u001b[0m\n\u001b[1;32m   4751\u001b[0m \u001b[38;5;124;03m    dtype: float64\u001b[39;00m\n\u001b[1;32m   4752\u001b[0m \u001b[38;5;124;03m    \"\"\"\u001b[39;00m\n\u001b[1;32m   4753\u001b[0m     \u001b[38;5;28;01mreturn\u001b[39;00m \u001b[43mSeriesApply\u001b[49m\u001b[43m(\u001b[49m\n\u001b[1;32m   4754\u001b[0m \u001b[43m        \u001b[49m\u001b[38;5;28;43mself\u001b[39;49m\u001b[43m,\u001b[49m\n\u001b[1;32m   4755\u001b[0m \u001b[43m        \u001b[49m\u001b[43mfunc\u001b[49m\u001b[43m,\u001b[49m\n\u001b[1;32m   4756\u001b[0m \u001b[43m        \u001b[49m\u001b[43mconvert_dtype\u001b[49m\u001b[38;5;241;43m=\u001b[39;49m\u001b[43mconvert_dtype\u001b[49m\u001b[43m,\u001b[49m\n\u001b[1;32m   4757\u001b[0m \u001b[43m        \u001b[49m\u001b[43mby_row\u001b[49m\u001b[38;5;241;43m=\u001b[39;49m\u001b[43mby_row\u001b[49m\u001b[43m,\u001b[49m\n\u001b[1;32m   4758\u001b[0m \u001b[43m        \u001b[49m\u001b[43margs\u001b[49m\u001b[38;5;241;43m=\u001b[39;49m\u001b[43margs\u001b[49m\u001b[43m,\u001b[49m\n\u001b[1;32m   4759\u001b[0m \u001b[43m        \u001b[49m\u001b[43mkwargs\u001b[49m\u001b[38;5;241;43m=\u001b[39;49m\u001b[43mkwargs\u001b[49m\u001b[43m,\u001b[49m\n\u001b[0;32m-> 4760\u001b[0m \u001b[43m    \u001b[49m\u001b[43m)\u001b[49m\u001b[38;5;241;43m.\u001b[39;49m\u001b[43mapply\u001b[49m\u001b[43m(\u001b[49m\u001b[43m)\u001b[49m\n",
      "File \u001b[0;32m~/Projects/gtomscs/dl/GreenGridPR/slim_environment/lib/python3.11/site-packages/pandas/core/apply.py:1207\u001b[0m, in \u001b[0;36mSeriesApply.apply\u001b[0;34m(self)\u001b[0m\n\u001b[1;32m   1204\u001b[0m     \u001b[38;5;28;01mreturn\u001b[39;00m \u001b[38;5;28mself\u001b[39m\u001b[38;5;241m.\u001b[39mapply_compat()\n\u001b[1;32m   1206\u001b[0m \u001b[38;5;66;03m# self.func is Callable\u001b[39;00m\n\u001b[0;32m-> 1207\u001b[0m \u001b[38;5;28;01mreturn\u001b[39;00m \u001b[38;5;28;43mself\u001b[39;49m\u001b[38;5;241;43m.\u001b[39;49m\u001b[43mapply_standard\u001b[49m\u001b[43m(\u001b[49m\u001b[43m)\u001b[49m\n",
      "File \u001b[0;32m~/Projects/gtomscs/dl/GreenGridPR/slim_environment/lib/python3.11/site-packages/pandas/core/apply.py:1287\u001b[0m, in \u001b[0;36mSeriesApply.apply_standard\u001b[0;34m(self)\u001b[0m\n\u001b[1;32m   1281\u001b[0m \u001b[38;5;66;03m# row-wise access\u001b[39;00m\n\u001b[1;32m   1282\u001b[0m \u001b[38;5;66;03m# apply doesn't have a `na_action` keyword and for backward compat reasons\u001b[39;00m\n\u001b[1;32m   1283\u001b[0m \u001b[38;5;66;03m# we need to give `na_action=\"ignore\"` for categorical data.\u001b[39;00m\n\u001b[1;32m   1284\u001b[0m \u001b[38;5;66;03m# TODO: remove the `na_action=\"ignore\"` when that default has been changed in\u001b[39;00m\n\u001b[1;32m   1285\u001b[0m \u001b[38;5;66;03m#  Categorical (GH51645).\u001b[39;00m\n\u001b[1;32m   1286\u001b[0m action \u001b[38;5;241m=\u001b[39m \u001b[38;5;124m\"\u001b[39m\u001b[38;5;124mignore\u001b[39m\u001b[38;5;124m\"\u001b[39m \u001b[38;5;28;01mif\u001b[39;00m \u001b[38;5;28misinstance\u001b[39m(obj\u001b[38;5;241m.\u001b[39mdtype, CategoricalDtype) \u001b[38;5;28;01melse\u001b[39;00m \u001b[38;5;28;01mNone\u001b[39;00m\n\u001b[0;32m-> 1287\u001b[0m mapped \u001b[38;5;241m=\u001b[39m \u001b[43mobj\u001b[49m\u001b[38;5;241;43m.\u001b[39;49m\u001b[43m_map_values\u001b[49m\u001b[43m(\u001b[49m\n\u001b[1;32m   1288\u001b[0m \u001b[43m    \u001b[49m\u001b[43mmapper\u001b[49m\u001b[38;5;241;43m=\u001b[39;49m\u001b[43mcurried\u001b[49m\u001b[43m,\u001b[49m\u001b[43m \u001b[49m\u001b[43mna_action\u001b[49m\u001b[38;5;241;43m=\u001b[39;49m\u001b[43maction\u001b[49m\u001b[43m,\u001b[49m\u001b[43m \u001b[49m\u001b[43mconvert\u001b[49m\u001b[38;5;241;43m=\u001b[39;49m\u001b[38;5;28;43mself\u001b[39;49m\u001b[38;5;241;43m.\u001b[39;49m\u001b[43mconvert_dtype\u001b[49m\n\u001b[1;32m   1289\u001b[0m \u001b[43m\u001b[49m\u001b[43m)\u001b[49m\n\u001b[1;32m   1291\u001b[0m \u001b[38;5;28;01mif\u001b[39;00m \u001b[38;5;28mlen\u001b[39m(mapped) \u001b[38;5;129;01mand\u001b[39;00m \u001b[38;5;28misinstance\u001b[39m(mapped[\u001b[38;5;241m0\u001b[39m], ABCSeries):\n\u001b[1;32m   1292\u001b[0m     \u001b[38;5;66;03m# GH#43986 Need to do list(mapped) in order to get treated as nested\u001b[39;00m\n\u001b[1;32m   1293\u001b[0m     \u001b[38;5;66;03m#  See also GH#25959 regarding EA support\u001b[39;00m\n\u001b[1;32m   1294\u001b[0m     \u001b[38;5;28;01mreturn\u001b[39;00m obj\u001b[38;5;241m.\u001b[39m_constructor_expanddim(\u001b[38;5;28mlist\u001b[39m(mapped), index\u001b[38;5;241m=\u001b[39mobj\u001b[38;5;241m.\u001b[39mindex)\n",
      "File \u001b[0;32m~/Projects/gtomscs/dl/GreenGridPR/slim_environment/lib/python3.11/site-packages/pandas/core/base.py:919\u001b[0m, in \u001b[0;36mIndexOpsMixin._map_values\u001b[0;34m(self, mapper, na_action, convert)\u001b[0m\n\u001b[1;32m    916\u001b[0m arr \u001b[38;5;241m=\u001b[39m \u001b[38;5;28mself\u001b[39m\u001b[38;5;241m.\u001b[39m_values\n\u001b[1;32m    918\u001b[0m \u001b[38;5;28;01mif\u001b[39;00m \u001b[38;5;28misinstance\u001b[39m(arr, ExtensionArray):\n\u001b[0;32m--> 919\u001b[0m     \u001b[38;5;28;01mreturn\u001b[39;00m \u001b[43marr\u001b[49m\u001b[38;5;241;43m.\u001b[39;49m\u001b[43mmap\u001b[49m\u001b[43m(\u001b[49m\u001b[43mmapper\u001b[49m\u001b[43m,\u001b[49m\u001b[43m \u001b[49m\u001b[43mna_action\u001b[49m\u001b[38;5;241;43m=\u001b[39;49m\u001b[43mna_action\u001b[49m\u001b[43m)\u001b[49m\n\u001b[1;32m    921\u001b[0m \u001b[38;5;28;01mreturn\u001b[39;00m algorithms\u001b[38;5;241m.\u001b[39mmap_array(arr, mapper, na_action\u001b[38;5;241m=\u001b[39mna_action, convert\u001b[38;5;241m=\u001b[39mconvert)\n",
      "File \u001b[0;32m~/Projects/gtomscs/dl/GreenGridPR/slim_environment/lib/python3.11/site-packages/pandas/core/arrays/base.py:2188\u001b[0m, in \u001b[0;36mExtensionArray.map\u001b[0;34m(self, mapper, na_action)\u001b[0m\n\u001b[1;32m   2168\u001b[0m \u001b[38;5;28;01mdef\u001b[39;00m \u001b[38;5;21mmap\u001b[39m(\u001b[38;5;28mself\u001b[39m, mapper, na_action\u001b[38;5;241m=\u001b[39m\u001b[38;5;28;01mNone\u001b[39;00m):\n\u001b[1;32m   2169\u001b[0m \u001b[38;5;250m    \u001b[39m\u001b[38;5;124;03m\"\"\"\u001b[39;00m\n\u001b[1;32m   2170\u001b[0m \u001b[38;5;124;03m    Map values using an input mapping or function.\u001b[39;00m\n\u001b[1;32m   2171\u001b[0m \n\u001b[0;32m   (...)\u001b[0m\n\u001b[1;32m   2186\u001b[0m \u001b[38;5;124;03m        a MultiIndex will be returned.\u001b[39;00m\n\u001b[1;32m   2187\u001b[0m \u001b[38;5;124;03m    \"\"\"\u001b[39;00m\n\u001b[0;32m-> 2188\u001b[0m     \u001b[38;5;28;01mreturn\u001b[39;00m \u001b[43mmap_array\u001b[49m\u001b[43m(\u001b[49m\u001b[38;5;28;43mself\u001b[39;49m\u001b[43m,\u001b[49m\u001b[43m \u001b[49m\u001b[43mmapper\u001b[49m\u001b[43m,\u001b[49m\u001b[43m \u001b[49m\u001b[43mna_action\u001b[49m\u001b[38;5;241;43m=\u001b[39;49m\u001b[43mna_action\u001b[49m\u001b[43m)\u001b[49m\n",
      "File \u001b[0;32m~/Projects/gtomscs/dl/GreenGridPR/slim_environment/lib/python3.11/site-packages/pandas/core/algorithms.py:1814\u001b[0m, in \u001b[0;36mmap_array\u001b[0;34m(arr, mapper, na_action, convert)\u001b[0m\n\u001b[1;32m   1812\u001b[0m values \u001b[38;5;241m=\u001b[39m arr\u001b[38;5;241m.\u001b[39mastype(\u001b[38;5;28mobject\u001b[39m, copy\u001b[38;5;241m=\u001b[39m\u001b[38;5;28;01mFalse\u001b[39;00m)\n\u001b[1;32m   1813\u001b[0m \u001b[38;5;28;01mif\u001b[39;00m na_action \u001b[38;5;129;01mis\u001b[39;00m \u001b[38;5;28;01mNone\u001b[39;00m:\n\u001b[0;32m-> 1814\u001b[0m     \u001b[38;5;28;01mreturn\u001b[39;00m \u001b[43mlib\u001b[49m\u001b[38;5;241;43m.\u001b[39;49m\u001b[43mmap_infer\u001b[49m\u001b[43m(\u001b[49m\u001b[43mvalues\u001b[49m\u001b[43m,\u001b[49m\u001b[43m \u001b[49m\u001b[43mmapper\u001b[49m\u001b[43m,\u001b[49m\u001b[43m \u001b[49m\u001b[43mconvert\u001b[49m\u001b[38;5;241;43m=\u001b[39;49m\u001b[43mconvert\u001b[49m\u001b[43m)\u001b[49m\n\u001b[1;32m   1815\u001b[0m \u001b[38;5;28;01melse\u001b[39;00m:\n\u001b[1;32m   1816\u001b[0m     \u001b[38;5;28;01mreturn\u001b[39;00m lib\u001b[38;5;241m.\u001b[39mmap_infer_mask(\n\u001b[1;32m   1817\u001b[0m         values, mapper, mask\u001b[38;5;241m=\u001b[39misna(values)\u001b[38;5;241m.\u001b[39mview(np\u001b[38;5;241m.\u001b[39muint8), convert\u001b[38;5;241m=\u001b[39mconvert\n\u001b[1;32m   1818\u001b[0m     )\n",
      "File \u001b[0;32mlib.pyx:2920\u001b[0m, in \u001b[0;36mpandas._libs.lib.map_infer\u001b[0;34m()\u001b[0m\n",
      "File \u001b[0;32m~/Projects/gtomscs/dl/GreenGridPR/slim_environment/lib/python3.11/site-packages/shapely/wkt.py:22\u001b[0m, in \u001b[0;36mloads\u001b[0;34m(data)\u001b[0m\n\u001b[1;32m      9\u001b[0m \u001b[38;5;28;01mdef\u001b[39;00m \u001b[38;5;21mloads\u001b[39m(data):\n\u001b[1;32m     10\u001b[0m \u001b[38;5;250m    \u001b[39m\u001b[38;5;124;03m\"\"\"\u001b[39;00m\n\u001b[1;32m     11\u001b[0m \u001b[38;5;124;03m    Load a geometry from a WKT string.\u001b[39;00m\n\u001b[1;32m     12\u001b[0m \n\u001b[0;32m   (...)\u001b[0m\n\u001b[1;32m     20\u001b[0m \u001b[38;5;124;03m    Shapely geometry object\u001b[39;00m\n\u001b[1;32m     21\u001b[0m \u001b[38;5;124;03m    \"\"\"\u001b[39;00m\n\u001b[0;32m---> 22\u001b[0m     \u001b[38;5;28;01mreturn\u001b[39;00m \u001b[43mshapely\u001b[49m\u001b[38;5;241;43m.\u001b[39;49m\u001b[43mfrom_wkt\u001b[49m\u001b[43m(\u001b[49m\u001b[43mdata\u001b[49m\u001b[43m)\u001b[49m\n",
      "File \u001b[0;32m~/Projects/gtomscs/dl/GreenGridPR/slim_environment/lib/python3.11/site-packages/shapely/io.py:282\u001b[0m, in \u001b[0;36mfrom_wkt\u001b[0;34m(geometry, on_invalid, **kwargs)\u001b[0m\n\u001b[1;32m    278\u001b[0m     \u001b[38;5;28;01mraise\u001b[39;00m \u001b[38;5;167;01mTypeError\u001b[39;00m(\u001b[38;5;124m\"\u001b[39m\u001b[38;5;124mon_invalid only accepts scalar values\u001b[39m\u001b[38;5;124m\"\u001b[39m)\n\u001b[1;32m    280\u001b[0m invalid_handler \u001b[38;5;241m=\u001b[39m np\u001b[38;5;241m.\u001b[39muint8(DecodingErrorOptions\u001b[38;5;241m.\u001b[39mget_value(on_invalid))\n\u001b[0;32m--> 282\u001b[0m \u001b[38;5;28;01mreturn\u001b[39;00m \u001b[43mlib\u001b[49m\u001b[38;5;241;43m.\u001b[39;49m\u001b[43mfrom_wkt\u001b[49m\u001b[43m(\u001b[49m\u001b[43mgeometry\u001b[49m\u001b[43m,\u001b[49m\u001b[43m \u001b[49m\u001b[43minvalid_handler\u001b[49m\u001b[43m,\u001b[49m\u001b[43m \u001b[49m\u001b[38;5;241;43m*\u001b[39;49m\u001b[38;5;241;43m*\u001b[39;49m\u001b[43mkwargs\u001b[49m\u001b[43m)\u001b[49m\n",
      "\u001b[0;31mKeyboardInterrupt\u001b[0m: "
     ]
    }
   ],
   "source": [
    "process_parquet_files(parquet_files, environment_gdf)"
   ]
  },
  {
   "cell_type": "code",
   "execution_count": null,
   "id": "67ba92ce-6666-4a25-8bec-abad4ab4d4bb",
   "metadata": {},
   "outputs": [],
   "source": [
    "process_tif_files(tif_files, environment_gdf)"
   ]
  },
  {
   "cell_type": "code",
   "execution_count": null,
   "id": "aafcd931-581e-4f0b-8509-2d2d37098f5c",
   "metadata": {},
   "outputs": [],
   "source": [
    "create_final_binary_mask(environment_gdf, binary_mask_columns)"
   ]
  },
  {
   "cell_type": "code",
   "execution_count": null,
   "id": "093aff6f",
   "metadata": {},
   "outputs": [],
   "source": [
    "environment_gdf['centroid'] = environment_gdf.centroid"
   ]
  },
  {
   "cell_type": "code",
   "execution_count": null,
   "id": "0bab16a4-786f-46e3-9c9a-a05208f4484f",
   "metadata": {},
   "outputs": [],
   "source": [
    "environment_gdf['occupied'] = False"
   ]
  },
  {
   "cell_type": "markdown",
   "id": "787f3658-53bf-4ad3-9ba1-e9f3528002fe",
   "metadata": {},
   "source": [
    "## Calculating per-cell energy demand"
   ]
  },
  {
   "cell_type": "code",
   "execution_count": null,
   "id": "a1eee776",
   "metadata": {},
   "outputs": [],
   "source": [
    "total_building_density = environment_gdf['setbacks_buildings'].sum()\n",
    "\n",
    "total_power_density = 100000 # TODO -- Get total power demand for PR\n",
    "\n",
    "total_power_density_per_building_density = total_power_density / total_building_density\n",
    "\n",
    "environment_gdf['demand'] = environment_gdf['setbacks_buildings'] * total_power_density_per_building_density"
   ]
  },
  {
   "cell_type": "markdown",
   "id": "5b6d3394-4923-4370-8824-8b06679eb0b9",
   "metadata": {},
   "source": [
    "# Calculating transmission loss cost"
   ]
  },
  {
   "cell_type": "code",
   "execution_count": 37,
   "id": "dde71b80-ee37-4b7f-bc1f-c865901b3bed",
   "metadata": {},
   "outputs": [],
   "source": [
    "def calculate_transmission_loss_cost(installation, state, type='solar'):\n",
    "    \"\"\"\n",
    "    Calculate the cost associated with transmission loss for a given power installation and update the demand \n",
    "    met for each cell in the state.\n",
    "\n",
    "    This function computes the transmission loss cost for a specific power installation (solar or wind) and \n",
    "    updates the demand in the state GeoDataFrame based on the amount of power supplied. It considers the \n",
    "    exponential transmission loss with respect to distance to each demand point in the state. The function \n",
    "    also updates the demand of each cell to reflect the amount of power supplied.\n",
    "\n",
    "    Parameters:\n",
    "    installation (GeoDataFrame row): A single row from a GeoDataFrame representing a power installation, \n",
    "                                     containing location, type of power output, and operational status ('masked').\n",
    "    state (GeoDataFrame): A GeoPandas GeoDataFrame representing the state with multiple demand points, each \n",
    "                          containing location and demand information.\n",
    "    type (str, optional): The type of installation, either 'solar' or 'wind'. Defaults to 'solar'.\n",
    "\n",
    "    Returns:\n",
    "    tuple: \n",
    "        - float: The total cost incurred due to transmission loss for the given installation.\n",
    "        - GeoDataFrame: The updated state GeoDataFrame with adjusted demand values for each cell.\n",
    "\n",
    "    Note:\n",
    "    - The function assumes that the 'installation' has attributes such as 'masked', 'solar_power_output', \n",
    "      'wind_power_output', and a geometry attribute for location.\n",
    "    - The 'state' GeoDataFrame is expected to contain a 'demand' column and a geometry attribute.\n",
    "    - The distance calculation is performed using a UTM coordinate system (EPSG:32620) appropriate for Puerto Rico.\n",
    "    - The transmission loss is calculated as (1 - transmission_loss_percentage) ** distance.\n",
    "    - If an installation is 'masked' (not operational), the function returns a cost of 0 and the original state.\n",
    "    - The function modifies the 'demand' of each cell in the 'state' GeoDataFrame based on the power supplied.\n",
    "    \"\"\"\n",
    "    transmission_loss_percentage = 0.02  # TODO: Adjust as needed\n",
    "    cost_per_kWh = 100  # TODO: Adjust as needed\n",
    "    cost = 0\n",
    "    demand_met = {}  # To track demand met for each cell\n",
    "\n",
    "    if installation['masked']:\n",
    "        return 0, state\n",
    "\n",
    "    # Determine the type of output\n",
    "    output_type = 'solar_power_output' if type == 'solar' else 'wind_power_output'\n",
    "    output_remaining = installation[output_type]\n",
    "\n",
    "    # Reproject to an appropriate UTM CRS for distance calculation\n",
    "    crs = 'EPSG:32620'  # UTM zone 20N\n",
    "    installation_location = gpd.GeoDataFrame(geometry=[installation.geometry], crs=state.crs).to_crs(crs).geometry.iloc[0]\n",
    "    state_projected = state.to_crs(crs)\n",
    "\n",
    "    # Calculate distances\n",
    "    state_projected['distance'] = state_projected.distance(installation_location)\n",
    "    sorted_state = state_projected.sort_values(by='distance')\n",
    "\n",
    "    for index, cell in sorted_state.iterrows():\n",
    "        if output_remaining <= 0:\n",
    "            break\n",
    "        cell_demand = cell['demand']\n",
    "        distance = cell['distance']\n",
    "\n",
    "        power_to_supply = min(output_remaining, cell_demand)\n",
    "        transmission_loss_factor = (1 - transmission_loss_percentage) ** distance\n",
    "        effective_power_loss = power_to_supply * (1 - transmission_loss_factor)\n",
    "\n",
    "        cost += effective_power_loss * cost_per_kWh\n",
    "        output_remaining -= power_to_supply\n",
    "\n",
    "        # Update the demand met for the cell\n",
    "        demand_met[index] = power_to_supply\n",
    "\n",
    "    # Update the demands in the state DataFrame\n",
    "    for index, demand in demand_met.items():\n",
    "        state.at[index, 'demand'] -= demand\n",
    "\n",
    "    return cost, state"
   ]
  },
  {
   "cell_type": "code",
   "execution_count": null,
   "id": "43ac8202-5e06-45fc-aaf1-71c1dfd03b32",
   "metadata": {},
   "outputs": [],
   "source": [
    "environment_gdf['solar_transimission_loss_cost'] = environment_gdf.apply(\n",
    "    lambda row: calculate_transmission_loss_cost(row, environment_gdf, 'solar'), axis=1)"
   ]
  },
  {
   "cell_type": "code",
   "execution_count": null,
   "id": "f4dfcf4e-f3d0-4c18-a9e1-e77ed4c91651",
   "metadata": {},
   "outputs": [],
   "source": [
    "environment_gdf['wind_transmission_loss_cost'] = calculate_transmission_loss_costs(environment_gdf, 'wind')"
   ]
  },
  {
   "cell_type": "markdown",
   "id": "aa5fde52-76a2-4e66-af07-3224525e502e",
   "metadata": {},
   "source": [
    "## Calculating dist to nearest transmission line"
   ]
  },
  {
   "cell_type": "code",
   "execution_count": null,
   "id": "fc6fe518-f139-4d99-85ac-fdf8583ec41b",
   "metadata": {},
   "outputs": [],
   "source": [
    "def nearest_transmission_distance(row, gdf):\n",
    "    if row['setbacks_xmission'] or row['masked']:\n",
    "        return 0\n",
    "    else:\n",
    "        # Calculate distances to all cells where setbacks_xmission is True\n",
    "        distances = gdf[gdf['setbacks_xmission']]['geometry'].distance(row['geometry'])\n",
    "        # Return the minimum distance\n",
    "        return distances.min()"
   ]
  },
  {
   "cell_type": "code",
   "execution_count": null,
   "id": "15136343-89e1-4586-bc02-d439050cf88b",
   "metadata": {},
   "outputs": [],
   "source": [
    "environment_gdf['nearest_transmission_dist'] = environment_gdf.apply(nearest_transmission_distance, gdf=environment_gdf, axis=1)"
   ]
  },
  {
   "cell_type": "markdown",
   "id": "c2c92939-2ca0-4352-bf19-f3a74479ea31",
   "metadata": {},
   "source": [
    "# Incorporating NSRDB wind data\n",
    "LEGACY"
   ]
  },
  {
   "cell_type": "code",
   "execution_count": 25,
   "id": "f8977f02-c957-4671-bbba-c2da25308a7a",
   "metadata": {},
   "outputs": [],
   "source": [
    "# wind_data = pd.read_csv('../data/generation_and_demand/wind_generation.csv')\n",
    "\n",
    "# # Pivot the table to have hours as columns and latitude, longitude as multi-index\n",
    "# wind_data_pivot = wind_data.pivot_table(index=['latitude', 'longitude'], columns='utc_hour', values='power_kW')\n",
    "\n",
    "# unique_coords = np.array([list(idx) for idx in wind_data_pivot.index])\n",
    "\n",
    "# tree = KDTree(unique_coords)\n",
    "\n",
    "# wind_data_pivot.reset_index(inplace=True)\n",
    "\n",
    "# wind_data_gdf = gpd.GeoDataFrame(\n",
    "#     wind_data_pivot, \n",
    "#     geometry=[Point(xy) for xy in zip(wind_data_pivot.longitude, wind_data_pivot.latitude)]\n",
    "# )\n",
    "\n",
    "# # Set the current CRS to EPSG:4326 (latitude-longitude)\n",
    "# wind_data_gdf.set_crs(epsg=4326, inplace=True)\n",
    "\n",
    "# # Transform to the desired CRS (EPSG:32161)\n",
    "# wind_data_gdf = wind_data_gdf.to_crs(epsg=32161)"
   ]
  },
  {
   "cell_type": "code",
   "execution_count": 26,
   "id": "c1ea5e3a-9612-40eb-a21d-d79c8c2d0cd7",
   "metadata": {},
   "outputs": [],
   "source": [
    "# nearest_wind_data = gpd.sjoin_nearest(environment_gdf, wind_data_gdf, how='left', distance_col=\"distance\")\n",
    "\n",
    "# for hour in range(24):  # For each hour from 0 to 23\n",
    "#     # Extract the wind data for the specific hour and add it to environment_gdf\n",
    "#     column_name = f'wind_power_{hour}'\n",
    "#     environment_gdf[column_name] = nearest_wind_data.apply(lambda row: row[hour], axis=1)"
   ]
  },
  {
   "cell_type": "code",
   "execution_count": null,
   "id": "3bb6859d-3472-4dbe-9593-bef2dc7171bf",
   "metadata": {},
   "outputs": [],
   "source": [
    "environment_gdf.to_parquet('../data/processed/environment_gdf.parquet')"
   ]
  },
  {
   "cell_type": "code",
   "execution_count": null,
   "id": "01e3b90f-fafa-4571-a94c-740d3b2c1e7b",
   "metadata": {},
   "outputs": [],
   "source": [
    "plot_columns(environment_gdf)"
   ]
  },
  {
   "cell_type": "markdown",
   "id": "78192b78-2f81-4750-a545-b4b20d7cae90",
   "metadata": {},
   "source": [
    "# Calculating Power Output"
   ]
  },
  {
   "cell_type": "code",
   "execution_count": null,
   "id": "56df63ce-857c-4d25-a320-d4a7ffe71a45",
   "metadata": {},
   "outputs": [],
   "source": [
    "def calculate_daily_power_output(environment_gdf):\n",
    "    solar_columns = [[f'solar_power_{i}' for i in range(1, 25)]]\n",
    "    wind_columns = [[f'solar_power_{i}' for i in range(1, 25)]]\n",
    "    environment_gdf['daily_solar_output'] = solar_columns.sum(axis=1)\n",
    "    environment_gdf['daily_wind_output'] = wind_columns.sum(axis=1)"
   ]
  },
  {
   "cell_type": "code",
   "execution_count": 24,
   "id": "387ba864-77b4-40c2-be51-231af05df239",
   "metadata": {},
   "outputs": [],
   "source": [
    "def calculate_power_output_reward(environment_gdf, demand):\n",
    "    \"\"\"Uses supply and demand curve to determine the amount of demand satisfied by\n",
    "    the solar and wind installations\"\"\"\n",
    "    cost_kWh = 9999  # TODO\n",
    "\n",
    "    # Filter for solar and wind installations\n",
    "    solar_gdf = environment_gdf[(environment_gdf['occupied']) & (environment_gdf['installation'] == 'solar')]\n",
    "    wind_gdf = environment_gdf[(environment_gdf['occupied']) & (environment_gdf['installation'] == 'wind')]\n",
    "\n",
    "    # Prepare column names for solar and wind power\n",
    "    solar_power_columns = [f'solar_power_{i}' for i in range(1, 25)]\n",
    "    wind_power_columns = [f'wind_power_{i}' for i in range(1, 25)]\n",
    "\n",
    "    # Vectorized sum of power output for solar and wind for each hour\n",
    "    total_solar_power = solar_gdf[solar_power_columns].sum()\n",
    "    total_wind_power = wind_gdf[wind_power_columns].sum()\n",
    "\n",
    "    # Calculate the reward using vectorized minimum\n",
    "    total_power = total_solar_power + total_wind_power\n",
    "    reward = np.minimum(total_power, demand[1:]).sum() * cost_kWh\n",
    "\n",
    "    return reward"
   ]
  },
  {
   "cell_type": "code",
   "execution_count": null,
   "id": "fe0f8a3c-7b7a-4de8-bb4f-dc6a47117a17",
   "metadata": {},
   "outputs": [],
   "source": []
  }
 ],
 "metadata": {
  "kernelspec": {
   "display_name": "Python 3 (ipykernel)",
   "language": "python",
   "name": "python3"
  },
  "language_info": {
   "codemirror_mode": {
    "name": "ipython",
    "version": 3
   },
   "file_extension": ".py",
   "mimetype": "text/x-python",
   "name": "python",
   "nbconvert_exporter": "python",
   "pygments_lexer": "ipython3",
   "version": "3.11.6"
  }
 },
 "nbformat": 4,
 "nbformat_minor": 5
}
